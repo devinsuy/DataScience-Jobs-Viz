{
 "cells": [
  {
   "cell_type": "code",
   "execution_count": 172,
   "id": "ab07a5a6",
   "metadata": {},
   "outputs": [],
   "source": [
    "import pandas as pd\n",
    "import numpy as np"
   ]
  },
  {
   "cell_type": "code",
   "execution_count": 173,
   "id": "3ae18cf2",
   "metadata": {},
   "outputs": [],
   "source": [
    "DATA_DIR = '../../../data/Data_Science_Listings'"
   ]
  },
  {
   "cell_type": "code",
   "execution_count": 174,
   "id": "56df6a32",
   "metadata": {},
   "outputs": [],
   "source": [
    "df = pd.read_csv(f'{DATA_DIR}/Data_Scientist_Job_Listings_Data.csv')"
   ]
  },
  {
   "cell_type": "code",
   "execution_count": 175,
   "id": "ee504e24",
   "metadata": {},
   "outputs": [
    {
     "data": {
      "text/html": [
       "<div>\n",
       "<style scoped>\n",
       "    .dataframe tbody tr th:only-of-type {\n",
       "        vertical-align: middle;\n",
       "    }\n",
       "\n",
       "    .dataframe tbody tr th {\n",
       "        vertical-align: top;\n",
       "    }\n",
       "\n",
       "    .dataframe thead th {\n",
       "        text-align: right;\n",
       "    }\n",
       "</style>\n",
       "<table border=\"1\" class=\"dataframe\">\n",
       "  <thead>\n",
       "    <tr style=\"text-align: right;\">\n",
       "      <th></th>\n",
       "      <th>Unnamed: 0</th>\n",
       "      <th>source_id</th>\n",
       "      <th>original_record_id</th>\n",
       "      <th>original_job_posting_site</th>\n",
       "      <th>original_job_title</th>\n",
       "      <th>cleansed_job_title</th>\n",
       "      <th>original_company_name</th>\n",
       "      <th>original_industry</th>\n",
       "      <th>City</th>\n",
       "      <th>State</th>\n",
       "      <th>Country</th>\n",
       "      <th>original_salary</th>\n",
       "      <th>cleansed_salary_min</th>\n",
       "      <th>cleansed_salary_max</th>\n",
       "      <th>cleansed_salary_avg</th>\n",
       "      <th>original_job_type</th>\n",
       "      <th>original_work_type</th>\n",
       "      <th>original_job_description1</th>\n",
       "      <th>original_job_description2</th>\n",
       "      <th>posting_date</th>\n",
       "    </tr>\n",
       "  </thead>\n",
       "  <tbody>\n",
       "    <tr>\n",
       "      <th>0</th>\n",
       "      <td>0</td>\n",
       "      <td>1</td>\n",
       "      <td>0</td>\n",
       "      <td>INDEED</td>\n",
       "      <td>Data Scientist</td>\n",
       "      <td>data scientist</td>\n",
       "      <td>Driven Brands</td>\n",
       "      <td>NaN</td>\n",
       "      <td>Benicia</td>\n",
       "      <td>California</td>\n",
       "      <td>United States</td>\n",
       "      <td>NaN</td>\n",
       "      <td>NaN</td>\n",
       "      <td>NaN</td>\n",
       "      <td>NaN</td>\n",
       "      <td>Undefined</td>\n",
       "      <td>NaN</td>\n",
       "      <td>You’ll be working alongside a team of eight an...</td>\n",
       "      <td>We invite you to join us at Driven Brands!\\nHe...</td>\n",
       "      <td>11/20/2022</td>\n",
       "    </tr>\n",
       "    <tr>\n",
       "      <th>1</th>\n",
       "      <td>1</td>\n",
       "      <td>1</td>\n",
       "      <td>1</td>\n",
       "      <td>INDEED</td>\n",
       "      <td>Business Analyst</td>\n",
       "      <td>analyst</td>\n",
       "      <td>Sabot Consulting</td>\n",
       "      <td>NaN</td>\n",
       "      <td>NaN</td>\n",
       "      <td>NaN</td>\n",
       "      <td>United States</td>\n",
       "      <td>$80 - $120 an hour</td>\n",
       "      <td>NaN</td>\n",
       "      <td>NaN</td>\n",
       "      <td>NaN</td>\n",
       "      <td>Undefined</td>\n",
       "      <td>Remote</td>\n",
       "      <td>Preferred candidates will have prior experienc...</td>\n",
       "      <td>Sabot Consulting (Sabot) is a management consu...</td>\n",
       "      <td>11/20/2022</td>\n",
       "    </tr>\n",
       "    <tr>\n",
       "      <th>2</th>\n",
       "      <td>2</td>\n",
       "      <td>1</td>\n",
       "      <td>2</td>\n",
       "      <td>INDEED</td>\n",
       "      <td>IT Business Intelligence Developer (FT) Remote...</td>\n",
       "      <td>data analytics</td>\n",
       "      <td>Ballad Health</td>\n",
       "      <td>NaN</td>\n",
       "      <td>Blountville</td>\n",
       "      <td>Tennessee</td>\n",
       "      <td>United States</td>\n",
       "      <td>NaN</td>\n",
       "      <td>NaN</td>\n",
       "      <td>NaN</td>\n",
       "      <td>NaN</td>\n",
       "      <td>Undefined</td>\n",
       "      <td>Remote</td>\n",
       "      <td>Job Details Apply Save Print this job Email a…</td>\n",
       "      <td>Job Details\\nApply\\nSave\\nPrint this job\\nEmai...</td>\n",
       "      <td>11/20/2022</td>\n",
       "    </tr>\n",
       "    <tr>\n",
       "      <th>3</th>\n",
       "      <td>3</td>\n",
       "      <td>1</td>\n",
       "      <td>3</td>\n",
       "      <td>INDEED</td>\n",
       "      <td>Data Engineer</td>\n",
       "      <td>data engineer</td>\n",
       "      <td>Longevity Holdings Inc.</td>\n",
       "      <td>NaN</td>\n",
       "      <td>Minneapolis-Saint Paul</td>\n",
       "      <td>Minnesota</td>\n",
       "      <td>United States</td>\n",
       "      <td>$90,000 - $110,000 a year</td>\n",
       "      <td>90000.0</td>\n",
       "      <td>110000.0</td>\n",
       "      <td>100000.0</td>\n",
       "      <td>Undefined</td>\n",
       "      <td>Remote</td>\n",
       "      <td>Incorporate core data management competencies ...</td>\n",
       "      <td>Position: Data Engineer\\nLocation: MN\\nAs a Da...</td>\n",
       "      <td>11/20/2022</td>\n",
       "    </tr>\n",
       "    <tr>\n",
       "      <th>4</th>\n",
       "      <td>4</td>\n",
       "      <td>1</td>\n",
       "      <td>4</td>\n",
       "      <td>INDEED</td>\n",
       "      <td>Network Administrator/dba developer</td>\n",
       "      <td>na</td>\n",
       "      <td>WKI Kenworth</td>\n",
       "      <td>NaN</td>\n",
       "      <td>Wichita</td>\n",
       "      <td>Kansas</td>\n",
       "      <td>United States</td>\n",
       "      <td>$50,000 - $70,000 a year</td>\n",
       "      <td>50000.0</td>\n",
       "      <td>70000.0</td>\n",
       "      <td>60000.0</td>\n",
       "      <td>Undefined</td>\n",
       "      <td>NaN</td>\n",
       "      <td>The Network Administrator provides 2nd level e...</td>\n",
       "      <td>Full Job Description\\nThe Network Administrato...</td>\n",
       "      <td>11/20/2022</td>\n",
       "    </tr>\n",
       "  </tbody>\n",
       "</table>\n",
       "</div>"
      ],
      "text/plain": [
       "   Unnamed: 0  source_id original_record_id original_job_posting_site  \\\n",
       "0           0          1                  0                    INDEED   \n",
       "1           1          1                  1                    INDEED   \n",
       "2           2          1                  2                    INDEED   \n",
       "3           3          1                  3                    INDEED   \n",
       "4           4          1                  4                    INDEED   \n",
       "\n",
       "                                  original_job_title cleansed_job_title  \\\n",
       "0                                     Data Scientist     data scientist   \n",
       "1                                   Business Analyst            analyst   \n",
       "2  IT Business Intelligence Developer (FT) Remote...     data analytics   \n",
       "3                                      Data Engineer      data engineer   \n",
       "4                Network Administrator/dba developer                 na   \n",
       "\n",
       "     original_company_name original_industry                    City  \\\n",
       "0            Driven Brands               NaN                 Benicia   \n",
       "1         Sabot Consulting               NaN                     NaN   \n",
       "2            Ballad Health               NaN             Blountville   \n",
       "3  Longevity Holdings Inc.               NaN  Minneapolis-Saint Paul   \n",
       "4             WKI Kenworth               NaN                 Wichita   \n",
       "\n",
       "        State        Country            original_salary  cleansed_salary_min  \\\n",
       "0  California  United States                        NaN                  NaN   \n",
       "1         NaN  United States         $80 - $120 an hour                  NaN   \n",
       "2   Tennessee  United States                        NaN                  NaN   \n",
       "3   Minnesota  United States  $90,000 - $110,000 a year              90000.0   \n",
       "4      Kansas  United States   $50,000 - $70,000 a year              50000.0   \n",
       "\n",
       "   cleansed_salary_max  cleansed_salary_avg original_job_type  \\\n",
       "0                  NaN                  NaN         Undefined   \n",
       "1                  NaN                  NaN         Undefined   \n",
       "2                  NaN                  NaN         Undefined   \n",
       "3             110000.0             100000.0         Undefined   \n",
       "4              70000.0              60000.0         Undefined   \n",
       "\n",
       "  original_work_type                          original_job_description1  \\\n",
       "0                NaN  You’ll be working alongside a team of eight an...   \n",
       "1             Remote  Preferred candidates will have prior experienc...   \n",
       "2             Remote     Job Details Apply Save Print this job Email a…   \n",
       "3             Remote  Incorporate core data management competencies ...   \n",
       "4                NaN  The Network Administrator provides 2nd level e...   \n",
       "\n",
       "                           original_job_description2 posting_date  \n",
       "0  We invite you to join us at Driven Brands!\\nHe...   11/20/2022  \n",
       "1  Sabot Consulting (Sabot) is a management consu...   11/20/2022  \n",
       "2  Job Details\\nApply\\nSave\\nPrint this job\\nEmai...   11/20/2022  \n",
       "3  Position: Data Engineer\\nLocation: MN\\nAs a Da...   11/20/2022  \n",
       "4  Full Job Description\\nThe Network Administrato...   11/20/2022  "
      ]
     },
     "execution_count": 175,
     "metadata": {},
     "output_type": "execute_result"
    }
   ],
   "source": [
    "df.head()"
   ]
  },
  {
   "cell_type": "code",
   "execution_count": 176,
   "id": "68f81587",
   "metadata": {
    "scrolled": true
   },
   "outputs": [
    {
     "data": {
      "text/plain": [
       "{'1-10 employees',\n",
       " '11-50 employees',\n",
       " 'Associate',\n",
       " 'Contract',\n",
       " 'Contract   Associate',\n",
       " 'Contract   Entry level',\n",
       " 'Contract   Executive',\n",
       " 'Contract   Mid-Senior level',\n",
       " 'Full Time',\n",
       " 'Full-time',\n",
       " 'Full-time   Associate',\n",
       " 'Full-time   Director',\n",
       " 'Full-time   Entry level',\n",
       " 'Full-time   Executive',\n",
       " 'Full-time   Internship',\n",
       " 'Full-time   Mid-Senior level',\n",
       " 'Internship',\n",
       " 'Internship   Entry level',\n",
       " 'Internship   Internship',\n",
       " 'Part Time',\n",
       " 'Part-time',\n",
       " 'Part-time   Associate',\n",
       " 'Part-time   Mid-Senior level',\n",
       " 'Temporary',\n",
       " 'Undefined',\n",
       " 'Volunteer',\n",
       " nan}"
      ]
     },
     "execution_count": 176,
     "metadata": {},
     "output_type": "execute_result"
    }
   ],
   "source": [
    "# df = df.dropna(subset=['original_job_type'])\n",
    "set(df['original_job_type'])"
   ]
  },
  {
   "cell_type": "code",
   "execution_count": 177,
   "id": "4426f71a-340c-4ad1-859d-763043a12cb7",
   "metadata": {},
   "outputs": [
    {
     "data": {
      "text/plain": [
       "original_job_type\n",
       "Undefined                       8067\n",
       "Full-time   Mid-Senior level    3802\n",
       "Full Time                       3395\n",
       "Full-time                       2679\n",
       "Contract                         611\n",
       "Full-time   Associate            584\n",
       "Full-time   Entry level          177\n",
       "Internship                       146\n",
       "Contract   Mid-Senior level      132\n",
       "Full-time   Executive             49\n",
       "Part-time                         48\n",
       "Contract   Associate              32\n",
       "Full-time   Director              31\n",
       "Contract   Entry level            19\n",
       "Part Time                          6\n",
       "Internship   Internship            5\n",
       "Full-time   Internship             5\n",
       "Part-time   Mid-Senior level       3\n",
       "Temporary                          3\n",
       "Volunteer                          3\n",
       "Associate                          2\n",
       "11-50 employees                    2\n",
       "Internship   Entry level           2\n",
       "1-10 employees                     1\n",
       "Part-time   Associate              1\n",
       "Contract   Executive               1\n",
       "Name: count, dtype: int64"
      ]
     },
     "execution_count": 177,
     "metadata": {},
     "output_type": "execute_result"
    }
   ],
   "source": [
    "df['original_job_type'].value_counts()"
   ]
  },
  {
   "cell_type": "markdown",
   "id": "2d788f07-ed52-4586-8993-ba6c5b3bec7c",
   "metadata": {},
   "source": [
    "## Remap Job Types"
   ]
  },
  {
   "cell_type": "markdown",
   "id": "809888cc-52bf-48a2-991c-00e3bc5a4c35",
   "metadata": {},
   "source": [
    "#### Coalesce similar columns"
   ]
  },
  {
   "cell_type": "code",
   "execution_count": 178,
   "id": "f3a97b41-39c5-4a0c-8df0-42204efd4942",
   "metadata": {},
   "outputs": [],
   "source": [
    "df.insert(df.shape[1], 'cleansed_job_type', df['original_job_type'])"
   ]
  },
  {
   "cell_type": "code",
   "execution_count": 179,
   "id": "1e9be9f5-550a-437e-8781-0909aecdaa12",
   "metadata": {},
   "outputs": [
    {
     "data": {
      "text/plain": [
       "cleansed_job_type\n",
       "Full-time          10722\n",
       "Undefined           8067\n",
       "Contract             795\n",
       "Internship           153\n",
       "Part-time             58\n",
       "Temporary              3\n",
       "Volunteer              3\n",
       "11-50 employees        2\n",
       "Associate              2\n",
       "1-10 employees         1\n",
       "Name: count, dtype: int64"
      ]
     },
     "execution_count": 179,
     "metadata": {},
     "output_type": "execute_result"
    }
   ],
   "source": [
    "df['cleansed_job_type'] = df['cleansed_job_type'].apply(lambda job_type: 'Full-time' if type(job_type) == str and 'full' in job_type.lower() else job_type)\n",
    "df['cleansed_job_type'] = df['cleansed_job_type'].apply(lambda job_type: 'Part-time' if type(job_type) == str and 'part' in job_type.lower() else job_type)\n",
    "df['cleansed_job_type'] = df['cleansed_job_type'].apply(lambda job_type: 'Internship' if type(job_type) == str and 'intern' in job_type.lower() else job_type)\n",
    "df['cleansed_job_type'] = df['cleansed_job_type'].apply(lambda job_type: 'Contract' if type(job_type) == str and 'contract' in job_type.lower() else job_type)\n",
    "df['cleansed_job_type'].value_counts()"
   ]
  },
  {
   "cell_type": "markdown",
   "id": "ff1de385-cb9f-44fd-b349-0b6b1661cff5",
   "metadata": {},
   "source": [
    "#### Create subcolumns: isContract, isInternship, isEntryLevel, isMidSeniorLevel"
   ]
  },
  {
   "cell_type": "code",
   "execution_count": 180,
   "id": "fef99b93-6516-40e1-8945-c34e021e74ef",
   "metadata": {},
   "outputs": [],
   "source": [
    "isContract = np.zeros(df.shape[0])\n",
    "for i, title in enumerate(df['original_job_type']):\n",
    "    if type(title) == str and 'contract' in title.lower():\n",
    "        isContract[i] = 1\n",
    "df.insert(df.shape[1], 'isContract', isContract)"
   ]
  },
  {
   "cell_type": "code",
   "execution_count": 181,
   "id": "0e176df2-70a3-43d4-8db8-97d1e5c24798",
   "metadata": {},
   "outputs": [],
   "source": [
    "isInternship = np.zeros(df.shape[0])\n",
    "for i, title in enumerate(df['original_job_type']):\n",
    "    if type(title) == str and 'intern' in title.lower():\n",
    "        isInternship[i] = 1\n",
    "df.insert(df.shape[1], 'isInternship', isInternship)"
   ]
  },
  {
   "cell_type": "code",
   "execution_count": 182,
   "id": "05d3fd24-d904-43e3-86f8-7f04a3b08284",
   "metadata": {},
   "outputs": [],
   "source": [
    "isEntryLevel = np.zeros(df.shape[0])\n",
    "for i, title in enumerate(df['original_job_type']):\n",
    "    if type(title) == str and 'entry' in title.lower():\n",
    "        isEntryLevel[i] = 1\n",
    "df.insert(df.shape[1], 'isEntryLevel', isEntryLevel)"
   ]
  },
  {
   "cell_type": "code",
   "execution_count": 183,
   "id": "d63eb970-aecb-41cb-89ad-9156195c9b53",
   "metadata": {},
   "outputs": [],
   "source": [
    "isMidSeniorLevel = np.zeros(df.shape[0])\n",
    "for i, title in enumerate(df['original_job_type']):\n",
    "    if type(title) == str and ('mid' in title.lower() or 'senior' in title.lower()):\n",
    "        isEntryLevel[i] = 1\n",
    "df.insert(df.shape[1], 'isMidSeniorLevel', isMidSeniorLevel)"
   ]
  },
  {
   "cell_type": "markdown",
   "id": "829c9fb5-bc4e-4c0f-8d87-5b1f07758bb4",
   "metadata": {},
   "source": [
    "## Overwrite csv with cleaned data"
   ]
  },
  {
   "cell_type": "code",
   "execution_count": 184,
   "id": "1e71ed5a-e822-4ccd-889d-26c5c1e54758",
   "metadata": {},
   "outputs": [],
   "source": [
    "df.to_csv(f'{DATA_DIR}/Data_Scientist_Job_Listings_Data.csv', index=False)"
   ]
  },
  {
   "cell_type": "code",
   "execution_count": 190,
   "id": "7bc8c9c4-8594-4e26-bb7c-ffeac197bfae",
   "metadata": {},
   "outputs": [],
   "source": [
    "df = pd.read_csv(f'{DATA_DIR}/Data_Scientist_Job_Listings_Data.csv')"
   ]
  },
  {
   "cell_type": "code",
   "execution_count": 191,
   "id": "263145b7-f8e4-4b49-ba1d-c34bdc86e182",
   "metadata": {},
   "outputs": [
    {
     "data": {
      "text/plain": [
       "cleansed_job_type\n",
       "Full-time          10722\n",
       "Undefined           8067\n",
       "Contract             795\n",
       "Internship           153\n",
       "Part-time             58\n",
       "Temporary              3\n",
       "Volunteer              3\n",
       "11-50 employees        2\n",
       "Associate              2\n",
       "1-10 employees         1\n",
       "Name: count, dtype: int64"
      ]
     },
     "execution_count": 191,
     "metadata": {},
     "output_type": "execute_result"
    }
   ],
   "source": [
    "df['cleansed_job_type'].value_counts()"
   ]
  },
  {
   "cell_type": "code",
   "execution_count": 192,
   "id": "ecfd497e-6c6b-43cc-954a-ecf18b09a3c8",
   "metadata": {},
   "outputs": [
    {
     "data": {
      "text/plain": [
       "Index(['Unnamed: 0', 'source_id', 'original_record_id',\n",
       "       'original_job_posting_site', 'original_job_title', 'cleansed_job_title',\n",
       "       'original_company_name', 'original_industry', 'City', 'State',\n",
       "       'Country', 'original_salary', 'cleansed_salary_min',\n",
       "       'cleansed_salary_max', 'cleansed_salary_avg', 'original_job_type',\n",
       "       'original_work_type', 'original_job_description1',\n",
       "       'original_job_description2', 'posting_date', 'cleansed_job_type',\n",
       "       'isContract', 'isInternship', 'isEntryLevel', 'isMidSeniorLevel'],\n",
       "      dtype='object')"
      ]
     },
     "execution_count": 192,
     "metadata": {},
     "output_type": "execute_result"
    }
   ],
   "source": [
    "df.columns"
   ]
  },
  {
   "cell_type": "code",
   "execution_count": null,
   "id": "9937e1c2-c742-4544-8ef9-fd73177c90b6",
   "metadata": {},
   "outputs": [],
   "source": []
  }
 ],
 "metadata": {
  "kernelspec": {
   "display_name": "Python 3 (ipykernel)",
   "language": "python",
   "name": "python3"
  },
  "language_info": {
   "codemirror_mode": {
    "name": "ipython",
    "version": 3
   },
   "file_extension": ".py",
   "mimetype": "text/x-python",
   "name": "python",
   "nbconvert_exporter": "python",
   "pygments_lexer": "ipython3",
   "version": "3.11.1"
  }
 },
 "nbformat": 4,
 "nbformat_minor": 5
}
