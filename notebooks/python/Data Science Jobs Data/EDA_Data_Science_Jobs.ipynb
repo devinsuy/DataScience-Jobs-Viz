{
 "cells": [
  {
   "cell_type": "code",
   "execution_count": 1,
   "id": "04b2f9d9",
   "metadata": {},
   "outputs": [],
   "source": [
    "import pandas as pd\n",
    "import matplotlib.pyplot as plt"
   ]
  },
  {
   "cell_type": "code",
   "execution_count": 2,
   "id": "692a332d",
   "metadata": {},
   "outputs": [],
   "source": [
    "DATA_DIR = '../../../data/Data_Science_Listings'"
   ]
  },
  {
   "cell_type": "code",
   "execution_count": 3,
   "id": "d7442666",
   "metadata": {},
   "outputs": [],
   "source": [
    "df = pd.read_csv(f'{DATA_DIR}/Data_Scientist_Job_Listings_Data.csv')"
   ]
  },
  {
   "cell_type": "code",
   "execution_count": 4,
   "id": "13af22b8",
   "metadata": {},
   "outputs": [
    {
     "data": {
      "text/html": [
       "<div>\n",
       "<style scoped>\n",
       "    .dataframe tbody tr th:only-of-type {\n",
       "        vertical-align: middle;\n",
       "    }\n",
       "\n",
       "    .dataframe tbody tr th {\n",
       "        vertical-align: top;\n",
       "    }\n",
       "\n",
       "    .dataframe thead th {\n",
       "        text-align: right;\n",
       "    }\n",
       "</style>\n",
       "<table border=\"1\" class=\"dataframe\">\n",
       "  <thead>\n",
       "    <tr style=\"text-align: right;\">\n",
       "      <th></th>\n",
       "      <th>source_id</th>\n",
       "      <th>original_record_id</th>\n",
       "      <th>original_job_posting_site</th>\n",
       "      <th>original_job_title</th>\n",
       "      <th>cleansed_job_title</th>\n",
       "      <th>original_company_name</th>\n",
       "      <th>original_industry</th>\n",
       "      <th>original_location_full</th>\n",
       "      <th>original_location_city</th>\n",
       "      <th>original_location_state</th>\n",
       "      <th>...</th>\n",
       "      <th>original_location_country</th>\n",
       "      <th>original_salary</th>\n",
       "      <th>cleansed_salary_min</th>\n",
       "      <th>cleansed_salary_max</th>\n",
       "      <th>cleansed_salary_avg</th>\n",
       "      <th>original_job_type</th>\n",
       "      <th>original_work_type</th>\n",
       "      <th>original_job_description1</th>\n",
       "      <th>original_job_description2</th>\n",
       "      <th>posting_date</th>\n",
       "    </tr>\n",
       "  </thead>\n",
       "  <tbody>\n",
       "    <tr>\n",
       "      <th>0</th>\n",
       "      <td>1</td>\n",
       "      <td>0</td>\n",
       "      <td>INDEED</td>\n",
       "      <td>Data Scientist</td>\n",
       "      <td>data scientist</td>\n",
       "      <td>Driven Brands</td>\n",
       "      <td>NaN</td>\n",
       "      <td>Benicia, CA</td>\n",
       "      <td>NaN</td>\n",
       "      <td>NaN</td>\n",
       "      <td>...</td>\n",
       "      <td>USA</td>\n",
       "      <td>NaN</td>\n",
       "      <td>NaN</td>\n",
       "      <td>NaN</td>\n",
       "      <td>NaN</td>\n",
       "      <td>Undefined</td>\n",
       "      <td>NaN</td>\n",
       "      <td>You’ll be working alongside a team of eight an...</td>\n",
       "      <td>We invite you to join us at Driven Brands!\\r\\n...</td>\n",
       "      <td>11/20/2022</td>\n",
       "    </tr>\n",
       "    <tr>\n",
       "      <th>1</th>\n",
       "      <td>1</td>\n",
       "      <td>1</td>\n",
       "      <td>INDEED</td>\n",
       "      <td>Business Analyst</td>\n",
       "      <td>analyst</td>\n",
       "      <td>Sabot Consulting</td>\n",
       "      <td>NaN</td>\n",
       "      <td>Remote</td>\n",
       "      <td>NaN</td>\n",
       "      <td>NaN</td>\n",
       "      <td>...</td>\n",
       "      <td>USA</td>\n",
       "      <td>$80 - $120 an hour</td>\n",
       "      <td>NaN</td>\n",
       "      <td>NaN</td>\n",
       "      <td>NaN</td>\n",
       "      <td>Undefined</td>\n",
       "      <td>NaN</td>\n",
       "      <td>Preferred candidates will have prior experienc...</td>\n",
       "      <td>Sabot Consulting (Sabot) is a management consu...</td>\n",
       "      <td>11/20/2022</td>\n",
       "    </tr>\n",
       "    <tr>\n",
       "      <th>2</th>\n",
       "      <td>1</td>\n",
       "      <td>2</td>\n",
       "      <td>INDEED</td>\n",
       "      <td>IT Business Intelligence Developer (FT) Remote...</td>\n",
       "      <td>data analytics</td>\n",
       "      <td>Ballad Health</td>\n",
       "      <td>NaN</td>\n",
       "      <td>Remote in Blountville, TN</td>\n",
       "      <td>NaN</td>\n",
       "      <td>NaN</td>\n",
       "      <td>...</td>\n",
       "      <td>USA</td>\n",
       "      <td>NaN</td>\n",
       "      <td>NaN</td>\n",
       "      <td>NaN</td>\n",
       "      <td>NaN</td>\n",
       "      <td>Undefined</td>\n",
       "      <td>NaN</td>\n",
       "      <td>Job Details Apply Save Print this job Email a…</td>\n",
       "      <td>Job Details\\r\\nApply\\r\\nSave\\r\\nPrint this job...</td>\n",
       "      <td>11/20/2022</td>\n",
       "    </tr>\n",
       "    <tr>\n",
       "      <th>3</th>\n",
       "      <td>1</td>\n",
       "      <td>3</td>\n",
       "      <td>INDEED</td>\n",
       "      <td>Data Engineer</td>\n",
       "      <td>data engineer</td>\n",
       "      <td>Longevity Holdings Inc.</td>\n",
       "      <td>NaN</td>\n",
       "      <td>Remote in Minneapolis-Saint Paul, MN</td>\n",
       "      <td>NaN</td>\n",
       "      <td>NaN</td>\n",
       "      <td>...</td>\n",
       "      <td>USA</td>\n",
       "      <td>$90,000 - $110,000 a year</td>\n",
       "      <td>90000.0</td>\n",
       "      <td>110000.0</td>\n",
       "      <td>100000.0</td>\n",
       "      <td>Undefined</td>\n",
       "      <td>NaN</td>\n",
       "      <td>Incorporate core data management competencies ...</td>\n",
       "      <td>Position: Data Engineer\\r\\nLocation: MN\\r\\nAs ...</td>\n",
       "      <td>11/20/2022</td>\n",
       "    </tr>\n",
       "    <tr>\n",
       "      <th>4</th>\n",
       "      <td>1</td>\n",
       "      <td>4</td>\n",
       "      <td>INDEED</td>\n",
       "      <td>Network Administrator/dba developer</td>\n",
       "      <td>na</td>\n",
       "      <td>WKI Kenworth</td>\n",
       "      <td>NaN</td>\n",
       "      <td>Wichita, KS 67219</td>\n",
       "      <td>NaN</td>\n",
       "      <td>NaN</td>\n",
       "      <td>...</td>\n",
       "      <td>USA</td>\n",
       "      <td>$50,000 - $70,000 a year</td>\n",
       "      <td>50000.0</td>\n",
       "      <td>70000.0</td>\n",
       "      <td>60000.0</td>\n",
       "      <td>Undefined</td>\n",
       "      <td>NaN</td>\n",
       "      <td>The Network Administrator provides 2nd level e...</td>\n",
       "      <td>Full Job Description\\r\\nThe Network Administra...</td>\n",
       "      <td>11/20/2022</td>\n",
       "    </tr>\n",
       "  </tbody>\n",
       "</table>\n",
       "<p>5 rows × 21 columns</p>\n",
       "</div>"
      ],
      "text/plain": [
       "   source_id original_record_id original_job_posting_site  \\\n",
       "0          1                  0                    INDEED   \n",
       "1          1                  1                    INDEED   \n",
       "2          1                  2                    INDEED   \n",
       "3          1                  3                    INDEED   \n",
       "4          1                  4                    INDEED   \n",
       "\n",
       "                                  original_job_title cleansed_job_title  \\\n",
       "0                                     Data Scientist     data scientist   \n",
       "1                                   Business Analyst            analyst   \n",
       "2  IT Business Intelligence Developer (FT) Remote...     data analytics   \n",
       "3                                      Data Engineer      data engineer   \n",
       "4                Network Administrator/dba developer                 na   \n",
       "\n",
       "     original_company_name original_industry  \\\n",
       "0            Driven Brands               NaN   \n",
       "1         Sabot Consulting               NaN   \n",
       "2            Ballad Health               NaN   \n",
       "3  Longevity Holdings Inc.               NaN   \n",
       "4             WKI Kenworth               NaN   \n",
       "\n",
       "                 original_location_full original_location_city  \\\n",
       "0                           Benicia, CA                    NaN   \n",
       "1                                Remote                    NaN   \n",
       "2             Remote in Blountville, TN                    NaN   \n",
       "3  Remote in Minneapolis-Saint Paul, MN                    NaN   \n",
       "4                     Wichita, KS 67219                    NaN   \n",
       "\n",
       "  original_location_state  ...  original_location_country  \\\n",
       "0                     NaN  ...                        USA   \n",
       "1                     NaN  ...                        USA   \n",
       "2                     NaN  ...                        USA   \n",
       "3                     NaN  ...                        USA   \n",
       "4                     NaN  ...                        USA   \n",
       "\n",
       "             original_salary cleansed_salary_min  cleansed_salary_max  \\\n",
       "0                        NaN                 NaN                  NaN   \n",
       "1         $80 - $120 an hour                 NaN                  NaN   \n",
       "2                        NaN                 NaN                  NaN   \n",
       "3  $90,000 - $110,000 a year             90000.0             110000.0   \n",
       "4   $50,000 - $70,000 a year             50000.0              70000.0   \n",
       "\n",
       "   cleansed_salary_avg  original_job_type original_work_type  \\\n",
       "0                  NaN          Undefined                NaN   \n",
       "1                  NaN          Undefined                NaN   \n",
       "2                  NaN          Undefined                NaN   \n",
       "3             100000.0          Undefined                NaN   \n",
       "4              60000.0          Undefined                NaN   \n",
       "\n",
       "                           original_job_description1  \\\n",
       "0  You’ll be working alongside a team of eight an...   \n",
       "1  Preferred candidates will have prior experienc...   \n",
       "2     Job Details Apply Save Print this job Email a…   \n",
       "3  Incorporate core data management competencies ...   \n",
       "4  The Network Administrator provides 2nd level e...   \n",
       "\n",
       "                           original_job_description2 posting_date  \n",
       "0  We invite you to join us at Driven Brands!\\r\\n...   11/20/2022  \n",
       "1  Sabot Consulting (Sabot) is a management consu...   11/20/2022  \n",
       "2  Job Details\\r\\nApply\\r\\nSave\\r\\nPrint this job...   11/20/2022  \n",
       "3  Position: Data Engineer\\r\\nLocation: MN\\r\\nAs ...   11/20/2022  \n",
       "4  Full Job Description\\r\\nThe Network Administra...   11/20/2022  \n",
       "\n",
       "[5 rows x 21 columns]"
      ]
     },
     "execution_count": 4,
     "metadata": {},
     "output_type": "execute_result"
    }
   ],
   "source": [
    "df.head()"
   ]
  },
  {
   "cell_type": "code",
   "execution_count": 23,
   "id": "cea1f14e",
   "metadata": {
    "scrolled": true
   },
   "outputs": [
    {
     "data": {
      "text/plain": [
       "Index(['source_id', 'original_record_id', 'original_job_posting_site',\n",
       "       'original_job_title', 'cleansed_job_title', 'original_company_name',\n",
       "       'original_industry', 'original_location_full', 'original_location_city',\n",
       "       'original_location_state', 'original_location_zipcode',\n",
       "       'original_location_country', 'original_salary', 'cleansed_salary_min',\n",
       "       'cleansed_salary_max', 'cleansed_salary_avg', 'original_job_type',\n",
       "       'original_work_type', 'original_job_description1',\n",
       "       'original_job_description2', 'posting_date'],\n",
       "      dtype='object')"
      ]
     },
     "execution_count": 23,
     "metadata": {},
     "output_type": "execute_result"
    }
   ],
   "source": [
    "df.columns"
   ]
  },
  {
   "cell_type": "code",
   "execution_count": 29,
   "id": "0c394421",
   "metadata": {},
   "outputs": [
    {
     "data": {
      "text/plain": [
       "(19868, 21)"
      ]
     },
     "execution_count": 29,
     "metadata": {},
     "output_type": "execute_result"
    }
   ],
   "source": [
    "df.shape"
   ]
  },
  {
   "cell_type": "markdown",
   "id": "d3d19923",
   "metadata": {},
   "source": [
    "## Salary data availability"
   ]
  },
  {
   "cell_type": "code",
   "execution_count": 105,
   "id": "f5ac7cbb",
   "metadata": {},
   "outputs": [
    {
     "data": {
      "text/plain": [
       "(1086, 21)"
      ]
     },
     "execution_count": 105,
     "metadata": {},
     "output_type": "execute_result"
    }
   ],
   "source": [
    "df_salary_avg = df.dropna(subset=['cleansed_salary_avg', 'posting_date'])\n",
    "df_salary_avg.shape"
   ]
  },
  {
   "cell_type": "code",
   "execution_count": 114,
   "id": "7b9ba5e7",
   "metadata": {},
   "outputs": [
    {
     "name": "stderr",
     "output_type": "stream",
     "text": [
      "C:\\Users\\Devin\\AppData\\Local\\Temp\\ipykernel_2504\\517585812.py:1: SettingWithCopyWarning: \n",
      "A value is trying to be set on a copy of a slice from a DataFrame.\n",
      "Try using .loc[row_indexer,col_indexer] = value instead\n",
      "\n",
      "See the caveats in the documentation: https://pandas.pydata.org/pandas-docs/stable/user_guide/indexing.html#returning-a-view-versus-a-copy\n",
      "  df_salary_avg['posting_date'] = pd.to_datetime(df_salary_avg['posting_date'], format='%m/%d/%Y')\n"
     ]
    }
   ],
   "source": [
    "df_salary_avg['posting_date'] = pd.to_datetime(df_salary_avg['posting_date'], format='%m/%d/%Y')"
   ]
  },
  {
   "cell_type": "code",
   "execution_count": 115,
   "id": "5f8ce05c",
   "metadata": {},
   "outputs": [
    {
     "data": {
      "text/plain": [
       "(1086, 21)"
      ]
     },
     "execution_count": 115,
     "metadata": {},
     "output_type": "execute_result"
    }
   ],
   "source": [
    "df.dropna(subset=['cleansed_salary_avg']).shape"
   ]
  },
  {
   "cell_type": "code",
   "execution_count": 116,
   "id": "29ff0371",
   "metadata": {},
   "outputs": [
    {
     "data": {
      "text/plain": [
       "(1097, 21)"
      ]
     },
     "execution_count": 116,
     "metadata": {},
     "output_type": "execute_result"
    }
   ],
   "source": [
    "df.dropna(subset=['cleansed_salary_min']).shape"
   ]
  },
  {
   "cell_type": "code",
   "execution_count": 117,
   "id": "4c550f84",
   "metadata": {},
   "outputs": [
    {
     "data": {
      "text/plain": [
       "(359, 21)"
      ]
     },
     "execution_count": 117,
     "metadata": {},
     "output_type": "execute_result"
    }
   ],
   "source": [
    "df_ds_salary_avg = df_salary_avg[df_salary_avg['cleansed_job_title'] == 'data scientist']\n",
    "df_ds_salary_avg.shape"
   ]
  },
  {
   "cell_type": "code",
   "execution_count": 118,
   "id": "a786e7f1",
   "metadata": {
    "scrolled": true
   },
   "outputs": [
    {
     "data": {
      "text/plain": [
       "Text(0.5, 1.0, 'Data Science Salaries Over Time')"
      ]
     },
     "execution_count": 118,
     "metadata": {},
     "output_type": "execute_result"
    },
    {
     "data": {
      "image/png": "[encoded data removed]",
      "text/plain": [
       "<Figure size 640x480 with 1 Axes>"
      ]
     },
     "metadata": {},
     "output_type": "display_data"
    }
   ],
   "source": [
    "plt.scatter(df_ds_salary_avg['posting_date'], df_ds_salary_avg['cleansed_salary_avg'])\n",
    "plt.title('Data Science Salaries Over Time')"
   ]
  },
  {
   "cell_type": "code",
   "execution_count": 120,
   "id": "4366e822",
   "metadata": {},
   "outputs": [
    {
     "data": {
      "text/plain": [
       "(1086, 21)"
      ]
     },
     "execution_count": 120,
     "metadata": {},
     "output_type": "execute_result"
    }
   ],
   "source": [
    "df_salary_avg.shape"
   ]
  },
  {
   "cell_type": "code",
   "execution_count": 119,
   "id": "224e6c7c",
   "metadata": {},
   "outputs": [
    {
     "data": {
      "text/plain": [
       "Text(0.5, 1.0, 'Data-related Job  Salaries Over Time')"
      ]
     },
     "execution_count": 119,
     "metadata": {},
     "output_type": "execute_result"
    },
    {
     "data": {
      "image/png": "[encoded data removed]",
      "text/plain": [
       "<Figure size 640x480 with 1 Axes>"
      ]
     },
     "metadata": {},
     "output_type": "display_data"
    }
   ],
   "source": [
    "plt.scatter(df_salary_avg['posting_date'], df_salary_avg['cleansed_salary_avg'])\n",
    "plt.title('Data-related Job  Salaries Over Time')"
   ]
  },
  {
   "cell_type": "markdown",
   "id": "bb52e8e3",
   "metadata": {},
   "source": [
    "## Job title availability"
   ]
  },
  {
   "cell_type": "code",
   "execution_count": 35,
   "id": "6318ca80",
   "metadata": {},
   "outputs": [],
   "source": [
    "df_job_title = df.dropna(subset=['cleansed_job_title'])"
   ]
  },
  {
   "cell_type": "code",
   "execution_count": 36,
   "id": "28443bff",
   "metadata": {},
   "outputs": [
    {
     "data": {
      "text/plain": [
       "(19868, 21)"
      ]
     },
     "execution_count": 36,
     "metadata": {},
     "output_type": "execute_result"
    }
   ],
   "source": [
    "df_job_title.shape"
   ]
  },
  {
   "cell_type": "code",
   "execution_count": 41,
   "id": "1dabcd6e",
   "metadata": {},
   "outputs": [
    {
     "data": {
      "text/plain": [
       "cleansed_job_title\n",
       "data scientist                    10461\n",
       "na                                 6529\n",
       "data analytics                      897\n",
       "data engineer                       845\n",
       "analyst                             458\n",
       "machine learning engineer           245\n",
       "director                            241\n",
       "data scientist project manager       88\n",
       "other scientist                      85\n",
       "data modeler                         19\n",
       "Name: count, dtype: int64"
      ]
     },
     "execution_count": 41,
     "metadata": {},
     "output_type": "execute_result"
    }
   ],
   "source": [
    "df_job_title['cleansed_job_title'].value_counts()"
   ]
  },
  {
   "cell_type": "code",
   "execution_count": 47,
   "id": "454a6386",
   "metadata": {},
   "outputs": [],
   "source": [
    "df_job_title = df_job_title[df_job_title['cleansed_job_title'] != 'na']"
   ]
  },
  {
   "cell_type": "code",
   "execution_count": 48,
   "id": "d0be84a4",
   "metadata": {},
   "outputs": [
    {
     "data": {
      "text/plain": [
       "(13339, 21)"
      ]
     },
     "execution_count": 48,
     "metadata": {},
     "output_type": "execute_result"
    }
   ],
   "source": [
    "df_job_title.shape"
   ]
  },
  {
   "cell_type": "code",
   "execution_count": 49,
   "id": "9c77a4a1",
   "metadata": {},
   "outputs": [
    {
     "data": {
      "text/plain": [
       "cleansed_job_title\n",
       "data scientist                    10461\n",
       "data analytics                      897\n",
       "data engineer                       845\n",
       "analyst                             458\n",
       "machine learning engineer           245\n",
       "director                            241\n",
       "data scientist project manager       88\n",
       "other scientist                      85\n",
       "data modeler                         19\n",
       "Name: count, dtype: int64"
      ]
     },
     "execution_count": 49,
     "metadata": {},
     "output_type": "execute_result"
    }
   ],
   "source": [
    "df_job_title['cleansed_job_title'].value_counts()"
   ]
  },
  {
   "cell_type": "markdown",
   "id": "3a2a6f6d",
   "metadata": {},
   "source": [
    "## Job title availability with posting date"
   ]
  },
  {
   "cell_type": "code",
   "execution_count": 63,
   "id": "16478f48",
   "metadata": {},
   "outputs": [],
   "source": [
    "df_job_title_date = df.dropna(subset=['cleansed_job_title', 'posting_date'])"
   ]
  },
  {
   "cell_type": "code",
   "execution_count": 64,
   "id": "52b3b86d",
   "metadata": {},
   "outputs": [],
   "source": [
    "df_job_title_date = df_job_title_date[df_job_title_date['cleansed_job_title'] != 'na']"
   ]
  },
  {
   "cell_type": "code",
   "execution_count": 65,
   "id": "0b157aae",
   "metadata": {},
   "outputs": [
    {
     "data": {
      "text/plain": [
       "(13339, 21)"
      ]
     },
     "execution_count": 65,
     "metadata": {},
     "output_type": "execute_result"
    }
   ],
   "source": [
    "df_job_title_date.shape"
   ]
  },
  {
   "cell_type": "markdown",
   "id": "8b28633b",
   "metadata": {},
   "source": [
    "#### Convert date string to date type"
   ]
  },
  {
   "cell_type": "code",
   "execution_count": 66,
   "id": "46c7546d",
   "metadata": {},
   "outputs": [
    {
     "data": {
      "text/plain": [
       "'11/20/2022'"
      ]
     },
     "execution_count": 66,
     "metadata": {},
     "output_type": "execute_result"
    }
   ],
   "source": [
    "df_job_title_date['posting_date'].tolist()[0]"
   ]
  },
  {
   "cell_type": "code",
   "execution_count": 67,
   "id": "40e4bad6",
   "metadata": {},
   "outputs": [],
   "source": [
    "df_job_title_date['posting_date'] = pd.to_datetime(df_job_title_date['posting_date'], format='%m/%d/%Y')"
   ]
  },
  {
   "cell_type": "code",
   "execution_count": 68,
   "id": "f0687a74",
   "metadata": {},
   "outputs": [
    {
     "data": {
      "text/plain": [
       "Timestamp('2022-11-20 00:00:00')"
      ]
     },
     "execution_count": 68,
     "metadata": {},
     "output_type": "execute_result"
    }
   ],
   "source": [
    "df_job_title_date['posting_date'].tolist()[0]"
   ]
  },
  {
   "cell_type": "markdown",
   "id": "3af0714a",
   "metadata": {},
   "source": [
    "#### Explore job listing counts overtime"
   ]
  },
  {
   "cell_type": "code",
   "execution_count": 69,
   "id": "d2252719",
   "metadata": {},
   "outputs": [],
   "source": [
    "df_data_scientist = df_job_title_date[df_job_title_date['cleansed_job_title'] == 'data scientist']"
   ]
  },
  {
   "cell_type": "code",
   "execution_count": 70,
   "id": "e4f85c7a",
   "metadata": {},
   "outputs": [],
   "source": [
    "df_data_scientist = df_data_scientist[['posting_date', 'cleansed_job_title']]"
   ]
  },
  {
   "cell_type": "code",
   "execution_count": 71,
   "id": "148c4ede",
   "metadata": {},
   "outputs": [
    {
     "data": {
      "text/html": [
       "<div>\n",
       "<style scoped>\n",
       "    .dataframe tbody tr th:only-of-type {\n",
       "        vertical-align: middle;\n",
       "    }\n",
       "\n",
       "    .dataframe tbody tr th {\n",
       "        vertical-align: top;\n",
       "    }\n",
       "\n",
       "    .dataframe thead th {\n",
       "        text-align: right;\n",
       "    }\n",
       "</style>\n",
       "<table border=\"1\" class=\"dataframe\">\n",
       "  <thead>\n",
       "    <tr style=\"text-align: right;\">\n",
       "      <th></th>\n",
       "      <th>posting_date</th>\n",
       "      <th>cleansed_job_title</th>\n",
       "    </tr>\n",
       "  </thead>\n",
       "  <tbody>\n",
       "    <tr>\n",
       "      <th>0</th>\n",
       "      <td>2022-11-20</td>\n",
       "      <td>data scientist</td>\n",
       "    </tr>\n",
       "    <tr>\n",
       "      <th>5</th>\n",
       "      <td>2022-11-20</td>\n",
       "      <td>data scientist</td>\n",
       "    </tr>\n",
       "    <tr>\n",
       "      <th>8</th>\n",
       "      <td>2022-11-20</td>\n",
       "      <td>data scientist</td>\n",
       "    </tr>\n",
       "    <tr>\n",
       "      <th>17</th>\n",
       "      <td>2022-11-20</td>\n",
       "      <td>data scientist</td>\n",
       "    </tr>\n",
       "    <tr>\n",
       "      <th>23</th>\n",
       "      <td>2022-11-20</td>\n",
       "      <td>data scientist</td>\n",
       "    </tr>\n",
       "  </tbody>\n",
       "</table>\n",
       "</div>"
      ],
      "text/plain": [
       "   posting_date cleansed_job_title\n",
       "0    2022-11-20     data scientist\n",
       "5    2022-11-20     data scientist\n",
       "8    2022-11-20     data scientist\n",
       "17   2022-11-20     data scientist\n",
       "23   2022-11-20     data scientist"
      ]
     },
     "execution_count": 71,
     "metadata": {},
     "output_type": "execute_result"
    }
   ],
   "source": [
    "df_data_scientist.head()"
   ]
  },
  {
   "cell_type": "code",
   "execution_count": 14,
   "id": "c56fff68",
   "metadata": {},
   "outputs": [],
   "source": [
    "df_data_scientist.set_index('posting_date', inplace=True)\n",
    "df_data_scientist_count_by_month = df_data_scientist.resample('M').size()"
   ]
  },
  {
   "cell_type": "code",
   "execution_count": 15,
   "id": "423d7589",
   "metadata": {},
   "outputs": [],
   "source": [
    "df_data_scientist_count_by_month = df_data_scientist_count_by_month.reset_index()"
   ]
  },
  {
   "cell_type": "code",
   "execution_count": 19,
   "id": "0839d20e",
   "metadata": {
    "scrolled": true
   },
   "outputs": [
    {
     "data": {
      "text/html": [
       "<div>\n",
       "<style scoped>\n",
       "    .dataframe tbody tr th:only-of-type {\n",
       "        vertical-align: middle;\n",
       "    }\n",
       "\n",
       "    .dataframe tbody tr th {\n",
       "        vertical-align: top;\n",
       "    }\n",
       "\n",
       "    .dataframe thead th {\n",
       "        text-align: right;\n",
       "    }\n",
       "</style>\n",
       "<table border=\"1\" class=\"dataframe\">\n",
       "  <thead>\n",
       "    <tr style=\"text-align: right;\">\n",
       "      <th></th>\n",
       "      <th>month</th>\n",
       "      <th>count</th>\n",
       "    </tr>\n",
       "  </thead>\n",
       "  <tbody>\n",
       "    <tr>\n",
       "      <th>0</th>\n",
       "      <td>2017-06-30</td>\n",
       "      <td>302</td>\n",
       "    </tr>\n",
       "    <tr>\n",
       "      <th>1</th>\n",
       "      <td>2017-07-31</td>\n",
       "      <td>0</td>\n",
       "    </tr>\n",
       "    <tr>\n",
       "      <th>2</th>\n",
       "      <td>2017-08-31</td>\n",
       "      <td>0</td>\n",
       "    </tr>\n",
       "    <tr>\n",
       "      <th>3</th>\n",
       "      <td>2017-09-30</td>\n",
       "      <td>0</td>\n",
       "    </tr>\n",
       "    <tr>\n",
       "      <th>4</th>\n",
       "      <td>2017-10-31</td>\n",
       "      <td>0</td>\n",
       "    </tr>\n",
       "    <tr>\n",
       "      <th>...</th>\n",
       "      <td>...</td>\n",
       "      <td>...</td>\n",
       "    </tr>\n",
       "    <tr>\n",
       "      <th>68</th>\n",
       "      <td>2023-02-28</td>\n",
       "      <td>0</td>\n",
       "    </tr>\n",
       "    <tr>\n",
       "      <th>69</th>\n",
       "      <td>2023-03-31</td>\n",
       "      <td>0</td>\n",
       "    </tr>\n",
       "    <tr>\n",
       "      <th>70</th>\n",
       "      <td>2023-04-30</td>\n",
       "      <td>0</td>\n",
       "    </tr>\n",
       "    <tr>\n",
       "      <th>71</th>\n",
       "      <td>2023-05-31</td>\n",
       "      <td>0</td>\n",
       "    </tr>\n",
       "    <tr>\n",
       "      <th>72</th>\n",
       "      <td>2023-06-30</td>\n",
       "      <td>150</td>\n",
       "    </tr>\n",
       "  </tbody>\n",
       "</table>\n",
       "<p>73 rows × 2 columns</p>\n",
       "</div>"
      ],
      "text/plain": [
       "        month  count\n",
       "0  2017-06-30    302\n",
       "1  2017-07-31      0\n",
       "2  2017-08-31      0\n",
       "3  2017-09-30      0\n",
       "4  2017-10-31      0\n",
       "..        ...    ...\n",
       "68 2023-02-28      0\n",
       "69 2023-03-31      0\n",
       "70 2023-04-30      0\n",
       "71 2023-05-31      0\n",
       "72 2023-06-30    150\n",
       "\n",
       "[73 rows x 2 columns]"
      ]
     },
     "execution_count": 19,
     "metadata": {},
     "output_type": "execute_result"
    }
   ],
   "source": [
    "df_data_scientist_count_by_month.columns = ['month', 'count']\n",
    "df_data_scientist_count_by_month"
   ]
  },
  {
   "cell_type": "code",
   "execution_count": 26,
   "id": "be6dab4d",
   "metadata": {},
   "outputs": [
    {
     "data": {
      "text/html": [
       "<div>\n",
       "<style scoped>\n",
       "    .dataframe tbody tr th:only-of-type {\n",
       "        vertical-align: middle;\n",
       "    }\n",
       "\n",
       "    .dataframe tbody tr th {\n",
       "        vertical-align: top;\n",
       "    }\n",
       "\n",
       "    .dataframe thead th {\n",
       "        text-align: right;\n",
       "    }\n",
       "</style>\n",
       "<table border=\"1\" class=\"dataframe\">\n",
       "  <thead>\n",
       "    <tr style=\"text-align: right;\">\n",
       "      <th></th>\n",
       "      <th>month</th>\n",
       "      <th>count</th>\n",
       "    </tr>\n",
       "  </thead>\n",
       "  <tbody>\n",
       "    <tr>\n",
       "      <th>0</th>\n",
       "      <td>2017-06-30</td>\n",
       "      <td>302</td>\n",
       "    </tr>\n",
       "    <tr>\n",
       "      <th>20</th>\n",
       "      <td>2019-02-28</td>\n",
       "      <td>837</td>\n",
       "    </tr>\n",
       "    <tr>\n",
       "      <th>21</th>\n",
       "      <td>2019-03-31</td>\n",
       "      <td>546</td>\n",
       "    </tr>\n",
       "    <tr>\n",
       "      <th>22</th>\n",
       "      <td>2019-04-30</td>\n",
       "      <td>830</td>\n",
       "    </tr>\n",
       "    <tr>\n",
       "      <th>23</th>\n",
       "      <td>2019-05-31</td>\n",
       "      <td>645</td>\n",
       "    </tr>\n",
       "    <tr>\n",
       "      <th>24</th>\n",
       "      <td>2019-06-30</td>\n",
       "      <td>774</td>\n",
       "    </tr>\n",
       "    <tr>\n",
       "      <th>25</th>\n",
       "      <td>2019-07-31</td>\n",
       "      <td>1815</td>\n",
       "    </tr>\n",
       "    <tr>\n",
       "      <th>26</th>\n",
       "      <td>2019-08-31</td>\n",
       "      <td>2727</td>\n",
       "    </tr>\n",
       "    <tr>\n",
       "      <th>27</th>\n",
       "      <td>2019-09-30</td>\n",
       "      <td>1637</td>\n",
       "    </tr>\n",
       "    <tr>\n",
       "      <th>28</th>\n",
       "      <td>2019-10-31</td>\n",
       "      <td>34</td>\n",
       "    </tr>\n",
       "    <tr>\n",
       "      <th>65</th>\n",
       "      <td>2022-11-30</td>\n",
       "      <td>164</td>\n",
       "    </tr>\n",
       "    <tr>\n",
       "      <th>72</th>\n",
       "      <td>2023-06-30</td>\n",
       "      <td>150</td>\n",
       "    </tr>\n",
       "  </tbody>\n",
       "</table>\n",
       "</div>"
      ],
      "text/plain": [
       "        month  count\n",
       "0  2017-06-30    302\n",
       "20 2019-02-28    837\n",
       "21 2019-03-31    546\n",
       "22 2019-04-30    830\n",
       "23 2019-05-31    645\n",
       "24 2019-06-30    774\n",
       "25 2019-07-31   1815\n",
       "26 2019-08-31   2727\n",
       "27 2019-09-30   1637\n",
       "28 2019-10-31     34\n",
       "65 2022-11-30    164\n",
       "72 2023-06-30    150"
      ]
     },
     "execution_count": 26,
     "metadata": {},
     "output_type": "execute_result"
    }
   ],
   "source": [
    "df_ds_count_by_month_clean = df_data_scientist_count_by_month[df_data_scientist_count_by_month['count'] != 0]\n",
    "df_ds_count_by_month_clean"
   ]
  },
  {
   "cell_type": "code",
   "execution_count": 28,
   "id": "e43c3afc",
   "metadata": {},
   "outputs": [
    {
     "data": {
      "text/plain": [
       "Text(0.5, 1.0, 'Data Science Job Listings Over Time')"
      ]
     },
     "execution_count": 28,
     "metadata": {},
     "output_type": "execute_result"
    },
    {
     "data": {
      "image/png": "[encoded data removed]",
      "text/plain": [
       "<Figure size 640x480 with 1 Axes>"
      ]
     },
     "metadata": {},
     "output_type": "display_data"
    }
   ],
   "source": [
    "plt.plot(df_ds_count_by_month_clean['month'], df_ds_count_by_month_clean['count'])\n",
    "plt.title('Data Science Job Listings Over Time')"
   ]
  },
  {
   "cell_type": "markdown",
   "id": "a036b388",
   "metadata": {},
   "source": [
    "#### Plot trend for all jobs in dataset over time"
   ]
  },
  {
   "cell_type": "code",
   "execution_count": 73,
   "id": "82ad863f",
   "metadata": {},
   "outputs": [
    {
     "data": {
      "text/html": [
       "<div>\n",
       "<style scoped>\n",
       "    .dataframe tbody tr th:only-of-type {\n",
       "        vertical-align: middle;\n",
       "    }\n",
       "\n",
       "    .dataframe tbody tr th {\n",
       "        vertical-align: top;\n",
       "    }\n",
       "\n",
       "    .dataframe thead th {\n",
       "        text-align: right;\n",
       "    }\n",
       "</style>\n",
       "<table border=\"1\" class=\"dataframe\">\n",
       "  <thead>\n",
       "    <tr style=\"text-align: right;\">\n",
       "      <th></th>\n",
       "      <th>month</th>\n",
       "      <th>count</th>\n",
       "    </tr>\n",
       "  </thead>\n",
       "  <tbody>\n",
       "    <tr>\n",
       "      <th>0</th>\n",
       "      <td>2017-06-30</td>\n",
       "      <td>607</td>\n",
       "    </tr>\n",
       "    <tr>\n",
       "      <th>1</th>\n",
       "      <td>2017-07-31</td>\n",
       "      <td>0</td>\n",
       "    </tr>\n",
       "    <tr>\n",
       "      <th>2</th>\n",
       "      <td>2017-08-31</td>\n",
       "      <td>0</td>\n",
       "    </tr>\n",
       "    <tr>\n",
       "      <th>3</th>\n",
       "      <td>2017-09-30</td>\n",
       "      <td>0</td>\n",
       "    </tr>\n",
       "    <tr>\n",
       "      <th>4</th>\n",
       "      <td>2017-10-31</td>\n",
       "      <td>0</td>\n",
       "    </tr>\n",
       "    <tr>\n",
       "      <th>...</th>\n",
       "      <td>...</td>\n",
       "      <td>...</td>\n",
       "    </tr>\n",
       "    <tr>\n",
       "      <th>68</th>\n",
       "      <td>2023-02-28</td>\n",
       "      <td>0</td>\n",
       "    </tr>\n",
       "    <tr>\n",
       "      <th>69</th>\n",
       "      <td>2023-03-31</td>\n",
       "      <td>0</td>\n",
       "    </tr>\n",
       "    <tr>\n",
       "      <th>70</th>\n",
       "      <td>2023-04-30</td>\n",
       "      <td>0</td>\n",
       "    </tr>\n",
       "    <tr>\n",
       "      <th>71</th>\n",
       "      <td>2023-05-31</td>\n",
       "      <td>0</td>\n",
       "    </tr>\n",
       "    <tr>\n",
       "      <th>72</th>\n",
       "      <td>2023-06-30</td>\n",
       "      <td>1697</td>\n",
       "    </tr>\n",
       "  </tbody>\n",
       "</table>\n",
       "<p>73 rows × 2 columns</p>\n",
       "</div>"
      ],
      "text/plain": [
       "        month  count\n",
       "0  2017-06-30    607\n",
       "1  2017-07-31      0\n",
       "2  2017-08-31      0\n",
       "3  2017-09-30      0\n",
       "4  2017-10-31      0\n",
       "..        ...    ...\n",
       "68 2023-02-28      0\n",
       "69 2023-03-31      0\n",
       "70 2023-04-30      0\n",
       "71 2023-05-31      0\n",
       "72 2023-06-30   1697\n",
       "\n",
       "[73 rows x 2 columns]"
      ]
     },
     "execution_count": 73,
     "metadata": {},
     "output_type": "execute_result"
    }
   ],
   "source": [
    "df_job_title_date_all = df_job_title_date\n",
    "df_job_title_date_all.set_index('posting_date', inplace=True)\n",
    "df_job_title_date_all = df_job_title_date_all.resample('M').size()\n",
    "df_job_title_date_all = df_job_title_date_all.reset_index()\n",
    "df_job_title_date_all.columns = ['month', 'count']\n",
    "df_job_title_date_all"
   ]
  },
  {
   "cell_type": "code",
   "execution_count": 74,
   "id": "7bb8544b",
   "metadata": {},
   "outputs": [
    {
     "data": {
      "text/html": [
       "<div>\n",
       "<style scoped>\n",
       "    .dataframe tbody tr th:only-of-type {\n",
       "        vertical-align: middle;\n",
       "    }\n",
       "\n",
       "    .dataframe tbody tr th {\n",
       "        vertical-align: top;\n",
       "    }\n",
       "\n",
       "    .dataframe thead th {\n",
       "        text-align: right;\n",
       "    }\n",
       "</style>\n",
       "<table border=\"1\" class=\"dataframe\">\n",
       "  <thead>\n",
       "    <tr style=\"text-align: right;\">\n",
       "      <th></th>\n",
       "      <th>month</th>\n",
       "      <th>count</th>\n",
       "    </tr>\n",
       "  </thead>\n",
       "  <tbody>\n",
       "    <tr>\n",
       "      <th>0</th>\n",
       "      <td>2017-06-30</td>\n",
       "      <td>607</td>\n",
       "    </tr>\n",
       "    <tr>\n",
       "      <th>20</th>\n",
       "      <td>2019-02-28</td>\n",
       "      <td>844</td>\n",
       "    </tr>\n",
       "    <tr>\n",
       "      <th>21</th>\n",
       "      <td>2019-03-31</td>\n",
       "      <td>554</td>\n",
       "    </tr>\n",
       "    <tr>\n",
       "      <th>22</th>\n",
       "      <td>2019-04-30</td>\n",
       "      <td>841</td>\n",
       "    </tr>\n",
       "    <tr>\n",
       "      <th>23</th>\n",
       "      <td>2019-05-31</td>\n",
       "      <td>656</td>\n",
       "    </tr>\n",
       "    <tr>\n",
       "      <th>24</th>\n",
       "      <td>2019-06-30</td>\n",
       "      <td>788</td>\n",
       "    </tr>\n",
       "    <tr>\n",
       "      <th>25</th>\n",
       "      <td>2019-07-31</td>\n",
       "      <td>1837</td>\n",
       "    </tr>\n",
       "    <tr>\n",
       "      <th>26</th>\n",
       "      <td>2019-08-31</td>\n",
       "      <td>2783</td>\n",
       "    </tr>\n",
       "    <tr>\n",
       "      <th>27</th>\n",
       "      <td>2019-09-30</td>\n",
       "      <td>1662</td>\n",
       "    </tr>\n",
       "    <tr>\n",
       "      <th>28</th>\n",
       "      <td>2019-10-31</td>\n",
       "      <td>34</td>\n",
       "    </tr>\n",
       "    <tr>\n",
       "      <th>65</th>\n",
       "      <td>2022-11-30</td>\n",
       "      <td>1036</td>\n",
       "    </tr>\n",
       "    <tr>\n",
       "      <th>72</th>\n",
       "      <td>2023-06-30</td>\n",
       "      <td>1697</td>\n",
       "    </tr>\n",
       "  </tbody>\n",
       "</table>\n",
       "</div>"
      ],
      "text/plain": [
       "        month  count\n",
       "0  2017-06-30    607\n",
       "20 2019-02-28    844\n",
       "21 2019-03-31    554\n",
       "22 2019-04-30    841\n",
       "23 2019-05-31    656\n",
       "24 2019-06-30    788\n",
       "25 2019-07-31   1837\n",
       "26 2019-08-31   2783\n",
       "27 2019-09-30   1662\n",
       "28 2019-10-31     34\n",
       "65 2022-11-30   1036\n",
       "72 2023-06-30   1697"
      ]
     },
     "execution_count": 74,
     "metadata": {},
     "output_type": "execute_result"
    }
   ],
   "source": [
    "df_job_title_date_all = df_job_title_date_all[df_job_title_date_all['count'] != 0]\n",
    "df_job_title_date_all"
   ]
  },
  {
   "cell_type": "code",
   "execution_count": 75,
   "id": "e75a1e45",
   "metadata": {},
   "outputs": [
    {
     "data": {
      "text/plain": [
       "Text(0.5, 1.0, 'Data-related Job Listings Over Time')"
      ]
     },
     "execution_count": 75,
     "metadata": {},
     "output_type": "execute_result"
    },
    {
     "data": {
      "image/png": "[encoded data removed]",
      "text/plain": [
       "<Figure size 640x480 with 1 Axes>"
      ]
     },
     "metadata": {},
     "output_type": "display_data"
    }
   ],
   "source": [
    "plt.plot(df_job_title_date_all['month'], df_job_title_date_all['count'])\n",
    "plt.title('Data-related Job Listings Over Time')"
   ]
  },
  {
   "cell_type": "markdown",
   "id": "02ac69e8",
   "metadata": {},
   "source": [
    "## Availbility of location data"
   ]
  },
  {
   "cell_type": "code",
   "execution_count": 79,
   "id": "f4a1d728",
   "metadata": {},
   "outputs": [
    {
     "data": {
      "text/plain": [
       "(666, 21)"
      ]
     },
     "execution_count": 79,
     "metadata": {},
     "output_type": "execute_result"
    }
   ],
   "source": [
    "df.dropna(subset=['original_location_city']).shape"
   ]
  },
  {
   "cell_type": "code",
   "execution_count": 80,
   "id": "08edef56",
   "metadata": {},
   "outputs": [
    {
     "data": {
      "text/plain": [
       "(1403, 21)"
      ]
     },
     "execution_count": 80,
     "metadata": {},
     "output_type": "execute_result"
    }
   ],
   "source": [
    "df.dropna(subset=['original_location_state']).shape"
   ]
  },
  {
   "cell_type": "markdown",
   "id": "7fd188fe",
   "metadata": {},
   "source": [
    "#### Much more data in full locaiton, but inconsistent format & needs to be parsed into city/state/country"
   ]
  },
  {
   "cell_type": "code",
   "execution_count": 89,
   "id": "53ad31c3",
   "metadata": {},
   "outputs": [
    {
     "data": {
      "text/plain": [
       "(9836, 21)"
      ]
     },
     "execution_count": 89,
     "metadata": {},
     "output_type": "execute_result"
    }
   ],
   "source": [
    "df_location_full = df.dropna(subset=['original_location_full'])\n",
    "df_location_full.shape"
   ]
  },
  {
   "cell_type": "code",
   "execution_count": 84,
   "id": "d180acb7",
   "metadata": {},
   "outputs": [
    {
     "data": {
      "text/plain": [
       "16535        Ahmedabad, Gujarat, India\n",
       "11572                   Washington, DC\n",
       "11220                       Dallas, TX\n",
       "11597                       Peoria, IL\n",
       "18858         Gurugram, Haryana, India\n",
       "17900    Lucknow, Uttar Pradesh, India\n",
       "11249              Fort Lauderdale, FL\n",
       "12364      Hyderabad, Telangana, India\n",
       "628                             Remote\n",
       "12230    Bhopal, Madhya Pradesh, India\n",
       "Name: original_location_full, dtype: object"
      ]
     },
     "execution_count": 84,
     "metadata": {},
     "output_type": "execute_result"
    }
   ],
   "source": [
    "df.dropna(subset=['original_location_full'])['original_location_full'].sample(10)"
   ]
  },
  {
   "cell_type": "markdown",
   "id": "4bfa5a47",
   "metadata": {},
   "source": [
    "#### Limited remote data, augmenting with description likely more fruitful"
   ]
  },
  {
   "cell_type": "code",
   "execution_count": 90,
   "id": "438175fd",
   "metadata": {},
   "outputs": [
    {
     "data": {
      "text/plain": [
       "(283, 21)"
      ]
     },
     "execution_count": 90,
     "metadata": {},
     "output_type": "execute_result"
    }
   ],
   "source": [
    "df_location_full_remote = df_location_full[df_location_full['original_location_full'].str.lower() == 'remote' ]\n",
    "df_location_full_remote.shape"
   ]
  },
  {
   "cell_type": "code",
   "execution_count": 92,
   "id": "dab5c65a",
   "metadata": {},
   "outputs": [
    {
     "data": {
      "text/html": [
       "<div>\n",
       "<style scoped>\n",
       "    .dataframe tbody tr th:only-of-type {\n",
       "        vertical-align: middle;\n",
       "    }\n",
       "\n",
       "    .dataframe tbody tr th {\n",
       "        vertical-align: top;\n",
       "    }\n",
       "\n",
       "    .dataframe thead th {\n",
       "        text-align: right;\n",
       "    }\n",
       "</style>\n",
       "<table border=\"1\" class=\"dataframe\">\n",
       "  <thead>\n",
       "    <tr style=\"text-align: right;\">\n",
       "      <th></th>\n",
       "      <th>source_id</th>\n",
       "      <th>original_record_id</th>\n",
       "      <th>original_job_posting_site</th>\n",
       "      <th>original_job_title</th>\n",
       "      <th>cleansed_job_title</th>\n",
       "      <th>original_company_name</th>\n",
       "      <th>original_industry</th>\n",
       "      <th>original_location_full</th>\n",
       "      <th>original_location_city</th>\n",
       "      <th>original_location_state</th>\n",
       "      <th>...</th>\n",
       "      <th>original_location_country</th>\n",
       "      <th>original_salary</th>\n",
       "      <th>cleansed_salary_min</th>\n",
       "      <th>cleansed_salary_max</th>\n",
       "      <th>cleansed_salary_avg</th>\n",
       "      <th>original_job_type</th>\n",
       "      <th>original_work_type</th>\n",
       "      <th>original_job_description1</th>\n",
       "      <th>original_job_description2</th>\n",
       "      <th>posting_date</th>\n",
       "    </tr>\n",
       "  </thead>\n",
       "  <tbody>\n",
       "    <tr>\n",
       "      <th>13149</th>\n",
       "      <td>4</td>\n",
       "      <td>3474396188</td>\n",
       "      <td>LINKEDIN</td>\n",
       "      <td>MS CRM Developer</td>\n",
       "      <td>na</td>\n",
       "      <td>eJAmerica</td>\n",
       "      <td>NaN</td>\n",
       "      <td>Chennai, Tamil Nadu, India</td>\n",
       "      <td>NaN</td>\n",
       "      <td>NaN</td>\n",
       "      <td>...</td>\n",
       "      <td>INDIA</td>\n",
       "      <td>NaN</td>\n",
       "      <td>NaN</td>\n",
       "      <td>NaN</td>\n",
       "      <td>NaN</td>\n",
       "      <td>Full-time   Mid-Senior level</td>\n",
       "      <td>Hybrid</td>\n",
       "      <td>About the job MS CRM DeveloperLocation: PAN In...</td>\n",
       "      <td>NaN</td>\n",
       "      <td>6/15/2023</td>\n",
       "    </tr>\n",
       "    <tr>\n",
       "      <th>15354</th>\n",
       "      <td>4</td>\n",
       "      <td>3476183925</td>\n",
       "      <td>LINKEDIN</td>\n",
       "      <td>Senior ReactJS Developer</td>\n",
       "      <td>na</td>\n",
       "      <td>EPAM Anywhere</td>\n",
       "      <td>NaN</td>\n",
       "      <td>Patna, Bihar, India</td>\n",
       "      <td>NaN</td>\n",
       "      <td>NaN</td>\n",
       "      <td>...</td>\n",
       "      <td>INDIA</td>\n",
       "      <td>NaN</td>\n",
       "      <td>NaN</td>\n",
       "      <td>NaN</td>\n",
       "      <td>NaN</td>\n",
       "      <td>Full-time   Mid-Senior level</td>\n",
       "      <td>Remote</td>\n",
       "      <td>About the job We would be happy to consider yo...</td>\n",
       "      <td>NaN</td>\n",
       "      <td>6/15/2023</td>\n",
       "    </tr>\n",
       "    <tr>\n",
       "      <th>18683</th>\n",
       "      <td>4</td>\n",
       "      <td>3474489963</td>\n",
       "      <td>LINKEDIN</td>\n",
       "      <td>Customer Service Specialist</td>\n",
       "      <td>na</td>\n",
       "      <td>Sukoon Solutions</td>\n",
       "      <td>NaN</td>\n",
       "      <td>Ghaziabad, Uttar Pradesh, India</td>\n",
       "      <td>NaN</td>\n",
       "      <td>NaN</td>\n",
       "      <td>...</td>\n",
       "      <td>INDIA</td>\n",
       "      <td>NaN</td>\n",
       "      <td>NaN</td>\n",
       "      <td>NaN</td>\n",
       "      <td>NaN</td>\n",
       "      <td>Full-time</td>\n",
       "      <td>On-site</td>\n",
       "      <td>About the job Service Support Specialist/ Cust...</td>\n",
       "      <td>NaN</td>\n",
       "      <td>6/15/2023</td>\n",
       "    </tr>\n",
       "    <tr>\n",
       "      <th>13127</th>\n",
       "      <td>4</td>\n",
       "      <td>3467324969</td>\n",
       "      <td>LINKEDIN</td>\n",
       "      <td>Senior Threat Analyst</td>\n",
       "      <td>na</td>\n",
       "      <td>Optiv</td>\n",
       "      <td>NaN</td>\n",
       "      <td>Bengaluru, Karnataka, India</td>\n",
       "      <td>NaN</td>\n",
       "      <td>NaN</td>\n",
       "      <td>...</td>\n",
       "      <td>INDIA</td>\n",
       "      <td>NaN</td>\n",
       "      <td>NaN</td>\n",
       "      <td>NaN</td>\n",
       "      <td>NaN</td>\n",
       "      <td>Full-time   Mid-Senior level</td>\n",
       "      <td>On-site</td>\n",
       "      <td>About the job At Optiv, we re on a mission to ...</td>\n",
       "      <td>NaN</td>\n",
       "      <td>6/15/2023</td>\n",
       "    </tr>\n",
       "    <tr>\n",
       "      <th>13406</th>\n",
       "      <td>4</td>\n",
       "      <td>3472552364</td>\n",
       "      <td>LINKEDIN</td>\n",
       "      <td>Scala Developer</td>\n",
       "      <td>na</td>\n",
       "      <td>Appzlogic</td>\n",
       "      <td>NaN</td>\n",
       "      <td>India</td>\n",
       "      <td>NaN</td>\n",
       "      <td>NaN</td>\n",
       "      <td>...</td>\n",
       "      <td>INDIA</td>\n",
       "      <td>NaN</td>\n",
       "      <td>NaN</td>\n",
       "      <td>NaN</td>\n",
       "      <td>NaN</td>\n",
       "      <td>Full-time</td>\n",
       "      <td>Remote</td>\n",
       "      <td>About the job Job Description -Designing, crea...</td>\n",
       "      <td>NaN</td>\n",
       "      <td>6/15/2023</td>\n",
       "    </tr>\n",
       "  </tbody>\n",
       "</table>\n",
       "<p>5 rows × 21 columns</p>\n",
       "</div>"
      ],
      "text/plain": [
       "       source_id original_record_id original_job_posting_site  \\\n",
       "13149          4         3474396188                  LINKEDIN   \n",
       "15354          4         3476183925                  LINKEDIN   \n",
       "18683          4         3474489963                  LINKEDIN   \n",
       "13127          4         3467324969                  LINKEDIN   \n",
       "13406          4         3472552364                  LINKEDIN   \n",
       "\n",
       "                original_job_title cleansed_job_title original_company_name  \\\n",
       "13149             MS CRM Developer                 na             eJAmerica   \n",
       "15354     Senior ReactJS Developer                 na         EPAM Anywhere   \n",
       "18683  Customer Service Specialist                 na      Sukoon Solutions   \n",
       "13127        Senior Threat Analyst                 na                 Optiv   \n",
       "13406              Scala Developer                 na             Appzlogic   \n",
       "\n",
       "      original_industry           original_location_full  \\\n",
       "13149               NaN       Chennai, Tamil Nadu, India   \n",
       "15354               NaN              Patna, Bihar, India   \n",
       "18683               NaN  Ghaziabad, Uttar Pradesh, India   \n",
       "13127               NaN      Bengaluru, Karnataka, India   \n",
       "13406               NaN                            India   \n",
       "\n",
       "      original_location_city original_location_state  ...  \\\n",
       "13149                    NaN                     NaN  ...   \n",
       "15354                    NaN                     NaN  ...   \n",
       "18683                    NaN                     NaN  ...   \n",
       "13127                    NaN                     NaN  ...   \n",
       "13406                    NaN                     NaN  ...   \n",
       "\n",
       "       original_location_country original_salary cleansed_salary_min  \\\n",
       "13149                      INDIA             NaN                 NaN   \n",
       "15354                      INDIA             NaN                 NaN   \n",
       "18683                      INDIA             NaN                 NaN   \n",
       "13127                      INDIA             NaN                 NaN   \n",
       "13406                      INDIA             NaN                 NaN   \n",
       "\n",
       "       cleansed_salary_max  cleansed_salary_avg             original_job_type  \\\n",
       "13149                  NaN                  NaN  Full-time   Mid-Senior level   \n",
       "15354                  NaN                  NaN  Full-time   Mid-Senior level   \n",
       "18683                  NaN                  NaN                     Full-time   \n",
       "13127                  NaN                  NaN  Full-time   Mid-Senior level   \n",
       "13406                  NaN                  NaN                     Full-time   \n",
       "\n",
       "      original_work_type                          original_job_description1  \\\n",
       "13149             Hybrid  About the job MS CRM DeveloperLocation: PAN In...   \n",
       "15354             Remote  About the job We would be happy to consider yo...   \n",
       "18683            On-site  About the job Service Support Specialist/ Cust...   \n",
       "13127            On-site  About the job At Optiv, we re on a mission to ...   \n",
       "13406             Remote  About the job Job Description -Designing, crea...   \n",
       "\n",
       "      original_job_description2 posting_date  \n",
       "13149                       NaN    6/15/2023  \n",
       "15354                       NaN    6/15/2023  \n",
       "18683                       NaN    6/15/2023  \n",
       "13127                       NaN    6/15/2023  \n",
       "13406                       NaN    6/15/2023  \n",
       "\n",
       "[5 rows x 21 columns]"
      ]
     },
     "execution_count": 92,
     "metadata": {},
     "output_type": "execute_result"
    }
   ],
   "source": [
    "df_location_full.sample(5)"
   ]
  },
  {
   "cell_type": "code",
   "execution_count": null,
   "id": "f00823b0",
   "metadata": {},
   "outputs": [],
   "source": []
  }
 ],
 "metadata": {
  "kernelspec": {
   "display_name": "Python 3 (ipykernel)",
   "language": "python",
   "name": "python3"
  },
  "language_info": {
   "codemirror_mode": {
    "name": "ipython",
    "version": 3
   },
   "file_extension": ".py",
   "mimetype": "text/x-python",
   "name": "python",
   "nbconvert_exporter": "python",
   "pygments_lexer": "ipython3",
   "version": "3.11.5"
  }
 },
 "nbformat": 4,
 "nbformat_minor": 5
}
