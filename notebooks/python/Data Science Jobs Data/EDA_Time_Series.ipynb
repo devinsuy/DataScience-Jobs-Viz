{
 "cells": [
  {
   "cell_type": "code",
   "execution_count": 10,
   "id": "b9f003b9",
   "metadata": {},
   "outputs": [],
   "source": [
    "import pandas as pd\n",
    "import matplotlib.pyplot as plt\n",
    "import altair as alt"
   ]
  },
  {
   "cell_type": "code",
   "execution_count": 2,
   "id": "f7748657",
   "metadata": {},
   "outputs": [],
   "source": [
    "DATA_DIR = '../../../data/Data_Science_Listings'"
   ]
  },
  {
   "cell_type": "code",
   "execution_count": 3,
   "id": "152c6240",
   "metadata": {},
   "outputs": [],
   "source": [
    "df = pd.read_csv(f'{DATA_DIR}/Data_Scientist_Job_Listings_Data.csv')"
   ]
  },
  {
   "cell_type": "code",
   "execution_count": 4,
   "id": "872ec80f",
   "metadata": {},
   "outputs": [
    {
     "data": {
      "text/html": [
       "<div>\n",
       "<style scoped>\n",
       "    .dataframe tbody tr th:only-of-type {\n",
       "        vertical-align: middle;\n",
       "    }\n",
       "\n",
       "    .dataframe tbody tr th {\n",
       "        vertical-align: top;\n",
       "    }\n",
       "\n",
       "    .dataframe thead th {\n",
       "        text-align: right;\n",
       "    }\n",
       "</style>\n",
       "<table border=\"1\" class=\"dataframe\">\n",
       "  <thead>\n",
       "    <tr style=\"text-align: right;\">\n",
       "      <th></th>\n",
       "      <th>Unnamed: 0</th>\n",
       "      <th>source_id</th>\n",
       "      <th>original_record_id</th>\n",
       "      <th>original_job_posting_site</th>\n",
       "      <th>original_job_title</th>\n",
       "      <th>cleansed_job_title</th>\n",
       "      <th>original_company_name</th>\n",
       "      <th>original_industry</th>\n",
       "      <th>City</th>\n",
       "      <th>State</th>\n",
       "      <th>...</th>\n",
       "      <th>original_job_type</th>\n",
       "      <th>original_work_type</th>\n",
       "      <th>original_job_description1</th>\n",
       "      <th>original_job_description2</th>\n",
       "      <th>posting_date</th>\n",
       "      <th>cleansed_job_type</th>\n",
       "      <th>isContract</th>\n",
       "      <th>isInternship</th>\n",
       "      <th>isEntryLevel</th>\n",
       "      <th>isMidSeniorLevel</th>\n",
       "    </tr>\n",
       "  </thead>\n",
       "  <tbody>\n",
       "    <tr>\n",
       "      <th>0</th>\n",
       "      <td>0</td>\n",
       "      <td>1</td>\n",
       "      <td>0</td>\n",
       "      <td>INDEED</td>\n",
       "      <td>Data Scientist</td>\n",
       "      <td>data scientist</td>\n",
       "      <td>Driven Brands</td>\n",
       "      <td>NaN</td>\n",
       "      <td>Benicia</td>\n",
       "      <td>California</td>\n",
       "      <td>...</td>\n",
       "      <td>Undefined</td>\n",
       "      <td>NaN</td>\n",
       "      <td>You’ll be working alongside a team of eight an...</td>\n",
       "      <td>We invite you to join us at Driven Brands!\\r\\n...</td>\n",
       "      <td>11/20/2022</td>\n",
       "      <td>Undefined</td>\n",
       "      <td>0.0</td>\n",
       "      <td>0.0</td>\n",
       "      <td>0.0</td>\n",
       "      <td>0.0</td>\n",
       "    </tr>\n",
       "    <tr>\n",
       "      <th>1</th>\n",
       "      <td>1</td>\n",
       "      <td>1</td>\n",
       "      <td>1</td>\n",
       "      <td>INDEED</td>\n",
       "      <td>Business Analyst</td>\n",
       "      <td>analyst</td>\n",
       "      <td>Sabot Consulting</td>\n",
       "      <td>NaN</td>\n",
       "      <td>NaN</td>\n",
       "      <td>NaN</td>\n",
       "      <td>...</td>\n",
       "      <td>Undefined</td>\n",
       "      <td>Remote</td>\n",
       "      <td>Preferred candidates will have prior experienc...</td>\n",
       "      <td>Sabot Consulting (Sabot) is a management consu...</td>\n",
       "      <td>11/20/2022</td>\n",
       "      <td>Undefined</td>\n",
       "      <td>0.0</td>\n",
       "      <td>0.0</td>\n",
       "      <td>0.0</td>\n",
       "      <td>0.0</td>\n",
       "    </tr>\n",
       "    <tr>\n",
       "      <th>2</th>\n",
       "      <td>2</td>\n",
       "      <td>1</td>\n",
       "      <td>2</td>\n",
       "      <td>INDEED</td>\n",
       "      <td>IT Business Intelligence Developer (FT) Remote...</td>\n",
       "      <td>data analytics</td>\n",
       "      <td>Ballad Health</td>\n",
       "      <td>NaN</td>\n",
       "      <td>Blountville</td>\n",
       "      <td>Tennessee</td>\n",
       "      <td>...</td>\n",
       "      <td>Undefined</td>\n",
       "      <td>Remote</td>\n",
       "      <td>Job Details Apply Save Print this job Email a…</td>\n",
       "      <td>Job Details\\r\\nApply\\r\\nSave\\r\\nPrint this job...</td>\n",
       "      <td>11/20/2022</td>\n",
       "      <td>Undefined</td>\n",
       "      <td>0.0</td>\n",
       "      <td>0.0</td>\n",
       "      <td>0.0</td>\n",
       "      <td>0.0</td>\n",
       "    </tr>\n",
       "    <tr>\n",
       "      <th>3</th>\n",
       "      <td>3</td>\n",
       "      <td>1</td>\n",
       "      <td>3</td>\n",
       "      <td>INDEED</td>\n",
       "      <td>Data Engineer</td>\n",
       "      <td>data engineer</td>\n",
       "      <td>Longevity Holdings Inc.</td>\n",
       "      <td>NaN</td>\n",
       "      <td>Minneapolis-Saint Paul</td>\n",
       "      <td>Minnesota</td>\n",
       "      <td>...</td>\n",
       "      <td>Undefined</td>\n",
       "      <td>Remote</td>\n",
       "      <td>Incorporate core data management competencies ...</td>\n",
       "      <td>Position: Data Engineer\\r\\nLocation: MN\\r\\nAs ...</td>\n",
       "      <td>11/20/2022</td>\n",
       "      <td>Undefined</td>\n",
       "      <td>0.0</td>\n",
       "      <td>0.0</td>\n",
       "      <td>0.0</td>\n",
       "      <td>0.0</td>\n",
       "    </tr>\n",
       "    <tr>\n",
       "      <th>4</th>\n",
       "      <td>4</td>\n",
       "      <td>1</td>\n",
       "      <td>4</td>\n",
       "      <td>INDEED</td>\n",
       "      <td>Network Administrator/dba developer</td>\n",
       "      <td>na</td>\n",
       "      <td>WKI Kenworth</td>\n",
       "      <td>NaN</td>\n",
       "      <td>Wichita</td>\n",
       "      <td>Kansas</td>\n",
       "      <td>...</td>\n",
       "      <td>Undefined</td>\n",
       "      <td>NaN</td>\n",
       "      <td>The Network Administrator provides 2nd level e...</td>\n",
       "      <td>Full Job Description\\r\\nThe Network Administra...</td>\n",
       "      <td>11/20/2022</td>\n",
       "      <td>Undefined</td>\n",
       "      <td>0.0</td>\n",
       "      <td>0.0</td>\n",
       "      <td>0.0</td>\n",
       "      <td>0.0</td>\n",
       "    </tr>\n",
       "  </tbody>\n",
       "</table>\n",
       "<p>5 rows × 25 columns</p>\n",
       "</div>"
      ],
      "text/plain": [
       "   Unnamed: 0  source_id original_record_id original_job_posting_site  \\\n",
       "0           0          1                  0                    INDEED   \n",
       "1           1          1                  1                    INDEED   \n",
       "2           2          1                  2                    INDEED   \n",
       "3           3          1                  3                    INDEED   \n",
       "4           4          1                  4                    INDEED   \n",
       "\n",
       "                                  original_job_title cleansed_job_title  \\\n",
       "0                                     Data Scientist     data scientist   \n",
       "1                                   Business Analyst            analyst   \n",
       "2  IT Business Intelligence Developer (FT) Remote...     data analytics   \n",
       "3                                      Data Engineer      data engineer   \n",
       "4                Network Administrator/dba developer                 na   \n",
       "\n",
       "     original_company_name original_industry                    City  \\\n",
       "0            Driven Brands               NaN                 Benicia   \n",
       "1         Sabot Consulting               NaN                     NaN   \n",
       "2            Ballad Health               NaN             Blountville   \n",
       "3  Longevity Holdings Inc.               NaN  Minneapolis-Saint Paul   \n",
       "4             WKI Kenworth               NaN                 Wichita   \n",
       "\n",
       "        State  ... original_job_type original_work_type  \\\n",
       "0  California  ...         Undefined                NaN   \n",
       "1         NaN  ...         Undefined             Remote   \n",
       "2   Tennessee  ...         Undefined             Remote   \n",
       "3   Minnesota  ...         Undefined             Remote   \n",
       "4      Kansas  ...         Undefined                NaN   \n",
       "\n",
       "                           original_job_description1  \\\n",
       "0  You’ll be working alongside a team of eight an...   \n",
       "1  Preferred candidates will have prior experienc...   \n",
       "2     Job Details Apply Save Print this job Email a…   \n",
       "3  Incorporate core data management competencies ...   \n",
       "4  The Network Administrator provides 2nd level e...   \n",
       "\n",
       "                           original_job_description2  posting_date  \\\n",
       "0  We invite you to join us at Driven Brands!\\r\\n...    11/20/2022   \n",
       "1  Sabot Consulting (Sabot) is a management consu...    11/20/2022   \n",
       "2  Job Details\\r\\nApply\\r\\nSave\\r\\nPrint this job...    11/20/2022   \n",
       "3  Position: Data Engineer\\r\\nLocation: MN\\r\\nAs ...    11/20/2022   \n",
       "4  Full Job Description\\r\\nThe Network Administra...    11/20/2022   \n",
       "\n",
       "  cleansed_job_type isContract isInternship isEntryLevel isMidSeniorLevel  \n",
       "0         Undefined        0.0          0.0          0.0              0.0  \n",
       "1         Undefined        0.0          0.0          0.0              0.0  \n",
       "2         Undefined        0.0          0.0          0.0              0.0  \n",
       "3         Undefined        0.0          0.0          0.0              0.0  \n",
       "4         Undefined        0.0          0.0          0.0              0.0  \n",
       "\n",
       "[5 rows x 25 columns]"
      ]
     },
     "execution_count": 4,
     "metadata": {},
     "output_type": "execute_result"
    }
   ],
   "source": [
    "df.head()"
   ]
  },
  {
   "cell_type": "code",
   "execution_count": 5,
   "id": "7cafe27b",
   "metadata": {},
   "outputs": [
    {
     "data": {
      "text/plain": [
       "(19868, 25)"
      ]
     },
     "execution_count": 5,
     "metadata": {},
     "output_type": "execute_result"
    }
   ],
   "source": [
    "df.shape"
   ]
  },
  {
   "cell_type": "code",
   "execution_count": 72,
   "id": "61171e2c",
   "metadata": {
    "scrolled": true
   },
   "outputs": [
    {
     "data": {
      "text/plain": [
       "Index(['Unnamed: 0', 'source_id', 'original_record_id',\n",
       "       'original_job_posting_site', 'original_job_title', 'cleansed_job_title',\n",
       "       'original_company_name', 'original_industry', 'City', 'State',\n",
       "       'Country', 'original_salary', 'cleansed_salary_min',\n",
       "       'cleansed_salary_max', 'cleansed_salary_avg', 'original_job_type',\n",
       "       'original_work_type', 'original_job_description1',\n",
       "       'original_job_description2', 'posting_date', 'cleansed_job_type',\n",
       "       'isContract', 'isInternship', 'isEntryLevel', 'isMidSeniorLevel'],\n",
       "      dtype='object')"
      ]
     },
     "execution_count": 72,
     "metadata": {},
     "output_type": "execute_result"
    }
   ],
   "source": [
    "df.columns"
   ]
  },
  {
   "cell_type": "code",
   "execution_count": 73,
   "id": "be44c1ba",
   "metadata": {
    "scrolled": true
   },
   "outputs": [
    {
     "data": {
      "text/plain": [
       "(19868, 25)"
      ]
     },
     "execution_count": 73,
     "metadata": {},
     "output_type": "execute_result"
    }
   ],
   "source": [
    "df = df.dropna(subset=['posting_date'])\n",
    "df.shape"
   ]
  },
  {
   "cell_type": "markdown",
   "id": "4c4566a3",
   "metadata": {},
   "source": [
    "## Availability of data points over time "
   ]
  },
  {
   "cell_type": "code",
   "execution_count": 74,
   "id": "0f6b2ce5",
   "metadata": {},
   "outputs": [],
   "source": [
    "df['posting_date'] = pd.to_datetime(df['posting_date'], format='%m/%d/%Y')"
   ]
  },
  {
   "cell_type": "code",
   "execution_count": 75,
   "id": "240c982b",
   "metadata": {},
   "outputs": [
    {
     "data": {
      "text/plain": [
       "0       2022-11-20\n",
       "1       2022-11-20\n",
       "2       2022-11-20\n",
       "3       2022-11-20\n",
       "4       2022-11-20\n",
       "           ...    \n",
       "19863   2023-06-15\n",
       "19864   2023-06-15\n",
       "19865   2023-06-15\n",
       "19866   2023-06-15\n",
       "19867   2023-06-15\n",
       "Name: posting_date, Length: 19868, dtype: datetime64[ns]"
      ]
     },
     "execution_count": 75,
     "metadata": {},
     "output_type": "execute_result"
    }
   ],
   "source": [
    "df['posting_date']"
   ]
  },
  {
   "cell_type": "code",
   "execution_count": 36,
   "id": "81980485",
   "metadata": {},
   "outputs": [
    {
     "data": {
      "text/plain": [
       "posting_date\n",
       "2017-06-15     742\n",
       "2019-02-06      48\n",
       "2019-02-07      55\n",
       "2019-02-08      70\n",
       "2019-02-09      49\n",
       "2019-02-10      20\n",
       "2019-02-11      19\n",
       "2019-02-12      52\n",
       "2019-02-13      63\n",
       "2019-02-14      39\n",
       "2019-02-15      52\n",
       "2019-02-16      46\n",
       "2019-02-17      13\n",
       "2019-02-18      20\n",
       "2019-02-19      59\n",
       "2019-02-20      54\n",
       "2019-02-21      41\n",
       "2019-02-22      25\n",
       "2019-02-23       1\n",
       "2019-02-24      25\n",
       "2019-02-25      11\n",
       "2019-02-26      26\n",
       "2019-02-27      30\n",
       "2019-02-28      26\n",
       "2019-03-01      41\n",
       "2019-03-02      28\n",
       "2019-03-03       8\n",
       "2019-03-04       3\n",
       "2019-03-05      11\n",
       "2019-03-06      26\n",
       "2019-03-07      24\n",
       "2019-03-08      21\n",
       "2019-03-09      12\n",
       "2019-03-10      10\n",
       "2019-03-11       4\n",
       "2019-03-12      24\n",
       "2019-03-13      21\n",
       "2019-03-14      35\n",
       "2019-03-15      27\n",
       "2019-03-16      29\n",
       "2019-03-17       9\n",
       "2019-03-18       8\n",
       "2019-03-19      26\n",
       "2019-03-20      22\n",
       "2019-03-21      21\n",
       "2019-03-22      27\n",
       "2019-03-23      26\n",
       "2019-03-24      10\n",
       "2019-03-25       5\n",
       "2019-03-26      28\n",
       "2019-03-27      23\n",
       "2019-03-28       8\n",
       "2019-03-29       9\n",
       "2019-03-30       8\n",
       "2019-04-01       8\n",
       "2019-04-02      53\n",
       "2019-04-03      32\n",
       "2019-04-04      36\n",
       "2019-04-05      32\n",
       "2019-04-06      19\n",
       "2019-04-08       2\n",
       "2019-04-09      14\n",
       "2019-04-10      23\n",
       "2019-04-11      23\n",
       "2019-04-12      29\n",
       "2019-04-13      26\n",
       "2019-04-14      13\n",
       "2019-04-15      10\n",
       "2019-04-16      26\n",
       "2019-04-17      18\n",
       "2019-04-18      27\n",
       "2019-04-19      25\n",
       "2019-04-20      35\n",
       "2019-04-21      17\n",
       "2019-04-22       9\n",
       "2019-04-23      18\n",
       "2019-04-24      98\n",
       "2019-04-25      39\n",
       "2019-04-26      31\n",
       "2019-04-27      50\n",
       "2019-04-28       7\n",
       "2019-04-29      73\n",
       "2019-04-30      48\n",
       "2019-05-01      47\n",
       "2019-05-02      43\n",
       "2019-05-03      23\n",
       "2019-05-04      33\n",
       "2019-05-05       7\n",
       "2019-05-06       3\n",
       "2019-05-07      22\n",
       "2019-05-08      48\n",
       "2019-05-09      31\n",
       "2019-05-10      43\n",
       "2019-05-11      32\n",
       "2019-05-12      21\n",
       "2019-05-13      13\n",
       "2019-05-14      26\n",
       "2019-05-15      23\n",
       "2019-05-16      24\n",
       "2019-05-17      23\n",
       "2019-05-18      18\n",
       "2019-05-19      16\n",
       "2019-05-20      10\n",
       "2019-05-21      19\n",
       "2019-05-22      18\n",
       "2019-05-23      29\n",
       "2019-05-24      19\n",
       "2019-05-25      13\n",
       "2019-05-26       8\n",
       "2019-05-27       5\n",
       "2019-05-28      16\n",
       "2019-05-29       9\n",
       "2019-05-30       7\n",
       "2019-05-31       7\n",
       "2019-06-01      16\n",
       "2019-06-02       8\n",
       "2019-06-03       1\n",
       "2019-06-04      30\n",
       "2019-06-05      25\n",
       "2019-06-06      44\n",
       "2019-06-07      37\n",
       "2019-06-08      36\n",
       "2019-06-09      11\n",
       "2019-06-10       8\n",
       "2019-06-11      20\n",
       "2019-06-12      19\n",
       "2019-06-13      26\n",
       "2019-06-14      46\n",
       "2019-06-15      16\n",
       "2019-06-16      15\n",
       "2019-06-17      11\n",
       "2019-06-18      56\n",
       "2019-06-19      39\n",
       "2019-06-20      23\n",
       "2019-06-21      25\n",
       "2019-06-22      21\n",
       "2019-06-23      17\n",
       "2019-06-24       3\n",
       "2019-06-25      19\n",
       "2019-06-26      99\n",
       "2019-06-27      29\n",
       "2019-06-28      19\n",
       "2019-06-29      62\n",
       "2019-06-30       7\n",
       "2019-07-02      54\n",
       "2019-07-03      23\n",
       "2019-07-04      17\n",
       "2019-07-05      62\n",
       "2019-07-06      16\n",
       "2019-07-07      12\n",
       "2019-07-08      14\n",
       "2019-07-09      11\n",
       "2019-07-10      31\n",
       "2019-07-11     155\n",
       "2019-07-12      36\n",
       "2019-07-13      72\n",
       "2019-07-14      74\n",
       "2019-07-15     167\n",
       "2019-07-16      83\n",
       "2019-07-17      31\n",
       "2019-07-18      30\n",
       "2019-07-19       9\n",
       "2019-07-20     417\n",
       "2019-07-21      62\n",
       "2019-07-22      10\n",
       "2019-07-23      63\n",
       "2019-07-24      59\n",
       "2019-07-25      70\n",
       "2019-07-26      59\n",
       "2019-07-27      29\n",
       "2019-07-28      13\n",
       "2019-07-29      33\n",
       "2019-07-30      62\n",
       "2019-07-31      63\n",
       "2019-08-01      71\n",
       "2019-08-02      60\n",
       "2019-08-03      46\n",
       "2019-08-04      99\n",
       "2019-08-05      55\n",
       "2019-08-06     114\n",
       "2019-08-07      86\n",
       "2019-08-08     134\n",
       "2019-08-09     117\n",
       "2019-08-10      57\n",
       "2019-08-11      68\n",
       "2019-08-12      62\n",
       "2019-08-13     174\n",
       "2019-08-14     195\n",
       "2019-08-15     145\n",
       "2019-08-16     121\n",
       "2019-08-17     152\n",
       "2019-08-18     103\n",
       "2019-08-19      68\n",
       "2019-08-20     179\n",
       "2019-08-21     171\n",
       "2019-08-22     121\n",
       "2019-08-23     104\n",
       "2019-08-24      31\n",
       "2019-08-25      20\n",
       "2019-08-26      19\n",
       "2019-08-27      61\n",
       "2019-08-28      20\n",
       "2019-08-29      33\n",
       "2019-08-30      42\n",
       "2019-08-31      55\n",
       "2019-09-01      19\n",
       "2019-09-02       7\n",
       "2019-09-03      14\n",
       "2019-09-04      44\n",
       "2019-09-05      26\n",
       "2019-09-06     262\n",
       "2019-09-07      47\n",
       "2019-09-08      34\n",
       "2019-09-09     129\n",
       "2019-09-10      23\n",
       "2019-09-11      39\n",
       "2019-09-12      24\n",
       "2019-09-13      98\n",
       "2019-09-14      22\n",
       "2019-09-15     190\n",
       "2019-09-16      34\n",
       "2019-09-17      12\n",
       "2019-09-18      35\n",
       "2019-09-19      38\n",
       "2019-09-20      28\n",
       "2019-09-21      39\n",
       "2019-09-22      14\n",
       "2019-09-23       8\n",
       "2019-09-24      38\n",
       "2019-09-25     179\n",
       "2019-09-26      27\n",
       "2019-09-27     108\n",
       "2019-09-28      40\n",
       "2019-09-29      68\n",
       "2019-09-30      16\n",
       "2019-10-01      34\n",
       "2022-11-20    1200\n",
       "2023-06-15    7927\n",
       "Name: count, dtype: int64"
      ]
     },
     "execution_count": 36,
     "metadata": {},
     "output_type": "execute_result"
    }
   ],
   "source": [
    "date_counts = df['posting_date'].value_counts().sort_index()\n",
    "pd.set_option('display.max_rows', None)\n",
    "date_counts"
   ]
  },
  {
   "cell_type": "code",
   "execution_count": 37,
   "id": "b0b9eb5a",
   "metadata": {},
   "outputs": [],
   "source": [
    "pd.set_option('display.max_rows', 60)"
   ]
  },
  {
   "cell_type": "code",
   "execution_count": 22,
   "id": "c5d938eb",
   "metadata": {},
   "outputs": [
    {
     "data": {
      "text/plain": [
       "[<matplotlib.lines.Line2D at 0x14c8c22a690>]"
      ]
     },
     "execution_count": 22,
     "metadata": {},
     "output_type": "execute_result"
    },
    {
     "data": {
      "image/png": "[encoded data removed]",
      "text/plain": [
       "<Figure size 640x480 with 1 Axes>"
      ]
     },
     "metadata": {},
     "output_type": "display_data"
    }
   ],
   "source": [
    "plt.plot(date_counts.index, date_counts.values)"
   ]
  },
  {
   "cell_type": "code",
   "execution_count": 17,
   "id": "8de387ff",
   "metadata": {
    "scrolled": true
   },
   "outputs": [
    {
     "data": {
      "text/plain": [
       "<matplotlib.collections.PathCollection at 0x14c8b8b2250>"
      ]
     },
     "execution_count": 17,
     "metadata": {},
     "output_type": "execute_result"
    },
    {
     "data": {
      "image/png": "[encoded data removed]",
      "text/plain": [
       "<Figure size 640x480 with 1 Axes>"
      ]
     },
     "metadata": {},
     "output_type": "display_data"
    }
   ],
   "source": [
    "plt.scatter(date_counts.index, date_counts.values)"
   ]
  },
  {
   "cell_type": "markdown",
   "id": "861888f1",
   "metadata": {},
   "source": [
    "## Try reducing to year buckets"
   ]
  },
  {
   "cell_type": "code",
   "execution_count": 76,
   "id": "4369bd66",
   "metadata": {},
   "outputs": [],
   "source": [
    "df['posting_year'] = df['posting_date'].dt.year"
   ]
  },
  {
   "cell_type": "code",
   "execution_count": 27,
   "id": "e501a4f2",
   "metadata": {},
   "outputs": [],
   "source": [
    "year_counts = df['posting_year'].value_counts().sort_index()"
   ]
  },
  {
   "cell_type": "code",
   "execution_count": 29,
   "id": "0f6a2023",
   "metadata": {},
   "outputs": [
    {
     "data": {
      "text/plain": [
       "[<matplotlib.lines.Line2D at 0x14c8c50ffd0>]"
      ]
     },
     "execution_count": 29,
     "metadata": {},
     "output_type": "execute_result"
    },
    {
     "data": {
      "image/png": "[encoded data removed]",
      "text/plain": [
       "<Figure size 640x480 with 1 Axes>"
      ]
     },
     "metadata": {},
     "output_type": "display_data"
    }
   ],
   "source": [
    "plt.plot(year_counts.index, year_counts.values)"
   ]
  },
  {
   "cell_type": "code",
   "execution_count": 28,
   "id": "f16a4ca1",
   "metadata": {
    "scrolled": true
   },
   "outputs": [
    {
     "data": {
      "text/plain": [
       "<matplotlib.collections.PathCollection at 0x14c8c4ff850>"
      ]
     },
     "execution_count": 28,
     "metadata": {},
     "output_type": "execute_result"
    },
    {
     "data": {
      "image/png": "[encoded data removed]",
      "text/plain": [
       "<Figure size 640x480 with 1 Axes>"
      ]
     },
     "metadata": {},
     "output_type": "display_data"
    }
   ],
   "source": [
    "plt.scatter(year_counts.index, year_counts.values)"
   ]
  },
  {
   "cell_type": "markdown",
   "id": "38dcff4a",
   "metadata": {},
   "source": [
    "## Formalize into viz"
   ]
  },
  {
   "cell_type": "code",
   "execution_count": 48,
   "id": "c4c9e0eb",
   "metadata": {},
   "outputs": [
    {
     "data": {
      "text/plain": [
       "{2017, 2019, 2022, 2023}"
      ]
     },
     "execution_count": 48,
     "metadata": {},
     "output_type": "execute_result"
    }
   ],
   "source": [
    "set(year_counts.index)"
   ]
  },
  {
   "cell_type": "code",
   "execution_count": 82,
   "id": "c6296dcd",
   "metadata": {},
   "outputs": [
    {
     "data": {
      "image/png": "[encoded data removed]",
      "text/plain": [
       "<Figure size 800x600 with 2 Axes>"
      ]
     },
     "metadata": {},
     "output_type": "display_data"
    }
   ],
   "source": [
    "# Color mapping\n",
    "years_colors = {\n",
    "    2017: 'red',\n",
    "    2019: 'purple',\n",
    "    2022: 'green',\n",
    "    2023: 'orange'\n",
    "}\n",
    "\n",
    "# Generate figure\n",
    "fig, axs = plt.subplots(1,2, figsize=(8,6))\n",
    "fig.suptitle('Availability of Job Data Over Time')\n",
    "date_plot = axs[0]\n",
    "year_plot = axs[1]\n",
    "\n",
    "# Plot listings by date\n",
    "date_plot.set_xlabel('Posting (Date)')\n",
    "date_plot.set_ylabel('Number of Data Points')\n",
    "for timestamp, count in date_counts.items():\n",
    "    year = timestamp.year\n",
    "    color = years_colors[year]\n",
    "    date_plot.scatter(year, count, edgecolors=color, marker='o', facecolor='none')\n",
    "\n",
    "# Plot listings by year\n",
    "for year, count in year_counts.items():\n",
    "    color = years_colors[year]\n",
    "    year_plot.scatter(year, count, edgecolors=color, marker='o', facecolor='none')\n",
    "year_plot.set_xlabel('Posting (Year)')\n",
    "year_plot.set_ylabel('Number of Data Points')\n",
    "\n",
    "fig.tight_layout()"
   ]
  },
  {
   "cell_type": "markdown",
   "id": "6b902a19",
   "metadata": {},
   "source": [
    "#### Data is missing for years: 2018, 2020, 2021\n",
    "#### Available for years: 2017, 2019, 2022, 2023"
   ]
  },
  {
   "cell_type": "markdown",
   "id": "d2d3b9ff",
   "metadata": {},
   "source": [
    "## Examine change in job titles over time"
   ]
  },
  {
   "cell_type": "markdown",
   "id": "75bbc5ff",
   "metadata": {},
   "source": [
    "#### Distribution of Job Titles"
   ]
  },
  {
   "cell_type": "code",
   "execution_count": 24,
   "id": "456de452",
   "metadata": {},
   "outputs": [
    {
     "data": {
      "text/plain": [
       "cleansed_job_title\n",
       "data scientist                    10461\n",
       "na                                 6529\n",
       "data analytics                      897\n",
       "data engineer                       845\n",
       "analyst                             458\n",
       "machine learning engineer           245\n",
       "director                            241\n",
       "data scientist project manager       88\n",
       "other scientist                      85\n",
       "data modeler                         19\n",
       "Name: count, dtype: int64"
      ]
     },
     "execution_count": 24,
     "metadata": {},
     "output_type": "execute_result"
    }
   ],
   "source": [
    "df_job_title = df.dropna(subset=['cleansed_job_title'])\n",
    "job_title_counts = df_job_title['cleansed_job_title'].value_counts()\n",
    "job_title_counts"
   ]
  },
  {
   "cell_type": "code",
   "execution_count": 25,
   "id": "c921606d",
   "metadata": {
    "scrolled": true
   },
   "outputs": [
    {
     "data": {
      "text/plain": [
       "{'data scientist': 10461,\n",
       " 'data analytics': 897,\n",
       " 'data engineer': 845,\n",
       " 'analyst': 458,\n",
       " 'machine learning engineer': 245,\n",
       " 'director': 241,\n",
       " 'data scientist project manager': 88,\n",
       " 'other scientist': 85,\n",
       " 'data modeler': 19}"
      ]
     },
     "execution_count": 25,
     "metadata": {},
     "output_type": "execute_result"
    }
   ],
   "source": [
    "job_title_counts = dict(job_title_counts)\n",
    "del job_title_counts['na']\n",
    "job_title_counts"
   ]
  },
  {
   "cell_type": "code",
   "execution_count": 26,
   "id": "1fd3e047",
   "metadata": {},
   "outputs": [
    {
     "data": {
      "text/html": [
       "<div>\n",
       "<style scoped>\n",
       "    .dataframe tbody tr th:only-of-type {\n",
       "        vertical-align: middle;\n",
       "    }\n",
       "\n",
       "    .dataframe tbody tr th {\n",
       "        vertical-align: top;\n",
       "    }\n",
       "\n",
       "    .dataframe thead th {\n",
       "        text-align: right;\n",
       "    }\n",
       "</style>\n",
       "<table border=\"1\" class=\"dataframe\">\n",
       "  <thead>\n",
       "    <tr style=\"text-align: right;\">\n",
       "      <th></th>\n",
       "      <th>Job Title</th>\n",
       "      <th>Listing Count</th>\n",
       "    </tr>\n",
       "  </thead>\n",
       "  <tbody>\n",
       "    <tr>\n",
       "      <th>0</th>\n",
       "      <td>data scientist</td>\n",
       "      <td>10461</td>\n",
       "    </tr>\n",
       "    <tr>\n",
       "      <th>1</th>\n",
       "      <td>data analytics</td>\n",
       "      <td>897</td>\n",
       "    </tr>\n",
       "    <tr>\n",
       "      <th>2</th>\n",
       "      <td>data engineer</td>\n",
       "      <td>845</td>\n",
       "    </tr>\n",
       "    <tr>\n",
       "      <th>3</th>\n",
       "      <td>analyst</td>\n",
       "      <td>458</td>\n",
       "    </tr>\n",
       "    <tr>\n",
       "      <th>4</th>\n",
       "      <td>machine learning engineer</td>\n",
       "      <td>245</td>\n",
       "    </tr>\n",
       "    <tr>\n",
       "      <th>5</th>\n",
       "      <td>director</td>\n",
       "      <td>241</td>\n",
       "    </tr>\n",
       "    <tr>\n",
       "      <th>6</th>\n",
       "      <td>data scientist project manager</td>\n",
       "      <td>88</td>\n",
       "    </tr>\n",
       "    <tr>\n",
       "      <th>7</th>\n",
       "      <td>other scientist</td>\n",
       "      <td>85</td>\n",
       "    </tr>\n",
       "    <tr>\n",
       "      <th>8</th>\n",
       "      <td>data modeler</td>\n",
       "      <td>19</td>\n",
       "    </tr>\n",
       "  </tbody>\n",
       "</table>\n",
       "</div>"
      ],
      "text/plain": [
       "                        Job Title  Listing Count\n",
       "0                  data scientist          10461\n",
       "1                  data analytics            897\n",
       "2                   data engineer            845\n",
       "3                         analyst            458\n",
       "4       machine learning engineer            245\n",
       "5                        director            241\n",
       "6  data scientist project manager             88\n",
       "7                 other scientist             85\n",
       "8                    data modeler             19"
      ]
     },
     "execution_count": 26,
     "metadata": {},
     "output_type": "execute_result"
    }
   ],
   "source": [
    "job_title_counts = pd.DataFrame({\n",
    "    'Job Title': job_title_counts.keys(),\n",
    "    'Listing Count': job_title_counts.values()\n",
    "    })\n",
    "job_title_counts"
   ]
  },
  {
   "cell_type": "code",
   "execution_count": 31,
   "id": "80a2d52b",
   "metadata": {},
   "outputs": [
    {
     "data": {
      "text/html": [
       "\n",
       "<style>\n",
       "  #altair-viz-9ce31dfab787468698a7de4c9097d793.vega-embed {\n",
       "    width: 100%;\n",
       "    display: flex;\n",
       "  }\n",
       "\n",
       "  #altair-viz-9ce31dfab787468698a7de4c9097d793.vega-embed details,\n",
       "  #altair-viz-9ce31dfab787468698a7de4c9097d793.vega-embed details summary {\n",
       "    position: relative;\n",
       "  }\n",
       "</style>\n",
       "<div id=\"altair-viz-9ce31dfab787468698a7de4c9097d793\"></div>\n",
       "<script type=\"text/javascript\">\n",
       "  var VEGA_DEBUG = (typeof VEGA_DEBUG == \"undefined\") ? {} : VEGA_DEBUG;\n",
       "  (function(spec, embedOpt){\n",
       "    let outputDiv = document.currentScript.previousElementSibling;\n",
       "    if (outputDiv.id !== \"altair-viz-9ce31dfab787468698a7de4c9097d793\") {\n",
       "      outputDiv = document.getElementById(\"altair-viz-9ce31dfab787468698a7de4c9097d793\");\n",
       "    }\n",
       "    const paths = {\n",
       "      \"vega\": \"https://cdn.jsdelivr.net/npm/vega@5?noext\",\n",
       "      \"vega-lib\": \"https://cdn.jsdelivr.net/npm/vega-lib?noext\",\n",
       "      \"vega-lite\": \"https://cdn.jsdelivr.net/npm/vega-lite@5.15.1?noext\",\n",
       "      \"vega-embed\": \"https://cdn.jsdelivr.net/npm/vega-embed@6?noext\",\n",
       "    };\n",
       "\n",
       "    function maybeLoadScript(lib, version) {\n",
       "      var key = `${lib.replace(\"-\", \"\")}_version`;\n",
       "      return (VEGA_DEBUG[key] == version) ?\n",
       "        Promise.resolve(paths[lib]) :\n",
       "        new Promise(function(resolve, reject) {\n",
       "          var s = document.createElement('script');\n",
       "          document.getElementsByTagName(\"head\")[0].appendChild(s);\n",
       "          s.async = true;\n",
       "          s.onload = () => {\n",
       "            VEGA_DEBUG[key] = version;\n",
       "            return resolve(paths[lib]);\n",
       "          };\n",
       "          s.onerror = () => reject(`Error loading script: ${paths[lib]}`);\n",
       "          s.src = paths[lib];\n",
       "        });\n",
       "    }\n",
       "\n",
       "    function showError(err) {\n",
       "      outputDiv.innerHTML = `<div class=\"error\" style=\"color:red;\">${err}</div>`;\n",
       "      throw err;\n",
       "    }\n",
       "\n",
       "    function displayChart(vegaEmbed) {\n",
       "      vegaEmbed(outputDiv, spec, embedOpt)\n",
       "        .catch(err => showError(`Javascript Error: ${err.message}<br>This usually means there's a typo in your chart specification. See the javascript console for the full traceback.`));\n",
       "    }\n",
       "\n",
       "    if(typeof define === \"function\" && define.amd) {\n",
       "      requirejs.config({paths});\n",
       "      require([\"vega-embed\"], displayChart, err => showError(`Error loading script: ${err.message}`));\n",
       "    } else {\n",
       "      maybeLoadScript(\"vega\", \"5\")\n",
       "        .then(() => maybeLoadScript(\"vega-lite\", \"5.15.1\"))\n",
       "        .then(() => maybeLoadScript(\"vega-embed\", \"6\"))\n",
       "        .catch(showError)\n",
       "        .then(() => displayChart(vegaEmbed));\n",
       "    }\n",
       "  })({\"config\": {\"view\": {\"continuousWidth\": 300, \"continuousHeight\": 300}}, \"data\": {\"name\": \"data-95529c3f8e138320a0423ce73eeeadd2\"}, \"mark\": {\"type\": \"bar\"}, \"encoding\": {\"color\": {\"field\": \"Job Title\", \"type\": \"nominal\"}, \"x\": {\"field\": \"Job Title\", \"title\": \"Job Title\", \"type\": \"nominal\"}, \"y\": {\"field\": \"Listing Count\", \"title\": \"Listing Count\", \"type\": \"quantitative\"}}, \"height\": 500, \"title\": \"Distribution of Data-related Job Titles\", \"width\": 700, \"$schema\": \"https://vega.github.io/schema/vega-lite/v5.15.1.json\", \"datasets\": {\"data-95529c3f8e138320a0423ce73eeeadd2\": [{\"Job Title\": \"data scientist\", \"Listing Count\": 10461}, {\"Job Title\": \"data analytics\", \"Listing Count\": 897}, {\"Job Title\": \"data engineer\", \"Listing Count\": 845}, {\"Job Title\": \"analyst\", \"Listing Count\": 458}, {\"Job Title\": \"machine learning engineer\", \"Listing Count\": 245}, {\"Job Title\": \"director\", \"Listing Count\": 241}, {\"Job Title\": \"data scientist project manager\", \"Listing Count\": 88}, {\"Job Title\": \"other scientist\", \"Listing Count\": 85}, {\"Job Title\": \"data modeler\", \"Listing Count\": 19}]}}, {\"mode\": \"vega-lite\"});\n",
       "</script>"
      ],
      "text/plain": [
       "alt.Chart(...)"
      ]
     },
     "execution_count": 31,
     "metadata": {},
     "output_type": "execute_result"
    }
   ],
   "source": [
    "alt.Chart(job_title_counts, width=700, height=500).mark_bar().encode(\n",
    "    x=alt.X('Job Title:N', title='Job Title'),\n",
    "    y=alt.Y('Listing Count:Q', title='Listing Count'),\n",
    "    color='Job Title:N'\n",
    ").properties(\n",
    "    title='Distribution of Data-related Job Titles'\n",
    ")"
   ]
  },
  {
   "cell_type": "markdown",
   "id": "50bbea14",
   "metadata": {},
   "source": [
    "#### Parse data into each of the year buckets"
   ]
  },
  {
   "cell_type": "code",
   "execution_count": 104,
   "id": "9d7b730a",
   "metadata": {},
   "outputs": [
    {
     "data": {
      "text/plain": [
       "(607, 21)"
      ]
     },
     "execution_count": 104,
     "metadata": {},
     "output_type": "execute_result"
    }
   ],
   "source": [
    "df_2017 = df[df['posting_year'] == 2017].dropna(subset=['cleansed_job_title'])\n",
    "df_2017 = df_2017[df_2017['cleansed_job_title'] != 'na']\n",
    "df_2017.shape"
   ]
  },
  {
   "cell_type": "code",
   "execution_count": 105,
   "id": "6ce1c2a0",
   "metadata": {
    "scrolled": true
   },
   "outputs": [
    {
     "data": {
      "text/plain": [
       "(9999, 21)"
      ]
     },
     "execution_count": 105,
     "metadata": {},
     "output_type": "execute_result"
    }
   ],
   "source": [
    "df_2019 = df[df['posting_year'] == 2019].dropna(subset=['cleansed_job_title'])\n",
    "df_2019 = df_2019[df_2019['cleansed_job_title'] != 'na']\n",
    "df_2019.shape"
   ]
  },
  {
   "cell_type": "code",
   "execution_count": 106,
   "id": "9f5e9391",
   "metadata": {},
   "outputs": [
    {
     "data": {
      "text/plain": [
       "(1036, 21)"
      ]
     },
     "execution_count": 106,
     "metadata": {},
     "output_type": "execute_result"
    }
   ],
   "source": [
    "df_2022 = df[df['posting_year'] == 2022].dropna(subset=['cleansed_job_title'])\n",
    "df_2022 = df_2022[df_2022['cleansed_job_title'] != 'na']\n",
    "df_2022.shape"
   ]
  },
  {
   "cell_type": "code",
   "execution_count": 141,
   "id": "965e8659",
   "metadata": {},
   "outputs": [
    {
     "data": {
      "text/plain": [
       "(1697, 21)"
      ]
     },
     "execution_count": 141,
     "metadata": {},
     "output_type": "execute_result"
    }
   ],
   "source": [
    "df_2023 = df[df['posting_year'] == 2023].dropna(subset=['cleansed_job_title'])\n",
    "df_2023 = df_2023[df_2023['cleansed_job_title'] != 'na']\n",
    "df_2023.shape"
   ]
  },
  {
   "cell_type": "markdown",
   "id": "0da90ef9",
   "metadata": {},
   "source": [
    "#### Get counts by job title for each bucket"
   ]
  },
  {
   "cell_type": "code",
   "execution_count": 108,
   "id": "85d8fe3a",
   "metadata": {},
   "outputs": [
    {
     "data": {
      "text/plain": [
       "cleansed_job_title\n",
       "analyst                            29\n",
       "data analytics                     95\n",
       "data engineer                     112\n",
       "data modeler                        5\n",
       "data scientist                    302\n",
       "data scientist project manager      1\n",
       "director                           19\n",
       "machine learning engineer          22\n",
       "other scientist                    22\n",
       "Name: count, dtype: int64"
      ]
     },
     "execution_count": 108,
     "metadata": {},
     "output_type": "execute_result"
    }
   ],
   "source": [
    "df_2017_job_counts = df_2017['cleansed_job_title'].value_counts().sort_index()\n",
    "df_2017_job_counts"
   ]
  },
  {
   "cell_type": "code",
   "execution_count": 109,
   "id": "18a8b4a3",
   "metadata": {},
   "outputs": [
    {
     "data": {
      "text/plain": [
       "cleansed_job_title\n",
       "analyst              1\n",
       "data analytics      66\n",
       "data engineer        8\n",
       "data scientist    9845\n",
       "director            79\n",
       "Name: count, dtype: int64"
      ]
     },
     "execution_count": 109,
     "metadata": {},
     "output_type": "execute_result"
    }
   ],
   "source": [
    "df_2019_job_counts = df_2019['cleansed_job_title'].value_counts().sort_index()\n",
    "df_2019_job_counts"
   ]
  },
  {
   "cell_type": "code",
   "execution_count": 110,
   "id": "1842800d",
   "metadata": {},
   "outputs": [
    {
     "data": {
      "text/plain": [
       "cleansed_job_title\n",
       "analyst                           157\n",
       "data analytics                    187\n",
       "data engineer                     187\n",
       "data scientist                    164\n",
       "data scientist project manager     85\n",
       "director                          116\n",
       "machine learning engineer         139\n",
       "other scientist                     1\n",
       "Name: count, dtype: int64"
      ]
     },
     "execution_count": 110,
     "metadata": {},
     "output_type": "execute_result"
    }
   ],
   "source": [
    "df_2022_job_counts = df_2022['cleansed_job_title'].value_counts().sort_index()\n",
    "df_2022_job_counts"
   ]
  },
  {
   "cell_type": "code",
   "execution_count": 111,
   "id": "42330a13",
   "metadata": {},
   "outputs": [
    {
     "data": {
      "text/plain": [
       "cleansed_job_title\n",
       "analyst                           271\n",
       "data analytics                    549\n",
       "data engineer                     538\n",
       "data modeler                       14\n",
       "data scientist                    150\n",
       "data scientist project manager      2\n",
       "director                           27\n",
       "machine learning engineer          84\n",
       "other scientist                    62\n",
       "Name: count, dtype: int64"
      ]
     },
     "execution_count": 111,
     "metadata": {},
     "output_type": "execute_result"
    }
   ],
   "source": [
    "df_2023_job_counts = df_2023['cleansed_job_title'].value_counts().sort_index()\n",
    "df_2023_job_counts"
   ]
  },
  {
   "cell_type": "markdown",
   "id": "e5a09ba4",
   "metadata": {},
   "source": [
    "#### Plot viz as stacked bar chart"
   ]
  },
  {
   "cell_type": "code",
   "execution_count": 114,
   "id": "edddef53",
   "metadata": {},
   "outputs": [],
   "source": [
    "import altair as alt"
   ]
  },
  {
   "cell_type": "code",
   "execution_count": 117,
   "id": "cfb9582c",
   "metadata": {},
   "outputs": [
    {
     "data": {
      "text/plain": [
       "{'analyst',\n",
       " 'data analytics',\n",
       " 'data engineer',\n",
       " 'data modeler',\n",
       " 'data scientist',\n",
       " 'data scientist project manager',\n",
       " 'director',\n",
       " 'machine learning engineer',\n",
       " 'other scientist'}"
      ]
     },
     "execution_count": 117,
     "metadata": {},
     "output_type": "execute_result"
    }
   ],
   "source": [
    "job_categories = set(df_2017_job_counts.index) | set(df_2019_job_counts.index) | set(df_2022_job_counts.index) | set(df_2023_job_counts.index)\n",
    "job_categories"
   ]
  },
  {
   "cell_type": "code",
   "execution_count": 118,
   "id": "f325d167",
   "metadata": {
    "scrolled": true
   },
   "outputs": [
    {
     "data": {
      "text/plain": [
       "302"
      ]
     },
     "execution_count": 118,
     "metadata": {},
     "output_type": "execute_result"
    }
   ],
   "source": [
    "df_2017_job_counts['data scientist']"
   ]
  },
  {
   "cell_type": "code",
   "execution_count": 121,
   "id": "bde0e3b3",
   "metadata": {},
   "outputs": [
    {
     "name": "stdout",
     "output_type": "stream",
     "text": [
      "analyst\n",
      "271\n"
     ]
    }
   ],
   "source": [
    "for i, x in df_2023_job_counts.items():\n",
    "    print(i)\n",
    "    print(x)\n",
    "    break"
   ]
  },
  {
   "cell_type": "code",
   "execution_count": 159,
   "id": "99ac3596",
   "metadata": {},
   "outputs": [
    {
     "data": {
      "text/html": [
       "<div>\n",
       "<style scoped>\n",
       "    .dataframe tbody tr th:only-of-type {\n",
       "        vertical-align: middle;\n",
       "    }\n",
       "\n",
       "    .dataframe tbody tr th {\n",
       "        vertical-align: top;\n",
       "    }\n",
       "\n",
       "    .dataframe thead th {\n",
       "        text-align: right;\n",
       "    }\n",
       "</style>\n",
       "<table border=\"1\" class=\"dataframe\">\n",
       "  <thead>\n",
       "    <tr style=\"text-align: right;\">\n",
       "      <th></th>\n",
       "      <th>Posting Year</th>\n",
       "      <th>data scientist project manager</th>\n",
       "      <th>analyst</th>\n",
       "      <th>other scientist</th>\n",
       "      <th>data modeler</th>\n",
       "      <th>director</th>\n",
       "      <th>data scientist</th>\n",
       "      <th>data engineer</th>\n",
       "      <th>machine learning engineer</th>\n",
       "      <th>data analytics</th>\n",
       "    </tr>\n",
       "  </thead>\n",
       "  <tbody>\n",
       "    <tr>\n",
       "      <th>0</th>\n",
       "      <td>2017</td>\n",
       "      <td>1</td>\n",
       "      <td>29</td>\n",
       "      <td>22</td>\n",
       "      <td>5</td>\n",
       "      <td>19</td>\n",
       "      <td>302</td>\n",
       "      <td>112</td>\n",
       "      <td>22</td>\n",
       "      <td>95</td>\n",
       "    </tr>\n",
       "    <tr>\n",
       "      <th>1</th>\n",
       "      <td>2019</td>\n",
       "      <td>0</td>\n",
       "      <td>1</td>\n",
       "      <td>0</td>\n",
       "      <td>0</td>\n",
       "      <td>79</td>\n",
       "      <td>9845</td>\n",
       "      <td>8</td>\n",
       "      <td>0</td>\n",
       "      <td>66</td>\n",
       "    </tr>\n",
       "    <tr>\n",
       "      <th>2</th>\n",
       "      <td>2022</td>\n",
       "      <td>85</td>\n",
       "      <td>157</td>\n",
       "      <td>1</td>\n",
       "      <td>0</td>\n",
       "      <td>116</td>\n",
       "      <td>164</td>\n",
       "      <td>187</td>\n",
       "      <td>139</td>\n",
       "      <td>187</td>\n",
       "    </tr>\n",
       "    <tr>\n",
       "      <th>3</th>\n",
       "      <td>2023</td>\n",
       "      <td>2</td>\n",
       "      <td>271</td>\n",
       "      <td>62</td>\n",
       "      <td>14</td>\n",
       "      <td>27</td>\n",
       "      <td>150</td>\n",
       "      <td>538</td>\n",
       "      <td>84</td>\n",
       "      <td>549</td>\n",
       "    </tr>\n",
       "  </tbody>\n",
       "</table>\n",
       "</div>"
      ],
      "text/plain": [
       "   Posting Year  data scientist project manager  analyst  other scientist  \\\n",
       "0          2017                               1       29               22   \n",
       "1          2019                               0        1                0   \n",
       "2          2022                              85      157                1   \n",
       "3          2023                               2      271               62   \n",
       "\n",
       "   data modeler  director  data scientist  data engineer  \\\n",
       "0             5        19             302            112   \n",
       "1             0        79            9845              8   \n",
       "2             0       116             164            187   \n",
       "3            14        27             150            538   \n",
       "\n",
       "   machine learning engineer  data analytics  \n",
       "0                         22              95  \n",
       "1                          0              66  \n",
       "2                        139             187  \n",
       "3                         84             549  "
      ]
     },
     "execution_count": 159,
     "metadata": {},
     "output_type": "execute_result"
    }
   ],
   "source": [
    "# Generate the stacked data\n",
    "data_stacked = {\n",
    "    'Posting Year': [2017, 2019, 2022, 2023]\n",
    "}\n",
    "for job_title in job_categories:\n",
    "    data_stacked[job_title] = []\n",
    "    \n",
    "    for job_counts in [df_2017_job_counts, df_2019_job_counts, df_2022_job_counts, df_2023_job_counts]:\n",
    "        counts = 0\n",
    "        if job_title in job_counts:\n",
    "            counts = job_counts[job_title]\n",
    "            \n",
    "        data_stacked[job_title].append(counts)\n",
    "        \n",
    "df_title_stacked = pd.DataFrame(data_stacked)\n",
    "df_title_stacked"
   ]
  },
  {
   "cell_type": "markdown",
   "id": "b9a2698c",
   "metadata": {},
   "source": [
    "##### Create viz"
   ]
  },
  {
   "cell_type": "code",
   "execution_count": 160,
   "id": "f76d98ae",
   "metadata": {},
   "outputs": [
    {
     "data": {
      "text/html": [
       "<div>\n",
       "<style scoped>\n",
       "    .dataframe tbody tr th:only-of-type {\n",
       "        vertical-align: middle;\n",
       "    }\n",
       "\n",
       "    .dataframe tbody tr th {\n",
       "        vertical-align: top;\n",
       "    }\n",
       "\n",
       "    .dataframe thead th {\n",
       "        text-align: right;\n",
       "    }\n",
       "</style>\n",
       "<table border=\"1\" class=\"dataframe\">\n",
       "  <thead>\n",
       "    <tr style=\"text-align: right;\">\n",
       "      <th></th>\n",
       "      <th>Posting Year</th>\n",
       "      <th>Job Title</th>\n",
       "      <th>Listing Count</th>\n",
       "    </tr>\n",
       "  </thead>\n",
       "  <tbody>\n",
       "    <tr>\n",
       "      <th>0</th>\n",
       "      <td>2017</td>\n",
       "      <td>data scientist project manager</td>\n",
       "      <td>1</td>\n",
       "    </tr>\n",
       "    <tr>\n",
       "      <th>1</th>\n",
       "      <td>2019</td>\n",
       "      <td>data scientist project manager</td>\n",
       "      <td>0</td>\n",
       "    </tr>\n",
       "    <tr>\n",
       "      <th>2</th>\n",
       "      <td>2022</td>\n",
       "      <td>data scientist project manager</td>\n",
       "      <td>85</td>\n",
       "    </tr>\n",
       "    <tr>\n",
       "      <th>3</th>\n",
       "      <td>2023</td>\n",
       "      <td>data scientist project manager</td>\n",
       "      <td>2</td>\n",
       "    </tr>\n",
       "    <tr>\n",
       "      <th>4</th>\n",
       "      <td>2017</td>\n",
       "      <td>analyst</td>\n",
       "      <td>29</td>\n",
       "    </tr>\n",
       "    <tr>\n",
       "      <th>5</th>\n",
       "      <td>2019</td>\n",
       "      <td>analyst</td>\n",
       "      <td>1</td>\n",
       "    </tr>\n",
       "    <tr>\n",
       "      <th>6</th>\n",
       "      <td>2022</td>\n",
       "      <td>analyst</td>\n",
       "      <td>157</td>\n",
       "    </tr>\n",
       "    <tr>\n",
       "      <th>7</th>\n",
       "      <td>2023</td>\n",
       "      <td>analyst</td>\n",
       "      <td>271</td>\n",
       "    </tr>\n",
       "    <tr>\n",
       "      <th>8</th>\n",
       "      <td>2017</td>\n",
       "      <td>other scientist</td>\n",
       "      <td>22</td>\n",
       "    </tr>\n",
       "    <tr>\n",
       "      <th>9</th>\n",
       "      <td>2019</td>\n",
       "      <td>other scientist</td>\n",
       "      <td>0</td>\n",
       "    </tr>\n",
       "    <tr>\n",
       "      <th>10</th>\n",
       "      <td>2022</td>\n",
       "      <td>other scientist</td>\n",
       "      <td>1</td>\n",
       "    </tr>\n",
       "    <tr>\n",
       "      <th>11</th>\n",
       "      <td>2023</td>\n",
       "      <td>other scientist</td>\n",
       "      <td>62</td>\n",
       "    </tr>\n",
       "    <tr>\n",
       "      <th>12</th>\n",
       "      <td>2017</td>\n",
       "      <td>data modeler</td>\n",
       "      <td>5</td>\n",
       "    </tr>\n",
       "    <tr>\n",
       "      <th>13</th>\n",
       "      <td>2019</td>\n",
       "      <td>data modeler</td>\n",
       "      <td>0</td>\n",
       "    </tr>\n",
       "    <tr>\n",
       "      <th>14</th>\n",
       "      <td>2022</td>\n",
       "      <td>data modeler</td>\n",
       "      <td>0</td>\n",
       "    </tr>\n",
       "    <tr>\n",
       "      <th>15</th>\n",
       "      <td>2023</td>\n",
       "      <td>data modeler</td>\n",
       "      <td>14</td>\n",
       "    </tr>\n",
       "    <tr>\n",
       "      <th>16</th>\n",
       "      <td>2017</td>\n",
       "      <td>director</td>\n",
       "      <td>19</td>\n",
       "    </tr>\n",
       "    <tr>\n",
       "      <th>17</th>\n",
       "      <td>2019</td>\n",
       "      <td>director</td>\n",
       "      <td>79</td>\n",
       "    </tr>\n",
       "    <tr>\n",
       "      <th>18</th>\n",
       "      <td>2022</td>\n",
       "      <td>director</td>\n",
       "      <td>116</td>\n",
       "    </tr>\n",
       "    <tr>\n",
       "      <th>19</th>\n",
       "      <td>2023</td>\n",
       "      <td>director</td>\n",
       "      <td>27</td>\n",
       "    </tr>\n",
       "    <tr>\n",
       "      <th>20</th>\n",
       "      <td>2017</td>\n",
       "      <td>data scientist</td>\n",
       "      <td>302</td>\n",
       "    </tr>\n",
       "    <tr>\n",
       "      <th>21</th>\n",
       "      <td>2019</td>\n",
       "      <td>data scientist</td>\n",
       "      <td>9845</td>\n",
       "    </tr>\n",
       "    <tr>\n",
       "      <th>22</th>\n",
       "      <td>2022</td>\n",
       "      <td>data scientist</td>\n",
       "      <td>164</td>\n",
       "    </tr>\n",
       "    <tr>\n",
       "      <th>23</th>\n",
       "      <td>2023</td>\n",
       "      <td>data scientist</td>\n",
       "      <td>150</td>\n",
       "    </tr>\n",
       "    <tr>\n",
       "      <th>24</th>\n",
       "      <td>2017</td>\n",
       "      <td>data engineer</td>\n",
       "      <td>112</td>\n",
       "    </tr>\n",
       "    <tr>\n",
       "      <th>25</th>\n",
       "      <td>2019</td>\n",
       "      <td>data engineer</td>\n",
       "      <td>8</td>\n",
       "    </tr>\n",
       "    <tr>\n",
       "      <th>26</th>\n",
       "      <td>2022</td>\n",
       "      <td>data engineer</td>\n",
       "      <td>187</td>\n",
       "    </tr>\n",
       "    <tr>\n",
       "      <th>27</th>\n",
       "      <td>2023</td>\n",
       "      <td>data engineer</td>\n",
       "      <td>538</td>\n",
       "    </tr>\n",
       "    <tr>\n",
       "      <th>28</th>\n",
       "      <td>2017</td>\n",
       "      <td>machine learning engineer</td>\n",
       "      <td>22</td>\n",
       "    </tr>\n",
       "    <tr>\n",
       "      <th>29</th>\n",
       "      <td>2019</td>\n",
       "      <td>machine learning engineer</td>\n",
       "      <td>0</td>\n",
       "    </tr>\n",
       "    <tr>\n",
       "      <th>30</th>\n",
       "      <td>2022</td>\n",
       "      <td>machine learning engineer</td>\n",
       "      <td>139</td>\n",
       "    </tr>\n",
       "    <tr>\n",
       "      <th>31</th>\n",
       "      <td>2023</td>\n",
       "      <td>machine learning engineer</td>\n",
       "      <td>84</td>\n",
       "    </tr>\n",
       "    <tr>\n",
       "      <th>32</th>\n",
       "      <td>2017</td>\n",
       "      <td>data analytics</td>\n",
       "      <td>95</td>\n",
       "    </tr>\n",
       "    <tr>\n",
       "      <th>33</th>\n",
       "      <td>2019</td>\n",
       "      <td>data analytics</td>\n",
       "      <td>66</td>\n",
       "    </tr>\n",
       "    <tr>\n",
       "      <th>34</th>\n",
       "      <td>2022</td>\n",
       "      <td>data analytics</td>\n",
       "      <td>187</td>\n",
       "    </tr>\n",
       "    <tr>\n",
       "      <th>35</th>\n",
       "      <td>2023</td>\n",
       "      <td>data analytics</td>\n",
       "      <td>549</td>\n",
       "    </tr>\n",
       "  </tbody>\n",
       "</table>\n",
       "</div>"
      ],
      "text/plain": [
       "    Posting Year                       Job Title  Listing Count\n",
       "0           2017  data scientist project manager              1\n",
       "1           2019  data scientist project manager              0\n",
       "2           2022  data scientist project manager             85\n",
       "3           2023  data scientist project manager              2\n",
       "4           2017                         analyst             29\n",
       "5           2019                         analyst              1\n",
       "6           2022                         analyst            157\n",
       "7           2023                         analyst            271\n",
       "8           2017                 other scientist             22\n",
       "9           2019                 other scientist              0\n",
       "10          2022                 other scientist              1\n",
       "11          2023                 other scientist             62\n",
       "12          2017                    data modeler              5\n",
       "13          2019                    data modeler              0\n",
       "14          2022                    data modeler              0\n",
       "15          2023                    data modeler             14\n",
       "16          2017                        director             19\n",
       "17          2019                        director             79\n",
       "18          2022                        director            116\n",
       "19          2023                        director             27\n",
       "20          2017                  data scientist            302\n",
       "21          2019                  data scientist           9845\n",
       "22          2022                  data scientist            164\n",
       "23          2023                  data scientist            150\n",
       "24          2017                   data engineer            112\n",
       "25          2019                   data engineer              8\n",
       "26          2022                   data engineer            187\n",
       "27          2023                   data engineer            538\n",
       "28          2017       machine learning engineer             22\n",
       "29          2019       machine learning engineer              0\n",
       "30          2022       machine learning engineer            139\n",
       "31          2023       machine learning engineer             84\n",
       "32          2017                  data analytics             95\n",
       "33          2019                  data analytics             66\n",
       "34          2022                  data analytics            187\n",
       "35          2023                  data analytics            549"
      ]
     },
     "execution_count": 160,
     "metadata": {},
     "output_type": "execute_result"
    }
   ],
   "source": [
    "df_title_stacked_melted = df_title_stacked.melt('Posting Year', var_name='Job Title', value_name = 'Listing Count')\n",
    "df_title_stacked_melted"
   ]
  },
  {
   "cell_type": "code",
   "execution_count": 162,
   "id": "7dcefe45",
   "metadata": {},
   "outputs": [
    {
     "data": {
      "text/html": [
       "\n",
       "<style>\n",
       "  #altair-viz-d742ccaf3186469dae6a6144f7da797b.vega-embed {\n",
       "    width: 100%;\n",
       "    display: flex;\n",
       "  }\n",
       "\n",
       "  #altair-viz-d742ccaf3186469dae6a6144f7da797b.vega-embed details,\n",
       "  #altair-viz-d742ccaf3186469dae6a6144f7da797b.vega-embed details summary {\n",
       "    position: relative;\n",
       "  }\n",
       "</style>\n",
       "<div id=\"altair-viz-d742ccaf3186469dae6a6144f7da797b\"></div>\n",
       "<script type=\"text/javascript\">\n",
       "  var VEGA_DEBUG = (typeof VEGA_DEBUG == \"undefined\") ? {} : VEGA_DEBUG;\n",
       "  (function(spec, embedOpt){\n",
       "    let outputDiv = document.currentScript.previousElementSibling;\n",
       "    if (outputDiv.id !== \"altair-viz-d742ccaf3186469dae6a6144f7da797b\") {\n",
       "      outputDiv = document.getElementById(\"altair-viz-d742ccaf3186469dae6a6144f7da797b\");\n",
       "    }\n",
       "    const paths = {\n",
       "      \"vega\": \"https://cdn.jsdelivr.net/npm/vega@5?noext\",\n",
       "      \"vega-lib\": \"https://cdn.jsdelivr.net/npm/vega-lib?noext\",\n",
       "      \"vega-lite\": \"https://cdn.jsdelivr.net/npm/vega-lite@5.15.1?noext\",\n",
       "      \"vega-embed\": \"https://cdn.jsdelivr.net/npm/vega-embed@6?noext\",\n",
       "    };\n",
       "\n",
       "    function maybeLoadScript(lib, version) {\n",
       "      var key = `${lib.replace(\"-\", \"\")}_version`;\n",
       "      return (VEGA_DEBUG[key] == version) ?\n",
       "        Promise.resolve(paths[lib]) :\n",
       "        new Promise(function(resolve, reject) {\n",
       "          var s = document.createElement('script');\n",
       "          document.getElementsByTagName(\"head\")[0].appendChild(s);\n",
       "          s.async = true;\n",
       "          s.onload = () => {\n",
       "            VEGA_DEBUG[key] = version;\n",
       "            return resolve(paths[lib]);\n",
       "          };\n",
       "          s.onerror = () => reject(`Error loading script: ${paths[lib]}`);\n",
       "          s.src = paths[lib];\n",
       "        });\n",
       "    }\n",
       "\n",
       "    function showError(err) {\n",
       "      outputDiv.innerHTML = `<div class=\"error\" style=\"color:red;\">${err}</div>`;\n",
       "      throw err;\n",
       "    }\n",
       "\n",
       "    function displayChart(vegaEmbed) {\n",
       "      vegaEmbed(outputDiv, spec, embedOpt)\n",
       "        .catch(err => showError(`Javascript Error: ${err.message}<br>This usually means there's a typo in your chart specification. See the javascript console for the full traceback.`));\n",
       "    }\n",
       "\n",
       "    if(typeof define === \"function\" && define.amd) {\n",
       "      requirejs.config({paths});\n",
       "      require([\"vega-embed\"], displayChart, err => showError(`Error loading script: ${err.message}`));\n",
       "    } else {\n",
       "      maybeLoadScript(\"vega\", \"5\")\n",
       "        .then(() => maybeLoadScript(\"vega-lite\", \"5.15.1\"))\n",
       "        .then(() => maybeLoadScript(\"vega-embed\", \"6\"))\n",
       "        .catch(showError)\n",
       "        .then(() => displayChart(vegaEmbed));\n",
       "    }\n",
       "  })({\"config\": {\"view\": {\"continuousWidth\": 300, \"continuousHeight\": 300}}, \"data\": {\"name\": \"data-abd55512fab7a3a5702a4266e5984ffd\"}, \"mark\": {\"type\": \"bar\"}, \"encoding\": {\"color\": {\"field\": \"Job Title\", \"title\": \"Job Title\", \"type\": \"nominal\"}, \"x\": {\"field\": \"Posting Year\", \"title\": \"Posting Year\", \"type\": \"nominal\"}, \"y\": {\"aggregate\": \"sum\", \"field\": \"Listing Count\", \"title\": \"Listing Count\", \"type\": \"quantitative\"}}, \"height\": 400, \"title\": \"Listing Count by Job Titles Over Time\", \"width\": 600, \"$schema\": \"https://vega.github.io/schema/vega-lite/v5.15.1.json\", \"datasets\": {\"data-abd55512fab7a3a5702a4266e5984ffd\": [{\"Posting Year\": 2017, \"Job Title\": \"data scientist project manager\", \"Listing Count\": 1}, {\"Posting Year\": 2019, \"Job Title\": \"data scientist project manager\", \"Listing Count\": 0}, {\"Posting Year\": 2022, \"Job Title\": \"data scientist project manager\", \"Listing Count\": 85}, {\"Posting Year\": 2023, \"Job Title\": \"data scientist project manager\", \"Listing Count\": 2}, {\"Posting Year\": 2017, \"Job Title\": \"analyst\", \"Listing Count\": 29}, {\"Posting Year\": 2019, \"Job Title\": \"analyst\", \"Listing Count\": 1}, {\"Posting Year\": 2022, \"Job Title\": \"analyst\", \"Listing Count\": 157}, {\"Posting Year\": 2023, \"Job Title\": \"analyst\", \"Listing Count\": 271}, {\"Posting Year\": 2017, \"Job Title\": \"other scientist\", \"Listing Count\": 22}, {\"Posting Year\": 2019, \"Job Title\": \"other scientist\", \"Listing Count\": 0}, {\"Posting Year\": 2022, \"Job Title\": \"other scientist\", \"Listing Count\": 1}, {\"Posting Year\": 2023, \"Job Title\": \"other scientist\", \"Listing Count\": 62}, {\"Posting Year\": 2017, \"Job Title\": \"data modeler\", \"Listing Count\": 5}, {\"Posting Year\": 2019, \"Job Title\": \"data modeler\", \"Listing Count\": 0}, {\"Posting Year\": 2022, \"Job Title\": \"data modeler\", \"Listing Count\": 0}, {\"Posting Year\": 2023, \"Job Title\": \"data modeler\", \"Listing Count\": 14}, {\"Posting Year\": 2017, \"Job Title\": \"director\", \"Listing Count\": 19}, {\"Posting Year\": 2019, \"Job Title\": \"director\", \"Listing Count\": 79}, {\"Posting Year\": 2022, \"Job Title\": \"director\", \"Listing Count\": 116}, {\"Posting Year\": 2023, \"Job Title\": \"director\", \"Listing Count\": 27}, {\"Posting Year\": 2017, \"Job Title\": \"data scientist\", \"Listing Count\": 302}, {\"Posting Year\": 2019, \"Job Title\": \"data scientist\", \"Listing Count\": 9845}, {\"Posting Year\": 2022, \"Job Title\": \"data scientist\", \"Listing Count\": 164}, {\"Posting Year\": 2023, \"Job Title\": \"data scientist\", \"Listing Count\": 150}, {\"Posting Year\": 2017, \"Job Title\": \"data engineer\", \"Listing Count\": 112}, {\"Posting Year\": 2019, \"Job Title\": \"data engineer\", \"Listing Count\": 8}, {\"Posting Year\": 2022, \"Job Title\": \"data engineer\", \"Listing Count\": 187}, {\"Posting Year\": 2023, \"Job Title\": \"data engineer\", \"Listing Count\": 538}, {\"Posting Year\": 2017, \"Job Title\": \"machine learning engineer\", \"Listing Count\": 22}, {\"Posting Year\": 2019, \"Job Title\": \"machine learning engineer\", \"Listing Count\": 0}, {\"Posting Year\": 2022, \"Job Title\": \"machine learning engineer\", \"Listing Count\": 139}, {\"Posting Year\": 2023, \"Job Title\": \"machine learning engineer\", \"Listing Count\": 84}, {\"Posting Year\": 2017, \"Job Title\": \"data analytics\", \"Listing Count\": 95}, {\"Posting Year\": 2019, \"Job Title\": \"data analytics\", \"Listing Count\": 66}, {\"Posting Year\": 2022, \"Job Title\": \"data analytics\", \"Listing Count\": 187}, {\"Posting Year\": 2023, \"Job Title\": \"data analytics\", \"Listing Count\": 549}]}}, {\"mode\": \"vega-lite\"});\n",
       "</script>"
      ],
      "text/plain": [
       "alt.Chart(...)"
      ]
     },
     "execution_count": 162,
     "metadata": {},
     "output_type": "execute_result"
    }
   ],
   "source": [
    "stacked_bar_job_title = alt.Chart(df_title_stacked_melted).mark_bar().encode(\n",
    "    x=alt.X('Posting Year:N', title='Posting Year'),\n",
    "    y=alt.Y('sum(Listing Count):Q', title='Listing Count'),\n",
    "    color=alt.Color('Job Title:N', title='Job Title')\n",
    ").properties(\n",
    "    title='Listing Count by Job Titles Over Time',\n",
    "    width=600,\n",
    "    height=400\n",
    ")\n",
    "stacked_bar_job_title"
   ]
  },
  {
   "cell_type": "markdown",
   "id": "23a95d19",
   "metadata": {},
   "source": [
    "#### Recreate viz, using proportions instead of raw counts"
   ]
  },
  {
   "cell_type": "code",
   "execution_count": 165,
   "id": "32af3127",
   "metadata": {},
   "outputs": [
    {
     "data": {
      "text/html": [
       "<div>\n",
       "<style scoped>\n",
       "    .dataframe tbody tr th:only-of-type {\n",
       "        vertical-align: middle;\n",
       "    }\n",
       "\n",
       "    .dataframe tbody tr th {\n",
       "        vertical-align: top;\n",
       "    }\n",
       "\n",
       "    .dataframe thead th {\n",
       "        text-align: right;\n",
       "    }\n",
       "</style>\n",
       "<table border=\"1\" class=\"dataframe\">\n",
       "  <thead>\n",
       "    <tr style=\"text-align: right;\">\n",
       "      <th></th>\n",
       "      <th>Posting Year</th>\n",
       "      <th>Job Title</th>\n",
       "      <th>Percentage</th>\n",
       "    </tr>\n",
       "  </thead>\n",
       "  <tbody>\n",
       "    <tr>\n",
       "      <th>0</th>\n",
       "      <td>2017</td>\n",
       "      <td>data scientist project manager</td>\n",
       "      <td>0.164745</td>\n",
       "    </tr>\n",
       "    <tr>\n",
       "      <th>1</th>\n",
       "      <td>2019</td>\n",
       "      <td>data scientist project manager</td>\n",
       "      <td>0.000000</td>\n",
       "    </tr>\n",
       "    <tr>\n",
       "      <th>2</th>\n",
       "      <td>2022</td>\n",
       "      <td>data scientist project manager</td>\n",
       "      <td>8.204633</td>\n",
       "    </tr>\n",
       "    <tr>\n",
       "      <th>3</th>\n",
       "      <td>2023</td>\n",
       "      <td>data scientist project manager</td>\n",
       "      <td>0.117855</td>\n",
       "    </tr>\n",
       "    <tr>\n",
       "      <th>4</th>\n",
       "      <td>2017</td>\n",
       "      <td>analyst</td>\n",
       "      <td>4.777595</td>\n",
       "    </tr>\n",
       "    <tr>\n",
       "      <th>5</th>\n",
       "      <td>2019</td>\n",
       "      <td>analyst</td>\n",
       "      <td>0.010001</td>\n",
       "    </tr>\n",
       "    <tr>\n",
       "      <th>6</th>\n",
       "      <td>2022</td>\n",
       "      <td>analyst</td>\n",
       "      <td>15.154440</td>\n",
       "    </tr>\n",
       "    <tr>\n",
       "      <th>7</th>\n",
       "      <td>2023</td>\n",
       "      <td>analyst</td>\n",
       "      <td>15.969358</td>\n",
       "    </tr>\n",
       "    <tr>\n",
       "      <th>8</th>\n",
       "      <td>2017</td>\n",
       "      <td>other scientist</td>\n",
       "      <td>3.624382</td>\n",
       "    </tr>\n",
       "    <tr>\n",
       "      <th>9</th>\n",
       "      <td>2019</td>\n",
       "      <td>other scientist</td>\n",
       "      <td>0.000000</td>\n",
       "    </tr>\n",
       "    <tr>\n",
       "      <th>10</th>\n",
       "      <td>2022</td>\n",
       "      <td>other scientist</td>\n",
       "      <td>0.096525</td>\n",
       "    </tr>\n",
       "    <tr>\n",
       "      <th>11</th>\n",
       "      <td>2023</td>\n",
       "      <td>other scientist</td>\n",
       "      <td>3.653506</td>\n",
       "    </tr>\n",
       "    <tr>\n",
       "      <th>12</th>\n",
       "      <td>2017</td>\n",
       "      <td>data modeler</td>\n",
       "      <td>0.823723</td>\n",
       "    </tr>\n",
       "    <tr>\n",
       "      <th>13</th>\n",
       "      <td>2019</td>\n",
       "      <td>data modeler</td>\n",
       "      <td>0.000000</td>\n",
       "    </tr>\n",
       "    <tr>\n",
       "      <th>14</th>\n",
       "      <td>2022</td>\n",
       "      <td>data modeler</td>\n",
       "      <td>0.000000</td>\n",
       "    </tr>\n",
       "    <tr>\n",
       "      <th>15</th>\n",
       "      <td>2023</td>\n",
       "      <td>data modeler</td>\n",
       "      <td>0.824985</td>\n",
       "    </tr>\n",
       "    <tr>\n",
       "      <th>16</th>\n",
       "      <td>2017</td>\n",
       "      <td>director</td>\n",
       "      <td>3.130148</td>\n",
       "    </tr>\n",
       "    <tr>\n",
       "      <th>17</th>\n",
       "      <td>2019</td>\n",
       "      <td>director</td>\n",
       "      <td>0.790079</td>\n",
       "    </tr>\n",
       "    <tr>\n",
       "      <th>18</th>\n",
       "      <td>2022</td>\n",
       "      <td>director</td>\n",
       "      <td>11.196911</td>\n",
       "    </tr>\n",
       "    <tr>\n",
       "      <th>19</th>\n",
       "      <td>2023</td>\n",
       "      <td>director</td>\n",
       "      <td>1.591043</td>\n",
       "    </tr>\n",
       "    <tr>\n",
       "      <th>20</th>\n",
       "      <td>2017</td>\n",
       "      <td>data scientist</td>\n",
       "      <td>49.752883</td>\n",
       "    </tr>\n",
       "    <tr>\n",
       "      <th>21</th>\n",
       "      <td>2019</td>\n",
       "      <td>data scientist</td>\n",
       "      <td>98.459846</td>\n",
       "    </tr>\n",
       "    <tr>\n",
       "      <th>22</th>\n",
       "      <td>2022</td>\n",
       "      <td>data scientist</td>\n",
       "      <td>15.830116</td>\n",
       "    </tr>\n",
       "    <tr>\n",
       "      <th>23</th>\n",
       "      <td>2023</td>\n",
       "      <td>data scientist</td>\n",
       "      <td>8.839128</td>\n",
       "    </tr>\n",
       "    <tr>\n",
       "      <th>24</th>\n",
       "      <td>2017</td>\n",
       "      <td>data engineer</td>\n",
       "      <td>18.451400</td>\n",
       "    </tr>\n",
       "    <tr>\n",
       "      <th>25</th>\n",
       "      <td>2019</td>\n",
       "      <td>data engineer</td>\n",
       "      <td>0.080008</td>\n",
       "    </tr>\n",
       "    <tr>\n",
       "      <th>26</th>\n",
       "      <td>2022</td>\n",
       "      <td>data engineer</td>\n",
       "      <td>18.050193</td>\n",
       "    </tr>\n",
       "    <tr>\n",
       "      <th>27</th>\n",
       "      <td>2023</td>\n",
       "      <td>data engineer</td>\n",
       "      <td>31.703005</td>\n",
       "    </tr>\n",
       "    <tr>\n",
       "      <th>28</th>\n",
       "      <td>2017</td>\n",
       "      <td>machine learning engineer</td>\n",
       "      <td>3.624382</td>\n",
       "    </tr>\n",
       "    <tr>\n",
       "      <th>29</th>\n",
       "      <td>2019</td>\n",
       "      <td>machine learning engineer</td>\n",
       "      <td>0.000000</td>\n",
       "    </tr>\n",
       "    <tr>\n",
       "      <th>30</th>\n",
       "      <td>2022</td>\n",
       "      <td>machine learning engineer</td>\n",
       "      <td>13.416988</td>\n",
       "    </tr>\n",
       "    <tr>\n",
       "      <th>31</th>\n",
       "      <td>2023</td>\n",
       "      <td>machine learning engineer</td>\n",
       "      <td>4.949912</td>\n",
       "    </tr>\n",
       "    <tr>\n",
       "      <th>32</th>\n",
       "      <td>2017</td>\n",
       "      <td>data analytics</td>\n",
       "      <td>15.650741</td>\n",
       "    </tr>\n",
       "    <tr>\n",
       "      <th>33</th>\n",
       "      <td>2019</td>\n",
       "      <td>data analytics</td>\n",
       "      <td>0.660066</td>\n",
       "    </tr>\n",
       "    <tr>\n",
       "      <th>34</th>\n",
       "      <td>2022</td>\n",
       "      <td>data analytics</td>\n",
       "      <td>18.050193</td>\n",
       "    </tr>\n",
       "    <tr>\n",
       "      <th>35</th>\n",
       "      <td>2023</td>\n",
       "      <td>data analytics</td>\n",
       "      <td>32.351208</td>\n",
       "    </tr>\n",
       "  </tbody>\n",
       "</table>\n",
       "</div>"
      ],
      "text/plain": [
       "    Posting Year                       Job Title  Percentage\n",
       "0           2017  data scientist project manager    0.164745\n",
       "1           2019  data scientist project manager    0.000000\n",
       "2           2022  data scientist project manager    8.204633\n",
       "3           2023  data scientist project manager    0.117855\n",
       "4           2017                         analyst    4.777595\n",
       "5           2019                         analyst    0.010001\n",
       "6           2022                         analyst   15.154440\n",
       "7           2023                         analyst   15.969358\n",
       "8           2017                 other scientist    3.624382\n",
       "9           2019                 other scientist    0.000000\n",
       "10          2022                 other scientist    0.096525\n",
       "11          2023                 other scientist    3.653506\n",
       "12          2017                    data modeler    0.823723\n",
       "13          2019                    data modeler    0.000000\n",
       "14          2022                    data modeler    0.000000\n",
       "15          2023                    data modeler    0.824985\n",
       "16          2017                        director    3.130148\n",
       "17          2019                        director    0.790079\n",
       "18          2022                        director   11.196911\n",
       "19          2023                        director    1.591043\n",
       "20          2017                  data scientist   49.752883\n",
       "21          2019                  data scientist   98.459846\n",
       "22          2022                  data scientist   15.830116\n",
       "23          2023                  data scientist    8.839128\n",
       "24          2017                   data engineer   18.451400\n",
       "25          2019                   data engineer    0.080008\n",
       "26          2022                   data engineer   18.050193\n",
       "27          2023                   data engineer   31.703005\n",
       "28          2017       machine learning engineer    3.624382\n",
       "29          2019       machine learning engineer    0.000000\n",
       "30          2022       machine learning engineer   13.416988\n",
       "31          2023       machine learning engineer    4.949912\n",
       "32          2017                  data analytics   15.650741\n",
       "33          2019                  data analytics    0.660066\n",
       "34          2022                  data analytics   18.050193\n",
       "35          2023                  data analytics   32.351208"
      ]
     },
     "execution_count": 165,
     "metadata": {},
     "output_type": "execute_result"
    }
   ],
   "source": [
    "df_title_stacked_pct_melted = df_title_stacked.set_index('Posting Year')\n",
    "df_title_stacked_pct_melted = (df_title_stacked_pct_melted.div(df_title_stacked_pct_melted.sum(axis=1), axis=0) * 100).reset_index()\n",
    "df_title_stacked_pct_melted = df_title_stacked_pct_melted.melt('Posting Year', var_name='Job Title', value_name='Percentage')\n",
    "df_title_stacked_pct_melted"
   ]
  },
  {
   "cell_type": "code",
   "execution_count": 167,
   "id": "fe2e7499",
   "metadata": {},
   "outputs": [
    {
     "data": {
      "text/html": [
       "\n",
       "<style>\n",
       "  #altair-viz-2633187cb0094ee5a1a4b3a44bed5a82.vega-embed {\n",
       "    width: 100%;\n",
       "    display: flex;\n",
       "  }\n",
       "\n",
       "  #altair-viz-2633187cb0094ee5a1a4b3a44bed5a82.vega-embed details,\n",
       "  #altair-viz-2633187cb0094ee5a1a4b3a44bed5a82.vega-embed details summary {\n",
       "    position: relative;\n",
       "  }\n",
       "</style>\n",
       "<div id=\"altair-viz-2633187cb0094ee5a1a4b3a44bed5a82\"></div>\n",
       "<script type=\"text/javascript\">\n",
       "  var VEGA_DEBUG = (typeof VEGA_DEBUG == \"undefined\") ? {} : VEGA_DEBUG;\n",
       "  (function(spec, embedOpt){\n",
       "    let outputDiv = document.currentScript.previousElementSibling;\n",
       "    if (outputDiv.id !== \"altair-viz-2633187cb0094ee5a1a4b3a44bed5a82\") {\n",
       "      outputDiv = document.getElementById(\"altair-viz-2633187cb0094ee5a1a4b3a44bed5a82\");\n",
       "    }\n",
       "    const paths = {\n",
       "      \"vega\": \"https://cdn.jsdelivr.net/npm/vega@5?noext\",\n",
       "      \"vega-lib\": \"https://cdn.jsdelivr.net/npm/vega-lib?noext\",\n",
       "      \"vega-lite\": \"https://cdn.jsdelivr.net/npm/vega-lite@5.15.1?noext\",\n",
       "      \"vega-embed\": \"https://cdn.jsdelivr.net/npm/vega-embed@6?noext\",\n",
       "    };\n",
       "\n",
       "    function maybeLoadScript(lib, version) {\n",
       "      var key = `${lib.replace(\"-\", \"\")}_version`;\n",
       "      return (VEGA_DEBUG[key] == version) ?\n",
       "        Promise.resolve(paths[lib]) :\n",
       "        new Promise(function(resolve, reject) {\n",
       "          var s = document.createElement('script');\n",
       "          document.getElementsByTagName(\"head\")[0].appendChild(s);\n",
       "          s.async = true;\n",
       "          s.onload = () => {\n",
       "            VEGA_DEBUG[key] = version;\n",
       "            return resolve(paths[lib]);\n",
       "          };\n",
       "          s.onerror = () => reject(`Error loading script: ${paths[lib]}`);\n",
       "          s.src = paths[lib];\n",
       "        });\n",
       "    }\n",
       "\n",
       "    function showError(err) {\n",
       "      outputDiv.innerHTML = `<div class=\"error\" style=\"color:red;\">${err}</div>`;\n",
       "      throw err;\n",
       "    }\n",
       "\n",
       "    function displayChart(vegaEmbed) {\n",
       "      vegaEmbed(outputDiv, spec, embedOpt)\n",
       "        .catch(err => showError(`Javascript Error: ${err.message}<br>This usually means there's a typo in your chart specification. See the javascript console for the full traceback.`));\n",
       "    }\n",
       "\n",
       "    if(typeof define === \"function\" && define.amd) {\n",
       "      requirejs.config({paths});\n",
       "      require([\"vega-embed\"], displayChart, err => showError(`Error loading script: ${err.message}`));\n",
       "    } else {\n",
       "      maybeLoadScript(\"vega\", \"5\")\n",
       "        .then(() => maybeLoadScript(\"vega-lite\", \"5.15.1\"))\n",
       "        .then(() => maybeLoadScript(\"vega-embed\", \"6\"))\n",
       "        .catch(showError)\n",
       "        .then(() => displayChart(vegaEmbed));\n",
       "    }\n",
       "  })({\"config\": {\"view\": {\"continuousWidth\": 300, \"continuousHeight\": 300}}, \"data\": {\"name\": \"data-102120da25265849a0a46128baa5c460\"}, \"mark\": {\"type\": \"bar\"}, \"encoding\": {\"color\": {\"field\": \"Job Title\", \"title\": \"Job Title\", \"type\": \"nominal\"}, \"x\": {\"field\": \"Posting Year\", \"title\": \"Posting Year\", \"type\": \"nominal\"}, \"y\": {\"field\": \"Percentage\", \"title\": \"Percentage of Listings (%)\", \"type\": \"quantitative\"}}, \"height\": 400, \"title\": \"Listing Count by Job Titles Over Time\", \"width\": 600, \"$schema\": \"https://vega.github.io/schema/vega-lite/v5.15.1.json\", \"datasets\": {\"data-102120da25265849a0a46128baa5c460\": [{\"Posting Year\": 2017, \"Job Title\": \"data scientist project manager\", \"Percentage\": 0.16474464579901155}, {\"Posting Year\": 2019, \"Job Title\": \"data scientist project manager\", \"Percentage\": 0.0}, {\"Posting Year\": 2022, \"Job Title\": \"data scientist project manager\", \"Percentage\": 8.204633204633204}, {\"Posting Year\": 2023, \"Job Title\": \"data scientist project manager\", \"Percentage\": 0.11785503830288745}, {\"Posting Year\": 2017, \"Job Title\": \"analyst\", \"Percentage\": 4.7775947281713345}, {\"Posting Year\": 2019, \"Job Title\": \"analyst\", \"Percentage\": 0.010001000100010001}, {\"Posting Year\": 2022, \"Job Title\": \"analyst\", \"Percentage\": 15.154440154440154}, {\"Posting Year\": 2023, \"Job Title\": \"analyst\", \"Percentage\": 15.96935769004125}, {\"Posting Year\": 2017, \"Job Title\": \"other scientist\", \"Percentage\": 3.6243822075782535}, {\"Posting Year\": 2019, \"Job Title\": \"other scientist\", \"Percentage\": 0.0}, {\"Posting Year\": 2022, \"Job Title\": \"other scientist\", \"Percentage\": 0.09652509652509653}, {\"Posting Year\": 2023, \"Job Title\": \"other scientist\", \"Percentage\": 3.653506187389511}, {\"Posting Year\": 2017, \"Job Title\": \"data modeler\", \"Percentage\": 0.8237232289950577}, {\"Posting Year\": 2019, \"Job Title\": \"data modeler\", \"Percentage\": 0.0}, {\"Posting Year\": 2022, \"Job Title\": \"data modeler\", \"Percentage\": 0.0}, {\"Posting Year\": 2023, \"Job Title\": \"data modeler\", \"Percentage\": 0.8249852681202121}, {\"Posting Year\": 2017, \"Job Title\": \"director\", \"Percentage\": 3.130148270181219}, {\"Posting Year\": 2019, \"Job Title\": \"director\", \"Percentage\": 0.79007900790079}, {\"Posting Year\": 2022, \"Job Title\": \"director\", \"Percentage\": 11.196911196911197}, {\"Posting Year\": 2023, \"Job Title\": \"director\", \"Percentage\": 1.5910430170889804}, {\"Posting Year\": 2017, \"Job Title\": \"data scientist\", \"Percentage\": 49.75288303130148}, {\"Posting Year\": 2019, \"Job Title\": \"data scientist\", \"Percentage\": 98.45984598459846}, {\"Posting Year\": 2022, \"Job Title\": \"data scientist\", \"Percentage\": 15.83011583011583}, {\"Posting Year\": 2023, \"Job Title\": \"data scientist\", \"Percentage\": 8.839127872716558}, {\"Posting Year\": 2017, \"Job Title\": \"data engineer\", \"Percentage\": 18.451400329489292}, {\"Posting Year\": 2019, \"Job Title\": \"data engineer\", \"Percentage\": 0.08000800080008001}, {\"Posting Year\": 2022, \"Job Title\": \"data engineer\", \"Percentage\": 18.05019305019305}, {\"Posting Year\": 2023, \"Job Title\": \"data engineer\", \"Percentage\": 31.703005303476722}, {\"Posting Year\": 2017, \"Job Title\": \"machine learning engineer\", \"Percentage\": 3.6243822075782535}, {\"Posting Year\": 2019, \"Job Title\": \"machine learning engineer\", \"Percentage\": 0.0}, {\"Posting Year\": 2022, \"Job Title\": \"machine learning engineer\", \"Percentage\": 13.416988416988417}, {\"Posting Year\": 2023, \"Job Title\": \"machine learning engineer\", \"Percentage\": 4.949911608721273}, {\"Posting Year\": 2017, \"Job Title\": \"data analytics\", \"Percentage\": 15.650741350906095}, {\"Posting Year\": 2019, \"Job Title\": \"data analytics\", \"Percentage\": 0.6600660066006601}, {\"Posting Year\": 2022, \"Job Title\": \"data analytics\", \"Percentage\": 18.05019305019305}, {\"Posting Year\": 2023, \"Job Title\": \"data analytics\", \"Percentage\": 32.35120801414261}]}}, {\"mode\": \"vega-lite\"});\n",
       "</script>"
      ],
      "text/plain": [
       "alt.Chart(...)"
      ]
     },
     "execution_count": 167,
     "metadata": {},
     "output_type": "execute_result"
    }
   ],
   "source": [
    "stacked_bar_job_title_pct = alt.Chart(df_title_stacked_pct_melted).mark_bar().encode(\n",
    "    x=alt.X('Posting Year:N', title='Posting Year'),\n",
    "    y=alt.Y('Percentage:Q', title='Percentage of Listings (%)'),\n",
    "    color=alt.Color('Job Title:N', title='Job Title')\n",
    ").properties(\n",
    "    title='Listing Count by Job Titles Over Time',\n",
    "    width=600,\n",
    "    height=400\n",
    ")\n",
    "stacked_bar_job_title_pct"
   ]
  },
  {
   "cell_type": "code",
   "execution_count": 168,
   "id": "35f393df",
   "metadata": {},
   "outputs": [
    {
     "data": {
      "text/html": [
       "\n",
       "<style>\n",
       "  #altair-viz-866086142772427794051fbde8a6e85c.vega-embed {\n",
       "    width: 100%;\n",
       "    display: flex;\n",
       "  }\n",
       "\n",
       "  #altair-viz-866086142772427794051fbde8a6e85c.vega-embed details,\n",
       "  #altair-viz-866086142772427794051fbde8a6e85c.vega-embed details summary {\n",
       "    position: relative;\n",
       "  }\n",
       "</style>\n",
       "<div id=\"altair-viz-866086142772427794051fbde8a6e85c\"></div>\n",
       "<script type=\"text/javascript\">\n",
       "  var VEGA_DEBUG = (typeof VEGA_DEBUG == \"undefined\") ? {} : VEGA_DEBUG;\n",
       "  (function(spec, embedOpt){\n",
       "    let outputDiv = document.currentScript.previousElementSibling;\n",
       "    if (outputDiv.id !== \"altair-viz-866086142772427794051fbde8a6e85c\") {\n",
       "      outputDiv = document.getElementById(\"altair-viz-866086142772427794051fbde8a6e85c\");\n",
       "    }\n",
       "    const paths = {\n",
       "      \"vega\": \"https://cdn.jsdelivr.net/npm/vega@5?noext\",\n",
       "      \"vega-lib\": \"https://cdn.jsdelivr.net/npm/vega-lib?noext\",\n",
       "      \"vega-lite\": \"https://cdn.jsdelivr.net/npm/vega-lite@5.15.1?noext\",\n",
       "      \"vega-embed\": \"https://cdn.jsdelivr.net/npm/vega-embed@6?noext\",\n",
       "    };\n",
       "\n",
       "    function maybeLoadScript(lib, version) {\n",
       "      var key = `${lib.replace(\"-\", \"\")}_version`;\n",
       "      return (VEGA_DEBUG[key] == version) ?\n",
       "        Promise.resolve(paths[lib]) :\n",
       "        new Promise(function(resolve, reject) {\n",
       "          var s = document.createElement('script');\n",
       "          document.getElementsByTagName(\"head\")[0].appendChild(s);\n",
       "          s.async = true;\n",
       "          s.onload = () => {\n",
       "            VEGA_DEBUG[key] = version;\n",
       "            return resolve(paths[lib]);\n",
       "          };\n",
       "          s.onerror = () => reject(`Error loading script: ${paths[lib]}`);\n",
       "          s.src = paths[lib];\n",
       "        });\n",
       "    }\n",
       "\n",
       "    function showError(err) {\n",
       "      outputDiv.innerHTML = `<div class=\"error\" style=\"color:red;\">${err}</div>`;\n",
       "      throw err;\n",
       "    }\n",
       "\n",
       "    function displayChart(vegaEmbed) {\n",
       "      vegaEmbed(outputDiv, spec, embedOpt)\n",
       "        .catch(err => showError(`Javascript Error: ${err.message}<br>This usually means there's a typo in your chart specification. See the javascript console for the full traceback.`));\n",
       "    }\n",
       "\n",
       "    if(typeof define === \"function\" && define.amd) {\n",
       "      requirejs.config({paths});\n",
       "      require([\"vega-embed\"], displayChart, err => showError(`Error loading script: ${err.message}`));\n",
       "    } else {\n",
       "      maybeLoadScript(\"vega\", \"5\")\n",
       "        .then(() => maybeLoadScript(\"vega-lite\", \"5.15.1\"))\n",
       "        .then(() => maybeLoadScript(\"vega-embed\", \"6\"))\n",
       "        .catch(showError)\n",
       "        .then(() => displayChart(vegaEmbed));\n",
       "    }\n",
       "  })({\"config\": {\"view\": {\"continuousWidth\": 300, \"continuousHeight\": 300}}, \"vconcat\": [{\"data\": {\"name\": \"data-abd55512fab7a3a5702a4266e5984ffd\"}, \"mark\": {\"type\": \"bar\"}, \"encoding\": {\"color\": {\"field\": \"Job Title\", \"title\": \"Job Title\", \"type\": \"nominal\"}, \"x\": {\"field\": \"Posting Year\", \"title\": \"Posting Year\", \"type\": \"nominal\"}, \"y\": {\"aggregate\": \"sum\", \"field\": \"Listing Count\", \"title\": \"Listing Count\", \"type\": \"quantitative\"}}, \"height\": 400, \"title\": \"Listing Count by Job Titles Over Time\", \"width\": 600}, {\"data\": {\"name\": \"data-102120da25265849a0a46128baa5c460\"}, \"mark\": {\"type\": \"bar\"}, \"encoding\": {\"color\": {\"field\": \"Job Title\", \"title\": \"Job Title\", \"type\": \"nominal\"}, \"x\": {\"field\": \"Posting Year\", \"title\": \"Posting Year\", \"type\": \"nominal\"}, \"y\": {\"field\": \"Percentage\", \"title\": \"Percentage of Listings (%)\", \"type\": \"quantitative\"}}, \"height\": 400, \"title\": \"Listing Count by Job Titles Over Time\", \"width\": 600}], \"$schema\": \"https://vega.github.io/schema/vega-lite/v5.15.1.json\", \"datasets\": {\"data-abd55512fab7a3a5702a4266e5984ffd\": [{\"Posting Year\": 2017, \"Job Title\": \"data scientist project manager\", \"Listing Count\": 1}, {\"Posting Year\": 2019, \"Job Title\": \"data scientist project manager\", \"Listing Count\": 0}, {\"Posting Year\": 2022, \"Job Title\": \"data scientist project manager\", \"Listing Count\": 85}, {\"Posting Year\": 2023, \"Job Title\": \"data scientist project manager\", \"Listing Count\": 2}, {\"Posting Year\": 2017, \"Job Title\": \"analyst\", \"Listing Count\": 29}, {\"Posting Year\": 2019, \"Job Title\": \"analyst\", \"Listing Count\": 1}, {\"Posting Year\": 2022, \"Job Title\": \"analyst\", \"Listing Count\": 157}, {\"Posting Year\": 2023, \"Job Title\": \"analyst\", \"Listing Count\": 271}, {\"Posting Year\": 2017, \"Job Title\": \"other scientist\", \"Listing Count\": 22}, {\"Posting Year\": 2019, \"Job Title\": \"other scientist\", \"Listing Count\": 0}, {\"Posting Year\": 2022, \"Job Title\": \"other scientist\", \"Listing Count\": 1}, {\"Posting Year\": 2023, \"Job Title\": \"other scientist\", \"Listing Count\": 62}, {\"Posting Year\": 2017, \"Job Title\": \"data modeler\", \"Listing Count\": 5}, {\"Posting Year\": 2019, \"Job Title\": \"data modeler\", \"Listing Count\": 0}, {\"Posting Year\": 2022, \"Job Title\": \"data modeler\", \"Listing Count\": 0}, {\"Posting Year\": 2023, \"Job Title\": \"data modeler\", \"Listing Count\": 14}, {\"Posting Year\": 2017, \"Job Title\": \"director\", \"Listing Count\": 19}, {\"Posting Year\": 2019, \"Job Title\": \"director\", \"Listing Count\": 79}, {\"Posting Year\": 2022, \"Job Title\": \"director\", \"Listing Count\": 116}, {\"Posting Year\": 2023, \"Job Title\": \"director\", \"Listing Count\": 27}, {\"Posting Year\": 2017, \"Job Title\": \"data scientist\", \"Listing Count\": 302}, {\"Posting Year\": 2019, \"Job Title\": \"data scientist\", \"Listing Count\": 9845}, {\"Posting Year\": 2022, \"Job Title\": \"data scientist\", \"Listing Count\": 164}, {\"Posting Year\": 2023, \"Job Title\": \"data scientist\", \"Listing Count\": 150}, {\"Posting Year\": 2017, \"Job Title\": \"data engineer\", \"Listing Count\": 112}, {\"Posting Year\": 2019, \"Job Title\": \"data engineer\", \"Listing Count\": 8}, {\"Posting Year\": 2022, \"Job Title\": \"data engineer\", \"Listing Count\": 187}, {\"Posting Year\": 2023, \"Job Title\": \"data engineer\", \"Listing Count\": 538}, {\"Posting Year\": 2017, \"Job Title\": \"machine learning engineer\", \"Listing Count\": 22}, {\"Posting Year\": 2019, \"Job Title\": \"machine learning engineer\", \"Listing Count\": 0}, {\"Posting Year\": 2022, \"Job Title\": \"machine learning engineer\", \"Listing Count\": 139}, {\"Posting Year\": 2023, \"Job Title\": \"machine learning engineer\", \"Listing Count\": 84}, {\"Posting Year\": 2017, \"Job Title\": \"data analytics\", \"Listing Count\": 95}, {\"Posting Year\": 2019, \"Job Title\": \"data analytics\", \"Listing Count\": 66}, {\"Posting Year\": 2022, \"Job Title\": \"data analytics\", \"Listing Count\": 187}, {\"Posting Year\": 2023, \"Job Title\": \"data analytics\", \"Listing Count\": 549}], \"data-102120da25265849a0a46128baa5c460\": [{\"Posting Year\": 2017, \"Job Title\": \"data scientist project manager\", \"Percentage\": 0.16474464579901155}, {\"Posting Year\": 2019, \"Job Title\": \"data scientist project manager\", \"Percentage\": 0.0}, {\"Posting Year\": 2022, \"Job Title\": \"data scientist project manager\", \"Percentage\": 8.204633204633204}, {\"Posting Year\": 2023, \"Job Title\": \"data scientist project manager\", \"Percentage\": 0.11785503830288745}, {\"Posting Year\": 2017, \"Job Title\": \"analyst\", \"Percentage\": 4.7775947281713345}, {\"Posting Year\": 2019, \"Job Title\": \"analyst\", \"Percentage\": 0.010001000100010001}, {\"Posting Year\": 2022, \"Job Title\": \"analyst\", \"Percentage\": 15.154440154440154}, {\"Posting Year\": 2023, \"Job Title\": \"analyst\", \"Percentage\": 15.96935769004125}, {\"Posting Year\": 2017, \"Job Title\": \"other scientist\", \"Percentage\": 3.6243822075782535}, {\"Posting Year\": 2019, \"Job Title\": \"other scientist\", \"Percentage\": 0.0}, {\"Posting Year\": 2022, \"Job Title\": \"other scientist\", \"Percentage\": 0.09652509652509653}, {\"Posting Year\": 2023, \"Job Title\": \"other scientist\", \"Percentage\": 3.653506187389511}, {\"Posting Year\": 2017, \"Job Title\": \"data modeler\", \"Percentage\": 0.8237232289950577}, {\"Posting Year\": 2019, \"Job Title\": \"data modeler\", \"Percentage\": 0.0}, {\"Posting Year\": 2022, \"Job Title\": \"data modeler\", \"Percentage\": 0.0}, {\"Posting Year\": 2023, \"Job Title\": \"data modeler\", \"Percentage\": 0.8249852681202121}, {\"Posting Year\": 2017, \"Job Title\": \"director\", \"Percentage\": 3.130148270181219}, {\"Posting Year\": 2019, \"Job Title\": \"director\", \"Percentage\": 0.79007900790079}, {\"Posting Year\": 2022, \"Job Title\": \"director\", \"Percentage\": 11.196911196911197}, {\"Posting Year\": 2023, \"Job Title\": \"director\", \"Percentage\": 1.5910430170889804}, {\"Posting Year\": 2017, \"Job Title\": \"data scientist\", \"Percentage\": 49.75288303130148}, {\"Posting Year\": 2019, \"Job Title\": \"data scientist\", \"Percentage\": 98.45984598459846}, {\"Posting Year\": 2022, \"Job Title\": \"data scientist\", \"Percentage\": 15.83011583011583}, {\"Posting Year\": 2023, \"Job Title\": \"data scientist\", \"Percentage\": 8.839127872716558}, {\"Posting Year\": 2017, \"Job Title\": \"data engineer\", \"Percentage\": 18.451400329489292}, {\"Posting Year\": 2019, \"Job Title\": \"data engineer\", \"Percentage\": 0.08000800080008001}, {\"Posting Year\": 2022, \"Job Title\": \"data engineer\", \"Percentage\": 18.05019305019305}, {\"Posting Year\": 2023, \"Job Title\": \"data engineer\", \"Percentage\": 31.703005303476722}, {\"Posting Year\": 2017, \"Job Title\": \"machine learning engineer\", \"Percentage\": 3.6243822075782535}, {\"Posting Year\": 2019, \"Job Title\": \"machine learning engineer\", \"Percentage\": 0.0}, {\"Posting Year\": 2022, \"Job Title\": \"machine learning engineer\", \"Percentage\": 13.416988416988417}, {\"Posting Year\": 2023, \"Job Title\": \"machine learning engineer\", \"Percentage\": 4.949911608721273}, {\"Posting Year\": 2017, \"Job Title\": \"data analytics\", \"Percentage\": 15.650741350906095}, {\"Posting Year\": 2019, \"Job Title\": \"data analytics\", \"Percentage\": 0.6600660066006601}, {\"Posting Year\": 2022, \"Job Title\": \"data analytics\", \"Percentage\": 18.05019305019305}, {\"Posting Year\": 2023, \"Job Title\": \"data analytics\", \"Percentage\": 32.35120801414261}]}}, {\"mode\": \"vega-lite\"});\n",
       "</script>"
      ],
      "text/plain": [
       "alt.VConcatChart(...)"
      ]
     },
     "execution_count": 168,
     "metadata": {},
     "output_type": "execute_result"
    }
   ],
   "source": [
    "combined_stacked_job_title_fig = stacked_bar_job_title & stacked_bar_job_title_pct\n",
    "combined_stacked_job_title_fig"
   ]
  },
  {
   "cell_type": "markdown",
   "id": "82905b9e",
   "metadata": {},
   "source": [
    "## Explore work type over time"
   ]
  },
  {
   "cell_type": "markdown",
   "id": "ff7b987b",
   "metadata": {},
   "source": [
    "#### EDA on different work types and their counts"
   ]
  },
  {
   "cell_type": "code",
   "execution_count": 225,
   "id": "f302689d",
   "metadata": {},
   "outputs": [
    {
     "data": {
      "text/plain": [
       "(8422, 21)"
      ]
     },
     "execution_count": 225,
     "metadata": {},
     "output_type": "execute_result"
    }
   ],
   "source": [
    "df_work_type = df.dropna(subset=['original_work_type'])\n",
    "df_work_type.shape"
   ]
  },
  {
   "cell_type": "code",
   "execution_count": 226,
   "id": "74a9d74b",
   "metadata": {},
   "outputs": [
    {
     "data": {
      "text/plain": [
       "{'Hybrid', 'On-site', 'Remote'}"
      ]
     },
     "execution_count": 226,
     "metadata": {},
     "output_type": "execute_result"
    }
   ],
   "source": [
    "work_types = set(df_work_type['original_work_type'])\n",
    "work_types"
   ]
  },
  {
   "cell_type": "markdown",
   "id": "6f34b8bb",
   "metadata": {},
   "source": [
    "#### Partition data by work type"
   ]
  },
  {
   "cell_type": "code",
   "execution_count": 227,
   "id": "0c2ad4a1",
   "metadata": {
    "scrolled": true
   },
   "outputs": [
    {
     "data": {
      "text/plain": [
       "(3610, 21)"
      ]
     },
     "execution_count": 227,
     "metadata": {},
     "output_type": "execute_result"
    }
   ],
   "source": [
    "df_remote = df_work_type[df_work_type['original_work_type'] == 'Remote']\n",
    "df_remote_year_counts = df_remote['posting_year'].value_counts().sort_index()\n",
    "df_remote.shape"
   ]
  },
  {
   "cell_type": "code",
   "execution_count": 228,
   "id": "7e9e9b4f",
   "metadata": {},
   "outputs": [
    {
     "data": {
      "text/plain": [
       "(3258, 21)"
      ]
     },
     "execution_count": 228,
     "metadata": {},
     "output_type": "execute_result"
    }
   ],
   "source": [
    "df_on_site = df_work_type[df_work_type['original_work_type'] == 'On-site']\n",
    "df_on_site_year_counts = df_on_site['posting_year'].value_counts().sort_index()\n",
    "df_on_site.shape"
   ]
  },
  {
   "cell_type": "code",
   "execution_count": 229,
   "id": "076c2d8e",
   "metadata": {},
   "outputs": [
    {
     "data": {
      "text/plain": [
       "(1554, 21)"
      ]
     },
     "execution_count": 229,
     "metadata": {},
     "output_type": "execute_result"
    }
   ],
   "source": [
    "df_hybrid = df_work_type[df_work_type['original_work_type'] == 'Hybrid']\n",
    "df_hybrid_year_counts = df_hybrid['posting_year'].value_counts().sort_index()\n",
    "df_hybrid.shape"
   ]
  },
  {
   "cell_type": "markdown",
   "id": "63fb27b8",
   "metadata": {},
   "source": [
    "#### Data on work type is only defined for 2022 & 2023\n",
    "#### For on-site, all values are in 2023"
   ]
  },
  {
   "cell_type": "code",
   "execution_count": 232,
   "id": "beb45bab",
   "metadata": {},
   "outputs": [
    {
     "data": {
      "text/plain": [
       "Text(0.5, 1.0, 'Listing Counts Over Time by Work Type')"
      ]
     },
     "execution_count": 232,
     "metadata": {},
     "output_type": "execute_result"
    },
    {
     "data": {
      "image/png": "[encoded data removed]",
      "text/plain": [
       "<Figure size 800x600 with 1 Axes>"
      ]
     },
     "metadata": {},
     "output_type": "display_data"
    }
   ],
   "source": [
    "plt.figure(figsize=(8,6))\n",
    "\n",
    "plt.plot(df_remote_year_counts.index, df_remote_year_counts.values, color='green', label='Remote')\n",
    "plt.plot(df_on_site_year_counts.index, df_on_site_year_counts.values, color='orange', label='On-Site')\n",
    "plt.plot(df_hybrid_year_counts.index, df_hybrid_year_counts.values, color='blue', label='Hybrid')\n",
    "\n",
    "plt.legend()\n",
    "plt.xlabel('Posting Date')\n",
    "plt.ylabel('Listing Count')\n",
    "plt.title('Listing Counts Over Time by Work Type')"
   ]
  },
  {
   "cell_type": "markdown",
   "id": "55835799",
   "metadata": {},
   "source": [
    "#### Plot as stacked bar chart"
   ]
  },
  {
   "cell_type": "code",
   "execution_count": 245,
   "id": "6d9abf63",
   "metadata": {},
   "outputs": [
    {
     "data": {
      "text/plain": [
       "{'Posting Year': [2022, 2023],\n",
       " 'remote': [611, 2999],\n",
       " 'on-site': [0, 3258],\n",
       " 'hybrid': [75, 1479]}"
      ]
     },
     "execution_count": 245,
     "metadata": {},
     "output_type": "execute_result"
    }
   ],
   "source": [
    "# Generate the stacked data\n",
    "data_stacked_work_type = {\n",
    "    'Posting Year': [2022, 2023],\n",
    "    'remote': [],\n",
    "    'on-site': [],\n",
    "    'hybrid': []\n",
    "}\n",
    "\n",
    "# Partition data\n",
    "df_remote_2022 = df_remote[df_remote['posting_year'] == 2022]\n",
    "df_remote_2023 = df_remote[df_remote['posting_year'] == 2023]\n",
    "\n",
    "df_on_site_2022 = df_on_site[df_on_site['posting_year'] == 2022]\n",
    "df_on_site_2023 = df_on_site[df_on_site['posting_year'] == 2023]\n",
    "\n",
    "df_hybrid_2022 = df_hybrid[df_hybrid['posting_year'] == 2022]\n",
    "df_hybrid_2023 = df_hybrid[df_hybrid['posting_year'] == 2023]\n",
    "\n",
    "# Generate counts\n",
    "data_stacked_work_type['remote'].append(df_remote_2022.shape[0])\n",
    "data_stacked_work_type['remote'].append(df_remote_2023.shape[0])\n",
    "\n",
    "data_stacked_work_type['on-site'].append(df_on_site_2022.shape[0])\n",
    "data_stacked_work_type['on-site'].append(df_on_site_2023.shape[0])\n",
    "\n",
    "data_stacked_work_type['hybrid'].append(df_hybrid_2022.shape[0])\n",
    "data_stacked_work_type['hybrid'].append(df_hybrid_2023.shape[0])\n",
    "\n",
    "data_stacked_work_type"
   ]
  },
  {
   "cell_type": "code",
   "execution_count": 247,
   "id": "de158d5b",
   "metadata": {},
   "outputs": [
    {
     "data": {
      "text/html": [
       "<div>\n",
       "<style scoped>\n",
       "    .dataframe tbody tr th:only-of-type {\n",
       "        vertical-align: middle;\n",
       "    }\n",
       "\n",
       "    .dataframe tbody tr th {\n",
       "        vertical-align: top;\n",
       "    }\n",
       "\n",
       "    .dataframe thead th {\n",
       "        text-align: right;\n",
       "    }\n",
       "</style>\n",
       "<table border=\"1\" class=\"dataframe\">\n",
       "  <thead>\n",
       "    <tr style=\"text-align: right;\">\n",
       "      <th></th>\n",
       "      <th>Posting Year</th>\n",
       "      <th>remote</th>\n",
       "      <th>on-site</th>\n",
       "      <th>hybrid</th>\n",
       "    </tr>\n",
       "  </thead>\n",
       "  <tbody>\n",
       "    <tr>\n",
       "      <th>0</th>\n",
       "      <td>2022</td>\n",
       "      <td>611</td>\n",
       "      <td>0</td>\n",
       "      <td>75</td>\n",
       "    </tr>\n",
       "    <tr>\n",
       "      <th>1</th>\n",
       "      <td>2023</td>\n",
       "      <td>2999</td>\n",
       "      <td>3258</td>\n",
       "      <td>1479</td>\n",
       "    </tr>\n",
       "  </tbody>\n",
       "</table>\n",
       "</div>"
      ],
      "text/plain": [
       "   Posting Year  remote  on-site  hybrid\n",
       "0          2022     611        0      75\n",
       "1          2023    2999     3258    1479"
      ]
     },
     "execution_count": 247,
     "metadata": {},
     "output_type": "execute_result"
    }
   ],
   "source": [
    "df_stacked_work_type = pd.DataFrame(data_stacked_work_type)\n",
    "df_stacked_work_type"
   ]
  },
  {
   "cell_type": "code",
   "execution_count": 249,
   "id": "379661dc",
   "metadata": {},
   "outputs": [
    {
     "data": {
      "text/html": [
       "<div>\n",
       "<style scoped>\n",
       "    .dataframe tbody tr th:only-of-type {\n",
       "        vertical-align: middle;\n",
       "    }\n",
       "\n",
       "    .dataframe tbody tr th {\n",
       "        vertical-align: top;\n",
       "    }\n",
       "\n",
       "    .dataframe thead th {\n",
       "        text-align: right;\n",
       "    }\n",
       "</style>\n",
       "<table border=\"1\" class=\"dataframe\">\n",
       "  <thead>\n",
       "    <tr style=\"text-align: right;\">\n",
       "      <th></th>\n",
       "      <th>Posting Year</th>\n",
       "      <th>Work Type</th>\n",
       "      <th>Listing Count</th>\n",
       "    </tr>\n",
       "  </thead>\n",
       "  <tbody>\n",
       "    <tr>\n",
       "      <th>0</th>\n",
       "      <td>2022</td>\n",
       "      <td>remote</td>\n",
       "      <td>611</td>\n",
       "    </tr>\n",
       "    <tr>\n",
       "      <th>1</th>\n",
       "      <td>2023</td>\n",
       "      <td>remote</td>\n",
       "      <td>2999</td>\n",
       "    </tr>\n",
       "    <tr>\n",
       "      <th>2</th>\n",
       "      <td>2022</td>\n",
       "      <td>on-site</td>\n",
       "      <td>0</td>\n",
       "    </tr>\n",
       "    <tr>\n",
       "      <th>3</th>\n",
       "      <td>2023</td>\n",
       "      <td>on-site</td>\n",
       "      <td>3258</td>\n",
       "    </tr>\n",
       "    <tr>\n",
       "      <th>4</th>\n",
       "      <td>2022</td>\n",
       "      <td>hybrid</td>\n",
       "      <td>75</td>\n",
       "    </tr>\n",
       "    <tr>\n",
       "      <th>5</th>\n",
       "      <td>2023</td>\n",
       "      <td>hybrid</td>\n",
       "      <td>1479</td>\n",
       "    </tr>\n",
       "  </tbody>\n",
       "</table>\n",
       "</div>"
      ],
      "text/plain": [
       "   Posting Year Work Type  Listing Count\n",
       "0          2022    remote            611\n",
       "1          2023    remote           2999\n",
       "2          2022   on-site              0\n",
       "3          2023   on-site           3258\n",
       "4          2022    hybrid             75\n",
       "5          2023    hybrid           1479"
      ]
     },
     "execution_count": 249,
     "metadata": {},
     "output_type": "execute_result"
    }
   ],
   "source": [
    "df_stacked_work_type_melt = df_stacked_work_type.melt('Posting Year', var_name='Work Type', value_name='Listing Count')\n",
    "df_stacked_work_type_melt"
   ]
  },
  {
   "cell_type": "code",
   "execution_count": 250,
   "id": "1b94167e",
   "metadata": {},
   "outputs": [
    {
     "data": {
      "text/html": [
       "\n",
       "<style>\n",
       "  #altair-viz-078745f0d8c74190a6999d93844cdf63.vega-embed {\n",
       "    width: 100%;\n",
       "    display: flex;\n",
       "  }\n",
       "\n",
       "  #altair-viz-078745f0d8c74190a6999d93844cdf63.vega-embed details,\n",
       "  #altair-viz-078745f0d8c74190a6999d93844cdf63.vega-embed details summary {\n",
       "    position: relative;\n",
       "  }\n",
       "</style>\n",
       "<div id=\"altair-viz-078745f0d8c74190a6999d93844cdf63\"></div>\n",
       "<script type=\"text/javascript\">\n",
       "  var VEGA_DEBUG = (typeof VEGA_DEBUG == \"undefined\") ? {} : VEGA_DEBUG;\n",
       "  (function(spec, embedOpt){\n",
       "    let outputDiv = document.currentScript.previousElementSibling;\n",
       "    if (outputDiv.id !== \"altair-viz-078745f0d8c74190a6999d93844cdf63\") {\n",
       "      outputDiv = document.getElementById(\"altair-viz-078745f0d8c74190a6999d93844cdf63\");\n",
       "    }\n",
       "    const paths = {\n",
       "      \"vega\": \"https://cdn.jsdelivr.net/npm/vega@5?noext\",\n",
       "      \"vega-lib\": \"https://cdn.jsdelivr.net/npm/vega-lib?noext\",\n",
       "      \"vega-lite\": \"https://cdn.jsdelivr.net/npm/vega-lite@5.15.1?noext\",\n",
       "      \"vega-embed\": \"https://cdn.jsdelivr.net/npm/vega-embed@6?noext\",\n",
       "    };\n",
       "\n",
       "    function maybeLoadScript(lib, version) {\n",
       "      var key = `${lib.replace(\"-\", \"\")}_version`;\n",
       "      return (VEGA_DEBUG[key] == version) ?\n",
       "        Promise.resolve(paths[lib]) :\n",
       "        new Promise(function(resolve, reject) {\n",
       "          var s = document.createElement('script');\n",
       "          document.getElementsByTagName(\"head\")[0].appendChild(s);\n",
       "          s.async = true;\n",
       "          s.onload = () => {\n",
       "            VEGA_DEBUG[key] = version;\n",
       "            return resolve(paths[lib]);\n",
       "          };\n",
       "          s.onerror = () => reject(`Error loading script: ${paths[lib]}`);\n",
       "          s.src = paths[lib];\n",
       "        });\n",
       "    }\n",
       "\n",
       "    function showError(err) {\n",
       "      outputDiv.innerHTML = `<div class=\"error\" style=\"color:red;\">${err}</div>`;\n",
       "      throw err;\n",
       "    }\n",
       "\n",
       "    function displayChart(vegaEmbed) {\n",
       "      vegaEmbed(outputDiv, spec, embedOpt)\n",
       "        .catch(err => showError(`Javascript Error: ${err.message}<br>This usually means there's a typo in your chart specification. See the javascript console for the full traceback.`));\n",
       "    }\n",
       "\n",
       "    if(typeof define === \"function\" && define.amd) {\n",
       "      requirejs.config({paths});\n",
       "      require([\"vega-embed\"], displayChart, err => showError(`Error loading script: ${err.message}`));\n",
       "    } else {\n",
       "      maybeLoadScript(\"vega\", \"5\")\n",
       "        .then(() => maybeLoadScript(\"vega-lite\", \"5.15.1\"))\n",
       "        .then(() => maybeLoadScript(\"vega-embed\", \"6\"))\n",
       "        .catch(showError)\n",
       "        .then(() => displayChart(vegaEmbed));\n",
       "    }\n",
       "  })({\"config\": {\"view\": {\"continuousWidth\": 300, \"continuousHeight\": 300}}, \"data\": {\"name\": \"data-31bbabb5e99239f19ea058a7a9e46110\"}, \"mark\": {\"type\": \"bar\"}, \"encoding\": {\"color\": {\"field\": \"Work Type\", \"title\": \"Work Type\", \"type\": \"nominal\"}, \"x\": {\"field\": \"Posting Year\", \"title\": \"Posting Year\", \"type\": \"nominal\"}, \"y\": {\"aggregate\": \"sum\", \"field\": \"Listing Count\", \"title\": \"Listing Count\", \"type\": \"quantitative\"}}, \"height\": 400, \"title\": \"Listing Count by Work Type Over Time\", \"width\": 600, \"$schema\": \"https://vega.github.io/schema/vega-lite/v5.15.1.json\", \"datasets\": {\"data-31bbabb5e99239f19ea058a7a9e46110\": [{\"Posting Year\": 2022, \"Work Type\": \"remote\", \"Listing Count\": 611}, {\"Posting Year\": 2023, \"Work Type\": \"remote\", \"Listing Count\": 2999}, {\"Posting Year\": 2022, \"Work Type\": \"on-site\", \"Listing Count\": 0}, {\"Posting Year\": 2023, \"Work Type\": \"on-site\", \"Listing Count\": 3258}, {\"Posting Year\": 2022, \"Work Type\": \"hybrid\", \"Listing Count\": 75}, {\"Posting Year\": 2023, \"Work Type\": \"hybrid\", \"Listing Count\": 1479}]}}, {\"mode\": \"vega-lite\"});\n",
       "</script>"
      ],
      "text/plain": [
       "alt.Chart(...)"
      ]
     },
     "execution_count": 250,
     "metadata": {},
     "output_type": "execute_result"
    }
   ],
   "source": [
    "stacked_bar_work_type = alt.Chart(df_stacked_work_type_melt).mark_bar().encode(\n",
    "    x=alt.X('Posting Year:N', title='Posting Year'),\n",
    "    y=alt.Y('sum(Listing Count):Q', title='Listing Count'),\n",
    "    color=alt.Color('Work Type:N', title='Work Type')\n",
    ").properties(\n",
    "    title='Listing Count by Work Type Over Time',\n",
    "    width=600,\n",
    "    height=400\n",
    ")\n",
    "stacked_bar_work_type"
   ]
  },
  {
   "cell_type": "markdown",
   "id": "de04d9dd",
   "metadata": {},
   "source": [
    "#### Replot as a proportion"
   ]
  },
  {
   "cell_type": "code",
   "execution_count": 252,
   "id": "8fba0162",
   "metadata": {},
   "outputs": [
    {
     "data": {
      "text/html": [
       "<div>\n",
       "<style scoped>\n",
       "    .dataframe tbody tr th:only-of-type {\n",
       "        vertical-align: middle;\n",
       "    }\n",
       "\n",
       "    .dataframe tbody tr th {\n",
       "        vertical-align: top;\n",
       "    }\n",
       "\n",
       "    .dataframe thead th {\n",
       "        text-align: right;\n",
       "    }\n",
       "</style>\n",
       "<table border=\"1\" class=\"dataframe\">\n",
       "  <thead>\n",
       "    <tr style=\"text-align: right;\">\n",
       "      <th></th>\n",
       "      <th>Posting Year</th>\n",
       "      <th>Work Type</th>\n",
       "      <th>Percentage</th>\n",
       "    </tr>\n",
       "  </thead>\n",
       "  <tbody>\n",
       "    <tr>\n",
       "      <th>0</th>\n",
       "      <td>2022</td>\n",
       "      <td>remote</td>\n",
       "      <td>89.067055</td>\n",
       "    </tr>\n",
       "    <tr>\n",
       "      <th>1</th>\n",
       "      <td>2023</td>\n",
       "      <td>remote</td>\n",
       "      <td>38.766805</td>\n",
       "    </tr>\n",
       "    <tr>\n",
       "      <th>2</th>\n",
       "      <td>2022</td>\n",
       "      <td>on-site</td>\n",
       "      <td>0.000000</td>\n",
       "    </tr>\n",
       "    <tr>\n",
       "      <th>3</th>\n",
       "      <td>2023</td>\n",
       "      <td>on-site</td>\n",
       "      <td>42.114788</td>\n",
       "    </tr>\n",
       "    <tr>\n",
       "      <th>4</th>\n",
       "      <td>2022</td>\n",
       "      <td>hybrid</td>\n",
       "      <td>10.932945</td>\n",
       "    </tr>\n",
       "    <tr>\n",
       "      <th>5</th>\n",
       "      <td>2023</td>\n",
       "      <td>hybrid</td>\n",
       "      <td>19.118407</td>\n",
       "    </tr>\n",
       "  </tbody>\n",
       "</table>\n",
       "</div>"
      ],
      "text/plain": [
       "   Posting Year Work Type  Percentage\n",
       "0          2022    remote   89.067055\n",
       "1          2023    remote   38.766805\n",
       "2          2022   on-site    0.000000\n",
       "3          2023   on-site   42.114788\n",
       "4          2022    hybrid   10.932945\n",
       "5          2023    hybrid   19.118407"
      ]
     },
     "execution_count": 252,
     "metadata": {},
     "output_type": "execute_result"
    }
   ],
   "source": [
    "df_stacked_work_type_pct = df_stacked_work_type.set_index('Posting Year')\n",
    "df_stacked_work_type_pct_melt = (df_stacked_work_type_pct.div(df_stacked_work_type_pct.sum(axis=1), axis=0) * 100).reset_index()\n",
    "df_stacked_work_type_pct_melt = df_stacked_work_type_pct_melt.melt('Posting Year', var_name='Work Type', value_name='Percentage')\n",
    "df_stacked_work_type_pct_melt"
   ]
  },
  {
   "cell_type": "code",
   "execution_count": 254,
   "id": "80cf4554",
   "metadata": {},
   "outputs": [
    {
     "data": {
      "text/html": [
       "\n",
       "<style>\n",
       "  #altair-viz-95f7be97b5204450a26a3b8cc29f2ba5.vega-embed {\n",
       "    width: 100%;\n",
       "    display: flex;\n",
       "  }\n",
       "\n",
       "  #altair-viz-95f7be97b5204450a26a3b8cc29f2ba5.vega-embed details,\n",
       "  #altair-viz-95f7be97b5204450a26a3b8cc29f2ba5.vega-embed details summary {\n",
       "    position: relative;\n",
       "  }\n",
       "</style>\n",
       "<div id=\"altair-viz-95f7be97b5204450a26a3b8cc29f2ba5\"></div>\n",
       "<script type=\"text/javascript\">\n",
       "  var VEGA_DEBUG = (typeof VEGA_DEBUG == \"undefined\") ? {} : VEGA_DEBUG;\n",
       "  (function(spec, embedOpt){\n",
       "    let outputDiv = document.currentScript.previousElementSibling;\n",
       "    if (outputDiv.id !== \"altair-viz-95f7be97b5204450a26a3b8cc29f2ba5\") {\n",
       "      outputDiv = document.getElementById(\"altair-viz-95f7be97b5204450a26a3b8cc29f2ba5\");\n",
       "    }\n",
       "    const paths = {\n",
       "      \"vega\": \"https://cdn.jsdelivr.net/npm/vega@5?noext\",\n",
       "      \"vega-lib\": \"https://cdn.jsdelivr.net/npm/vega-lib?noext\",\n",
       "      \"vega-lite\": \"https://cdn.jsdelivr.net/npm/vega-lite@5.15.1?noext\",\n",
       "      \"vega-embed\": \"https://cdn.jsdelivr.net/npm/vega-embed@6?noext\",\n",
       "    };\n",
       "\n",
       "    function maybeLoadScript(lib, version) {\n",
       "      var key = `${lib.replace(\"-\", \"\")}_version`;\n",
       "      return (VEGA_DEBUG[key] == version) ?\n",
       "        Promise.resolve(paths[lib]) :\n",
       "        new Promise(function(resolve, reject) {\n",
       "          var s = document.createElement('script');\n",
       "          document.getElementsByTagName(\"head\")[0].appendChild(s);\n",
       "          s.async = true;\n",
       "          s.onload = () => {\n",
       "            VEGA_DEBUG[key] = version;\n",
       "            return resolve(paths[lib]);\n",
       "          };\n",
       "          s.onerror = () => reject(`Error loading script: ${paths[lib]}`);\n",
       "          s.src = paths[lib];\n",
       "        });\n",
       "    }\n",
       "\n",
       "    function showError(err) {\n",
       "      outputDiv.innerHTML = `<div class=\"error\" style=\"color:red;\">${err}</div>`;\n",
       "      throw err;\n",
       "    }\n",
       "\n",
       "    function displayChart(vegaEmbed) {\n",
       "      vegaEmbed(outputDiv, spec, embedOpt)\n",
       "        .catch(err => showError(`Javascript Error: ${err.message}<br>This usually means there's a typo in your chart specification. See the javascript console for the full traceback.`));\n",
       "    }\n",
       "\n",
       "    if(typeof define === \"function\" && define.amd) {\n",
       "      requirejs.config({paths});\n",
       "      require([\"vega-embed\"], displayChart, err => showError(`Error loading script: ${err.message}`));\n",
       "    } else {\n",
       "      maybeLoadScript(\"vega\", \"5\")\n",
       "        .then(() => maybeLoadScript(\"vega-lite\", \"5.15.1\"))\n",
       "        .then(() => maybeLoadScript(\"vega-embed\", \"6\"))\n",
       "        .catch(showError)\n",
       "        .then(() => displayChart(vegaEmbed));\n",
       "    }\n",
       "  })({\"config\": {\"view\": {\"continuousWidth\": 300, \"continuousHeight\": 300}}, \"data\": {\"name\": \"data-8dd3a1238888e65b4e4c1f0c9e85e02c\"}, \"mark\": {\"type\": \"bar\"}, \"encoding\": {\"color\": {\"field\": \"Work Type\", \"title\": \"Work Type\", \"type\": \"nominal\"}, \"x\": {\"field\": \"Posting Year\", \"title\": \"Posting Year\", \"type\": \"nominal\"}, \"y\": {\"field\": \"Percentage\", \"title\": \"Percentage of Listings (%)\", \"type\": \"quantitative\"}}, \"height\": 400, \"title\": \"Listing Count by Work Type Over Time\", \"width\": 600, \"$schema\": \"https://vega.github.io/schema/vega-lite/v5.15.1.json\", \"datasets\": {\"data-8dd3a1238888e65b4e4c1f0c9e85e02c\": [{\"Posting Year\": 2022, \"Work Type\": \"remote\", \"Percentage\": 89.067055393586}, {\"Posting Year\": 2023, \"Work Type\": \"remote\", \"Percentage\": 38.76680455015512}, {\"Posting Year\": 2022, \"Work Type\": \"on-site\", \"Percentage\": 0.0}, {\"Posting Year\": 2023, \"Work Type\": \"on-site\", \"Percentage\": 42.11478800413651}, {\"Posting Year\": 2022, \"Work Type\": \"hybrid\", \"Percentage\": 10.932944606413994}, {\"Posting Year\": 2023, \"Work Type\": \"hybrid\", \"Percentage\": 19.118407445708378}]}}, {\"mode\": \"vega-lite\"});\n",
       "</script>"
      ],
      "text/plain": [
       "alt.Chart(...)"
      ]
     },
     "execution_count": 254,
     "metadata": {},
     "output_type": "execute_result"
    }
   ],
   "source": [
    "stacked_bar_work_type_pct = alt.Chart(df_stacked_work_type_pct_melt).mark_bar().encode(\n",
    "    x=alt.X('Posting Year:N', title='Posting Year'),\n",
    "    y=alt.Y('Percentage:Q', title='Percentage of Listings (%)'),\n",
    "    color=alt.Color('Work Type:N', title='Work Type')\n",
    ").properties(\n",
    "    title='Listing Count by Work Type Over Time',\n",
    "    width=600,\n",
    "    height=400\n",
    ")\n",
    "stacked_bar_work_type_pct"
   ]
  },
  {
   "cell_type": "code",
   "execution_count": 255,
   "id": "9c3ed09f",
   "metadata": {},
   "outputs": [
    {
     "data": {
      "text/html": [
       "\n",
       "<style>\n",
       "  #altair-viz-df93a1d5bbfc4b85ba93bc25eba6971e.vega-embed {\n",
       "    width: 100%;\n",
       "    display: flex;\n",
       "  }\n",
       "\n",
       "  #altair-viz-df93a1d5bbfc4b85ba93bc25eba6971e.vega-embed details,\n",
       "  #altair-viz-df93a1d5bbfc4b85ba93bc25eba6971e.vega-embed details summary {\n",
       "    position: relative;\n",
       "  }\n",
       "</style>\n",
       "<div id=\"altair-viz-df93a1d5bbfc4b85ba93bc25eba6971e\"></div>\n",
       "<script type=\"text/javascript\">\n",
       "  var VEGA_DEBUG = (typeof VEGA_DEBUG == \"undefined\") ? {} : VEGA_DEBUG;\n",
       "  (function(spec, embedOpt){\n",
       "    let outputDiv = document.currentScript.previousElementSibling;\n",
       "    if (outputDiv.id !== \"altair-viz-df93a1d5bbfc4b85ba93bc25eba6971e\") {\n",
       "      outputDiv = document.getElementById(\"altair-viz-df93a1d5bbfc4b85ba93bc25eba6971e\");\n",
       "    }\n",
       "    const paths = {\n",
       "      \"vega\": \"https://cdn.jsdelivr.net/npm/vega@5?noext\",\n",
       "      \"vega-lib\": \"https://cdn.jsdelivr.net/npm/vega-lib?noext\",\n",
       "      \"vega-lite\": \"https://cdn.jsdelivr.net/npm/vega-lite@5.15.1?noext\",\n",
       "      \"vega-embed\": \"https://cdn.jsdelivr.net/npm/vega-embed@6?noext\",\n",
       "    };\n",
       "\n",
       "    function maybeLoadScript(lib, version) {\n",
       "      var key = `${lib.replace(\"-\", \"\")}_version`;\n",
       "      return (VEGA_DEBUG[key] == version) ?\n",
       "        Promise.resolve(paths[lib]) :\n",
       "        new Promise(function(resolve, reject) {\n",
       "          var s = document.createElement('script');\n",
       "          document.getElementsByTagName(\"head\")[0].appendChild(s);\n",
       "          s.async = true;\n",
       "          s.onload = () => {\n",
       "            VEGA_DEBUG[key] = version;\n",
       "            return resolve(paths[lib]);\n",
       "          };\n",
       "          s.onerror = () => reject(`Error loading script: ${paths[lib]}`);\n",
       "          s.src = paths[lib];\n",
       "        });\n",
       "    }\n",
       "\n",
       "    function showError(err) {\n",
       "      outputDiv.innerHTML = `<div class=\"error\" style=\"color:red;\">${err}</div>`;\n",
       "      throw err;\n",
       "    }\n",
       "\n",
       "    function displayChart(vegaEmbed) {\n",
       "      vegaEmbed(outputDiv, spec, embedOpt)\n",
       "        .catch(err => showError(`Javascript Error: ${err.message}<br>This usually means there's a typo in your chart specification. See the javascript console for the full traceback.`));\n",
       "    }\n",
       "\n",
       "    if(typeof define === \"function\" && define.amd) {\n",
       "      requirejs.config({paths});\n",
       "      require([\"vega-embed\"], displayChart, err => showError(`Error loading script: ${err.message}`));\n",
       "    } else {\n",
       "      maybeLoadScript(\"vega\", \"5\")\n",
       "        .then(() => maybeLoadScript(\"vega-lite\", \"5.15.1\"))\n",
       "        .then(() => maybeLoadScript(\"vega-embed\", \"6\"))\n",
       "        .catch(showError)\n",
       "        .then(() => displayChart(vegaEmbed));\n",
       "    }\n",
       "  })({\"config\": {\"view\": {\"continuousWidth\": 300, \"continuousHeight\": 300}}, \"vconcat\": [{\"data\": {\"name\": \"data-31bbabb5e99239f19ea058a7a9e46110\"}, \"mark\": {\"type\": \"bar\"}, \"encoding\": {\"color\": {\"field\": \"Work Type\", \"title\": \"Work Type\", \"type\": \"nominal\"}, \"x\": {\"field\": \"Posting Year\", \"title\": \"Posting Year\", \"type\": \"nominal\"}, \"y\": {\"aggregate\": \"sum\", \"field\": \"Listing Count\", \"title\": \"Listing Count\", \"type\": \"quantitative\"}}, \"height\": 400, \"title\": \"Listing Count by Work Type Over Time\", \"width\": 600}, {\"data\": {\"name\": \"data-8dd3a1238888e65b4e4c1f0c9e85e02c\"}, \"mark\": {\"type\": \"bar\"}, \"encoding\": {\"color\": {\"field\": \"Work Type\", \"title\": \"Work Type\", \"type\": \"nominal\"}, \"x\": {\"field\": \"Posting Year\", \"title\": \"Posting Year\", \"type\": \"nominal\"}, \"y\": {\"field\": \"Percentage\", \"title\": \"Percentage of Listings (%)\", \"type\": \"quantitative\"}}, \"height\": 400, \"title\": \"Listing Count by Work Type Over Time\", \"width\": 600}], \"$schema\": \"https://vega.github.io/schema/vega-lite/v5.15.1.json\", \"datasets\": {\"data-31bbabb5e99239f19ea058a7a9e46110\": [{\"Posting Year\": 2022, \"Work Type\": \"remote\", \"Listing Count\": 611}, {\"Posting Year\": 2023, \"Work Type\": \"remote\", \"Listing Count\": 2999}, {\"Posting Year\": 2022, \"Work Type\": \"on-site\", \"Listing Count\": 0}, {\"Posting Year\": 2023, \"Work Type\": \"on-site\", \"Listing Count\": 3258}, {\"Posting Year\": 2022, \"Work Type\": \"hybrid\", \"Listing Count\": 75}, {\"Posting Year\": 2023, \"Work Type\": \"hybrid\", \"Listing Count\": 1479}], \"data-8dd3a1238888e65b4e4c1f0c9e85e02c\": [{\"Posting Year\": 2022, \"Work Type\": \"remote\", \"Percentage\": 89.067055393586}, {\"Posting Year\": 2023, \"Work Type\": \"remote\", \"Percentage\": 38.76680455015512}, {\"Posting Year\": 2022, \"Work Type\": \"on-site\", \"Percentage\": 0.0}, {\"Posting Year\": 2023, \"Work Type\": \"on-site\", \"Percentage\": 42.11478800413651}, {\"Posting Year\": 2022, \"Work Type\": \"hybrid\", \"Percentage\": 10.932944606413994}, {\"Posting Year\": 2023, \"Work Type\": \"hybrid\", \"Percentage\": 19.118407445708378}]}}, {\"mode\": \"vega-lite\"});\n",
       "</script>"
      ],
      "text/plain": [
       "alt.VConcatChart(...)"
      ]
     },
     "execution_count": 255,
     "metadata": {},
     "output_type": "execute_result"
    }
   ],
   "source": [
    "combined_stacked_work_type_fig = stacked_bar_work_type & stacked_bar_work_type_pct\n",
    "combined_stacked_work_type_fig"
   ]
  },
  {
   "cell_type": "markdown",
   "id": "d2c88e37-1fe0-40e0-a96a-6c19c276e3ff",
   "metadata": {},
   "source": [
    "## Create plots for job type"
   ]
  },
  {
   "cell_type": "markdown",
   "id": "f325eda5-d307-40eb-ae89-d5360a5dafae",
   "metadata": {},
   "source": [
    "#### Subset data to only main job types"
   ]
  },
  {
   "cell_type": "code",
   "execution_count": 80,
   "id": "dc741caf-bee0-4153-ba55-28bc1d4dd225",
   "metadata": {
    "scrolled": true
   },
   "outputs": [
    {
     "data": {
      "text/plain": [
       "cleansed_job_type\n",
       "Full-time          10722\n",
       "Undefined           8067\n",
       "Contract             795\n",
       "Internship           153\n",
       "Part-time             58\n",
       "Temporary              3\n",
       "Volunteer              3\n",
       "11-50 employees        2\n",
       "Associate              2\n",
       "1-10 employees         1\n",
       "Name: count, dtype: int64"
      ]
     },
     "execution_count": 80,
     "metadata": {},
     "output_type": "execute_result"
    }
   ],
   "source": [
    "df_job_type = df.dropna(subset=['cleansed_job_type'])\n",
    "df_job_type['cleansed_job_type'].value_counts()"
   ]
  },
  {
   "cell_type": "code",
   "execution_count": 81,
   "id": "faa229c0-8ad8-4103-bfe5-b038a9e2cd98",
   "metadata": {},
   "outputs": [
    {
     "data": {
      "text/plain": [
       "cleansed_job_type\n",
       "Full-time     10722\n",
       "Contract        795\n",
       "Internship      153\n",
       "Part-time        58\n",
       "Name: count, dtype: int64"
      ]
     },
     "execution_count": 81,
     "metadata": {},
     "output_type": "execute_result"
    }
   ],
   "source": [
    "allowed_job_types = set(['Full-time', 'Contract', 'Internship', 'Part-time'])\n",
    "df_job_type = df_job_type[df_job_type['cleansed_job_type'].isin(allowed_job_types)]\n",
    "df_job_type['cleansed_job_type'].value_counts()"
   ]
  },
  {
   "cell_type": "markdown",
   "id": "e2a46fa1-7c2e-4a2b-ab7b-123a73d10220",
   "metadata": {},
   "source": [
    "#### Determine which year(s) data is defined for"
   ]
  },
  {
   "cell_type": "code",
   "execution_count": 88,
   "id": "5b79fd08-6c79-40c4-bf35-35afb999c7c5",
   "metadata": {},
   "outputs": [
    {
     "data": {
      "text/plain": [
       "[<matplotlib.lines.Line2D at 0x1229900d0>]"
      ]
     },
     "execution_count": 88,
     "metadata": {},
     "output_type": "execute_result"
    },
    {
     "data": {
      "image/png": "[encoded data removed]",
      "text/plain": [
       "<Figure size 640x480 with 1 Axes>"
      ]
     },
     "metadata": {},
     "output_type": "display_data"
    }
   ],
   "source": [
    "plt.plot(df_job_type['posting_date'])"
   ]
  },
  {
   "cell_type": "code",
   "execution_count": 86,
   "id": "e745ced3-3959-4aef-82da-5573fa0ac868",
   "metadata": {},
   "outputs": [
    {
     "data": {
      "text/plain": [
       "(array([3891.,    0.,    0.,    0.,    0.,    0.,    0.,    0.,    0.,\n",
       "        7837.]),\n",
       " array([2019. , 2019.4, 2019.8, 2020.2, 2020.6, 2021. , 2021.4, 2021.8,\n",
       "        2022.2, 2022.6, 2023. ]),\n",
       " <BarContainer object of 10 artists>)"
      ]
     },
     "execution_count": 86,
     "metadata": {},
     "output_type": "execute_result"
    },
    {
     "data": {
      "image/png": "[encoded data removed]",
      "text/plain": [
       "<Figure size 640x480 with 1 Axes>"
      ]
     },
     "metadata": {},
     "output_type": "display_data"
    }
   ],
   "source": [
    "plt.hist(df_job_type['posting_year'])"
   ]
  },
  {
   "cell_type": "code",
   "execution_count": 85,
   "id": "4d96675d-5bfb-4051-84da-282b948beda8",
   "metadata": {},
   "outputs": [
    {
     "data": {
      "text/plain": [
       "posting_year\n",
       "2023    7837\n",
       "2019    3891\n",
       "Name: count, dtype: int64"
      ]
     },
     "execution_count": 85,
     "metadata": {},
     "output_type": "execute_result"
    }
   ],
   "source": [
    "df_job_type['posting_year'].value_counts()"
   ]
  },
  {
   "cell_type": "markdown",
   "id": "06f5aa6f-bb2e-4b9c-be33-9c159436e22b",
   "metadata": {},
   "source": [
    "#### Process data into 2019 and 2023 buckets"
   ]
  },
  {
   "cell_type": "code",
   "execution_count": 89,
   "id": "618bf7d8-b122-4ac2-ab63-0238bf83fbe3",
   "metadata": {},
   "outputs": [
    {
     "data": {
      "text/plain": [
       "(3891, 26)"
      ]
     },
     "execution_count": 89,
     "metadata": {},
     "output_type": "execute_result"
    }
   ],
   "source": [
    "df_job_type_2019 = df_job_type[df_job_type['posting_year'] == 2019]\n",
    "df_job_type_2019.shape"
   ]
  },
  {
   "cell_type": "code",
   "execution_count": 101,
   "id": "f763e5e2-5338-40f5-923c-df7c837d6428",
   "metadata": {},
   "outputs": [
    {
     "data": {
      "text/plain": [
       "cleansed_job_type\n",
       "Full-time     3395\n",
       "Contract       488\n",
       "Part-time        6\n",
       "Internship       2\n",
       "Name: count, dtype: int64"
      ]
     },
     "execution_count": 101,
     "metadata": {},
     "output_type": "execute_result"
    }
   ],
   "source": [
    "df_job_type_2019_counts = df_job_type_2019['cleansed_job_type'].value_counts()\n",
    "df_job_type_2019_counts"
   ]
  },
  {
   "cell_type": "code",
   "execution_count": 103,
   "id": "ddfaf3e2-3f35-4976-a74f-6cf2b59227f8",
   "metadata": {},
   "outputs": [
    {
     "data": {
      "text/plain": [
       "(7837, 26)"
      ]
     },
     "execution_count": 103,
     "metadata": {},
     "output_type": "execute_result"
    }
   ],
   "source": [
    "df_job_type_2023 = df_job_type[df_job_type['posting_year'] == 2023]\n",
    "df_job_type_2023.shape"
   ]
  },
  {
   "cell_type": "code",
   "execution_count": 104,
   "id": "918ff4d6-70c8-4b30-aea4-8ce42d06733c",
   "metadata": {},
   "outputs": [
    {
     "data": {
      "text/plain": [
       "cleansed_job_type\n",
       "Full-time     7327\n",
       "Contract       307\n",
       "Internship     151\n",
       "Part-time       52\n",
       "Name: count, dtype: int64"
      ]
     },
     "execution_count": 104,
     "metadata": {},
     "output_type": "execute_result"
    }
   ],
   "source": [
    "df_job_type_2023_counts = df_job_type_2023['cleansed_job_type'].value_counts()\n",
    "df_job_type_2023_counts"
   ]
  },
  {
   "cell_type": "code",
   "execution_count": 109,
   "id": "005d8ae3-6ac1-4b4d-9f13-db945d7c7dd8",
   "metadata": {},
   "outputs": [
    {
     "data": {
      "text/html": [
       "<div>\n",
       "<style scoped>\n",
       "    .dataframe tbody tr th:only-of-type {\n",
       "        vertical-align: middle;\n",
       "    }\n",
       "\n",
       "    .dataframe tbody tr th {\n",
       "        vertical-align: top;\n",
       "    }\n",
       "\n",
       "    .dataframe thead th {\n",
       "        text-align: right;\n",
       "    }\n",
       "</style>\n",
       "<table border=\"1\" class=\"dataframe\">\n",
       "  <thead>\n",
       "    <tr style=\"text-align: right;\">\n",
       "      <th></th>\n",
       "      <th>Posting Year</th>\n",
       "      <th>Full-time</th>\n",
       "      <th>Contract</th>\n",
       "      <th>Internship</th>\n",
       "      <th>Part-time</th>\n",
       "    </tr>\n",
       "  </thead>\n",
       "  <tbody>\n",
       "    <tr>\n",
       "      <th>0</th>\n",
       "      <td>2019</td>\n",
       "      <td>3395</td>\n",
       "      <td>488</td>\n",
       "      <td>2</td>\n",
       "      <td>6</td>\n",
       "    </tr>\n",
       "    <tr>\n",
       "      <th>1</th>\n",
       "      <td>2023</td>\n",
       "      <td>7327</td>\n",
       "      <td>307</td>\n",
       "      <td>151</td>\n",
       "      <td>52</td>\n",
       "    </tr>\n",
       "  </tbody>\n",
       "</table>\n",
       "</div>"
      ],
      "text/plain": [
       "   Posting Year  Full-time  Contract  Internship  Part-time\n",
       "0          2019       3395       488           2          6\n",
       "1          2023       7327       307         151         52"
      ]
     },
     "execution_count": 109,
     "metadata": {},
     "output_type": "execute_result"
    }
   ],
   "source": [
    "# Generate the stacked data\n",
    "data_stacked_job_type = {\n",
    "    'Posting Year': [2019, 2023],\n",
    "    'Full-time': [],\n",
    "    'Contract': [],\n",
    "    'Internship': [],\n",
    "    'Part-time': []\n",
    "}\n",
    "\n",
    "# Generate counts\n",
    "data_stacked_job_type['Full-time'].append(df_job_type_2019_counts['Full-time'])\n",
    "data_stacked_job_type['Full-time'].append(df_job_type_2023_counts['Full-time'])\n",
    "\n",
    "data_stacked_job_type['Contract'].append(df_job_type_2019_counts['Contract'])\n",
    "data_stacked_job_type['Contract'].append(df_job_type_2023_counts['Contract'])\n",
    "\n",
    "data_stacked_job_type['Internship'].append(df_job_type_2019_counts['Internship'])\n",
    "data_stacked_job_type['Internship'].append(df_job_type_2023_counts['Internship'])\n",
    "\n",
    "data_stacked_job_type['Part-time'].append(df_job_type_2019_counts['Part-time'])\n",
    "data_stacked_job_type['Part-time'].append(df_job_type_2023_counts['Part-time'])\n",
    "\n",
    "data_stacked_job_type = pd.DataFrame(data_stacked_job_type)\n",
    "data_stacked_job_type"
   ]
  },
  {
   "cell_type": "markdown",
   "id": "5cf3772e-1880-4ce1-abb4-08e808ff68ed",
   "metadata": {},
   "source": [
    "#### Plot composition of job types for 2019 and 2023"
   ]
  },
  {
   "cell_type": "code",
   "execution_count": 110,
   "id": "75e03c7d-c233-48b1-a427-fbdd01add623",
   "metadata": {},
   "outputs": [
    {
     "data": {
      "text/html": [
       "<div>\n",
       "<style scoped>\n",
       "    .dataframe tbody tr th:only-of-type {\n",
       "        vertical-align: middle;\n",
       "    }\n",
       "\n",
       "    .dataframe tbody tr th {\n",
       "        vertical-align: top;\n",
       "    }\n",
       "\n",
       "    .dataframe thead th {\n",
       "        text-align: right;\n",
       "    }\n",
       "</style>\n",
       "<table border=\"1\" class=\"dataframe\">\n",
       "  <thead>\n",
       "    <tr style=\"text-align: right;\">\n",
       "      <th></th>\n",
       "      <th>Posting Year</th>\n",
       "      <th>Job Type</th>\n",
       "      <th>Listing Count</th>\n",
       "    </tr>\n",
       "  </thead>\n",
       "  <tbody>\n",
       "    <tr>\n",
       "      <th>0</th>\n",
       "      <td>2019</td>\n",
       "      <td>Full-time</td>\n",
       "      <td>3395</td>\n",
       "    </tr>\n",
       "    <tr>\n",
       "      <th>1</th>\n",
       "      <td>2023</td>\n",
       "      <td>Full-time</td>\n",
       "      <td>7327</td>\n",
       "    </tr>\n",
       "    <tr>\n",
       "      <th>2</th>\n",
       "      <td>2019</td>\n",
       "      <td>Contract</td>\n",
       "      <td>488</td>\n",
       "    </tr>\n",
       "    <tr>\n",
       "      <th>3</th>\n",
       "      <td>2023</td>\n",
       "      <td>Contract</td>\n",
       "      <td>307</td>\n",
       "    </tr>\n",
       "    <tr>\n",
       "      <th>4</th>\n",
       "      <td>2019</td>\n",
       "      <td>Internship</td>\n",
       "      <td>2</td>\n",
       "    </tr>\n",
       "    <tr>\n",
       "      <th>5</th>\n",
       "      <td>2023</td>\n",
       "      <td>Internship</td>\n",
       "      <td>151</td>\n",
       "    </tr>\n",
       "    <tr>\n",
       "      <th>6</th>\n",
       "      <td>2019</td>\n",
       "      <td>Part-time</td>\n",
       "      <td>6</td>\n",
       "    </tr>\n",
       "    <tr>\n",
       "      <th>7</th>\n",
       "      <td>2023</td>\n",
       "      <td>Part-time</td>\n",
       "      <td>52</td>\n",
       "    </tr>\n",
       "  </tbody>\n",
       "</table>\n",
       "</div>"
      ],
      "text/plain": [
       "   Posting Year    Job Type  Listing Count\n",
       "0          2019   Full-time           3395\n",
       "1          2023   Full-time           7327\n",
       "2          2019    Contract            488\n",
       "3          2023    Contract            307\n",
       "4          2019  Internship              2\n",
       "5          2023  Internship            151\n",
       "6          2019   Part-time              6\n",
       "7          2023   Part-time             52"
      ]
     },
     "execution_count": 110,
     "metadata": {},
     "output_type": "execute_result"
    }
   ],
   "source": [
    "data_stacked_job_type_melt = data_stacked_job_type.melt('Posting Year', var_name='Job Type', value_name = 'Listing Count')\n",
    "data_stacked_job_type_melt"
   ]
  },
  {
   "cell_type": "code",
   "execution_count": 115,
   "id": "446c3c81-7c1a-41c5-8272-12346531ea37",
   "metadata": {},
   "outputs": [
    {
     "data": {
      "text/html": [
       "\n",
       "<style>\n",
       "  #altair-viz-f2679b96ca734611b1732e58cd6ebea7.vega-embed {\n",
       "    width: 100%;\n",
       "    display: flex;\n",
       "  }\n",
       "\n",
       "  #altair-viz-f2679b96ca734611b1732e58cd6ebea7.vega-embed details,\n",
       "  #altair-viz-f2679b96ca734611b1732e58cd6ebea7.vega-embed details summary {\n",
       "    position: relative;\n",
       "  }\n",
       "</style>\n",
       "<div id=\"altair-viz-f2679b96ca734611b1732e58cd6ebea7\"></div>\n",
       "<script type=\"text/javascript\">\n",
       "  var VEGA_DEBUG = (typeof VEGA_DEBUG == \"undefined\") ? {} : VEGA_DEBUG;\n",
       "  (function(spec, embedOpt){\n",
       "    let outputDiv = document.currentScript.previousElementSibling;\n",
       "    if (outputDiv.id !== \"altair-viz-f2679b96ca734611b1732e58cd6ebea7\") {\n",
       "      outputDiv = document.getElementById(\"altair-viz-f2679b96ca734611b1732e58cd6ebea7\");\n",
       "    }\n",
       "    const paths = {\n",
       "      \"vega\": \"https://cdn.jsdelivr.net/npm/vega@5?noext\",\n",
       "      \"vega-lib\": \"https://cdn.jsdelivr.net/npm/vega-lib?noext\",\n",
       "      \"vega-lite\": \"https://cdn.jsdelivr.net/npm/vega-lite@5.15.1?noext\",\n",
       "      \"vega-embed\": \"https://cdn.jsdelivr.net/npm/vega-embed@6?noext\",\n",
       "    };\n",
       "\n",
       "    function maybeLoadScript(lib, version) {\n",
       "      var key = `${lib.replace(\"-\", \"\")}_version`;\n",
       "      return (VEGA_DEBUG[key] == version) ?\n",
       "        Promise.resolve(paths[lib]) :\n",
       "        new Promise(function(resolve, reject) {\n",
       "          var s = document.createElement('script');\n",
       "          document.getElementsByTagName(\"head\")[0].appendChild(s);\n",
       "          s.async = true;\n",
       "          s.onload = () => {\n",
       "            VEGA_DEBUG[key] = version;\n",
       "            return resolve(paths[lib]);\n",
       "          };\n",
       "          s.onerror = () => reject(`Error loading script: ${paths[lib]}`);\n",
       "          s.src = paths[lib];\n",
       "        });\n",
       "    }\n",
       "\n",
       "    function showError(err) {\n",
       "      outputDiv.innerHTML = `<div class=\"error\" style=\"color:red;\">${err}</div>`;\n",
       "      throw err;\n",
       "    }\n",
       "\n",
       "    function displayChart(vegaEmbed) {\n",
       "      vegaEmbed(outputDiv, spec, embedOpt)\n",
       "        .catch(err => showError(`Javascript Error: ${err.message}<br>This usually means there's a typo in your chart specification. See the javascript console for the full traceback.`));\n",
       "    }\n",
       "\n",
       "    if(typeof define === \"function\" && define.amd) {\n",
       "      requirejs.config({paths});\n",
       "      require([\"vega-embed\"], displayChart, err => showError(`Error loading script: ${err.message}`));\n",
       "    } else {\n",
       "      maybeLoadScript(\"vega\", \"5\")\n",
       "        .then(() => maybeLoadScript(\"vega-lite\", \"5.15.1\"))\n",
       "        .then(() => maybeLoadScript(\"vega-embed\", \"6\"))\n",
       "        .catch(showError)\n",
       "        .then(() => displayChart(vegaEmbed));\n",
       "    }\n",
       "  })({\"config\": {\"view\": {\"continuousWidth\": 300, \"continuousHeight\": 300}}, \"data\": {\"name\": \"data-5b3db4eddc1856d23de8a11a5ab58967\"}, \"mark\": {\"type\": \"bar\"}, \"encoding\": {\"color\": {\"field\": \"Job Type\", \"title\": \"Job Type\", \"type\": \"nominal\"}, \"x\": {\"field\": \"Posting Year\", \"title\": \"Posting Year\", \"type\": \"nominal\"}, \"y\": {\"aggregate\": \"sum\", \"field\": \"Listing Count\", \"title\": \"Listing Count\", \"type\": \"quantitative\"}}, \"height\": 400, \"title\": \"Listing Count by Job Type Over Time\", \"width\": 600, \"$schema\": \"https://vega.github.io/schema/vega-lite/v5.15.1.json\", \"datasets\": {\"data-5b3db4eddc1856d23de8a11a5ab58967\": [{\"Posting Year\": 2019, \"Job Type\": \"Full-time\", \"Listing Count\": 3395}, {\"Posting Year\": 2023, \"Job Type\": \"Full-time\", \"Listing Count\": 7327}, {\"Posting Year\": 2019, \"Job Type\": \"Contract\", \"Listing Count\": 488}, {\"Posting Year\": 2023, \"Job Type\": \"Contract\", \"Listing Count\": 307}, {\"Posting Year\": 2019, \"Job Type\": \"Internship\", \"Listing Count\": 2}, {\"Posting Year\": 2023, \"Job Type\": \"Internship\", \"Listing Count\": 151}, {\"Posting Year\": 2019, \"Job Type\": \"Part-time\", \"Listing Count\": 6}, {\"Posting Year\": 2023, \"Job Type\": \"Part-time\", \"Listing Count\": 52}]}}, {\"mode\": \"vega-lite\"});\n",
       "</script>"
      ],
      "text/plain": [
       "alt.Chart(...)"
      ]
     },
     "execution_count": 115,
     "metadata": {},
     "output_type": "execute_result"
    }
   ],
   "source": [
    "stacked_bar_job_type = alt.Chart(data_stacked_job_type_melt).mark_bar().encode(\n",
    "    x=alt.X('Posting Year:N', title='Posting Year'),\n",
    "    y=alt.Y('sum(Listing Count):Q', title='Listing Count'),\n",
    "    color=alt.Color('Job Type:N', title='Job Type')\n",
    ").properties(\n",
    "    title='Listing Count by Job Type Over Time',\n",
    "    width=600,\n",
    "    height=400\n",
    ")\n",
    "stacked_bar_job_type"
   ]
  },
  {
   "cell_type": "markdown",
   "id": "371728ec-b594-4304-baa6-9bfa0caaebd0",
   "metadata": {},
   "source": [
    "#### Replot Job Type as a proportion"
   ]
  },
  {
   "cell_type": "code",
   "execution_count": 114,
   "id": "b04c957f-73b1-49c6-88de-73e8b3342fcf",
   "metadata": {},
   "outputs": [
    {
     "data": {
      "text/html": [
       "<div>\n",
       "<style scoped>\n",
       "    .dataframe tbody tr th:only-of-type {\n",
       "        vertical-align: middle;\n",
       "    }\n",
       "\n",
       "    .dataframe tbody tr th {\n",
       "        vertical-align: top;\n",
       "    }\n",
       "\n",
       "    .dataframe thead th {\n",
       "        text-align: right;\n",
       "    }\n",
       "</style>\n",
       "<table border=\"1\" class=\"dataframe\">\n",
       "  <thead>\n",
       "    <tr style=\"text-align: right;\">\n",
       "      <th></th>\n",
       "      <th>Posting Year</th>\n",
       "      <th>Job Type</th>\n",
       "      <th>Percentage</th>\n",
       "    </tr>\n",
       "  </thead>\n",
       "  <tbody>\n",
       "    <tr>\n",
       "      <th>0</th>\n",
       "      <td>2019</td>\n",
       "      <td>Full-time</td>\n",
       "      <td>87.252634</td>\n",
       "    </tr>\n",
       "    <tr>\n",
       "      <th>1</th>\n",
       "      <td>2023</td>\n",
       "      <td>Full-time</td>\n",
       "      <td>93.492408</td>\n",
       "    </tr>\n",
       "    <tr>\n",
       "      <th>2</th>\n",
       "      <td>2019</td>\n",
       "      <td>Contract</td>\n",
       "      <td>12.541763</td>\n",
       "    </tr>\n",
       "    <tr>\n",
       "      <th>3</th>\n",
       "      <td>2023</td>\n",
       "      <td>Contract</td>\n",
       "      <td>3.917315</td>\n",
       "    </tr>\n",
       "    <tr>\n",
       "      <th>4</th>\n",
       "      <td>2019</td>\n",
       "      <td>Internship</td>\n",
       "      <td>0.051401</td>\n",
       "    </tr>\n",
       "    <tr>\n",
       "      <th>5</th>\n",
       "      <td>2023</td>\n",
       "      <td>Internship</td>\n",
       "      <td>1.926758</td>\n",
       "    </tr>\n",
       "    <tr>\n",
       "      <th>6</th>\n",
       "      <td>2019</td>\n",
       "      <td>Part-time</td>\n",
       "      <td>0.154202</td>\n",
       "    </tr>\n",
       "    <tr>\n",
       "      <th>7</th>\n",
       "      <td>2023</td>\n",
       "      <td>Part-time</td>\n",
       "      <td>0.663519</td>\n",
       "    </tr>\n",
       "  </tbody>\n",
       "</table>\n",
       "</div>"
      ],
      "text/plain": [
       "   Posting Year    Job Type  Percentage\n",
       "0          2019   Full-time   87.252634\n",
       "1          2023   Full-time   93.492408\n",
       "2          2019    Contract   12.541763\n",
       "3          2023    Contract    3.917315\n",
       "4          2019  Internship    0.051401\n",
       "5          2023  Internship    1.926758\n",
       "6          2019   Part-time    0.154202\n",
       "7          2023   Part-time    0.663519"
      ]
     },
     "execution_count": 114,
     "metadata": {},
     "output_type": "execute_result"
    }
   ],
   "source": [
    "data_stacked_job_type_melt_pct = data_stacked_job_type.set_index('Posting Year')\n",
    "data_stacked_job_type_melt_pct = (data_stacked_job_type_melt_pct.div(data_stacked_job_type_melt_pct.sum(axis=1), axis=0) * 100).reset_index()\n",
    "data_stacked_job_type_melt_pct = data_stacked_job_type_melt_pct.melt('Posting Year', var_name='Job Type', value_name='Percentage')\n",
    "data_stacked_job_type_melt_pct"
   ]
  },
  {
   "cell_type": "code",
   "execution_count": 117,
   "id": "9bfc2422-05cf-4800-bc5c-8ff26580aa2f",
   "metadata": {},
   "outputs": [
    {
     "data": {
      "text/html": [
       "\n",
       "<style>\n",
       "  #altair-viz-26930c3ed574496797c705d5bf0ffa6c.vega-embed {\n",
       "    width: 100%;\n",
       "    display: flex;\n",
       "  }\n",
       "\n",
       "  #altair-viz-26930c3ed574496797c705d5bf0ffa6c.vega-embed details,\n",
       "  #altair-viz-26930c3ed574496797c705d5bf0ffa6c.vega-embed details summary {\n",
       "    position: relative;\n",
       "  }\n",
       "</style>\n",
       "<div id=\"altair-viz-26930c3ed574496797c705d5bf0ffa6c\"></div>\n",
       "<script type=\"text/javascript\">\n",
       "  var VEGA_DEBUG = (typeof VEGA_DEBUG == \"undefined\") ? {} : VEGA_DEBUG;\n",
       "  (function(spec, embedOpt){\n",
       "    let outputDiv = document.currentScript.previousElementSibling;\n",
       "    if (outputDiv.id !== \"altair-viz-26930c3ed574496797c705d5bf0ffa6c\") {\n",
       "      outputDiv = document.getElementById(\"altair-viz-26930c3ed574496797c705d5bf0ffa6c\");\n",
       "    }\n",
       "    const paths = {\n",
       "      \"vega\": \"https://cdn.jsdelivr.net/npm/vega@5?noext\",\n",
       "      \"vega-lib\": \"https://cdn.jsdelivr.net/npm/vega-lib?noext\",\n",
       "      \"vega-lite\": \"https://cdn.jsdelivr.net/npm/vega-lite@5.15.1?noext\",\n",
       "      \"vega-embed\": \"https://cdn.jsdelivr.net/npm/vega-embed@6?noext\",\n",
       "    };\n",
       "\n",
       "    function maybeLoadScript(lib, version) {\n",
       "      var key = `${lib.replace(\"-\", \"\")}_version`;\n",
       "      return (VEGA_DEBUG[key] == version) ?\n",
       "        Promise.resolve(paths[lib]) :\n",
       "        new Promise(function(resolve, reject) {\n",
       "          var s = document.createElement('script');\n",
       "          document.getElementsByTagName(\"head\")[0].appendChild(s);\n",
       "          s.async = true;\n",
       "          s.onload = () => {\n",
       "            VEGA_DEBUG[key] = version;\n",
       "            return resolve(paths[lib]);\n",
       "          };\n",
       "          s.onerror = () => reject(`Error loading script: ${paths[lib]}`);\n",
       "          s.src = paths[lib];\n",
       "        });\n",
       "    }\n",
       "\n",
       "    function showError(err) {\n",
       "      outputDiv.innerHTML = `<div class=\"error\" style=\"color:red;\">${err}</div>`;\n",
       "      throw err;\n",
       "    }\n",
       "\n",
       "    function displayChart(vegaEmbed) {\n",
       "      vegaEmbed(outputDiv, spec, embedOpt)\n",
       "        .catch(err => showError(`Javascript Error: ${err.message}<br>This usually means there's a typo in your chart specification. See the javascript console for the full traceback.`));\n",
       "    }\n",
       "\n",
       "    if(typeof define === \"function\" && define.amd) {\n",
       "      requirejs.config({paths});\n",
       "      require([\"vega-embed\"], displayChart, err => showError(`Error loading script: ${err.message}`));\n",
       "    } else {\n",
       "      maybeLoadScript(\"vega\", \"5\")\n",
       "        .then(() => maybeLoadScript(\"vega-lite\", \"5.15.1\"))\n",
       "        .then(() => maybeLoadScript(\"vega-embed\", \"6\"))\n",
       "        .catch(showError)\n",
       "        .then(() => displayChart(vegaEmbed));\n",
       "    }\n",
       "  })({\"config\": {\"view\": {\"continuousWidth\": 300, \"continuousHeight\": 300}}, \"data\": {\"name\": \"data-3762e27942eff41b8f823b96796ef2a6\"}, \"mark\": {\"type\": \"bar\"}, \"encoding\": {\"color\": {\"field\": \"Job Type\", \"title\": \"Job Type\", \"type\": \"nominal\"}, \"x\": {\"field\": \"Posting Year\", \"title\": \"Posting Year\", \"type\": \"nominal\"}, \"y\": {\"field\": \"Percentage\", \"title\": \"Percentage of Listings (%)\", \"type\": \"quantitative\"}}, \"height\": 400, \"title\": \"Listing Count by Job Type Over Time\", \"width\": 600, \"$schema\": \"https://vega.github.io/schema/vega-lite/v5.15.1.json\", \"datasets\": {\"data-3762e27942eff41b8f823b96796ef2a6\": [{\"Posting Year\": 2019, \"Job Type\": \"Full-time\", \"Percentage\": 87.2526342842457}, {\"Posting Year\": 2023, \"Job Type\": \"Full-time\", \"Percentage\": 93.49240780911063}, {\"Posting Year\": 2019, \"Job Type\": \"Contract\", \"Percentage\": 12.541763042919557}, {\"Posting Year\": 2023, \"Job Type\": \"Contract\", \"Percentage\": 3.9173152992216407}, {\"Posting Year\": 2019, \"Job Type\": \"Internship\", \"Percentage\": 0.05140066820868672}, {\"Posting Year\": 2023, \"Job Type\": \"Internship\", \"Percentage\": 1.9267576878907746}, {\"Posting Year\": 2019, \"Job Type\": \"Part-time\", \"Percentage\": 0.15420200462606012}, {\"Posting Year\": 2023, \"Job Type\": \"Part-time\", \"Percentage\": 0.6635192037769555}]}}, {\"mode\": \"vega-lite\"});\n",
       "</script>"
      ],
      "text/plain": [
       "alt.Chart(...)"
      ]
     },
     "execution_count": 117,
     "metadata": {},
     "output_type": "execute_result"
    }
   ],
   "source": [
    "stacked_bar_job_type_pct = alt.Chart(data_stacked_job_type_melt_pct).mark_bar().encode(\n",
    "    x=alt.X('Posting Year:N', title='Posting Year'),\n",
    "    y=alt.Y('Percentage:Q', title='Percentage of Listings (%)'),\n",
    "    color=alt.Color('Job Type:N', title='Job Type')\n",
    ").properties(\n",
    "    title='Listing Count by Job Type Over Time',\n",
    "    width=600,\n",
    "    height=400\n",
    ")\n",
    "stacked_bar_job_type_pct"
   ]
  },
  {
   "cell_type": "code",
   "execution_count": 118,
   "id": "2b880fb5-dd16-4db0-9cee-8eb7a73aad08",
   "metadata": {},
   "outputs": [
    {
     "data": {
      "text/html": [
       "\n",
       "<style>\n",
       "  #altair-viz-dfc90ce873504667b8a082db949b9fec.vega-embed {\n",
       "    width: 100%;\n",
       "    display: flex;\n",
       "  }\n",
       "\n",
       "  #altair-viz-dfc90ce873504667b8a082db949b9fec.vega-embed details,\n",
       "  #altair-viz-dfc90ce873504667b8a082db949b9fec.vega-embed details summary {\n",
       "    position: relative;\n",
       "  }\n",
       "</style>\n",
       "<div id=\"altair-viz-dfc90ce873504667b8a082db949b9fec\"></div>\n",
       "<script type=\"text/javascript\">\n",
       "  var VEGA_DEBUG = (typeof VEGA_DEBUG == \"undefined\") ? {} : VEGA_DEBUG;\n",
       "  (function(spec, embedOpt){\n",
       "    let outputDiv = document.currentScript.previousElementSibling;\n",
       "    if (outputDiv.id !== \"altair-viz-dfc90ce873504667b8a082db949b9fec\") {\n",
       "      outputDiv = document.getElementById(\"altair-viz-dfc90ce873504667b8a082db949b9fec\");\n",
       "    }\n",
       "    const paths = {\n",
       "      \"vega\": \"https://cdn.jsdelivr.net/npm/vega@5?noext\",\n",
       "      \"vega-lib\": \"https://cdn.jsdelivr.net/npm/vega-lib?noext\",\n",
       "      \"vega-lite\": \"https://cdn.jsdelivr.net/npm/vega-lite@5.15.1?noext\",\n",
       "      \"vega-embed\": \"https://cdn.jsdelivr.net/npm/vega-embed@6?noext\",\n",
       "    };\n",
       "\n",
       "    function maybeLoadScript(lib, version) {\n",
       "      var key = `${lib.replace(\"-\", \"\")}_version`;\n",
       "      return (VEGA_DEBUG[key] == version) ?\n",
       "        Promise.resolve(paths[lib]) :\n",
       "        new Promise(function(resolve, reject) {\n",
       "          var s = document.createElement('script');\n",
       "          document.getElementsByTagName(\"head\")[0].appendChild(s);\n",
       "          s.async = true;\n",
       "          s.onload = () => {\n",
       "            VEGA_DEBUG[key] = version;\n",
       "            return resolve(paths[lib]);\n",
       "          };\n",
       "          s.onerror = () => reject(`Error loading script: ${paths[lib]}`);\n",
       "          s.src = paths[lib];\n",
       "        });\n",
       "    }\n",
       "\n",
       "    function showError(err) {\n",
       "      outputDiv.innerHTML = `<div class=\"error\" style=\"color:red;\">${err}</div>`;\n",
       "      throw err;\n",
       "    }\n",
       "\n",
       "    function displayChart(vegaEmbed) {\n",
       "      vegaEmbed(outputDiv, spec, embedOpt)\n",
       "        .catch(err => showError(`Javascript Error: ${err.message}<br>This usually means there's a typo in your chart specification. See the javascript console for the full traceback.`));\n",
       "    }\n",
       "\n",
       "    if(typeof define === \"function\" && define.amd) {\n",
       "      requirejs.config({paths});\n",
       "      require([\"vega-embed\"], displayChart, err => showError(`Error loading script: ${err.message}`));\n",
       "    } else {\n",
       "      maybeLoadScript(\"vega\", \"5\")\n",
       "        .then(() => maybeLoadScript(\"vega-lite\", \"5.15.1\"))\n",
       "        .then(() => maybeLoadScript(\"vega-embed\", \"6\"))\n",
       "        .catch(showError)\n",
       "        .then(() => displayChart(vegaEmbed));\n",
       "    }\n",
       "  })({\"config\": {\"view\": {\"continuousWidth\": 300, \"continuousHeight\": 300}}, \"vconcat\": [{\"data\": {\"name\": \"data-5b3db4eddc1856d23de8a11a5ab58967\"}, \"mark\": {\"type\": \"bar\"}, \"encoding\": {\"color\": {\"field\": \"Job Type\", \"title\": \"Job Type\", \"type\": \"nominal\"}, \"x\": {\"field\": \"Posting Year\", \"title\": \"Posting Year\", \"type\": \"nominal\"}, \"y\": {\"aggregate\": \"sum\", \"field\": \"Listing Count\", \"title\": \"Listing Count\", \"type\": \"quantitative\"}}, \"height\": 400, \"title\": \"Listing Count by Job Type Over Time\", \"width\": 600}, {\"data\": {\"name\": \"data-3762e27942eff41b8f823b96796ef2a6\"}, \"mark\": {\"type\": \"bar\"}, \"encoding\": {\"color\": {\"field\": \"Job Type\", \"title\": \"Job Type\", \"type\": \"nominal\"}, \"x\": {\"field\": \"Posting Year\", \"title\": \"Posting Year\", \"type\": \"nominal\"}, \"y\": {\"field\": \"Percentage\", \"title\": \"Percentage of Listings (%)\", \"type\": \"quantitative\"}}, \"height\": 400, \"title\": \"Listing Count by Job Type Over Time\", \"width\": 600}], \"$schema\": \"https://vega.github.io/schema/vega-lite/v5.15.1.json\", \"datasets\": {\"data-5b3db4eddc1856d23de8a11a5ab58967\": [{\"Posting Year\": 2019, \"Job Type\": \"Full-time\", \"Listing Count\": 3395}, {\"Posting Year\": 2023, \"Job Type\": \"Full-time\", \"Listing Count\": 7327}, {\"Posting Year\": 2019, \"Job Type\": \"Contract\", \"Listing Count\": 488}, {\"Posting Year\": 2023, \"Job Type\": \"Contract\", \"Listing Count\": 307}, {\"Posting Year\": 2019, \"Job Type\": \"Internship\", \"Listing Count\": 2}, {\"Posting Year\": 2023, \"Job Type\": \"Internship\", \"Listing Count\": 151}, {\"Posting Year\": 2019, \"Job Type\": \"Part-time\", \"Listing Count\": 6}, {\"Posting Year\": 2023, \"Job Type\": \"Part-time\", \"Listing Count\": 52}], \"data-3762e27942eff41b8f823b96796ef2a6\": [{\"Posting Year\": 2019, \"Job Type\": \"Full-time\", \"Percentage\": 87.2526342842457}, {\"Posting Year\": 2023, \"Job Type\": \"Full-time\", \"Percentage\": 93.49240780911063}, {\"Posting Year\": 2019, \"Job Type\": \"Contract\", \"Percentage\": 12.541763042919557}, {\"Posting Year\": 2023, \"Job Type\": \"Contract\", \"Percentage\": 3.9173152992216407}, {\"Posting Year\": 2019, \"Job Type\": \"Internship\", \"Percentage\": 0.05140066820868672}, {\"Posting Year\": 2023, \"Job Type\": \"Internship\", \"Percentage\": 1.9267576878907746}, {\"Posting Year\": 2019, \"Job Type\": \"Part-time\", \"Percentage\": 0.15420200462606012}, {\"Posting Year\": 2023, \"Job Type\": \"Part-time\", \"Percentage\": 0.6635192037769555}]}}, {\"mode\": \"vega-lite\"});\n",
       "</script>"
      ],
      "text/plain": [
       "alt.VConcatChart(...)"
      ]
     },
     "execution_count": 118,
     "metadata": {},
     "output_type": "execute_result"
    }
   ],
   "source": [
    "stacked_bar_job_type & stacked_bar_job_type_pct"
   ]
  },
  {
   "cell_type": "markdown",
   "id": "9d551add-312e-4c12-a034-c8d317213d56",
   "metadata": {},
   "source": [
    "## Create plots of experience level"
   ]
  },
  {
   "cell_type": "code",
   "execution_count": 119,
   "id": "f8fc6c67-5dd9-4ba4-bbeb-1adc2b8d07d5",
   "metadata": {},
   "outputs": [
    {
     "data": {
      "text/plain": [
       "Index(['Unnamed: 0', 'source_id', 'original_record_id',\n",
       "       'original_job_posting_site', 'original_job_title', 'cleansed_job_title',\n",
       "       'original_company_name', 'original_industry', 'City', 'State',\n",
       "       'Country', 'original_salary', 'cleansed_salary_min',\n",
       "       'cleansed_salary_max', 'cleansed_salary_avg', 'original_job_type',\n",
       "       'original_work_type', 'original_job_description1',\n",
       "       'original_job_description2', 'posting_date', 'cleansed_job_type',\n",
       "       'isContract', 'isInternship', 'isEntryLevel', 'isMidSeniorLevel',\n",
       "       'posting_year'],\n",
       "      dtype='object')"
      ]
     },
     "execution_count": 119,
     "metadata": {},
     "output_type": "execute_result"
    }
   ],
   "source": [
    "df_job_type.columns"
   ]
  },
  {
   "cell_type": "code",
   "execution_count": 124,
   "id": "dcbe76d8-cc35-4f85-86a7-43bb1113fc5e",
   "metadata": {},
   "outputs": [
    {
     "ename": "KeyError",
     "evalue": "1.0",
     "output_type": "error",
     "traceback": [
      "\u001b[0;31m---------------------------------------------------------------------------\u001b[0m",
      "\u001b[0;31mKeyError\u001b[0m                                  Traceback (most recent call last)",
      "File \u001b[0;32m~/.pyenv/versions/3.11.1/lib/python3.11/site-packages/pandas/core/indexes/base.py:3790\u001b[0m, in \u001b[0;36mIndex.get_loc\u001b[0;34m(self, key)\u001b[0m\n\u001b[1;32m   3789\u001b[0m \u001b[38;5;28;01mtry\u001b[39;00m:\n\u001b[0;32m-> 3790\u001b[0m     \u001b[38;5;28;01mreturn\u001b[39;00m \u001b[38;5;28;43mself\u001b[39;49m\u001b[38;5;241;43m.\u001b[39;49m\u001b[43m_engine\u001b[49m\u001b[38;5;241;43m.\u001b[39;49m\u001b[43mget_loc\u001b[49m\u001b[43m(\u001b[49m\u001b[43mcasted_key\u001b[49m\u001b[43m)\u001b[49m\n\u001b[1;32m   3791\u001b[0m \u001b[38;5;28;01mexcept\u001b[39;00m \u001b[38;5;167;01mKeyError\u001b[39;00m \u001b[38;5;28;01mas\u001b[39;00m err:\n",
      "File \u001b[0;32mindex.pyx:152\u001b[0m, in \u001b[0;36mpandas._libs.index.IndexEngine.get_loc\u001b[0;34m()\u001b[0m\n",
      "File \u001b[0;32mindex.pyx:181\u001b[0m, in \u001b[0;36mpandas._libs.index.IndexEngine.get_loc\u001b[0;34m()\u001b[0m\n",
      "File \u001b[0;32mpandas/_libs/hashtable_class_helper.pxi:1698\u001b[0m, in \u001b[0;36mpandas._libs.hashtable.Float64HashTable.get_item\u001b[0;34m()\u001b[0m\n",
      "File \u001b[0;32mpandas/_libs/hashtable_class_helper.pxi:1722\u001b[0m, in \u001b[0;36mpandas._libs.hashtable.Float64HashTable.get_item\u001b[0;34m()\u001b[0m\n",
      "\u001b[0;31mKeyError\u001b[0m: 1.0",
      "\nThe above exception was the direct cause of the following exception:\n",
      "\u001b[0;31mKeyError\u001b[0m                                  Traceback (most recent call last)",
      "Cell \u001b[0;32mIn[124], line 1\u001b[0m\n\u001b[0;32m----> 1\u001b[0m \u001b[43mdf_job_type_2019\u001b[49m\u001b[43m[\u001b[49m\u001b[38;5;124;43m'\u001b[39;49m\u001b[38;5;124;43misEntryLevel\u001b[39;49m\u001b[38;5;124;43m'\u001b[39;49m\u001b[43m]\u001b[49m\u001b[38;5;241;43m.\u001b[39;49m\u001b[43mvalue_counts\u001b[49m\u001b[43m(\u001b[49m\u001b[43m)\u001b[49m\u001b[43m[\u001b[49m\u001b[38;5;241;43m1.0\u001b[39;49m\u001b[43m]\u001b[49m\n",
      "File \u001b[0;32m~/.pyenv/versions/3.11.1/lib/python3.11/site-packages/pandas/core/series.py:1040\u001b[0m, in \u001b[0;36mSeries.__getitem__\u001b[0;34m(self, key)\u001b[0m\n\u001b[1;32m   1037\u001b[0m     \u001b[38;5;28;01mreturn\u001b[39;00m \u001b[38;5;28mself\u001b[39m\u001b[38;5;241m.\u001b[39m_values[key]\n\u001b[1;32m   1039\u001b[0m \u001b[38;5;28;01melif\u001b[39;00m key_is_scalar:\n\u001b[0;32m-> 1040\u001b[0m     \u001b[38;5;28;01mreturn\u001b[39;00m \u001b[38;5;28;43mself\u001b[39;49m\u001b[38;5;241;43m.\u001b[39;49m\u001b[43m_get_value\u001b[49m\u001b[43m(\u001b[49m\u001b[43mkey\u001b[49m\u001b[43m)\u001b[49m\n\u001b[1;32m   1042\u001b[0m \u001b[38;5;66;03m# Convert generator to list before going through hashable part\u001b[39;00m\n\u001b[1;32m   1043\u001b[0m \u001b[38;5;66;03m# (We will iterate through the generator there to check for slices)\u001b[39;00m\n\u001b[1;32m   1044\u001b[0m \u001b[38;5;28;01mif\u001b[39;00m is_iterator(key):\n",
      "File \u001b[0;32m~/.pyenv/versions/3.11.1/lib/python3.11/site-packages/pandas/core/series.py:1156\u001b[0m, in \u001b[0;36mSeries._get_value\u001b[0;34m(self, label, takeable)\u001b[0m\n\u001b[1;32m   1153\u001b[0m     \u001b[38;5;28;01mreturn\u001b[39;00m \u001b[38;5;28mself\u001b[39m\u001b[38;5;241m.\u001b[39m_values[label]\n\u001b[1;32m   1155\u001b[0m \u001b[38;5;66;03m# Similar to Index.get_value, but we do not fall back to positional\u001b[39;00m\n\u001b[0;32m-> 1156\u001b[0m loc \u001b[38;5;241m=\u001b[39m \u001b[38;5;28;43mself\u001b[39;49m\u001b[38;5;241;43m.\u001b[39;49m\u001b[43mindex\u001b[49m\u001b[38;5;241;43m.\u001b[39;49m\u001b[43mget_loc\u001b[49m\u001b[43m(\u001b[49m\u001b[43mlabel\u001b[49m\u001b[43m)\u001b[49m\n\u001b[1;32m   1158\u001b[0m \u001b[38;5;28;01mif\u001b[39;00m is_integer(loc):\n\u001b[1;32m   1159\u001b[0m     \u001b[38;5;28;01mreturn\u001b[39;00m \u001b[38;5;28mself\u001b[39m\u001b[38;5;241m.\u001b[39m_values[loc]\n",
      "File \u001b[0;32m~/.pyenv/versions/3.11.1/lib/python3.11/site-packages/pandas/core/indexes/base.py:3797\u001b[0m, in \u001b[0;36mIndex.get_loc\u001b[0;34m(self, key)\u001b[0m\n\u001b[1;32m   3792\u001b[0m     \u001b[38;5;28;01mif\u001b[39;00m \u001b[38;5;28misinstance\u001b[39m(casted_key, \u001b[38;5;28mslice\u001b[39m) \u001b[38;5;129;01mor\u001b[39;00m (\n\u001b[1;32m   3793\u001b[0m         \u001b[38;5;28misinstance\u001b[39m(casted_key, abc\u001b[38;5;241m.\u001b[39mIterable)\n\u001b[1;32m   3794\u001b[0m         \u001b[38;5;129;01mand\u001b[39;00m \u001b[38;5;28many\u001b[39m(\u001b[38;5;28misinstance\u001b[39m(x, \u001b[38;5;28mslice\u001b[39m) \u001b[38;5;28;01mfor\u001b[39;00m x \u001b[38;5;129;01min\u001b[39;00m casted_key)\n\u001b[1;32m   3795\u001b[0m     ):\n\u001b[1;32m   3796\u001b[0m         \u001b[38;5;28;01mraise\u001b[39;00m InvalidIndexError(key)\n\u001b[0;32m-> 3797\u001b[0m     \u001b[38;5;28;01mraise\u001b[39;00m \u001b[38;5;167;01mKeyError\u001b[39;00m(key) \u001b[38;5;28;01mfrom\u001b[39;00m \u001b[38;5;21;01merr\u001b[39;00m\n\u001b[1;32m   3798\u001b[0m \u001b[38;5;28;01mexcept\u001b[39;00m \u001b[38;5;167;01mTypeError\u001b[39;00m:\n\u001b[1;32m   3799\u001b[0m     \u001b[38;5;66;03m# If we have a listlike key, _check_indexing_error will raise\u001b[39;00m\n\u001b[1;32m   3800\u001b[0m     \u001b[38;5;66;03m#  InvalidIndexError. Otherwise we fall through and re-raise\u001b[39;00m\n\u001b[1;32m   3801\u001b[0m     \u001b[38;5;66;03m#  the TypeError.\u001b[39;00m\n\u001b[1;32m   3802\u001b[0m     \u001b[38;5;28mself\u001b[39m\u001b[38;5;241m.\u001b[39m_check_indexing_error(key)\n",
      "\u001b[0;31mKeyError\u001b[0m: 1.0"
     ]
    }
   ],
   "source": [
    "df_job_type_2019['isEntryLevel'].value_counts()[1.0]"
   ]
  },
  {
   "cell_type": "code",
   "execution_count": 135,
   "id": "1c5115df-400c-4917-85e2-ccd5edd17b8d",
   "metadata": {},
   "outputs": [
    {
     "data": {
      "text/plain": [
       "{'Contract', 'Full-time', 'Internship', 'Part-time'}"
      ]
     },
     "execution_count": 135,
     "metadata": {},
     "output_type": "execute_result"
    }
   ],
   "source": [
    "set(df_job_type[df_job_type['isEntryLevel'] == 1.0]['posting_year'])"
   ]
  },
  {
   "cell_type": "code",
   "execution_count": null,
   "id": "5b57ba56-f46b-431c-8686-fe62c9e6ddc1",
   "metadata": {},
   "outputs": [],
   "source": [
    "set(df_job_type[df_job_type['is'] == 1.0]['posting_year'])"
   ]
  },
  {
   "cell_type": "code",
   "execution_count": 143,
   "id": "63d8c838-6c84-4938-a080-c4a04cecdad0",
   "metadata": {},
   "outputs": [
    {
     "data": {
      "text/plain": [
       "isEntryLevel\n",
       "0.0    3891\n",
       "Name: count, dtype: int64"
      ]
     },
     "execution_count": 143,
     "metadata": {},
     "output_type": "execute_result"
    }
   ],
   "source": [
    "df_job_type_2019['isEntryLevel'].value_counts()"
   ]
  },
  {
   "cell_type": "code",
   "execution_count": 142,
   "id": "da1715af-307f-410d-8d69-03ecbf825620",
   "metadata": {},
   "outputs": [
    {
     "data": {
      "text/plain": [
       "isEntryLevel\n",
       "0.0    7639\n",
       "1.0     198\n",
       "Name: count, dtype: int64"
      ]
     },
     "execution_count": 142,
     "metadata": {},
     "output_type": "execute_result"
    }
   ],
   "source": [
    "df_job_type_2023['isEntryLevel'].value_counts()"
   ]
  },
  {
   "cell_type": "code",
   "execution_count": 144,
   "id": "2a5681b2-335e-45c3-8ccf-cd83481f47ba",
   "metadata": {},
   "outputs": [
    {
     "data": {
      "text/plain": [
       "isMidSeniorLevel\n",
       "0.0    3891\n",
       "Name: count, dtype: int64"
      ]
     },
     "execution_count": 144,
     "metadata": {},
     "output_type": "execute_result"
    }
   ],
   "source": [
    "df_job_type_2019['isMidSeniorLevel'].value_counts()"
   ]
  },
  {
   "cell_type": "code",
   "execution_count": 145,
   "id": "a16d480c-3604-46c7-b52a-9611a1daf1ac",
   "metadata": {
    "scrolled": true
   },
   "outputs": [
    {
     "data": {
      "text/plain": [
       "isMidSeniorLevel\n",
       "0.0    7837\n",
       "Name: count, dtype: int64"
      ]
     },
     "execution_count": 145,
     "metadata": {},
     "output_type": "execute_result"
    }
   ],
   "source": [
    "df_job_type_2023['isMidSeniorLevel'].value_counts()"
   ]
  },
  {
   "cell_type": "code",
   "execution_count": 146,
   "id": "2efa75c4-b33e-4c36-a65c-a60a1d77324d",
   "metadata": {},
   "outputs": [
    {
     "data": {
      "text/plain": [
       "isMidSeniorLevel\n",
       "0.0    11728\n",
       "Name: count, dtype: int64"
      ]
     },
     "execution_count": 146,
     "metadata": {},
     "output_type": "execute_result"
    }
   ],
   "source": [
    "df_job_type['isMidSeniorLevel'].value_counts()"
   ]
  },
  {
   "cell_type": "code",
   "execution_count": 141,
   "id": "75beb09a-4d5e-4aaa-a41f-0182df7e5554",
   "metadata": {},
   "outputs": [
    {
     "ename": "KeyError",
     "evalue": "1.0",
     "output_type": "error",
     "traceback": [
      "\u001b[0;31m---------------------------------------------------------------------------\u001b[0m",
      "\u001b[0;31mKeyError\u001b[0m                                  Traceback (most recent call last)",
      "File \u001b[0;32m~/.pyenv/versions/3.11.1/lib/python3.11/site-packages/pandas/core/indexes/base.py:3790\u001b[0m, in \u001b[0;36mIndex.get_loc\u001b[0;34m(self, key)\u001b[0m\n\u001b[1;32m   3789\u001b[0m \u001b[38;5;28;01mtry\u001b[39;00m:\n\u001b[0;32m-> 3790\u001b[0m     \u001b[38;5;28;01mreturn\u001b[39;00m \u001b[38;5;28;43mself\u001b[39;49m\u001b[38;5;241;43m.\u001b[39;49m\u001b[43m_engine\u001b[49m\u001b[38;5;241;43m.\u001b[39;49m\u001b[43mget_loc\u001b[49m\u001b[43m(\u001b[49m\u001b[43mcasted_key\u001b[49m\u001b[43m)\u001b[49m\n\u001b[1;32m   3791\u001b[0m \u001b[38;5;28;01mexcept\u001b[39;00m \u001b[38;5;167;01mKeyError\u001b[39;00m \u001b[38;5;28;01mas\u001b[39;00m err:\n",
      "File \u001b[0;32mindex.pyx:152\u001b[0m, in \u001b[0;36mpandas._libs.index.IndexEngine.get_loc\u001b[0;34m()\u001b[0m\n",
      "File \u001b[0;32mindex.pyx:181\u001b[0m, in \u001b[0;36mpandas._libs.index.IndexEngine.get_loc\u001b[0;34m()\u001b[0m\n",
      "File \u001b[0;32mpandas/_libs/hashtable_class_helper.pxi:1698\u001b[0m, in \u001b[0;36mpandas._libs.hashtable.Float64HashTable.get_item\u001b[0;34m()\u001b[0m\n",
      "File \u001b[0;32mpandas/_libs/hashtable_class_helper.pxi:1722\u001b[0m, in \u001b[0;36mpandas._libs.hashtable.Float64HashTable.get_item\u001b[0;34m()\u001b[0m\n",
      "\u001b[0;31mKeyError\u001b[0m: 1.0",
      "\nThe above exception was the direct cause of the following exception:\n",
      "\u001b[0;31mKeyError\u001b[0m                                  Traceback (most recent call last)",
      "Cell \u001b[0;32mIn[141], line 14\u001b[0m\n\u001b[1;32m     10\u001b[0m \u001b[38;5;66;03m# Generate counts\u001b[39;00m\n\u001b[1;32m     11\u001b[0m \u001b[38;5;66;03m# data_stacked_experience['Mid-Senior-level'].append(df_job_type_2019['isMidSeniorLevel'].value_counts()[1.0])\u001b[39;00m\n\u001b[1;32m     12\u001b[0m data_stacked_experience[\u001b[38;5;124m'\u001b[39m\u001b[38;5;124mMid-Senior-level\u001b[39m\u001b[38;5;124m'\u001b[39m]\u001b[38;5;241m.\u001b[39mappend(\u001b[38;5;241m0\u001b[39m)\n\u001b[0;32m---> 14\u001b[0m data_stacked_experience[\u001b[38;5;124m'\u001b[39m\u001b[38;5;124mMid-Senior-level\u001b[39m\u001b[38;5;124m'\u001b[39m]\u001b[38;5;241m.\u001b[39mappend(\u001b[43mdf_job_type_2023\u001b[49m\u001b[43m[\u001b[49m\u001b[38;5;124;43m'\u001b[39;49m\u001b[38;5;124;43misMidSeniorLevel\u001b[39;49m\u001b[38;5;124;43m'\u001b[39;49m\u001b[43m]\u001b[49m\u001b[38;5;241;43m.\u001b[39;49m\u001b[43mvalue_counts\u001b[49m\u001b[43m(\u001b[49m\u001b[43m)\u001b[49m\u001b[43m[\u001b[49m\u001b[38;5;241;43m1.0\u001b[39;49m\u001b[43m]\u001b[49m)\n\u001b[1;32m     16\u001b[0m data_stacked_experience[\u001b[38;5;124m'\u001b[39m\u001b[38;5;124mContract\u001b[39m\u001b[38;5;124m'\u001b[39m]\u001b[38;5;241m.\u001b[39mappend(df_job_type_2019_counts[\u001b[38;5;124m'\u001b[39m\u001b[38;5;124mContract\u001b[39m\u001b[38;5;124m'\u001b[39m])\n\u001b[1;32m     17\u001b[0m data_stacked_experience[\u001b[38;5;124m'\u001b[39m\u001b[38;5;124mContract\u001b[39m\u001b[38;5;124m'\u001b[39m]\u001b[38;5;241m.\u001b[39mappend(df_job_type_2023_counts[\u001b[38;5;124m'\u001b[39m\u001b[38;5;124mContract\u001b[39m\u001b[38;5;124m'\u001b[39m])\n",
      "File \u001b[0;32m~/.pyenv/versions/3.11.1/lib/python3.11/site-packages/pandas/core/series.py:1040\u001b[0m, in \u001b[0;36mSeries.__getitem__\u001b[0;34m(self, key)\u001b[0m\n\u001b[1;32m   1037\u001b[0m     \u001b[38;5;28;01mreturn\u001b[39;00m \u001b[38;5;28mself\u001b[39m\u001b[38;5;241m.\u001b[39m_values[key]\n\u001b[1;32m   1039\u001b[0m \u001b[38;5;28;01melif\u001b[39;00m key_is_scalar:\n\u001b[0;32m-> 1040\u001b[0m     \u001b[38;5;28;01mreturn\u001b[39;00m \u001b[38;5;28;43mself\u001b[39;49m\u001b[38;5;241;43m.\u001b[39;49m\u001b[43m_get_value\u001b[49m\u001b[43m(\u001b[49m\u001b[43mkey\u001b[49m\u001b[43m)\u001b[49m\n\u001b[1;32m   1042\u001b[0m \u001b[38;5;66;03m# Convert generator to list before going through hashable part\u001b[39;00m\n\u001b[1;32m   1043\u001b[0m \u001b[38;5;66;03m# (We will iterate through the generator there to check for slices)\u001b[39;00m\n\u001b[1;32m   1044\u001b[0m \u001b[38;5;28;01mif\u001b[39;00m is_iterator(key):\n",
      "File \u001b[0;32m~/.pyenv/versions/3.11.1/lib/python3.11/site-packages/pandas/core/series.py:1156\u001b[0m, in \u001b[0;36mSeries._get_value\u001b[0;34m(self, label, takeable)\u001b[0m\n\u001b[1;32m   1153\u001b[0m     \u001b[38;5;28;01mreturn\u001b[39;00m \u001b[38;5;28mself\u001b[39m\u001b[38;5;241m.\u001b[39m_values[label]\n\u001b[1;32m   1155\u001b[0m \u001b[38;5;66;03m# Similar to Index.get_value, but we do not fall back to positional\u001b[39;00m\n\u001b[0;32m-> 1156\u001b[0m loc \u001b[38;5;241m=\u001b[39m \u001b[38;5;28;43mself\u001b[39;49m\u001b[38;5;241;43m.\u001b[39;49m\u001b[43mindex\u001b[49m\u001b[38;5;241;43m.\u001b[39;49m\u001b[43mget_loc\u001b[49m\u001b[43m(\u001b[49m\u001b[43mlabel\u001b[49m\u001b[43m)\u001b[49m\n\u001b[1;32m   1158\u001b[0m \u001b[38;5;28;01mif\u001b[39;00m is_integer(loc):\n\u001b[1;32m   1159\u001b[0m     \u001b[38;5;28;01mreturn\u001b[39;00m \u001b[38;5;28mself\u001b[39m\u001b[38;5;241m.\u001b[39m_values[loc]\n",
      "File \u001b[0;32m~/.pyenv/versions/3.11.1/lib/python3.11/site-packages/pandas/core/indexes/base.py:3797\u001b[0m, in \u001b[0;36mIndex.get_loc\u001b[0;34m(self, key)\u001b[0m\n\u001b[1;32m   3792\u001b[0m     \u001b[38;5;28;01mif\u001b[39;00m \u001b[38;5;28misinstance\u001b[39m(casted_key, \u001b[38;5;28mslice\u001b[39m) \u001b[38;5;129;01mor\u001b[39;00m (\n\u001b[1;32m   3793\u001b[0m         \u001b[38;5;28misinstance\u001b[39m(casted_key, abc\u001b[38;5;241m.\u001b[39mIterable)\n\u001b[1;32m   3794\u001b[0m         \u001b[38;5;129;01mand\u001b[39;00m \u001b[38;5;28many\u001b[39m(\u001b[38;5;28misinstance\u001b[39m(x, \u001b[38;5;28mslice\u001b[39m) \u001b[38;5;28;01mfor\u001b[39;00m x \u001b[38;5;129;01min\u001b[39;00m casted_key)\n\u001b[1;32m   3795\u001b[0m     ):\n\u001b[1;32m   3796\u001b[0m         \u001b[38;5;28;01mraise\u001b[39;00m InvalidIndexError(key)\n\u001b[0;32m-> 3797\u001b[0m     \u001b[38;5;28;01mraise\u001b[39;00m \u001b[38;5;167;01mKeyError\u001b[39;00m(key) \u001b[38;5;28;01mfrom\u001b[39;00m \u001b[38;5;21;01merr\u001b[39;00m\n\u001b[1;32m   3798\u001b[0m \u001b[38;5;28;01mexcept\u001b[39;00m \u001b[38;5;167;01mTypeError\u001b[39;00m:\n\u001b[1;32m   3799\u001b[0m     \u001b[38;5;66;03m# If we have a listlike key, _check_indexing_error will raise\u001b[39;00m\n\u001b[1;32m   3800\u001b[0m     \u001b[38;5;66;03m#  InvalidIndexError. Otherwise we fall through and re-raise\u001b[39;00m\n\u001b[1;32m   3801\u001b[0m     \u001b[38;5;66;03m#  the TypeError.\u001b[39;00m\n\u001b[1;32m   3802\u001b[0m     \u001b[38;5;28mself\u001b[39m\u001b[38;5;241m.\u001b[39m_check_indexing_error(key)\n",
      "\u001b[0;31mKeyError\u001b[0m: 1.0"
     ]
    }
   ],
   "source": [
    "# Generate the stacked data\n",
    "data_stacked_experience = {\n",
    "    'Posting Year': [2019, 2023],\n",
    "    'Mid-Senior-level': [],\n",
    "    'Entry-level': [],\n",
    "    'Contract': [],\n",
    "    'Internship': []\n",
    "}\n",
    "\n",
    "# Generate counts\n",
    "# data_stacked_experience['Mid-Senior-level'].append(df_job_type_2019['isMidSeniorLevel'].value_counts()[1.0])\n",
    "data_stacked_experience['Mid-Senior-level'].append(0)\n",
    "\n",
    "data_stacked_experience['Mid-Senior-level'].append(df_job_type_2023['isMidSeniorLevel'].value_counts()[1.0])\n",
    "\n",
    "data_stacked_experience['Contract'].append(df_job_type_2019_counts['Contract'])\n",
    "data_stacked_experience['Contract'].append(df_job_type_2023_counts['Contract'])\n",
    "\n",
    "data_stacked_experience['Internship'].append(df_job_type_2019_counts['Internship'])\n",
    "data_stacked_experience['Internship'].append(df_job_type_2023_counts['Internship'])\n",
    "\n",
    "data_stacked_experience['Entry-level'].append(df_job_type_2019['isEntryLevel'].value_counts()[1.0])\n",
    "data_stacked_experience['Entry-level'].append(df_job_type_2023['isEntryLevel'].value_counts()[1.0])\n",
    "\n",
    "data_stacked_experience = pd.DataFrame(data_stacked_experience)\n",
    "data_stacked_experience"
   ]
  },
  {
   "cell_type": "code",
   "execution_count": null,
   "id": "d875203e-6b71-4bf3-b876-1dd315badf1c",
   "metadata": {},
   "outputs": [],
   "source": []
  }
 ],
 "metadata": {
  "kernelspec": {
   "display_name": "Python 3 (ipykernel)",
   "language": "python",
   "name": "python3"
  },
  "language_info": {
   "codemirror_mode": {
    "name": "ipython",
    "version": 3
   },
   "file_extension": ".py",
   "mimetype": "text/x-python",
   "name": "python",
   "nbconvert_exporter": "python",
   "pygments_lexer": "ipython3",
   "version": "3.11.5"
  }
 },
 "nbformat": 4,
 "nbformat_minor": 5
}
