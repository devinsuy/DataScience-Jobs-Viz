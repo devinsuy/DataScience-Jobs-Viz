{
 "cells": [
  {
   "cell_type": "code",
   "execution_count": 1,
   "id": "2bae5663",
   "metadata": {},
   "outputs": [],
   "source": [
    "import pandas as pd\n",
    "import matplotlib.pyplot as plt"
   ]
  },
  {
   "cell_type": "code",
   "execution_count": 2,
   "id": "36334c64",
   "metadata": {},
   "outputs": [],
   "source": [
    "DATA_DIR = '../../../data/Data_Science_Listings'"
   ]
  },
  {
   "cell_type": "code",
   "execution_count": 3,
   "id": "039c866c",
   "metadata": {},
   "outputs": [],
   "source": [
    "df = pd.read_csv(f'{DATA_DIR}/Data_Scientist_Job_Listings_Data.csv')"
   ]
  },
  {
   "cell_type": "code",
   "execution_count": 5,
   "id": "761001c7",
   "metadata": {},
   "outputs": [
    {
     "data": {
      "text/html": [
       "<div>\n",
       "<style scoped>\n",
       "    .dataframe tbody tr th:only-of-type {\n",
       "        vertical-align: middle;\n",
       "    }\n",
       "\n",
       "    .dataframe tbody tr th {\n",
       "        vertical-align: top;\n",
       "    }\n",
       "\n",
       "    .dataframe thead th {\n",
       "        text-align: right;\n",
       "    }\n",
       "</style>\n",
       "<table border=\"1\" class=\"dataframe\">\n",
       "  <thead>\n",
       "    <tr style=\"text-align: right;\">\n",
       "      <th></th>\n",
       "      <th>Unnamed: 0</th>\n",
       "      <th>source_id</th>\n",
       "      <th>original_record_id</th>\n",
       "      <th>original_job_posting_site</th>\n",
       "      <th>original_job_title</th>\n",
       "      <th>cleansed_job_title</th>\n",
       "      <th>original_company_name</th>\n",
       "      <th>original_industry</th>\n",
       "      <th>City</th>\n",
       "      <th>State</th>\n",
       "      <th>Country</th>\n",
       "      <th>original_salary</th>\n",
       "      <th>cleansed_salary_min</th>\n",
       "      <th>cleansed_salary_max</th>\n",
       "      <th>cleansed_salary_avg</th>\n",
       "      <th>original_job_type</th>\n",
       "      <th>original_work_type</th>\n",
       "      <th>original_job_description1</th>\n",
       "      <th>original_job_description2</th>\n",
       "      <th>posting_date</th>\n",
       "    </tr>\n",
       "  </thead>\n",
       "  <tbody>\n",
       "    <tr>\n",
       "      <th>0</th>\n",
       "      <td>0</td>\n",
       "      <td>1</td>\n",
       "      <td>0</td>\n",
       "      <td>INDEED</td>\n",
       "      <td>Data Scientist</td>\n",
       "      <td>data scientist</td>\n",
       "      <td>Driven Brands</td>\n",
       "      <td>NaN</td>\n",
       "      <td>Benicia</td>\n",
       "      <td>California</td>\n",
       "      <td>United States</td>\n",
       "      <td>NaN</td>\n",
       "      <td>NaN</td>\n",
       "      <td>NaN</td>\n",
       "      <td>NaN</td>\n",
       "      <td>Undefined</td>\n",
       "      <td>NaN</td>\n",
       "      <td>You’ll be working alongside a team of eight an...</td>\n",
       "      <td>We invite you to join us at Driven Brands!\\r\\n...</td>\n",
       "      <td>11/20/2022</td>\n",
       "    </tr>\n",
       "    <tr>\n",
       "      <th>1</th>\n",
       "      <td>1</td>\n",
       "      <td>1</td>\n",
       "      <td>1</td>\n",
       "      <td>INDEED</td>\n",
       "      <td>Business Analyst</td>\n",
       "      <td>analyst</td>\n",
       "      <td>Sabot Consulting</td>\n",
       "      <td>NaN</td>\n",
       "      <td>NaN</td>\n",
       "      <td>NaN</td>\n",
       "      <td>United States</td>\n",
       "      <td>$80 - $120 an hour</td>\n",
       "      <td>NaN</td>\n",
       "      <td>NaN</td>\n",
       "      <td>NaN</td>\n",
       "      <td>Undefined</td>\n",
       "      <td>Remote</td>\n",
       "      <td>Preferred candidates will have prior experienc...</td>\n",
       "      <td>Sabot Consulting (Sabot) is a management consu...</td>\n",
       "      <td>11/20/2022</td>\n",
       "    </tr>\n",
       "    <tr>\n",
       "      <th>2</th>\n",
       "      <td>2</td>\n",
       "      <td>1</td>\n",
       "      <td>2</td>\n",
       "      <td>INDEED</td>\n",
       "      <td>IT Business Intelligence Developer (FT) Remote...</td>\n",
       "      <td>data analytics</td>\n",
       "      <td>Ballad Health</td>\n",
       "      <td>NaN</td>\n",
       "      <td>Blountville</td>\n",
       "      <td>Tennessee</td>\n",
       "      <td>United States</td>\n",
       "      <td>NaN</td>\n",
       "      <td>NaN</td>\n",
       "      <td>NaN</td>\n",
       "      <td>NaN</td>\n",
       "      <td>Undefined</td>\n",
       "      <td>Remote</td>\n",
       "      <td>Job Details Apply Save Print this job Email a…</td>\n",
       "      <td>Job Details\\r\\nApply\\r\\nSave\\r\\nPrint this job...</td>\n",
       "      <td>11/20/2022</td>\n",
       "    </tr>\n",
       "    <tr>\n",
       "      <th>3</th>\n",
       "      <td>3</td>\n",
       "      <td>1</td>\n",
       "      <td>3</td>\n",
       "      <td>INDEED</td>\n",
       "      <td>Data Engineer</td>\n",
       "      <td>data engineer</td>\n",
       "      <td>Longevity Holdings Inc.</td>\n",
       "      <td>NaN</td>\n",
       "      <td>Minneapolis-Saint Paul</td>\n",
       "      <td>Minnesota</td>\n",
       "      <td>United States</td>\n",
       "      <td>$90,000 - $110,000 a year</td>\n",
       "      <td>90000.0</td>\n",
       "      <td>110000.0</td>\n",
       "      <td>100000.0</td>\n",
       "      <td>Undefined</td>\n",
       "      <td>Remote</td>\n",
       "      <td>Incorporate core data management competencies ...</td>\n",
       "      <td>Position: Data Engineer\\r\\nLocation: MN\\r\\nAs ...</td>\n",
       "      <td>11/20/2022</td>\n",
       "    </tr>\n",
       "    <tr>\n",
       "      <th>4</th>\n",
       "      <td>4</td>\n",
       "      <td>1</td>\n",
       "      <td>4</td>\n",
       "      <td>INDEED</td>\n",
       "      <td>Network Administrator/dba developer</td>\n",
       "      <td>na</td>\n",
       "      <td>WKI Kenworth</td>\n",
       "      <td>NaN</td>\n",
       "      <td>Wichita</td>\n",
       "      <td>Kansas</td>\n",
       "      <td>United States</td>\n",
       "      <td>$50,000 - $70,000 a year</td>\n",
       "      <td>50000.0</td>\n",
       "      <td>70000.0</td>\n",
       "      <td>60000.0</td>\n",
       "      <td>Undefined</td>\n",
       "      <td>NaN</td>\n",
       "      <td>The Network Administrator provides 2nd level e...</td>\n",
       "      <td>Full Job Description\\r\\nThe Network Administra...</td>\n",
       "      <td>11/20/2022</td>\n",
       "    </tr>\n",
       "  </tbody>\n",
       "</table>\n",
       "</div>"
      ],
      "text/plain": [
       "   Unnamed: 0  source_id original_record_id original_job_posting_site  \\\n",
       "0           0          1                  0                    INDEED   \n",
       "1           1          1                  1                    INDEED   \n",
       "2           2          1                  2                    INDEED   \n",
       "3           3          1                  3                    INDEED   \n",
       "4           4          1                  4                    INDEED   \n",
       "\n",
       "                                  original_job_title cleansed_job_title  \\\n",
       "0                                     Data Scientist     data scientist   \n",
       "1                                   Business Analyst            analyst   \n",
       "2  IT Business Intelligence Developer (FT) Remote...     data analytics   \n",
       "3                                      Data Engineer      data engineer   \n",
       "4                Network Administrator/dba developer                 na   \n",
       "\n",
       "     original_company_name original_industry                    City  \\\n",
       "0            Driven Brands               NaN                 Benicia   \n",
       "1         Sabot Consulting               NaN                     NaN   \n",
       "2            Ballad Health               NaN             Blountville   \n",
       "3  Longevity Holdings Inc.               NaN  Minneapolis-Saint Paul   \n",
       "4             WKI Kenworth               NaN                 Wichita   \n",
       "\n",
       "        State        Country            original_salary  cleansed_salary_min  \\\n",
       "0  California  United States                        NaN                  NaN   \n",
       "1         NaN  United States         $80 - $120 an hour                  NaN   \n",
       "2   Tennessee  United States                        NaN                  NaN   \n",
       "3   Minnesota  United States  $90,000 - $110,000 a year              90000.0   \n",
       "4      Kansas  United States   $50,000 - $70,000 a year              50000.0   \n",
       "\n",
       "   cleansed_salary_max  cleansed_salary_avg original_job_type  \\\n",
       "0                  NaN                  NaN         Undefined   \n",
       "1                  NaN                  NaN         Undefined   \n",
       "2                  NaN                  NaN         Undefined   \n",
       "3             110000.0             100000.0         Undefined   \n",
       "4              70000.0              60000.0         Undefined   \n",
       "\n",
       "  original_work_type                          original_job_description1  \\\n",
       "0                NaN  You’ll be working alongside a team of eight an...   \n",
       "1             Remote  Preferred candidates will have prior experienc...   \n",
       "2             Remote     Job Details Apply Save Print this job Email a…   \n",
       "3             Remote  Incorporate core data management competencies ...   \n",
       "4                NaN  The Network Administrator provides 2nd level e...   \n",
       "\n",
       "                           original_job_description2 posting_date  \n",
       "0  We invite you to join us at Driven Brands!\\r\\n...   11/20/2022  \n",
       "1  Sabot Consulting (Sabot) is a management consu...   11/20/2022  \n",
       "2  Job Details\\r\\nApply\\r\\nSave\\r\\nPrint this job...   11/20/2022  \n",
       "3  Position: Data Engineer\\r\\nLocation: MN\\r\\nAs ...   11/20/2022  \n",
       "4  Full Job Description\\r\\nThe Network Administra...   11/20/2022  "
      ]
     },
     "execution_count": 5,
     "metadata": {},
     "output_type": "execute_result"
    }
   ],
   "source": [
    "df.head()"
   ]
  },
  {
   "cell_type": "code",
   "execution_count": 7,
   "id": "4b76785b",
   "metadata": {},
   "outputs": [
    {
     "data": {
      "text/plain": [
       "(19868, 20)"
      ]
     },
     "execution_count": 7,
     "metadata": {},
     "output_type": "execute_result"
    }
   ],
   "source": [
    "df.shape"
   ]
  },
  {
   "cell_type": "code",
   "execution_count": 6,
   "id": "7c3026ba",
   "metadata": {
    "scrolled": true
   },
   "outputs": [
    {
     "data": {
      "text/plain": [
       "Index(['Unnamed: 0', 'source_id', 'original_record_id',\n",
       "       'original_job_posting_site', 'original_job_title', 'cleansed_job_title',\n",
       "       'original_company_name', 'original_industry', 'City', 'State',\n",
       "       'Country', 'original_salary', 'cleansed_salary_min',\n",
       "       'cleansed_salary_max', 'cleansed_salary_avg', 'original_job_type',\n",
       "       'original_work_type', 'original_job_description1',\n",
       "       'original_job_description2', 'posting_date'],\n",
       "      dtype='object')"
      ]
     },
     "execution_count": 6,
     "metadata": {},
     "output_type": "execute_result"
    }
   ],
   "source": [
    "df.columns"
   ]
  },
  {
   "cell_type": "code",
   "execution_count": 9,
   "id": "30ad3abc",
   "metadata": {},
   "outputs": [
    {
     "data": {
      "text/plain": [
       "(19868, 20)"
      ]
     },
     "execution_count": 9,
     "metadata": {},
     "output_type": "execute_result"
    }
   ],
   "source": [
    "df = df.dropna(subset=['posting_date'])\n",
    "df.shape"
   ]
  },
  {
   "cell_type": "markdown",
   "id": "6c8cf880",
   "metadata": {},
   "source": [
    "## Availability of data points over time "
   ]
  },
  {
   "cell_type": "code",
   "execution_count": 10,
   "id": "da88eb07",
   "metadata": {},
   "outputs": [],
   "source": [
    "df['posting_date'] = pd.to_datetime(df['posting_date'], format='%m/%d/%Y')"
   ]
  },
  {
   "cell_type": "code",
   "execution_count": 12,
   "id": "5e1cf7e1",
   "metadata": {},
   "outputs": [
    {
     "data": {
      "text/plain": [
       "0       2022-11-20\n",
       "1       2022-11-20\n",
       "2       2022-11-20\n",
       "3       2022-11-20\n",
       "4       2022-11-20\n",
       "           ...    \n",
       "19863   2023-06-15\n",
       "19864   2023-06-15\n",
       "19865   2023-06-15\n",
       "19866   2023-06-15\n",
       "19867   2023-06-15\n",
       "Name: posting_date, Length: 19868, dtype: datetime64[ns]"
      ]
     },
     "execution_count": 12,
     "metadata": {},
     "output_type": "execute_result"
    }
   ],
   "source": [
    "df['posting_date']"
   ]
  },
  {
   "cell_type": "code",
   "execution_count": 36,
   "id": "dccfe976",
   "metadata": {},
   "outputs": [
    {
     "data": {
      "text/plain": [
       "posting_date\n",
       "2017-06-15     742\n",
       "2019-02-06      48\n",
       "2019-02-07      55\n",
       "2019-02-08      70\n",
       "2019-02-09      49\n",
       "2019-02-10      20\n",
       "2019-02-11      19\n",
       "2019-02-12      52\n",
       "2019-02-13      63\n",
       "2019-02-14      39\n",
       "2019-02-15      52\n",
       "2019-02-16      46\n",
       "2019-02-17      13\n",
       "2019-02-18      20\n",
       "2019-02-19      59\n",
       "2019-02-20      54\n",
       "2019-02-21      41\n",
       "2019-02-22      25\n",
       "2019-02-23       1\n",
       "2019-02-24      25\n",
       "2019-02-25      11\n",
       "2019-02-26      26\n",
       "2019-02-27      30\n",
       "2019-02-28      26\n",
       "2019-03-01      41\n",
       "2019-03-02      28\n",
       "2019-03-03       8\n",
       "2019-03-04       3\n",
       "2019-03-05      11\n",
       "2019-03-06      26\n",
       "2019-03-07      24\n",
       "2019-03-08      21\n",
       "2019-03-09      12\n",
       "2019-03-10      10\n",
       "2019-03-11       4\n",
       "2019-03-12      24\n",
       "2019-03-13      21\n",
       "2019-03-14      35\n",
       "2019-03-15      27\n",
       "2019-03-16      29\n",
       "2019-03-17       9\n",
       "2019-03-18       8\n",
       "2019-03-19      26\n",
       "2019-03-20      22\n",
       "2019-03-21      21\n",
       "2019-03-22      27\n",
       "2019-03-23      26\n",
       "2019-03-24      10\n",
       "2019-03-25       5\n",
       "2019-03-26      28\n",
       "2019-03-27      23\n",
       "2019-03-28       8\n",
       "2019-03-29       9\n",
       "2019-03-30       8\n",
       "2019-04-01       8\n",
       "2019-04-02      53\n",
       "2019-04-03      32\n",
       "2019-04-04      36\n",
       "2019-04-05      32\n",
       "2019-04-06      19\n",
       "2019-04-08       2\n",
       "2019-04-09      14\n",
       "2019-04-10      23\n",
       "2019-04-11      23\n",
       "2019-04-12      29\n",
       "2019-04-13      26\n",
       "2019-04-14      13\n",
       "2019-04-15      10\n",
       "2019-04-16      26\n",
       "2019-04-17      18\n",
       "2019-04-18      27\n",
       "2019-04-19      25\n",
       "2019-04-20      35\n",
       "2019-04-21      17\n",
       "2019-04-22       9\n",
       "2019-04-23      18\n",
       "2019-04-24      98\n",
       "2019-04-25      39\n",
       "2019-04-26      31\n",
       "2019-04-27      50\n",
       "2019-04-28       7\n",
       "2019-04-29      73\n",
       "2019-04-30      48\n",
       "2019-05-01      47\n",
       "2019-05-02      43\n",
       "2019-05-03      23\n",
       "2019-05-04      33\n",
       "2019-05-05       7\n",
       "2019-05-06       3\n",
       "2019-05-07      22\n",
       "2019-05-08      48\n",
       "2019-05-09      31\n",
       "2019-05-10      43\n",
       "2019-05-11      32\n",
       "2019-05-12      21\n",
       "2019-05-13      13\n",
       "2019-05-14      26\n",
       "2019-05-15      23\n",
       "2019-05-16      24\n",
       "2019-05-17      23\n",
       "2019-05-18      18\n",
       "2019-05-19      16\n",
       "2019-05-20      10\n",
       "2019-05-21      19\n",
       "2019-05-22      18\n",
       "2019-05-23      29\n",
       "2019-05-24      19\n",
       "2019-05-25      13\n",
       "2019-05-26       8\n",
       "2019-05-27       5\n",
       "2019-05-28      16\n",
       "2019-05-29       9\n",
       "2019-05-30       7\n",
       "2019-05-31       7\n",
       "2019-06-01      16\n",
       "2019-06-02       8\n",
       "2019-06-03       1\n",
       "2019-06-04      30\n",
       "2019-06-05      25\n",
       "2019-06-06      44\n",
       "2019-06-07      37\n",
       "2019-06-08      36\n",
       "2019-06-09      11\n",
       "2019-06-10       8\n",
       "2019-06-11      20\n",
       "2019-06-12      19\n",
       "2019-06-13      26\n",
       "2019-06-14      46\n",
       "2019-06-15      16\n",
       "2019-06-16      15\n",
       "2019-06-17      11\n",
       "2019-06-18      56\n",
       "2019-06-19      39\n",
       "2019-06-20      23\n",
       "2019-06-21      25\n",
       "2019-06-22      21\n",
       "2019-06-23      17\n",
       "2019-06-24       3\n",
       "2019-06-25      19\n",
       "2019-06-26      99\n",
       "2019-06-27      29\n",
       "2019-06-28      19\n",
       "2019-06-29      62\n",
       "2019-06-30       7\n",
       "2019-07-02      54\n",
       "2019-07-03      23\n",
       "2019-07-04      17\n",
       "2019-07-05      62\n",
       "2019-07-06      16\n",
       "2019-07-07      12\n",
       "2019-07-08      14\n",
       "2019-07-09      11\n",
       "2019-07-10      31\n",
       "2019-07-11     155\n",
       "2019-07-12      36\n",
       "2019-07-13      72\n",
       "2019-07-14      74\n",
       "2019-07-15     167\n",
       "2019-07-16      83\n",
       "2019-07-17      31\n",
       "2019-07-18      30\n",
       "2019-07-19       9\n",
       "2019-07-20     417\n",
       "2019-07-21      62\n",
       "2019-07-22      10\n",
       "2019-07-23      63\n",
       "2019-07-24      59\n",
       "2019-07-25      70\n",
       "2019-07-26      59\n",
       "2019-07-27      29\n",
       "2019-07-28      13\n",
       "2019-07-29      33\n",
       "2019-07-30      62\n",
       "2019-07-31      63\n",
       "2019-08-01      71\n",
       "2019-08-02      60\n",
       "2019-08-03      46\n",
       "2019-08-04      99\n",
       "2019-08-05      55\n",
       "2019-08-06     114\n",
       "2019-08-07      86\n",
       "2019-08-08     134\n",
       "2019-08-09     117\n",
       "2019-08-10      57\n",
       "2019-08-11      68\n",
       "2019-08-12      62\n",
       "2019-08-13     174\n",
       "2019-08-14     195\n",
       "2019-08-15     145\n",
       "2019-08-16     121\n",
       "2019-08-17     152\n",
       "2019-08-18     103\n",
       "2019-08-19      68\n",
       "2019-08-20     179\n",
       "2019-08-21     171\n",
       "2019-08-22     121\n",
       "2019-08-23     104\n",
       "2019-08-24      31\n",
       "2019-08-25      20\n",
       "2019-08-26      19\n",
       "2019-08-27      61\n",
       "2019-08-28      20\n",
       "2019-08-29      33\n",
       "2019-08-30      42\n",
       "2019-08-31      55\n",
       "2019-09-01      19\n",
       "2019-09-02       7\n",
       "2019-09-03      14\n",
       "2019-09-04      44\n",
       "2019-09-05      26\n",
       "2019-09-06     262\n",
       "2019-09-07      47\n",
       "2019-09-08      34\n",
       "2019-09-09     129\n",
       "2019-09-10      23\n",
       "2019-09-11      39\n",
       "2019-09-12      24\n",
       "2019-09-13      98\n",
       "2019-09-14      22\n",
       "2019-09-15     190\n",
       "2019-09-16      34\n",
       "2019-09-17      12\n",
       "2019-09-18      35\n",
       "2019-09-19      38\n",
       "2019-09-20      28\n",
       "2019-09-21      39\n",
       "2019-09-22      14\n",
       "2019-09-23       8\n",
       "2019-09-24      38\n",
       "2019-09-25     179\n",
       "2019-09-26      27\n",
       "2019-09-27     108\n",
       "2019-09-28      40\n",
       "2019-09-29      68\n",
       "2019-09-30      16\n",
       "2019-10-01      34\n",
       "2022-11-20    1200\n",
       "2023-06-15    7927\n",
       "Name: count, dtype: int64"
      ]
     },
     "execution_count": 36,
     "metadata": {},
     "output_type": "execute_result"
    }
   ],
   "source": [
    "date_counts = df['posting_date'].value_counts().sort_index()\n",
    "pd.set_option('display.max_rows', None)\n",
    "date_counts"
   ]
  },
  {
   "cell_type": "code",
   "execution_count": 37,
   "id": "2d68713f",
   "metadata": {},
   "outputs": [],
   "source": [
    "pd.set_option('display.max_rows', 60)"
   ]
  },
  {
   "cell_type": "code",
   "execution_count": 22,
   "id": "fcb89d5a",
   "metadata": {},
   "outputs": [
    {
     "data": {
      "text/plain": [
       "[<matplotlib.lines.Line2D at 0x14c8c22a690>]"
      ]
     },
     "execution_count": 22,
     "metadata": {},
     "output_type": "execute_result"
    },
    {
     "data": {
      "image/png": "[encoded data removed]",
      "text/plain": [
       "<Figure size 640x480 with 1 Axes>"
      ]
     },
     "metadata": {},
     "output_type": "display_data"
    }
   ],
   "source": [
    "plt.plot(date_counts.index, date_counts.values)"
   ]
  },
  {
   "cell_type": "code",
   "execution_count": 17,
   "id": "535de226",
   "metadata": {
    "scrolled": true
   },
   "outputs": [
    {
     "data": {
      "text/plain": [
       "<matplotlib.collections.PathCollection at 0x14c8b8b2250>"
      ]
     },
     "execution_count": 17,
     "metadata": {},
     "output_type": "execute_result"
    },
    {
     "data": {
      "image/png": "[encoded data removed]",
      "text/plain": [
       "<Figure size 640x480 with 1 Axes>"
      ]
     },
     "metadata": {},
     "output_type": "display_data"
    }
   ],
   "source": [
    "plt.scatter(date_counts.index, date_counts.values)"
   ]
  },
  {
   "cell_type": "markdown",
   "id": "754b4f23",
   "metadata": {},
   "source": [
    "## Try reducing to year buckets"
   ]
  },
  {
   "cell_type": "code",
   "execution_count": 24,
   "id": "86461bc3",
   "metadata": {},
   "outputs": [],
   "source": [
    "df['posting_year'] = df['posting_date'].dt.year"
   ]
  },
  {
   "cell_type": "code",
   "execution_count": 27,
   "id": "2e0ce16f",
   "metadata": {},
   "outputs": [],
   "source": [
    "year_counts = df['posting_year'].value_counts().sort_index()"
   ]
  },
  {
   "cell_type": "code",
   "execution_count": 29,
   "id": "b009471f",
   "metadata": {},
   "outputs": [
    {
     "data": {
      "text/plain": [
       "[<matplotlib.lines.Line2D at 0x14c8c50ffd0>]"
      ]
     },
     "execution_count": 29,
     "metadata": {},
     "output_type": "execute_result"
    },
    {
     "data": {
      "image/png": "[encoded data removed]",
      "text/plain": [
       "<Figure size 640x480 with 1 Axes>"
      ]
     },
     "metadata": {},
     "output_type": "display_data"
    }
   ],
   "source": [
    "plt.plot(year_counts.index, year_counts.values)"
   ]
  },
  {
   "cell_type": "code",
   "execution_count": 28,
   "id": "e28457cf",
   "metadata": {
    "scrolled": true
   },
   "outputs": [
    {
     "data": {
      "text/plain": [
       "<matplotlib.collections.PathCollection at 0x14c8c4ff850>"
      ]
     },
     "execution_count": 28,
     "metadata": {},
     "output_type": "execute_result"
    },
    {
     "data": {
      "image/png": "[encoded data removed]",
      "text/plain": [
       "<Figure size 640x480 with 1 Axes>"
      ]
     },
     "metadata": {},
     "output_type": "display_data"
    }
   ],
   "source": [
    "plt.scatter(year_counts.index, year_counts.values)"
   ]
  },
  {
   "cell_type": "markdown",
   "id": "2ccb8c66",
   "metadata": {},
   "source": [
    "## Formalize into viz"
   ]
  },
  {
   "cell_type": "code",
   "execution_count": 48,
   "id": "49a20cc8",
   "metadata": {},
   "outputs": [
    {
     "data": {
      "text/plain": [
       "{2017, 2019, 2022, 2023}"
      ]
     },
     "execution_count": 48,
     "metadata": {},
     "output_type": "execute_result"
    }
   ],
   "source": [
    "set(year_counts.index)"
   ]
  },
  {
   "cell_type": "code",
   "execution_count": 82,
   "id": "34cc243f",
   "metadata": {},
   "outputs": [
    {
     "data": {
      "image/png": "[encoded data removed]",
      "text/plain": [
       "<Figure size 800x600 with 2 Axes>"
      ]
     },
     "metadata": {},
     "output_type": "display_data"
    }
   ],
   "source": [
    "# Color mapping\n",
    "years_colors = {\n",
    "    2017: 'red',\n",
    "    2019: 'purple',\n",
    "    2022: 'green',\n",
    "    2023: 'orange'\n",
    "}\n",
    "\n",
    "# Generate figure\n",
    "fig, axs = plt.subplots(1,2, figsize=(8,6))\n",
    "fig.suptitle('Availability of Job Data Over Time')\n",
    "date_plot = axs[0]\n",
    "year_plot = axs[1]\n",
    "\n",
    "# Plot listings by date\n",
    "date_plot.set_xlabel('Posting (Date)')\n",
    "date_plot.set_ylabel('Number of Data Points')\n",
    "for timestamp, count in date_counts.items():\n",
    "    year = timestamp.year\n",
    "    color = years_colors[year]\n",
    "    date_plot.scatter(year, count, edgecolors=color, marker='o', facecolor='none')\n",
    "\n",
    "# Plot listings by year\n",
    "for year, count in year_counts.items():\n",
    "    color = years_colors[year]\n",
    "    year_plot.scatter(year, count, edgecolors=color, marker='o', facecolor='none')\n",
    "year_plot.set_xlabel('Posting (Year)')\n",
    "year_plot.set_ylabel('Number of Data Points')\n",
    "\n",
    "fig.tight_layout()"
   ]
  },
  {
   "cell_type": "markdown",
   "id": "dfb6dec8",
   "metadata": {},
   "source": [
    "#### Data is missing for years: 2018, 2020, 2021\n",
    "#### Available for years: 2017, 2019, 2022, 2023"
   ]
  },
  {
   "cell_type": "markdown",
   "id": "752763fc",
   "metadata": {},
   "source": [
    "## Examine change in job titles over time"
   ]
  },
  {
   "cell_type": "markdown",
   "id": "af93a143",
   "metadata": {},
   "source": [
    "#### Parse data into each of the year buckets"
   ]
  },
  {
   "cell_type": "code",
   "execution_count": 104,
   "id": "dc4cdb0c",
   "metadata": {},
   "outputs": [
    {
     "data": {
      "text/plain": [
       "(607, 21)"
      ]
     },
     "execution_count": 104,
     "metadata": {},
     "output_type": "execute_result"
    }
   ],
   "source": [
    "df_2017 = df[df['posting_year'] == 2017].dropna(subset=['cleansed_job_title'])\n",
    "df_2017 = df_2017[df_2017['cleansed_job_title'] != 'na']\n",
    "df_2017.shape"
   ]
  },
  {
   "cell_type": "code",
   "execution_count": 105,
   "id": "d9da91c7",
   "metadata": {
    "scrolled": true
   },
   "outputs": [
    {
     "data": {
      "text/plain": [
       "(9999, 21)"
      ]
     },
     "execution_count": 105,
     "metadata": {},
     "output_type": "execute_result"
    }
   ],
   "source": [
    "df_2019 = df[df['posting_year'] == 2019].dropna(subset=['cleansed_job_title'])\n",
    "df_2019 = df_2019[df_2019['cleansed_job_title'] != 'na']\n",
    "df_2019.shape"
   ]
  },
  {
   "cell_type": "code",
   "execution_count": 106,
   "id": "e3a24cfe",
   "metadata": {},
   "outputs": [
    {
     "data": {
      "text/plain": [
       "(1036, 21)"
      ]
     },
     "execution_count": 106,
     "metadata": {},
     "output_type": "execute_result"
    }
   ],
   "source": [
    "df_2022 = df[df['posting_year'] == 2022].dropna(subset=['cleansed_job_title'])\n",
    "df_2022 = df_2022[df_2022['cleansed_job_title'] != 'na']\n",
    "df_2022.shape"
   ]
  },
  {
   "cell_type": "code",
   "execution_count": 141,
   "id": "8357a011",
   "metadata": {},
   "outputs": [
    {
     "data": {
      "text/plain": [
       "(1697, 21)"
      ]
     },
     "execution_count": 141,
     "metadata": {},
     "output_type": "execute_result"
    }
   ],
   "source": [
    "df_2023 = df[df['posting_year'] == 2023].dropna(subset=['cleansed_job_title'])\n",
    "df_2023 = df_2023[df_2023['cleansed_job_title'] != 'na']\n",
    "df_2023.shape"
   ]
  },
  {
   "cell_type": "markdown",
   "id": "cf03e3c0",
   "metadata": {},
   "source": [
    "#### Get counts by job title for each bucket"
   ]
  },
  {
   "cell_type": "code",
   "execution_count": 108,
   "id": "47c3d26a",
   "metadata": {},
   "outputs": [
    {
     "data": {
      "text/plain": [
       "cleansed_job_title\n",
       "analyst                            29\n",
       "data analytics                     95\n",
       "data engineer                     112\n",
       "data modeler                        5\n",
       "data scientist                    302\n",
       "data scientist project manager      1\n",
       "director                           19\n",
       "machine learning engineer          22\n",
       "other scientist                    22\n",
       "Name: count, dtype: int64"
      ]
     },
     "execution_count": 108,
     "metadata": {},
     "output_type": "execute_result"
    }
   ],
   "source": [
    "df_2017_job_counts = df_2017['cleansed_job_title'].value_counts().sort_index()\n",
    "df_2017_job_counts"
   ]
  },
  {
   "cell_type": "code",
   "execution_count": 109,
   "id": "49025523",
   "metadata": {},
   "outputs": [
    {
     "data": {
      "text/plain": [
       "cleansed_job_title\n",
       "analyst              1\n",
       "data analytics      66\n",
       "data engineer        8\n",
       "data scientist    9845\n",
       "director            79\n",
       "Name: count, dtype: int64"
      ]
     },
     "execution_count": 109,
     "metadata": {},
     "output_type": "execute_result"
    }
   ],
   "source": [
    "df_2019_job_counts = df_2019['cleansed_job_title'].value_counts().sort_index()\n",
    "df_2019_job_counts"
   ]
  },
  {
   "cell_type": "code",
   "execution_count": 110,
   "id": "d0b01ed7",
   "metadata": {},
   "outputs": [
    {
     "data": {
      "text/plain": [
       "cleansed_job_title\n",
       "analyst                           157\n",
       "data analytics                    187\n",
       "data engineer                     187\n",
       "data scientist                    164\n",
       "data scientist project manager     85\n",
       "director                          116\n",
       "machine learning engineer         139\n",
       "other scientist                     1\n",
       "Name: count, dtype: int64"
      ]
     },
     "execution_count": 110,
     "metadata": {},
     "output_type": "execute_result"
    }
   ],
   "source": [
    "df_2022_job_counts = df_2022['cleansed_job_title'].value_counts().sort_index()\n",
    "df_2022_job_counts"
   ]
  },
  {
   "cell_type": "code",
   "execution_count": 111,
   "id": "b295c90b",
   "metadata": {},
   "outputs": [
    {
     "data": {
      "text/plain": [
       "cleansed_job_title\n",
       "analyst                           271\n",
       "data analytics                    549\n",
       "data engineer                     538\n",
       "data modeler                       14\n",
       "data scientist                    150\n",
       "data scientist project manager      2\n",
       "director                           27\n",
       "machine learning engineer          84\n",
       "other scientist                    62\n",
       "Name: count, dtype: int64"
      ]
     },
     "execution_count": 111,
     "metadata": {},
     "output_type": "execute_result"
    }
   ],
   "source": [
    "df_2023_job_counts = df_2023['cleansed_job_title'].value_counts().sort_index()\n",
    "df_2023_job_counts"
   ]
  },
  {
   "cell_type": "markdown",
   "id": "1ea4808c",
   "metadata": {},
   "source": [
    "#### Plot viz as stacked bar chart"
   ]
  },
  {
   "cell_type": "code",
   "execution_count": 114,
   "id": "18142acf",
   "metadata": {},
   "outputs": [],
   "source": [
    "import altair as alt"
   ]
  },
  {
   "cell_type": "code",
   "execution_count": 117,
   "id": "31042d98",
   "metadata": {},
   "outputs": [
    {
     "data": {
      "text/plain": [
       "{'analyst',\n",
       " 'data analytics',\n",
       " 'data engineer',\n",
       " 'data modeler',\n",
       " 'data scientist',\n",
       " 'data scientist project manager',\n",
       " 'director',\n",
       " 'machine learning engineer',\n",
       " 'other scientist'}"
      ]
     },
     "execution_count": 117,
     "metadata": {},
     "output_type": "execute_result"
    }
   ],
   "source": [
    "job_categories = set(df_2017_job_counts.index) | set(df_2019_job_counts.index) | set(df_2022_job_counts.index) | set(df_2023_job_counts.index)\n",
    "job_categories"
   ]
  },
  {
   "cell_type": "code",
   "execution_count": 118,
   "id": "f80643cf",
   "metadata": {
    "scrolled": true
   },
   "outputs": [
    {
     "data": {
      "text/plain": [
       "302"
      ]
     },
     "execution_count": 118,
     "metadata": {},
     "output_type": "execute_result"
    }
   ],
   "source": [
    "df_2017_job_counts['data scientist']"
   ]
  },
  {
   "cell_type": "code",
   "execution_count": 121,
   "id": "0e7c535f",
   "metadata": {},
   "outputs": [
    {
     "name": "stdout",
     "output_type": "stream",
     "text": [
      "analyst\n",
      "271\n"
     ]
    }
   ],
   "source": [
    "for i, x in df_2023_job_counts.items():\n",
    "    print(i)\n",
    "    print(x)\n",
    "    break"
   ]
  },
  {
   "cell_type": "code",
   "execution_count": 159,
   "id": "dd99d433",
   "metadata": {},
   "outputs": [
    {
     "data": {
      "text/html": [
       "<div>\n",
       "<style scoped>\n",
       "    .dataframe tbody tr th:only-of-type {\n",
       "        vertical-align: middle;\n",
       "    }\n",
       "\n",
       "    .dataframe tbody tr th {\n",
       "        vertical-align: top;\n",
       "    }\n",
       "\n",
       "    .dataframe thead th {\n",
       "        text-align: right;\n",
       "    }\n",
       "</style>\n",
       "<table border=\"1\" class=\"dataframe\">\n",
       "  <thead>\n",
       "    <tr style=\"text-align: right;\">\n",
       "      <th></th>\n",
       "      <th>Posting Year</th>\n",
       "      <th>data scientist project manager</th>\n",
       "      <th>analyst</th>\n",
       "      <th>other scientist</th>\n",
       "      <th>data modeler</th>\n",
       "      <th>director</th>\n",
       "      <th>data scientist</th>\n",
       "      <th>data engineer</th>\n",
       "      <th>machine learning engineer</th>\n",
       "      <th>data analytics</th>\n",
       "    </tr>\n",
       "  </thead>\n",
       "  <tbody>\n",
       "    <tr>\n",
       "      <th>0</th>\n",
       "      <td>2017</td>\n",
       "      <td>1</td>\n",
       "      <td>29</td>\n",
       "      <td>22</td>\n",
       "      <td>5</td>\n",
       "      <td>19</td>\n",
       "      <td>302</td>\n",
       "      <td>112</td>\n",
       "      <td>22</td>\n",
       "      <td>95</td>\n",
       "    </tr>\n",
       "    <tr>\n",
       "      <th>1</th>\n",
       "      <td>2019</td>\n",
       "      <td>0</td>\n",
       "      <td>1</td>\n",
       "      <td>0</td>\n",
       "      <td>0</td>\n",
       "      <td>79</td>\n",
       "      <td>9845</td>\n",
       "      <td>8</td>\n",
       "      <td>0</td>\n",
       "      <td>66</td>\n",
       "    </tr>\n",
       "    <tr>\n",
       "      <th>2</th>\n",
       "      <td>2022</td>\n",
       "      <td>85</td>\n",
       "      <td>157</td>\n",
       "      <td>1</td>\n",
       "      <td>0</td>\n",
       "      <td>116</td>\n",
       "      <td>164</td>\n",
       "      <td>187</td>\n",
       "      <td>139</td>\n",
       "      <td>187</td>\n",
       "    </tr>\n",
       "    <tr>\n",
       "      <th>3</th>\n",
       "      <td>2023</td>\n",
       "      <td>2</td>\n",
       "      <td>271</td>\n",
       "      <td>62</td>\n",
       "      <td>14</td>\n",
       "      <td>27</td>\n",
       "      <td>150</td>\n",
       "      <td>538</td>\n",
       "      <td>84</td>\n",
       "      <td>549</td>\n",
       "    </tr>\n",
       "  </tbody>\n",
       "</table>\n",
       "</div>"
      ],
      "text/plain": [
       "   Posting Year  data scientist project manager  analyst  other scientist  \\\n",
       "0          2017                               1       29               22   \n",
       "1          2019                               0        1                0   \n",
       "2          2022                              85      157                1   \n",
       "3          2023                               2      271               62   \n",
       "\n",
       "   data modeler  director  data scientist  data engineer  \\\n",
       "0             5        19             302            112   \n",
       "1             0        79            9845              8   \n",
       "2             0       116             164            187   \n",
       "3            14        27             150            538   \n",
       "\n",
       "   machine learning engineer  data analytics  \n",
       "0                         22              95  \n",
       "1                          0              66  \n",
       "2                        139             187  \n",
       "3                         84             549  "
      ]
     },
     "execution_count": 159,
     "metadata": {},
     "output_type": "execute_result"
    }
   ],
   "source": [
    "# Generate the stacked data\n",
    "data_stacked = {\n",
    "    'Posting Year': [2017, 2019, 2022, 2023]\n",
    "}\n",
    "for job_title in job_categories:\n",
    "    data_stacked[job_title] = []\n",
    "    \n",
    "    for job_counts in [df_2017_job_counts, df_2019_job_counts, df_2022_job_counts, df_2023_job_counts]:\n",
    "        counts = 0\n",
    "        if job_title in job_counts:\n",
    "            counts = job_counts[job_title]\n",
    "            \n",
    "        data_stacked[job_title].append(counts)\n",
    "        \n",
    "df_title_stacked = pd.DataFrame(data_stacked)\n",
    "df_title_stacked"
   ]
  },
  {
   "cell_type": "markdown",
   "id": "bdb5fe21",
   "metadata": {},
   "source": [
    "##### Create viz"
   ]
  },
  {
   "cell_type": "code",
   "execution_count": 160,
   "id": "fe563d0a",
   "metadata": {},
   "outputs": [
    {
     "data": {
      "text/html": [
       "<div>\n",
       "<style scoped>\n",
       "    .dataframe tbody tr th:only-of-type {\n",
       "        vertical-align: middle;\n",
       "    }\n",
       "\n",
       "    .dataframe tbody tr th {\n",
       "        vertical-align: top;\n",
       "    }\n",
       "\n",
       "    .dataframe thead th {\n",
       "        text-align: right;\n",
       "    }\n",
       "</style>\n",
       "<table border=\"1\" class=\"dataframe\">\n",
       "  <thead>\n",
       "    <tr style=\"text-align: right;\">\n",
       "      <th></th>\n",
       "      <th>Posting Year</th>\n",
       "      <th>Job Title</th>\n",
       "      <th>Listing Count</th>\n",
       "    </tr>\n",
       "  </thead>\n",
       "  <tbody>\n",
       "    <tr>\n",
       "      <th>0</th>\n",
       "      <td>2017</td>\n",
       "      <td>data scientist project manager</td>\n",
       "      <td>1</td>\n",
       "    </tr>\n",
       "    <tr>\n",
       "      <th>1</th>\n",
       "      <td>2019</td>\n",
       "      <td>data scientist project manager</td>\n",
       "      <td>0</td>\n",
       "    </tr>\n",
       "    <tr>\n",
       "      <th>2</th>\n",
       "      <td>2022</td>\n",
       "      <td>data scientist project manager</td>\n",
       "      <td>85</td>\n",
       "    </tr>\n",
       "    <tr>\n",
       "      <th>3</th>\n",
       "      <td>2023</td>\n",
       "      <td>data scientist project manager</td>\n",
       "      <td>2</td>\n",
       "    </tr>\n",
       "    <tr>\n",
       "      <th>4</th>\n",
       "      <td>2017</td>\n",
       "      <td>analyst</td>\n",
       "      <td>29</td>\n",
       "    </tr>\n",
       "    <tr>\n",
       "      <th>5</th>\n",
       "      <td>2019</td>\n",
       "      <td>analyst</td>\n",
       "      <td>1</td>\n",
       "    </tr>\n",
       "    <tr>\n",
       "      <th>6</th>\n",
       "      <td>2022</td>\n",
       "      <td>analyst</td>\n",
       "      <td>157</td>\n",
       "    </tr>\n",
       "    <tr>\n",
       "      <th>7</th>\n",
       "      <td>2023</td>\n",
       "      <td>analyst</td>\n",
       "      <td>271</td>\n",
       "    </tr>\n",
       "    <tr>\n",
       "      <th>8</th>\n",
       "      <td>2017</td>\n",
       "      <td>other scientist</td>\n",
       "      <td>22</td>\n",
       "    </tr>\n",
       "    <tr>\n",
       "      <th>9</th>\n",
       "      <td>2019</td>\n",
       "      <td>other scientist</td>\n",
       "      <td>0</td>\n",
       "    </tr>\n",
       "    <tr>\n",
       "      <th>10</th>\n",
       "      <td>2022</td>\n",
       "      <td>other scientist</td>\n",
       "      <td>1</td>\n",
       "    </tr>\n",
       "    <tr>\n",
       "      <th>11</th>\n",
       "      <td>2023</td>\n",
       "      <td>other scientist</td>\n",
       "      <td>62</td>\n",
       "    </tr>\n",
       "    <tr>\n",
       "      <th>12</th>\n",
       "      <td>2017</td>\n",
       "      <td>data modeler</td>\n",
       "      <td>5</td>\n",
       "    </tr>\n",
       "    <tr>\n",
       "      <th>13</th>\n",
       "      <td>2019</td>\n",
       "      <td>data modeler</td>\n",
       "      <td>0</td>\n",
       "    </tr>\n",
       "    <tr>\n",
       "      <th>14</th>\n",
       "      <td>2022</td>\n",
       "      <td>data modeler</td>\n",
       "      <td>0</td>\n",
       "    </tr>\n",
       "    <tr>\n",
       "      <th>15</th>\n",
       "      <td>2023</td>\n",
       "      <td>data modeler</td>\n",
       "      <td>14</td>\n",
       "    </tr>\n",
       "    <tr>\n",
       "      <th>16</th>\n",
       "      <td>2017</td>\n",
       "      <td>director</td>\n",
       "      <td>19</td>\n",
       "    </tr>\n",
       "    <tr>\n",
       "      <th>17</th>\n",
       "      <td>2019</td>\n",
       "      <td>director</td>\n",
       "      <td>79</td>\n",
       "    </tr>\n",
       "    <tr>\n",
       "      <th>18</th>\n",
       "      <td>2022</td>\n",
       "      <td>director</td>\n",
       "      <td>116</td>\n",
       "    </tr>\n",
       "    <tr>\n",
       "      <th>19</th>\n",
       "      <td>2023</td>\n",
       "      <td>director</td>\n",
       "      <td>27</td>\n",
       "    </tr>\n",
       "    <tr>\n",
       "      <th>20</th>\n",
       "      <td>2017</td>\n",
       "      <td>data scientist</td>\n",
       "      <td>302</td>\n",
       "    </tr>\n",
       "    <tr>\n",
       "      <th>21</th>\n",
       "      <td>2019</td>\n",
       "      <td>data scientist</td>\n",
       "      <td>9845</td>\n",
       "    </tr>\n",
       "    <tr>\n",
       "      <th>22</th>\n",
       "      <td>2022</td>\n",
       "      <td>data scientist</td>\n",
       "      <td>164</td>\n",
       "    </tr>\n",
       "    <tr>\n",
       "      <th>23</th>\n",
       "      <td>2023</td>\n",
       "      <td>data scientist</td>\n",
       "      <td>150</td>\n",
       "    </tr>\n",
       "    <tr>\n",
       "      <th>24</th>\n",
       "      <td>2017</td>\n",
       "      <td>data engineer</td>\n",
       "      <td>112</td>\n",
       "    </tr>\n",
       "    <tr>\n",
       "      <th>25</th>\n",
       "      <td>2019</td>\n",
       "      <td>data engineer</td>\n",
       "      <td>8</td>\n",
       "    </tr>\n",
       "    <tr>\n",
       "      <th>26</th>\n",
       "      <td>2022</td>\n",
       "      <td>data engineer</td>\n",
       "      <td>187</td>\n",
       "    </tr>\n",
       "    <tr>\n",
       "      <th>27</th>\n",
       "      <td>2023</td>\n",
       "      <td>data engineer</td>\n",
       "      <td>538</td>\n",
       "    </tr>\n",
       "    <tr>\n",
       "      <th>28</th>\n",
       "      <td>2017</td>\n",
       "      <td>machine learning engineer</td>\n",
       "      <td>22</td>\n",
       "    </tr>\n",
       "    <tr>\n",
       "      <th>29</th>\n",
       "      <td>2019</td>\n",
       "      <td>machine learning engineer</td>\n",
       "      <td>0</td>\n",
       "    </tr>\n",
       "    <tr>\n",
       "      <th>30</th>\n",
       "      <td>2022</td>\n",
       "      <td>machine learning engineer</td>\n",
       "      <td>139</td>\n",
       "    </tr>\n",
       "    <tr>\n",
       "      <th>31</th>\n",
       "      <td>2023</td>\n",
       "      <td>machine learning engineer</td>\n",
       "      <td>84</td>\n",
       "    </tr>\n",
       "    <tr>\n",
       "      <th>32</th>\n",
       "      <td>2017</td>\n",
       "      <td>data analytics</td>\n",
       "      <td>95</td>\n",
       "    </tr>\n",
       "    <tr>\n",
       "      <th>33</th>\n",
       "      <td>2019</td>\n",
       "      <td>data analytics</td>\n",
       "      <td>66</td>\n",
       "    </tr>\n",
       "    <tr>\n",
       "      <th>34</th>\n",
       "      <td>2022</td>\n",
       "      <td>data analytics</td>\n",
       "      <td>187</td>\n",
       "    </tr>\n",
       "    <tr>\n",
       "      <th>35</th>\n",
       "      <td>2023</td>\n",
       "      <td>data analytics</td>\n",
       "      <td>549</td>\n",
       "    </tr>\n",
       "  </tbody>\n",
       "</table>\n",
       "</div>"
      ],
      "text/plain": [
       "    Posting Year                       Job Title  Listing Count\n",
       "0           2017  data scientist project manager              1\n",
       "1           2019  data scientist project manager              0\n",
       "2           2022  data scientist project manager             85\n",
       "3           2023  data scientist project manager              2\n",
       "4           2017                         analyst             29\n",
       "5           2019                         analyst              1\n",
       "6           2022                         analyst            157\n",
       "7           2023                         analyst            271\n",
       "8           2017                 other scientist             22\n",
       "9           2019                 other scientist              0\n",
       "10          2022                 other scientist              1\n",
       "11          2023                 other scientist             62\n",
       "12          2017                    data modeler              5\n",
       "13          2019                    data modeler              0\n",
       "14          2022                    data modeler              0\n",
       "15          2023                    data modeler             14\n",
       "16          2017                        director             19\n",
       "17          2019                        director             79\n",
       "18          2022                        director            116\n",
       "19          2023                        director             27\n",
       "20          2017                  data scientist            302\n",
       "21          2019                  data scientist           9845\n",
       "22          2022                  data scientist            164\n",
       "23          2023                  data scientist            150\n",
       "24          2017                   data engineer            112\n",
       "25          2019                   data engineer              8\n",
       "26          2022                   data engineer            187\n",
       "27          2023                   data engineer            538\n",
       "28          2017       machine learning engineer             22\n",
       "29          2019       machine learning engineer              0\n",
       "30          2022       machine learning engineer            139\n",
       "31          2023       machine learning engineer             84\n",
       "32          2017                  data analytics             95\n",
       "33          2019                  data analytics             66\n",
       "34          2022                  data analytics            187\n",
       "35          2023                  data analytics            549"
      ]
     },
     "execution_count": 160,
     "metadata": {},
     "output_type": "execute_result"
    }
   ],
   "source": [
    "df_title_stacked_melted = df_title_stacked.melt('Posting Year', var_name='Job Title', value_name = 'Listing Count')\n",
    "df_title_stacked_melted"
   ]
  },
  {
   "cell_type": "code",
   "execution_count": 162,
   "id": "ca03a3a8",
   "metadata": {},
   "outputs": [
    {
     "data": {
      "text/html": [
       "\n",
       "<style>\n",
       "  #altair-viz-d742ccaf3186469dae6a6144f7da797b.vega-embed {\n",
       "    width: 100%;\n",
       "    display: flex;\n",
       "  }\n",
       "\n",
       "  #altair-viz-d742ccaf3186469dae6a6144f7da797b.vega-embed details,\n",
       "  #altair-viz-d742ccaf3186469dae6a6144f7da797b.vega-embed details summary {\n",
       "    position: relative;\n",
       "  }\n",
       "</style>\n",
       "<div id=\"altair-viz-d742ccaf3186469dae6a6144f7da797b\"></div>\n",
       "<script type=\"text/javascript\">\n",
       "  var VEGA_DEBUG = (typeof VEGA_DEBUG == \"undefined\") ? {} : VEGA_DEBUG;\n",
       "  (function(spec, embedOpt){\n",
       "    let outputDiv = document.currentScript.previousElementSibling;\n",
       "    if (outputDiv.id !== \"altair-viz-d742ccaf3186469dae6a6144f7da797b\") {\n",
       "      outputDiv = document.getElementById(\"altair-viz-d742ccaf3186469dae6a6144f7da797b\");\n",
       "    }\n",
       "    const paths = {\n",
       "      \"vega\": \"https://cdn.jsdelivr.net/npm/vega@5?noext\",\n",
       "      \"vega-lib\": \"https://cdn.jsdelivr.net/npm/vega-lib?noext\",\n",
       "      \"vega-lite\": \"https://cdn.jsdelivr.net/npm/vega-lite@5.15.1?noext\",\n",
       "      \"vega-embed\": \"https://cdn.jsdelivr.net/npm/vega-embed@6?noext\",\n",
       "    };\n",
       "\n",
       "    function maybeLoadScript(lib, version) {\n",
       "      var key = `${lib.replace(\"-\", \"\")}_version`;\n",
       "      return (VEGA_DEBUG[key] == version) ?\n",
       "        Promise.resolve(paths[lib]) :\n",
       "        new Promise(function(resolve, reject) {\n",
       "          var s = document.createElement('script');\n",
       "          document.getElementsByTagName(\"head\")[0].appendChild(s);\n",
       "          s.async = true;\n",
       "          s.onload = () => {\n",
       "            VEGA_DEBUG[key] = version;\n",
       "            return resolve(paths[lib]);\n",
       "          };\n",
       "          s.onerror = () => reject(`Error loading script: ${paths[lib]}`);\n",
       "          s.src = paths[lib];\n",
       "        });\n",
       "    }\n",
       "\n",
       "    function showError(err) {\n",
       "      outputDiv.innerHTML = `<div class=\"error\" style=\"color:red;\">${err}</div>`;\n",
       "      throw err;\n",
       "    }\n",
       "\n",
       "    function displayChart(vegaEmbed) {\n",
       "      vegaEmbed(outputDiv, spec, embedOpt)\n",
       "        .catch(err => showError(`Javascript Error: ${err.message}<br>This usually means there's a typo in your chart specification. See the javascript console for the full traceback.`));\n",
       "    }\n",
       "\n",
       "    if(typeof define === \"function\" && define.amd) {\n",
       "      requirejs.config({paths});\n",
       "      require([\"vega-embed\"], displayChart, err => showError(`Error loading script: ${err.message}`));\n",
       "    } else {\n",
       "      maybeLoadScript(\"vega\", \"5\")\n",
       "        .then(() => maybeLoadScript(\"vega-lite\", \"5.15.1\"))\n",
       "        .then(() => maybeLoadScript(\"vega-embed\", \"6\"))\n",
       "        .catch(showError)\n",
       "        .then(() => displayChart(vegaEmbed));\n",
       "    }\n",
       "  })({\"config\": {\"view\": {\"continuousWidth\": 300, \"continuousHeight\": 300}}, \"data\": {\"name\": \"data-abd55512fab7a3a5702a4266e5984ffd\"}, \"mark\": {\"type\": \"bar\"}, \"encoding\": {\"color\": {\"field\": \"Job Title\", \"title\": \"Job Title\", \"type\": \"nominal\"}, \"x\": {\"field\": \"Posting Year\", \"title\": \"Posting Year\", \"type\": \"nominal\"}, \"y\": {\"aggregate\": \"sum\", \"field\": \"Listing Count\", \"title\": \"Listing Count\", \"type\": \"quantitative\"}}, \"height\": 400, \"title\": \"Listing Count by Job Titles Over Time\", \"width\": 600, \"$schema\": \"https://vega.github.io/schema/vega-lite/v5.15.1.json\", \"datasets\": {\"data-abd55512fab7a3a5702a4266e5984ffd\": [{\"Posting Year\": 2017, \"Job Title\": \"data scientist project manager\", \"Listing Count\": 1}, {\"Posting Year\": 2019, \"Job Title\": \"data scientist project manager\", \"Listing Count\": 0}, {\"Posting Year\": 2022, \"Job Title\": \"data scientist project manager\", \"Listing Count\": 85}, {\"Posting Year\": 2023, \"Job Title\": \"data scientist project manager\", \"Listing Count\": 2}, {\"Posting Year\": 2017, \"Job Title\": \"analyst\", \"Listing Count\": 29}, {\"Posting Year\": 2019, \"Job Title\": \"analyst\", \"Listing Count\": 1}, {\"Posting Year\": 2022, \"Job Title\": \"analyst\", \"Listing Count\": 157}, {\"Posting Year\": 2023, \"Job Title\": \"analyst\", \"Listing Count\": 271}, {\"Posting Year\": 2017, \"Job Title\": \"other scientist\", \"Listing Count\": 22}, {\"Posting Year\": 2019, \"Job Title\": \"other scientist\", \"Listing Count\": 0}, {\"Posting Year\": 2022, \"Job Title\": \"other scientist\", \"Listing Count\": 1}, {\"Posting Year\": 2023, \"Job Title\": \"other scientist\", \"Listing Count\": 62}, {\"Posting Year\": 2017, \"Job Title\": \"data modeler\", \"Listing Count\": 5}, {\"Posting Year\": 2019, \"Job Title\": \"data modeler\", \"Listing Count\": 0}, {\"Posting Year\": 2022, \"Job Title\": \"data modeler\", \"Listing Count\": 0}, {\"Posting Year\": 2023, \"Job Title\": \"data modeler\", \"Listing Count\": 14}, {\"Posting Year\": 2017, \"Job Title\": \"director\", \"Listing Count\": 19}, {\"Posting Year\": 2019, \"Job Title\": \"director\", \"Listing Count\": 79}, {\"Posting Year\": 2022, \"Job Title\": \"director\", \"Listing Count\": 116}, {\"Posting Year\": 2023, \"Job Title\": \"director\", \"Listing Count\": 27}, {\"Posting Year\": 2017, \"Job Title\": \"data scientist\", \"Listing Count\": 302}, {\"Posting Year\": 2019, \"Job Title\": \"data scientist\", \"Listing Count\": 9845}, {\"Posting Year\": 2022, \"Job Title\": \"data scientist\", \"Listing Count\": 164}, {\"Posting Year\": 2023, \"Job Title\": \"data scientist\", \"Listing Count\": 150}, {\"Posting Year\": 2017, \"Job Title\": \"data engineer\", \"Listing Count\": 112}, {\"Posting Year\": 2019, \"Job Title\": \"data engineer\", \"Listing Count\": 8}, {\"Posting Year\": 2022, \"Job Title\": \"data engineer\", \"Listing Count\": 187}, {\"Posting Year\": 2023, \"Job Title\": \"data engineer\", \"Listing Count\": 538}, {\"Posting Year\": 2017, \"Job Title\": \"machine learning engineer\", \"Listing Count\": 22}, {\"Posting Year\": 2019, \"Job Title\": \"machine learning engineer\", \"Listing Count\": 0}, {\"Posting Year\": 2022, \"Job Title\": \"machine learning engineer\", \"Listing Count\": 139}, {\"Posting Year\": 2023, \"Job Title\": \"machine learning engineer\", \"Listing Count\": 84}, {\"Posting Year\": 2017, \"Job Title\": \"data analytics\", \"Listing Count\": 95}, {\"Posting Year\": 2019, \"Job Title\": \"data analytics\", \"Listing Count\": 66}, {\"Posting Year\": 2022, \"Job Title\": \"data analytics\", \"Listing Count\": 187}, {\"Posting Year\": 2023, \"Job Title\": \"data analytics\", \"Listing Count\": 549}]}}, {\"mode\": \"vega-lite\"});\n",
       "</script>"
      ],
      "text/plain": [
       "alt.Chart(...)"
      ]
     },
     "execution_count": 162,
     "metadata": {},
     "output_type": "execute_result"
    }
   ],
   "source": [
    "stacked_bar_job_title = alt.Chart(df_title_stacked_melted).mark_bar().encode(\n",
    "    x=alt.X('Posting Year:N', title='Posting Year'),\n",
    "    y=alt.Y('sum(Listing Count):Q', title='Listing Count'),\n",
    "    color=alt.Color('Job Title:N', title='Job Title')\n",
    ").properties(\n",
    "    title='Listing Count by Job Titles Over Time',\n",
    "    width=600,\n",
    "    height=400\n",
    ")\n",
    "stacked_bar_job_title"
   ]
  },
  {
   "cell_type": "markdown",
   "id": "d7804e2e",
   "metadata": {},
   "source": [
    "#### Recreate viz, using proportions instead of raw counts"
   ]
  },
  {
   "cell_type": "code",
   "execution_count": 165,
   "id": "484051ac",
   "metadata": {},
   "outputs": [
    {
     "data": {
      "text/html": [
       "<div>\n",
       "<style scoped>\n",
       "    .dataframe tbody tr th:only-of-type {\n",
       "        vertical-align: middle;\n",
       "    }\n",
       "\n",
       "    .dataframe tbody tr th {\n",
       "        vertical-align: top;\n",
       "    }\n",
       "\n",
       "    .dataframe thead th {\n",
       "        text-align: right;\n",
       "    }\n",
       "</style>\n",
       "<table border=\"1\" class=\"dataframe\">\n",
       "  <thead>\n",
       "    <tr style=\"text-align: right;\">\n",
       "      <th></th>\n",
       "      <th>Posting Year</th>\n",
       "      <th>Job Title</th>\n",
       "      <th>Percentage</th>\n",
       "    </tr>\n",
       "  </thead>\n",
       "  <tbody>\n",
       "    <tr>\n",
       "      <th>0</th>\n",
       "      <td>2017</td>\n",
       "      <td>data scientist project manager</td>\n",
       "      <td>0.164745</td>\n",
       "    </tr>\n",
       "    <tr>\n",
       "      <th>1</th>\n",
       "      <td>2019</td>\n",
       "      <td>data scientist project manager</td>\n",
       "      <td>0.000000</td>\n",
       "    </tr>\n",
       "    <tr>\n",
       "      <th>2</th>\n",
       "      <td>2022</td>\n",
       "      <td>data scientist project manager</td>\n",
       "      <td>8.204633</td>\n",
       "    </tr>\n",
       "    <tr>\n",
       "      <th>3</th>\n",
       "      <td>2023</td>\n",
       "      <td>data scientist project manager</td>\n",
       "      <td>0.117855</td>\n",
       "    </tr>\n",
       "    <tr>\n",
       "      <th>4</th>\n",
       "      <td>2017</td>\n",
       "      <td>analyst</td>\n",
       "      <td>4.777595</td>\n",
       "    </tr>\n",
       "    <tr>\n",
       "      <th>5</th>\n",
       "      <td>2019</td>\n",
       "      <td>analyst</td>\n",
       "      <td>0.010001</td>\n",
       "    </tr>\n",
       "    <tr>\n",
       "      <th>6</th>\n",
       "      <td>2022</td>\n",
       "      <td>analyst</td>\n",
       "      <td>15.154440</td>\n",
       "    </tr>\n",
       "    <tr>\n",
       "      <th>7</th>\n",
       "      <td>2023</td>\n",
       "      <td>analyst</td>\n",
       "      <td>15.969358</td>\n",
       "    </tr>\n",
       "    <tr>\n",
       "      <th>8</th>\n",
       "      <td>2017</td>\n",
       "      <td>other scientist</td>\n",
       "      <td>3.624382</td>\n",
       "    </tr>\n",
       "    <tr>\n",
       "      <th>9</th>\n",
       "      <td>2019</td>\n",
       "      <td>other scientist</td>\n",
       "      <td>0.000000</td>\n",
       "    </tr>\n",
       "    <tr>\n",
       "      <th>10</th>\n",
       "      <td>2022</td>\n",
       "      <td>other scientist</td>\n",
       "      <td>0.096525</td>\n",
       "    </tr>\n",
       "    <tr>\n",
       "      <th>11</th>\n",
       "      <td>2023</td>\n",
       "      <td>other scientist</td>\n",
       "      <td>3.653506</td>\n",
       "    </tr>\n",
       "    <tr>\n",
       "      <th>12</th>\n",
       "      <td>2017</td>\n",
       "      <td>data modeler</td>\n",
       "      <td>0.823723</td>\n",
       "    </tr>\n",
       "    <tr>\n",
       "      <th>13</th>\n",
       "      <td>2019</td>\n",
       "      <td>data modeler</td>\n",
       "      <td>0.000000</td>\n",
       "    </tr>\n",
       "    <tr>\n",
       "      <th>14</th>\n",
       "      <td>2022</td>\n",
       "      <td>data modeler</td>\n",
       "      <td>0.000000</td>\n",
       "    </tr>\n",
       "    <tr>\n",
       "      <th>15</th>\n",
       "      <td>2023</td>\n",
       "      <td>data modeler</td>\n",
       "      <td>0.824985</td>\n",
       "    </tr>\n",
       "    <tr>\n",
       "      <th>16</th>\n",
       "      <td>2017</td>\n",
       "      <td>director</td>\n",
       "      <td>3.130148</td>\n",
       "    </tr>\n",
       "    <tr>\n",
       "      <th>17</th>\n",
       "      <td>2019</td>\n",
       "      <td>director</td>\n",
       "      <td>0.790079</td>\n",
       "    </tr>\n",
       "    <tr>\n",
       "      <th>18</th>\n",
       "      <td>2022</td>\n",
       "      <td>director</td>\n",
       "      <td>11.196911</td>\n",
       "    </tr>\n",
       "    <tr>\n",
       "      <th>19</th>\n",
       "      <td>2023</td>\n",
       "      <td>director</td>\n",
       "      <td>1.591043</td>\n",
       "    </tr>\n",
       "    <tr>\n",
       "      <th>20</th>\n",
       "      <td>2017</td>\n",
       "      <td>data scientist</td>\n",
       "      <td>49.752883</td>\n",
       "    </tr>\n",
       "    <tr>\n",
       "      <th>21</th>\n",
       "      <td>2019</td>\n",
       "      <td>data scientist</td>\n",
       "      <td>98.459846</td>\n",
       "    </tr>\n",
       "    <tr>\n",
       "      <th>22</th>\n",
       "      <td>2022</td>\n",
       "      <td>data scientist</td>\n",
       "      <td>15.830116</td>\n",
       "    </tr>\n",
       "    <tr>\n",
       "      <th>23</th>\n",
       "      <td>2023</td>\n",
       "      <td>data scientist</td>\n",
       "      <td>8.839128</td>\n",
       "    </tr>\n",
       "    <tr>\n",
       "      <th>24</th>\n",
       "      <td>2017</td>\n",
       "      <td>data engineer</td>\n",
       "      <td>18.451400</td>\n",
       "    </tr>\n",
       "    <tr>\n",
       "      <th>25</th>\n",
       "      <td>2019</td>\n",
       "      <td>data engineer</td>\n",
       "      <td>0.080008</td>\n",
       "    </tr>\n",
       "    <tr>\n",
       "      <th>26</th>\n",
       "      <td>2022</td>\n",
       "      <td>data engineer</td>\n",
       "      <td>18.050193</td>\n",
       "    </tr>\n",
       "    <tr>\n",
       "      <th>27</th>\n",
       "      <td>2023</td>\n",
       "      <td>data engineer</td>\n",
       "      <td>31.703005</td>\n",
       "    </tr>\n",
       "    <tr>\n",
       "      <th>28</th>\n",
       "      <td>2017</td>\n",
       "      <td>machine learning engineer</td>\n",
       "      <td>3.624382</td>\n",
       "    </tr>\n",
       "    <tr>\n",
       "      <th>29</th>\n",
       "      <td>2019</td>\n",
       "      <td>machine learning engineer</td>\n",
       "      <td>0.000000</td>\n",
       "    </tr>\n",
       "    <tr>\n",
       "      <th>30</th>\n",
       "      <td>2022</td>\n",
       "      <td>machine learning engineer</td>\n",
       "      <td>13.416988</td>\n",
       "    </tr>\n",
       "    <tr>\n",
       "      <th>31</th>\n",
       "      <td>2023</td>\n",
       "      <td>machine learning engineer</td>\n",
       "      <td>4.949912</td>\n",
       "    </tr>\n",
       "    <tr>\n",
       "      <th>32</th>\n",
       "      <td>2017</td>\n",
       "      <td>data analytics</td>\n",
       "      <td>15.650741</td>\n",
       "    </tr>\n",
       "    <tr>\n",
       "      <th>33</th>\n",
       "      <td>2019</td>\n",
       "      <td>data analytics</td>\n",
       "      <td>0.660066</td>\n",
       "    </tr>\n",
       "    <tr>\n",
       "      <th>34</th>\n",
       "      <td>2022</td>\n",
       "      <td>data analytics</td>\n",
       "      <td>18.050193</td>\n",
       "    </tr>\n",
       "    <tr>\n",
       "      <th>35</th>\n",
       "      <td>2023</td>\n",
       "      <td>data analytics</td>\n",
       "      <td>32.351208</td>\n",
       "    </tr>\n",
       "  </tbody>\n",
       "</table>\n",
       "</div>"
      ],
      "text/plain": [
       "    Posting Year                       Job Title  Percentage\n",
       "0           2017  data scientist project manager    0.164745\n",
       "1           2019  data scientist project manager    0.000000\n",
       "2           2022  data scientist project manager    8.204633\n",
       "3           2023  data scientist project manager    0.117855\n",
       "4           2017                         analyst    4.777595\n",
       "5           2019                         analyst    0.010001\n",
       "6           2022                         analyst   15.154440\n",
       "7           2023                         analyst   15.969358\n",
       "8           2017                 other scientist    3.624382\n",
       "9           2019                 other scientist    0.000000\n",
       "10          2022                 other scientist    0.096525\n",
       "11          2023                 other scientist    3.653506\n",
       "12          2017                    data modeler    0.823723\n",
       "13          2019                    data modeler    0.000000\n",
       "14          2022                    data modeler    0.000000\n",
       "15          2023                    data modeler    0.824985\n",
       "16          2017                        director    3.130148\n",
       "17          2019                        director    0.790079\n",
       "18          2022                        director   11.196911\n",
       "19          2023                        director    1.591043\n",
       "20          2017                  data scientist   49.752883\n",
       "21          2019                  data scientist   98.459846\n",
       "22          2022                  data scientist   15.830116\n",
       "23          2023                  data scientist    8.839128\n",
       "24          2017                   data engineer   18.451400\n",
       "25          2019                   data engineer    0.080008\n",
       "26          2022                   data engineer   18.050193\n",
       "27          2023                   data engineer   31.703005\n",
       "28          2017       machine learning engineer    3.624382\n",
       "29          2019       machine learning engineer    0.000000\n",
       "30          2022       machine learning engineer   13.416988\n",
       "31          2023       machine learning engineer    4.949912\n",
       "32          2017                  data analytics   15.650741\n",
       "33          2019                  data analytics    0.660066\n",
       "34          2022                  data analytics   18.050193\n",
       "35          2023                  data analytics   32.351208"
      ]
     },
     "execution_count": 165,
     "metadata": {},
     "output_type": "execute_result"
    }
   ],
   "source": [
    "df_title_stacked_pct_melted = df_title_stacked.set_index('Posting Year')\n",
    "df_title_stacked_pct_melted = (df_title_stacked_pct_melted.div(df_title_stacked_pct_melted.sum(axis=1), axis=0) * 100).reset_index()\n",
    "df_title_stacked_pct_melted = df_title_stacked_pct_melted.melt('Posting Year', var_name='Job Title', value_name='Percentage')\n",
    "df_title_stacked_pct_melted"
   ]
  },
  {
   "cell_type": "code",
   "execution_count": 167,
   "id": "8ea6abca",
   "metadata": {},
   "outputs": [
    {
     "data": {
      "text/html": [
       "\n",
       "<style>\n",
       "  #altair-viz-2633187cb0094ee5a1a4b3a44bed5a82.vega-embed {\n",
       "    width: 100%;\n",
       "    display: flex;\n",
       "  }\n",
       "\n",
       "  #altair-viz-2633187cb0094ee5a1a4b3a44bed5a82.vega-embed details,\n",
       "  #altair-viz-2633187cb0094ee5a1a4b3a44bed5a82.vega-embed details summary {\n",
       "    position: relative;\n",
       "  }\n",
       "</style>\n",
       "<div id=\"altair-viz-2633187cb0094ee5a1a4b3a44bed5a82\"></div>\n",
       "<script type=\"text/javascript\">\n",
       "  var VEGA_DEBUG = (typeof VEGA_DEBUG == \"undefined\") ? {} : VEGA_DEBUG;\n",
       "  (function(spec, embedOpt){\n",
       "    let outputDiv = document.currentScript.previousElementSibling;\n",
       "    if (outputDiv.id !== \"altair-viz-2633187cb0094ee5a1a4b3a44bed5a82\") {\n",
       "      outputDiv = document.getElementById(\"altair-viz-2633187cb0094ee5a1a4b3a44bed5a82\");\n",
       "    }\n",
       "    const paths = {\n",
       "      \"vega\": \"https://cdn.jsdelivr.net/npm/vega@5?noext\",\n",
       "      \"vega-lib\": \"https://cdn.jsdelivr.net/npm/vega-lib?noext\",\n",
       "      \"vega-lite\": \"https://cdn.jsdelivr.net/npm/vega-lite@5.15.1?noext\",\n",
       "      \"vega-embed\": \"https://cdn.jsdelivr.net/npm/vega-embed@6?noext\",\n",
       "    };\n",
       "\n",
       "    function maybeLoadScript(lib, version) {\n",
       "      var key = `${lib.replace(\"-\", \"\")}_version`;\n",
       "      return (VEGA_DEBUG[key] == version) ?\n",
       "        Promise.resolve(paths[lib]) :\n",
       "        new Promise(function(resolve, reject) {\n",
       "          var s = document.createElement('script');\n",
       "          document.getElementsByTagName(\"head\")[0].appendChild(s);\n",
       "          s.async = true;\n",
       "          s.onload = () => {\n",
       "            VEGA_DEBUG[key] = version;\n",
       "            return resolve(paths[lib]);\n",
       "          };\n",
       "          s.onerror = () => reject(`Error loading script: ${paths[lib]}`);\n",
       "          s.src = paths[lib];\n",
       "        });\n",
       "    }\n",
       "\n",
       "    function showError(err) {\n",
       "      outputDiv.innerHTML = `<div class=\"error\" style=\"color:red;\">${err}</div>`;\n",
       "      throw err;\n",
       "    }\n",
       "\n",
       "    function displayChart(vegaEmbed) {\n",
       "      vegaEmbed(outputDiv, spec, embedOpt)\n",
       "        .catch(err => showError(`Javascript Error: ${err.message}<br>This usually means there's a typo in your chart specification. See the javascript console for the full traceback.`));\n",
       "    }\n",
       "\n",
       "    if(typeof define === \"function\" && define.amd) {\n",
       "      requirejs.config({paths});\n",
       "      require([\"vega-embed\"], displayChart, err => showError(`Error loading script: ${err.message}`));\n",
       "    } else {\n",
       "      maybeLoadScript(\"vega\", \"5\")\n",
       "        .then(() => maybeLoadScript(\"vega-lite\", \"5.15.1\"))\n",
       "        .then(() => maybeLoadScript(\"vega-embed\", \"6\"))\n",
       "        .catch(showError)\n",
       "        .then(() => displayChart(vegaEmbed));\n",
       "    }\n",
       "  })({\"config\": {\"view\": {\"continuousWidth\": 300, \"continuousHeight\": 300}}, \"data\": {\"name\": \"data-102120da25265849a0a46128baa5c460\"}, \"mark\": {\"type\": \"bar\"}, \"encoding\": {\"color\": {\"field\": \"Job Title\", \"title\": \"Job Title\", \"type\": \"nominal\"}, \"x\": {\"field\": \"Posting Year\", \"title\": \"Posting Year\", \"type\": \"nominal\"}, \"y\": {\"field\": \"Percentage\", \"title\": \"Percentage of Listings (%)\", \"type\": \"quantitative\"}}, \"height\": 400, \"title\": \"Listing Count by Job Titles Over Time\", \"width\": 600, \"$schema\": \"https://vega.github.io/schema/vega-lite/v5.15.1.json\", \"datasets\": {\"data-102120da25265849a0a46128baa5c460\": [{\"Posting Year\": 2017, \"Job Title\": \"data scientist project manager\", \"Percentage\": 0.16474464579901155}, {\"Posting Year\": 2019, \"Job Title\": \"data scientist project manager\", \"Percentage\": 0.0}, {\"Posting Year\": 2022, \"Job Title\": \"data scientist project manager\", \"Percentage\": 8.204633204633204}, {\"Posting Year\": 2023, \"Job Title\": \"data scientist project manager\", \"Percentage\": 0.11785503830288745}, {\"Posting Year\": 2017, \"Job Title\": \"analyst\", \"Percentage\": 4.7775947281713345}, {\"Posting Year\": 2019, \"Job Title\": \"analyst\", \"Percentage\": 0.010001000100010001}, {\"Posting Year\": 2022, \"Job Title\": \"analyst\", \"Percentage\": 15.154440154440154}, {\"Posting Year\": 2023, \"Job Title\": \"analyst\", \"Percentage\": 15.96935769004125}, {\"Posting Year\": 2017, \"Job Title\": \"other scientist\", \"Percentage\": 3.6243822075782535}, {\"Posting Year\": 2019, \"Job Title\": \"other scientist\", \"Percentage\": 0.0}, {\"Posting Year\": 2022, \"Job Title\": \"other scientist\", \"Percentage\": 0.09652509652509653}, {\"Posting Year\": 2023, \"Job Title\": \"other scientist\", \"Percentage\": 3.653506187389511}, {\"Posting Year\": 2017, \"Job Title\": \"data modeler\", \"Percentage\": 0.8237232289950577}, {\"Posting Year\": 2019, \"Job Title\": \"data modeler\", \"Percentage\": 0.0}, {\"Posting Year\": 2022, \"Job Title\": \"data modeler\", \"Percentage\": 0.0}, {\"Posting Year\": 2023, \"Job Title\": \"data modeler\", \"Percentage\": 0.8249852681202121}, {\"Posting Year\": 2017, \"Job Title\": \"director\", \"Percentage\": 3.130148270181219}, {\"Posting Year\": 2019, \"Job Title\": \"director\", \"Percentage\": 0.79007900790079}, {\"Posting Year\": 2022, \"Job Title\": \"director\", \"Percentage\": 11.196911196911197}, {\"Posting Year\": 2023, \"Job Title\": \"director\", \"Percentage\": 1.5910430170889804}, {\"Posting Year\": 2017, \"Job Title\": \"data scientist\", \"Percentage\": 49.75288303130148}, {\"Posting Year\": 2019, \"Job Title\": \"data scientist\", \"Percentage\": 98.45984598459846}, {\"Posting Year\": 2022, \"Job Title\": \"data scientist\", \"Percentage\": 15.83011583011583}, {\"Posting Year\": 2023, \"Job Title\": \"data scientist\", \"Percentage\": 8.839127872716558}, {\"Posting Year\": 2017, \"Job Title\": \"data engineer\", \"Percentage\": 18.451400329489292}, {\"Posting Year\": 2019, \"Job Title\": \"data engineer\", \"Percentage\": 0.08000800080008001}, {\"Posting Year\": 2022, \"Job Title\": \"data engineer\", \"Percentage\": 18.05019305019305}, {\"Posting Year\": 2023, \"Job Title\": \"data engineer\", \"Percentage\": 31.703005303476722}, {\"Posting Year\": 2017, \"Job Title\": \"machine learning engineer\", \"Percentage\": 3.6243822075782535}, {\"Posting Year\": 2019, \"Job Title\": \"machine learning engineer\", \"Percentage\": 0.0}, {\"Posting Year\": 2022, \"Job Title\": \"machine learning engineer\", \"Percentage\": 13.416988416988417}, {\"Posting Year\": 2023, \"Job Title\": \"machine learning engineer\", \"Percentage\": 4.949911608721273}, {\"Posting Year\": 2017, \"Job Title\": \"data analytics\", \"Percentage\": 15.650741350906095}, {\"Posting Year\": 2019, \"Job Title\": \"data analytics\", \"Percentage\": 0.6600660066006601}, {\"Posting Year\": 2022, \"Job Title\": \"data analytics\", \"Percentage\": 18.05019305019305}, {\"Posting Year\": 2023, \"Job Title\": \"data analytics\", \"Percentage\": 32.35120801414261}]}}, {\"mode\": \"vega-lite\"});\n",
       "</script>"
      ],
      "text/plain": [
       "alt.Chart(...)"
      ]
     },
     "execution_count": 167,
     "metadata": {},
     "output_type": "execute_result"
    }
   ],
   "source": [
    "stacked_bar_job_title_pct = alt.Chart(df_title_stacked_pct_melted).mark_bar().encode(\n",
    "    x=alt.X('Posting Year:N', title='Posting Year'),\n",
    "    y=alt.Y('Percentage:Q', title='Percentage of Listings (%)'),\n",
    "    color=alt.Color('Job Title:N', title='Job Title')\n",
    ").properties(\n",
    "    title='Listing Count by Job Titles Over Time',\n",
    "    width=600,\n",
    "    height=400\n",
    ")\n",
    "stacked_bar_job_title_pct"
   ]
  },
  {
   "cell_type": "code",
   "execution_count": 168,
   "id": "f3062e6b",
   "metadata": {},
   "outputs": [
    {
     "data": {
      "text/html": [
       "\n",
       "<style>\n",
       "  #altair-viz-866086142772427794051fbde8a6e85c.vega-embed {\n",
       "    width: 100%;\n",
       "    display: flex;\n",
       "  }\n",
       "\n",
       "  #altair-viz-866086142772427794051fbde8a6e85c.vega-embed details,\n",
       "  #altair-viz-866086142772427794051fbde8a6e85c.vega-embed details summary {\n",
       "    position: relative;\n",
       "  }\n",
       "</style>\n",
       "<div id=\"altair-viz-866086142772427794051fbde8a6e85c\"></div>\n",
       "<script type=\"text/javascript\">\n",
       "  var VEGA_DEBUG = (typeof VEGA_DEBUG == \"undefined\") ? {} : VEGA_DEBUG;\n",
       "  (function(spec, embedOpt){\n",
       "    let outputDiv = document.currentScript.previousElementSibling;\n",
       "    if (outputDiv.id !== \"altair-viz-866086142772427794051fbde8a6e85c\") {\n",
       "      outputDiv = document.getElementById(\"altair-viz-866086142772427794051fbde8a6e85c\");\n",
       "    }\n",
       "    const paths = {\n",
       "      \"vega\": \"https://cdn.jsdelivr.net/npm/vega@5?noext\",\n",
       "      \"vega-lib\": \"https://cdn.jsdelivr.net/npm/vega-lib?noext\",\n",
       "      \"vega-lite\": \"https://cdn.jsdelivr.net/npm/vega-lite@5.15.1?noext\",\n",
       "      \"vega-embed\": \"https://cdn.jsdelivr.net/npm/vega-embed@6?noext\",\n",
       "    };\n",
       "\n",
       "    function maybeLoadScript(lib, version) {\n",
       "      var key = `${lib.replace(\"-\", \"\")}_version`;\n",
       "      return (VEGA_DEBUG[key] == version) ?\n",
       "        Promise.resolve(paths[lib]) :\n",
       "        new Promise(function(resolve, reject) {\n",
       "          var s = document.createElement('script');\n",
       "          document.getElementsByTagName(\"head\")[0].appendChild(s);\n",
       "          s.async = true;\n",
       "          s.onload = () => {\n",
       "            VEGA_DEBUG[key] = version;\n",
       "            return resolve(paths[lib]);\n",
       "          };\n",
       "          s.onerror = () => reject(`Error loading script: ${paths[lib]}`);\n",
       "          s.src = paths[lib];\n",
       "        });\n",
       "    }\n",
       "\n",
       "    function showError(err) {\n",
       "      outputDiv.innerHTML = `<div class=\"error\" style=\"color:red;\">${err}</div>`;\n",
       "      throw err;\n",
       "    }\n",
       "\n",
       "    function displayChart(vegaEmbed) {\n",
       "      vegaEmbed(outputDiv, spec, embedOpt)\n",
       "        .catch(err => showError(`Javascript Error: ${err.message}<br>This usually means there's a typo in your chart specification. See the javascript console for the full traceback.`));\n",
       "    }\n",
       "\n",
       "    if(typeof define === \"function\" && define.amd) {\n",
       "      requirejs.config({paths});\n",
       "      require([\"vega-embed\"], displayChart, err => showError(`Error loading script: ${err.message}`));\n",
       "    } else {\n",
       "      maybeLoadScript(\"vega\", \"5\")\n",
       "        .then(() => maybeLoadScript(\"vega-lite\", \"5.15.1\"))\n",
       "        .then(() => maybeLoadScript(\"vega-embed\", \"6\"))\n",
       "        .catch(showError)\n",
       "        .then(() => displayChart(vegaEmbed));\n",
       "    }\n",
       "  })({\"config\": {\"view\": {\"continuousWidth\": 300, \"continuousHeight\": 300}}, \"vconcat\": [{\"data\": {\"name\": \"data-abd55512fab7a3a5702a4266e5984ffd\"}, \"mark\": {\"type\": \"bar\"}, \"encoding\": {\"color\": {\"field\": \"Job Title\", \"title\": \"Job Title\", \"type\": \"nominal\"}, \"x\": {\"field\": \"Posting Year\", \"title\": \"Posting Year\", \"type\": \"nominal\"}, \"y\": {\"aggregate\": \"sum\", \"field\": \"Listing Count\", \"title\": \"Listing Count\", \"type\": \"quantitative\"}}, \"height\": 400, \"title\": \"Listing Count by Job Titles Over Time\", \"width\": 600}, {\"data\": {\"name\": \"data-102120da25265849a0a46128baa5c460\"}, \"mark\": {\"type\": \"bar\"}, \"encoding\": {\"color\": {\"field\": \"Job Title\", \"title\": \"Job Title\", \"type\": \"nominal\"}, \"x\": {\"field\": \"Posting Year\", \"title\": \"Posting Year\", \"type\": \"nominal\"}, \"y\": {\"field\": \"Percentage\", \"title\": \"Percentage of Listings (%)\", \"type\": \"quantitative\"}}, \"height\": 400, \"title\": \"Listing Count by Job Titles Over Time\", \"width\": 600}], \"$schema\": \"https://vega.github.io/schema/vega-lite/v5.15.1.json\", \"datasets\": {\"data-abd55512fab7a3a5702a4266e5984ffd\": [{\"Posting Year\": 2017, \"Job Title\": \"data scientist project manager\", \"Listing Count\": 1}, {\"Posting Year\": 2019, \"Job Title\": \"data scientist project manager\", \"Listing Count\": 0}, {\"Posting Year\": 2022, \"Job Title\": \"data scientist project manager\", \"Listing Count\": 85}, {\"Posting Year\": 2023, \"Job Title\": \"data scientist project manager\", \"Listing Count\": 2}, {\"Posting Year\": 2017, \"Job Title\": \"analyst\", \"Listing Count\": 29}, {\"Posting Year\": 2019, \"Job Title\": \"analyst\", \"Listing Count\": 1}, {\"Posting Year\": 2022, \"Job Title\": \"analyst\", \"Listing Count\": 157}, {\"Posting Year\": 2023, \"Job Title\": \"analyst\", \"Listing Count\": 271}, {\"Posting Year\": 2017, \"Job Title\": \"other scientist\", \"Listing Count\": 22}, {\"Posting Year\": 2019, \"Job Title\": \"other scientist\", \"Listing Count\": 0}, {\"Posting Year\": 2022, \"Job Title\": \"other scientist\", \"Listing Count\": 1}, {\"Posting Year\": 2023, \"Job Title\": \"other scientist\", \"Listing Count\": 62}, {\"Posting Year\": 2017, \"Job Title\": \"data modeler\", \"Listing Count\": 5}, {\"Posting Year\": 2019, \"Job Title\": \"data modeler\", \"Listing Count\": 0}, {\"Posting Year\": 2022, \"Job Title\": \"data modeler\", \"Listing Count\": 0}, {\"Posting Year\": 2023, \"Job Title\": \"data modeler\", \"Listing Count\": 14}, {\"Posting Year\": 2017, \"Job Title\": \"director\", \"Listing Count\": 19}, {\"Posting Year\": 2019, \"Job Title\": \"director\", \"Listing Count\": 79}, {\"Posting Year\": 2022, \"Job Title\": \"director\", \"Listing Count\": 116}, {\"Posting Year\": 2023, \"Job Title\": \"director\", \"Listing Count\": 27}, {\"Posting Year\": 2017, \"Job Title\": \"data scientist\", \"Listing Count\": 302}, {\"Posting Year\": 2019, \"Job Title\": \"data scientist\", \"Listing Count\": 9845}, {\"Posting Year\": 2022, \"Job Title\": \"data scientist\", \"Listing Count\": 164}, {\"Posting Year\": 2023, \"Job Title\": \"data scientist\", \"Listing Count\": 150}, {\"Posting Year\": 2017, \"Job Title\": \"data engineer\", \"Listing Count\": 112}, {\"Posting Year\": 2019, \"Job Title\": \"data engineer\", \"Listing Count\": 8}, {\"Posting Year\": 2022, \"Job Title\": \"data engineer\", \"Listing Count\": 187}, {\"Posting Year\": 2023, \"Job Title\": \"data engineer\", \"Listing Count\": 538}, {\"Posting Year\": 2017, \"Job Title\": \"machine learning engineer\", \"Listing Count\": 22}, {\"Posting Year\": 2019, \"Job Title\": \"machine learning engineer\", \"Listing Count\": 0}, {\"Posting Year\": 2022, \"Job Title\": \"machine learning engineer\", \"Listing Count\": 139}, {\"Posting Year\": 2023, \"Job Title\": \"machine learning engineer\", \"Listing Count\": 84}, {\"Posting Year\": 2017, \"Job Title\": \"data analytics\", \"Listing Count\": 95}, {\"Posting Year\": 2019, \"Job Title\": \"data analytics\", \"Listing Count\": 66}, {\"Posting Year\": 2022, \"Job Title\": \"data analytics\", \"Listing Count\": 187}, {\"Posting Year\": 2023, \"Job Title\": \"data analytics\", \"Listing Count\": 549}], \"data-102120da25265849a0a46128baa5c460\": [{\"Posting Year\": 2017, \"Job Title\": \"data scientist project manager\", \"Percentage\": 0.16474464579901155}, {\"Posting Year\": 2019, \"Job Title\": \"data scientist project manager\", \"Percentage\": 0.0}, {\"Posting Year\": 2022, \"Job Title\": \"data scientist project manager\", \"Percentage\": 8.204633204633204}, {\"Posting Year\": 2023, \"Job Title\": \"data scientist project manager\", \"Percentage\": 0.11785503830288745}, {\"Posting Year\": 2017, \"Job Title\": \"analyst\", \"Percentage\": 4.7775947281713345}, {\"Posting Year\": 2019, \"Job Title\": \"analyst\", \"Percentage\": 0.010001000100010001}, {\"Posting Year\": 2022, \"Job Title\": \"analyst\", \"Percentage\": 15.154440154440154}, {\"Posting Year\": 2023, \"Job Title\": \"analyst\", \"Percentage\": 15.96935769004125}, {\"Posting Year\": 2017, \"Job Title\": \"other scientist\", \"Percentage\": 3.6243822075782535}, {\"Posting Year\": 2019, \"Job Title\": \"other scientist\", \"Percentage\": 0.0}, {\"Posting Year\": 2022, \"Job Title\": \"other scientist\", \"Percentage\": 0.09652509652509653}, {\"Posting Year\": 2023, \"Job Title\": \"other scientist\", \"Percentage\": 3.653506187389511}, {\"Posting Year\": 2017, \"Job Title\": \"data modeler\", \"Percentage\": 0.8237232289950577}, {\"Posting Year\": 2019, \"Job Title\": \"data modeler\", \"Percentage\": 0.0}, {\"Posting Year\": 2022, \"Job Title\": \"data modeler\", \"Percentage\": 0.0}, {\"Posting Year\": 2023, \"Job Title\": \"data modeler\", \"Percentage\": 0.8249852681202121}, {\"Posting Year\": 2017, \"Job Title\": \"director\", \"Percentage\": 3.130148270181219}, {\"Posting Year\": 2019, \"Job Title\": \"director\", \"Percentage\": 0.79007900790079}, {\"Posting Year\": 2022, \"Job Title\": \"director\", \"Percentage\": 11.196911196911197}, {\"Posting Year\": 2023, \"Job Title\": \"director\", \"Percentage\": 1.5910430170889804}, {\"Posting Year\": 2017, \"Job Title\": \"data scientist\", \"Percentage\": 49.75288303130148}, {\"Posting Year\": 2019, \"Job Title\": \"data scientist\", \"Percentage\": 98.45984598459846}, {\"Posting Year\": 2022, \"Job Title\": \"data scientist\", \"Percentage\": 15.83011583011583}, {\"Posting Year\": 2023, \"Job Title\": \"data scientist\", \"Percentage\": 8.839127872716558}, {\"Posting Year\": 2017, \"Job Title\": \"data engineer\", \"Percentage\": 18.451400329489292}, {\"Posting Year\": 2019, \"Job Title\": \"data engineer\", \"Percentage\": 0.08000800080008001}, {\"Posting Year\": 2022, \"Job Title\": \"data engineer\", \"Percentage\": 18.05019305019305}, {\"Posting Year\": 2023, \"Job Title\": \"data engineer\", \"Percentage\": 31.703005303476722}, {\"Posting Year\": 2017, \"Job Title\": \"machine learning engineer\", \"Percentage\": 3.6243822075782535}, {\"Posting Year\": 2019, \"Job Title\": \"machine learning engineer\", \"Percentage\": 0.0}, {\"Posting Year\": 2022, \"Job Title\": \"machine learning engineer\", \"Percentage\": 13.416988416988417}, {\"Posting Year\": 2023, \"Job Title\": \"machine learning engineer\", \"Percentage\": 4.949911608721273}, {\"Posting Year\": 2017, \"Job Title\": \"data analytics\", \"Percentage\": 15.650741350906095}, {\"Posting Year\": 2019, \"Job Title\": \"data analytics\", \"Percentage\": 0.6600660066006601}, {\"Posting Year\": 2022, \"Job Title\": \"data analytics\", \"Percentage\": 18.05019305019305}, {\"Posting Year\": 2023, \"Job Title\": \"data analytics\", \"Percentage\": 32.35120801414261}]}}, {\"mode\": \"vega-lite\"});\n",
       "</script>"
      ],
      "text/plain": [
       "alt.VConcatChart(...)"
      ]
     },
     "execution_count": 168,
     "metadata": {},
     "output_type": "execute_result"
    }
   ],
   "source": [
    "combined_stacked_job_title_fig = stacked_bar_job_title & stacked_bar_job_title_pct\n",
    "combined_stacked_job_title_fig"
   ]
  },
  {
   "cell_type": "code",
   "execution_count": null,
   "id": "2b77fb85",
   "metadata": {},
   "outputs": [],
   "source": []
  }
 ],
 "metadata": {
  "kernelspec": {
   "display_name": "Python 3 (ipykernel)",
   "language": "python",
   "name": "python3"
  },
  "language_info": {
   "codemirror_mode": {
    "name": "ipython",
    "version": 3
   },
   "file_extension": ".py",
   "mimetype": "text/x-python",
   "name": "python",
   "nbconvert_exporter": "python",
   "pygments_lexer": "ipython3",
   "version": "3.11.5"
  }
 },
 "nbformat": 4,
 "nbformat_minor": 5
}
