{
 "cells": [
  {
   "cell_type": "code",
   "execution_count": 4,
   "id": "e0f75228-b3e0-484d-90d5-2a157b314fcf",
   "metadata": {},
   "outputs": [],
   "source": [
    "import pandas as pd"
   ]
  },
  {
   "cell_type": "code",
   "execution_count": 1,
   "id": "3ba72f21-0bc7-4b7c-8310-e2f65685be3a",
   "metadata": {},
   "outputs": [],
   "source": [
    "DATA_DIR = '../../../data/LinkedIn'\n",
    "JOB_DIR = f'{DATA_DIR}/raw/job_details'\n",
    "COMPANY_DIR = f'{DATA_DIR}/raw/company_details'"
   ]
  },
  {
   "cell_type": "code",
   "execution_count": null,
   "id": "4d9a4ae0",
   "metadata": {},
   "outputs": [],
   "source": [
    "import resource\n",
    "# 8GB in bytes\n",
    "memory_limit = 16 * 1024 * 1024 * 1024\n",
    "# Set the memory limit\n",
    "resource.setrlimit(resource.RLIMIT_DATA, (memory_limit, memory_limit))"
   ]
  },
  {
   "cell_type": "markdown",
   "id": "1b4a6776-afb5-4f82-840f-56be4556cceb",
   "metadata": {},
   "source": [
    "## Data Descriptions"
   ]
  },
  {
   "cell_type": "markdown",
   "id": "f897db76-91f9-4132-9207-cc421d52b08f",
   "metadata": {},
   "source": [
    "### company_details/companies.csv"
   ]
  },
  {
   "cell_type": "markdown",
   "id": "772cbf81-1241-4e3c-acd3-d46c837f347b",
   "metadata": {},
   "source": [
    "```\n",
    "company_id: The company ID as defined by LinkedIn\n",
    "name: Company name\n",
    "description: Company description\n",
    "company_size: Company grouping based on number of employees (0 Smallest - 7 Largest)\n",
    "country: Country of company headquarters.\n",
    "state: State of company headquarters.\n",
    "city: City of company headquarters.\n",
    "zip_code: ZIP code of company's headquarters.\n",
    "address: Address of company's headquarters\n",
    "url: Link to company's LinkedIn page\n",
    "```"
   ]
  },
  {
   "cell_type": "markdown",
   "id": "e5140482-d8b7-4719-bf73-a48e7f320009",
   "metadata": {},
   "source": [
    "## company_details/employee_counts.csv"
   ]
  },
  {
   "cell_type": "markdown",
   "id": "98031c29-efa0-4397-a9ad-b692ccea2a50",
   "metadata": {},
   "source": [
    "```\n",
    "company_id: The company ID\n",
    "employee_count: Number of employees at company\n",
    "follower_count: Number of company followers on LinkedIn\n",
    "time_recorded: Unix time of data collection\n",
    "```"
   ]
  },
  {
   "cell_type": "markdown",
   "id": "872f788f-8cc8-432a-99b5-e46e92491fa2",
   "metadata": {},
   "source": [
    "### Consolidate all job metadata into a single .csv file"
   ]
  },
  {
   "cell_type": "code",
   "execution_count": 5,
   "id": "d3cbbd68-1637-4f59-8fe2-e532b1ddb08b",
   "metadata": {},
   "outputs": [],
   "source": [
    "df_job_benefits = pd.read_csv(f'{JOB_DIR}/benefits.csv')\n",
    "df_job_industries = pd.read_csv(f'{JOB_DIR}/job_industries.csv')\n",
    "df_job_skills = pd.read_csv(f'{JOB_DIR}/job_skills.csv')"
   ]
  },
  {
   "cell_type": "code",
   "execution_count": 14,
   "id": "54f6a521-2191-4673-8880-56c494179027",
   "metadata": {},
   "outputs": [
    {
     "data": {
      "text/html": [
       "<div>\n",
       "<style scoped>\n",
       "    .dataframe tbody tr th:only-of-type {\n",
       "        vertical-align: middle;\n",
       "    }\n",
       "\n",
       "    .dataframe tbody tr th {\n",
       "        vertical-align: top;\n",
       "    }\n",
       "\n",
       "    .dataframe thead th {\n",
       "        text-align: right;\n",
       "    }\n",
       "</style>\n",
       "<table border=\"1\" class=\"dataframe\">\n",
       "  <thead>\n",
       "    <tr style=\"text-align: right;\">\n",
       "      <th></th>\n",
       "      <th>job_id</th>\n",
       "      <th>inferred</th>\n",
       "      <th>type</th>\n",
       "    </tr>\n",
       "  </thead>\n",
       "  <tbody>\n",
       "    <tr>\n",
       "      <th>0</th>\n",
       "      <td>3690843087</td>\n",
       "      <td>0</td>\n",
       "      <td>Medical insurance</td>\n",
       "    </tr>\n",
       "    <tr>\n",
       "      <th>1</th>\n",
       "      <td>3690843087</td>\n",
       "      <td>0</td>\n",
       "      <td>Dental insurance</td>\n",
       "    </tr>\n",
       "    <tr>\n",
       "      <th>2</th>\n",
       "      <td>3690843087</td>\n",
       "      <td>0</td>\n",
       "      <td>401(k)</td>\n",
       "    </tr>\n",
       "    <tr>\n",
       "      <th>3</th>\n",
       "      <td>3690843087</td>\n",
       "      <td>0</td>\n",
       "      <td>Paid maternity leave</td>\n",
       "    </tr>\n",
       "    <tr>\n",
       "      <th>4</th>\n",
       "      <td>3690843087</td>\n",
       "      <td>0</td>\n",
       "      <td>Disability insurance</td>\n",
       "    </tr>\n",
       "  </tbody>\n",
       "</table>\n",
       "</div>"
      ],
      "text/plain": [
       "       job_id  inferred                  type\n",
       "0  3690843087         0     Medical insurance\n",
       "1  3690843087         0      Dental insurance\n",
       "2  3690843087         0                401(k)\n",
       "3  3690843087         0  Paid maternity leave\n",
       "4  3690843087         0  Disability insurance"
      ]
     },
     "execution_count": 14,
     "metadata": {},
     "output_type": "execute_result"
    }
   ],
   "source": [
    "df_job_benefits.head()"
   ]
  },
  {
   "cell_type": "code",
   "execution_count": 15,
   "id": "4068af1c-d167-439b-9ff3-c628fd3720bd",
   "metadata": {},
   "outputs": [
    {
     "data": {
      "text/html": [
       "<div>\n",
       "<style scoped>\n",
       "    .dataframe tbody tr th:only-of-type {\n",
       "        vertical-align: middle;\n",
       "    }\n",
       "\n",
       "    .dataframe tbody tr th {\n",
       "        vertical-align: top;\n",
       "    }\n",
       "\n",
       "    .dataframe thead th {\n",
       "        text-align: right;\n",
       "    }\n",
       "</style>\n",
       "<table border=\"1\" class=\"dataframe\">\n",
       "  <thead>\n",
       "    <tr style=\"text-align: right;\">\n",
       "      <th></th>\n",
       "      <th>job_id</th>\n",
       "      <th>industry_id</th>\n",
       "    </tr>\n",
       "  </thead>\n",
       "  <tbody>\n",
       "    <tr>\n",
       "      <th>0</th>\n",
       "      <td>3378133231</td>\n",
       "      <td>68</td>\n",
       "    </tr>\n",
       "    <tr>\n",
       "      <th>1</th>\n",
       "      <td>3497509795</td>\n",
       "      <td>96</td>\n",
       "    </tr>\n",
       "    <tr>\n",
       "      <th>2</th>\n",
       "      <td>3690843087</td>\n",
       "      <td>47</td>\n",
       "    </tr>\n",
       "    <tr>\n",
       "      <th>3</th>\n",
       "      <td>3691775263</td>\n",
       "      <td>112</td>\n",
       "    </tr>\n",
       "    <tr>\n",
       "      <th>4</th>\n",
       "      <td>3691779379</td>\n",
       "      <td>80</td>\n",
       "    </tr>\n",
       "  </tbody>\n",
       "</table>\n",
       "</div>"
      ],
      "text/plain": [
       "       job_id  industry_id\n",
       "0  3378133231           68\n",
       "1  3497509795           96\n",
       "2  3690843087           47\n",
       "3  3691775263          112\n",
       "4  3691779379           80"
      ]
     },
     "execution_count": 15,
     "metadata": {},
     "output_type": "execute_result"
    }
   ],
   "source": [
    "df_job_industries.head()"
   ]
  },
  {
   "cell_type": "code",
   "execution_count": 16,
   "id": "4d0c93e6-e838-4619-91e5-38df82ddb63d",
   "metadata": {},
   "outputs": [
    {
     "data": {
      "text/html": [
       "<div>\n",
       "<style scoped>\n",
       "    .dataframe tbody tr th:only-of-type {\n",
       "        vertical-align: middle;\n",
       "    }\n",
       "\n",
       "    .dataframe tbody tr th {\n",
       "        vertical-align: top;\n",
       "    }\n",
       "\n",
       "    .dataframe thead th {\n",
       "        text-align: right;\n",
       "    }\n",
       "</style>\n",
       "<table border=\"1\" class=\"dataframe\">\n",
       "  <thead>\n",
       "    <tr style=\"text-align: right;\">\n",
       "      <th></th>\n",
       "      <th>job_id</th>\n",
       "      <th>skill_abr</th>\n",
       "    </tr>\n",
       "  </thead>\n",
       "  <tbody>\n",
       "    <tr>\n",
       "      <th>0</th>\n",
       "      <td>3690843087</td>\n",
       "      <td>ACCT</td>\n",
       "    </tr>\n",
       "    <tr>\n",
       "      <th>1</th>\n",
       "      <td>3690843087</td>\n",
       "      <td>FIN</td>\n",
       "    </tr>\n",
       "    <tr>\n",
       "      <th>2</th>\n",
       "      <td>3691763971</td>\n",
       "      <td>MGMT</td>\n",
       "    </tr>\n",
       "    <tr>\n",
       "      <th>3</th>\n",
       "      <td>3691763971</td>\n",
       "      <td>MNFC</td>\n",
       "    </tr>\n",
       "    <tr>\n",
       "      <th>4</th>\n",
       "      <td>3691775263</td>\n",
       "      <td>MGMT</td>\n",
       "    </tr>\n",
       "  </tbody>\n",
       "</table>\n",
       "</div>"
      ],
      "text/plain": [
       "       job_id skill_abr\n",
       "0  3690843087      ACCT\n",
       "1  3690843087       FIN\n",
       "2  3691763971      MGMT\n",
       "3  3691763971      MNFC\n",
       "4  3691775263      MGMT"
      ]
     },
     "execution_count": 16,
     "metadata": {},
     "output_type": "execute_result"
    }
   ],
   "source": [
    "df_job_skills.head()"
   ]
  },
  {
   "cell_type": "code",
   "execution_count": 20,
   "id": "40aeb47f-b1e3-4a05-88e9-e4877ca0f5b7",
   "metadata": {
    "scrolled": true
   },
   "outputs": [
    {
     "data": {
      "text/html": [
       "<div>\n",
       "<style scoped>\n",
       "    .dataframe tbody tr th:only-of-type {\n",
       "        vertical-align: middle;\n",
       "    }\n",
       "\n",
       "    .dataframe tbody tr th {\n",
       "        vertical-align: top;\n",
       "    }\n",
       "\n",
       "    .dataframe thead th {\n",
       "        text-align: right;\n",
       "    }\n",
       "</style>\n",
       "<table border=\"1\" class=\"dataframe\">\n",
       "  <thead>\n",
       "    <tr style=\"text-align: right;\">\n",
       "      <th></th>\n",
       "      <th>job_id</th>\n",
       "      <th>inferred</th>\n",
       "      <th>type</th>\n",
       "      <th>industry_id</th>\n",
       "      <th>skill_abr</th>\n",
       "    </tr>\n",
       "  </thead>\n",
       "  <tbody>\n",
       "    <tr>\n",
       "      <th>0</th>\n",
       "      <td>3690843087</td>\n",
       "      <td>0</td>\n",
       "      <td>Medical insurance</td>\n",
       "      <td>47</td>\n",
       "      <td>ACCT</td>\n",
       "    </tr>\n",
       "    <tr>\n",
       "      <th>1</th>\n",
       "      <td>3690843087</td>\n",
       "      <td>0</td>\n",
       "      <td>Medical insurance</td>\n",
       "      <td>47</td>\n",
       "      <td>FIN</td>\n",
       "    </tr>\n",
       "    <tr>\n",
       "      <th>2</th>\n",
       "      <td>3690843087</td>\n",
       "      <td>0</td>\n",
       "      <td>Dental insurance</td>\n",
       "      <td>47</td>\n",
       "      <td>ACCT</td>\n",
       "    </tr>\n",
       "    <tr>\n",
       "      <th>3</th>\n",
       "      <td>3690843087</td>\n",
       "      <td>0</td>\n",
       "      <td>Dental insurance</td>\n",
       "      <td>47</td>\n",
       "      <td>FIN</td>\n",
       "    </tr>\n",
       "    <tr>\n",
       "      <th>4</th>\n",
       "      <td>3690843087</td>\n",
       "      <td>0</td>\n",
       "      <td>401(k)</td>\n",
       "      <td>47</td>\n",
       "      <td>ACCT</td>\n",
       "    </tr>\n",
       "  </tbody>\n",
       "</table>\n",
       "</div>"
      ],
      "text/plain": [
       "       job_id  inferred               type  industry_id skill_abr\n",
       "0  3690843087         0  Medical insurance           47      ACCT\n",
       "1  3690843087         0  Medical insurance           47       FIN\n",
       "2  3690843087         0   Dental insurance           47      ACCT\n",
       "3  3690843087         0   Dental insurance           47       FIN\n",
       "4  3690843087         0             401(k)           47      ACCT"
      ]
     },
     "execution_count": 20,
     "metadata": {},
     "output_type": "execute_result"
    }
   ],
   "source": [
    "df_job_metadata = pd.merge(df_job_benefits, df_job_industries, on='job_id', how='inner')\n",
    "df_job_metadata = pd.merge(df_job_metadata, df_job_skills, on='job_id', how='inner')\n",
    "df_job_metadata.head()"
   ]
  },
  {
   "cell_type": "code",
   "execution_count": 24,
   "id": "7e68d6f3-4838-4c16-a670-8a2d4b110237",
   "metadata": {},
   "outputs": [],
   "source": [
    "df_job_metadata.to_csv(f'{DATA_DIR}/job_metadata.csv', index=False)"
   ]
  },
  {
   "cell_type": "markdown",
   "id": "b6b3cd6f-2ecc-4623-aff0-fd8a12d49678",
   "metadata": {},
   "source": [
    "### Consolidate all company metadata into a single .csv file"
   ]
  },
  {
   "cell_type": "code",
   "execution_count": 4,
   "id": "9022061f-d006-4472-b4dd-eb58dabe4ba9",
   "metadata": {},
   "outputs": [],
   "source": [
    "df_companies = pd.read_csv(f'{COMPANY_DIR}/companies.csv')\n",
    "df_company_industries = pd.read_csv(f'{COMPANY_DIR}/company_industries.csv')\n",
    "df_company_specialties = pd.read_csv(f'{COMPANY_DIR}/company_specialities.csv')\n",
    "df_company_employee_counts = pd.read_csv(f'{COMPANY_DIR}/employee_counts.csv')"
   ]
  },
  {
   "cell_type": "code",
   "execution_count": 26,
   "id": "8861c940-5c6d-4478-bdc9-d9f8966d8386",
   "metadata": {},
   "outputs": [
    {
     "data": {
      "text/html": [
       "<div>\n",
       "<style scoped>\n",
       "    .dataframe tbody tr th:only-of-type {\n",
       "        vertical-align: middle;\n",
       "    }\n",
       "\n",
       "    .dataframe tbody tr th {\n",
       "        vertical-align: top;\n",
       "    }\n",
       "\n",
       "    .dataframe thead th {\n",
       "        text-align: right;\n",
       "    }\n",
       "</style>\n",
       "<table border=\"1\" class=\"dataframe\">\n",
       "  <thead>\n",
       "    <tr style=\"text-align: right;\">\n",
       "      <th></th>\n",
       "      <th>company_id</th>\n",
       "      <th>name</th>\n",
       "      <th>description</th>\n",
       "      <th>company_size</th>\n",
       "      <th>state</th>\n",
       "      <th>country</th>\n",
       "      <th>city</th>\n",
       "      <th>zip_code</th>\n",
       "      <th>address</th>\n",
       "      <th>url</th>\n",
       "    </tr>\n",
       "  </thead>\n",
       "  <tbody>\n",
       "    <tr>\n",
       "      <th>0</th>\n",
       "      <td>1009</td>\n",
       "      <td>IBM</td>\n",
       "      <td>At IBM, we do more than work. We create. We cr...</td>\n",
       "      <td>7.0</td>\n",
       "      <td>NY</td>\n",
       "      <td>US</td>\n",
       "      <td>Armonk, New York</td>\n",
       "      <td>10504</td>\n",
       "      <td>International Business Machines Corp.</td>\n",
       "      <td>https://www.linkedin.com/company/ibm</td>\n",
       "    </tr>\n",
       "    <tr>\n",
       "      <th>1</th>\n",
       "      <td>1016</td>\n",
       "      <td>GE HealthCare</td>\n",
       "      <td>Every day millions of people feel the impact o...</td>\n",
       "      <td>7.0</td>\n",
       "      <td>0</td>\n",
       "      <td>US</td>\n",
       "      <td>Chicago</td>\n",
       "      <td>0</td>\n",
       "      <td>-</td>\n",
       "      <td>https://www.linkedin.com/company/gehealthcare</td>\n",
       "    </tr>\n",
       "    <tr>\n",
       "      <th>2</th>\n",
       "      <td>1021</td>\n",
       "      <td>GE Power</td>\n",
       "      <td>GE Power, part of GE Vernova, is a world energ...</td>\n",
       "      <td>7.0</td>\n",
       "      <td>NY</td>\n",
       "      <td>US</td>\n",
       "      <td>Schenectady</td>\n",
       "      <td>12345</td>\n",
       "      <td>1 River Road</td>\n",
       "      <td>https://www.linkedin.com/company/gepower</td>\n",
       "    </tr>\n",
       "    <tr>\n",
       "      <th>3</th>\n",
       "      <td>1025</td>\n",
       "      <td>Hewlett Packard Enterprise</td>\n",
       "      <td>Official LinkedIn of Hewlett Packard Enterpris...</td>\n",
       "      <td>7.0</td>\n",
       "      <td>Texas</td>\n",
       "      <td>US</td>\n",
       "      <td>Houston</td>\n",
       "      <td>77389</td>\n",
       "      <td>1701 E Mossy Oaks Rd Spring</td>\n",
       "      <td>https://www.linkedin.com/company/hewlett-packa...</td>\n",
       "    </tr>\n",
       "    <tr>\n",
       "      <th>4</th>\n",
       "      <td>1028</td>\n",
       "      <td>Oracle</td>\n",
       "      <td>We’re a cloud technology company that provides...</td>\n",
       "      <td>7.0</td>\n",
       "      <td>Texas</td>\n",
       "      <td>US</td>\n",
       "      <td>Austin</td>\n",
       "      <td>78741</td>\n",
       "      <td>2300 Oracle Way</td>\n",
       "      <td>https://www.linkedin.com/company/oracle</td>\n",
       "    </tr>\n",
       "  </tbody>\n",
       "</table>\n",
       "</div>"
      ],
      "text/plain": [
       "   company_id                        name  \\\n",
       "0        1009                         IBM   \n",
       "1        1016               GE HealthCare   \n",
       "2        1021                    GE Power   \n",
       "3        1025  Hewlett Packard Enterprise   \n",
       "4        1028                      Oracle   \n",
       "\n",
       "                                         description  company_size  state  \\\n",
       "0  At IBM, we do more than work. We create. We cr...           7.0     NY   \n",
       "1  Every day millions of people feel the impact o...           7.0      0   \n",
       "2  GE Power, part of GE Vernova, is a world energ...           7.0     NY   \n",
       "3  Official LinkedIn of Hewlett Packard Enterpris...           7.0  Texas   \n",
       "4  We’re a cloud technology company that provides...           7.0  Texas   \n",
       "\n",
       "  country              city zip_code                                address  \\\n",
       "0      US  Armonk, New York    10504  International Business Machines Corp.   \n",
       "1      US           Chicago        0                                      -   \n",
       "2      US       Schenectady    12345                           1 River Road   \n",
       "3      US           Houston    77389            1701 E Mossy Oaks Rd Spring   \n",
       "4      US            Austin    78741                        2300 Oracle Way   \n",
       "\n",
       "                                                 url  \n",
       "0               https://www.linkedin.com/company/ibm  \n",
       "1      https://www.linkedin.com/company/gehealthcare  \n",
       "2           https://www.linkedin.com/company/gepower  \n",
       "3  https://www.linkedin.com/company/hewlett-packa...  \n",
       "4            https://www.linkedin.com/company/oracle  "
      ]
     },
     "execution_count": 26,
     "metadata": {},
     "output_type": "execute_result"
    }
   ],
   "source": [
    "df_companies.head()"
   ]
  },
  {
   "cell_type": "code",
   "execution_count": 27,
   "id": "f8c7ea68-7181-4f46-af87-388a8050d2c1",
   "metadata": {},
   "outputs": [
    {
     "data": {
      "text/html": [
       "<div>\n",
       "<style scoped>\n",
       "    .dataframe tbody tr th:only-of-type {\n",
       "        vertical-align: middle;\n",
       "    }\n",
       "\n",
       "    .dataframe tbody tr th {\n",
       "        vertical-align: top;\n",
       "    }\n",
       "\n",
       "    .dataframe thead th {\n",
       "        text-align: right;\n",
       "    }\n",
       "</style>\n",
       "<table border=\"1\" class=\"dataframe\">\n",
       "  <thead>\n",
       "    <tr style=\"text-align: right;\">\n",
       "      <th></th>\n",
       "      <th>company_id</th>\n",
       "      <th>industry</th>\n",
       "    </tr>\n",
       "  </thead>\n",
       "  <tbody>\n",
       "    <tr>\n",
       "      <th>0</th>\n",
       "      <td>81149246</td>\n",
       "      <td>Higher Education</td>\n",
       "    </tr>\n",
       "    <tr>\n",
       "      <th>1</th>\n",
       "      <td>10033339</td>\n",
       "      <td>Information Technology &amp; Services</td>\n",
       "    </tr>\n",
       "    <tr>\n",
       "      <th>2</th>\n",
       "      <td>6049228</td>\n",
       "      <td>Accounting</td>\n",
       "    </tr>\n",
       "    <tr>\n",
       "      <th>3</th>\n",
       "      <td>2641066</td>\n",
       "      <td>Electrical &amp; Electronic Manufacturing</td>\n",
       "    </tr>\n",
       "    <tr>\n",
       "      <th>4</th>\n",
       "      <td>96649998</td>\n",
       "      <td>Marketing &amp; Advertising</td>\n",
       "    </tr>\n",
       "  </tbody>\n",
       "</table>\n",
       "</div>"
      ],
      "text/plain": [
       "   company_id                               industry\n",
       "0    81149246                       Higher Education\n",
       "1    10033339      Information Technology & Services\n",
       "2     6049228                             Accounting\n",
       "3     2641066  Electrical & Electronic Manufacturing\n",
       "4    96649998                Marketing & Advertising"
      ]
     },
     "execution_count": 27,
     "metadata": {},
     "output_type": "execute_result"
    }
   ],
   "source": [
    "df_company_industries.head()"
   ]
  },
  {
   "cell_type": "code",
   "execution_count": 29,
   "id": "e3009b98-02fa-44a5-adcb-d2ca1a10985b",
   "metadata": {},
   "outputs": [
    {
     "data": {
      "text/html": [
       "<div>\n",
       "<style scoped>\n",
       "    .dataframe tbody tr th:only-of-type {\n",
       "        vertical-align: middle;\n",
       "    }\n",
       "\n",
       "    .dataframe tbody tr th {\n",
       "        vertical-align: top;\n",
       "    }\n",
       "\n",
       "    .dataframe thead th {\n",
       "        text-align: right;\n",
       "    }\n",
       "</style>\n",
       "<table border=\"1\" class=\"dataframe\">\n",
       "  <thead>\n",
       "    <tr style=\"text-align: right;\">\n",
       "      <th></th>\n",
       "      <th>company_id</th>\n",
       "      <th>speciality</th>\n",
       "    </tr>\n",
       "  </thead>\n",
       "  <tbody>\n",
       "    <tr>\n",
       "      <th>0</th>\n",
       "      <td>81149246</td>\n",
       "      <td>Childrens Music Education</td>\n",
       "    </tr>\n",
       "    <tr>\n",
       "      <th>1</th>\n",
       "      <td>81149246</td>\n",
       "      <td>Foundational Music Theory</td>\n",
       "    </tr>\n",
       "    <tr>\n",
       "      <th>2</th>\n",
       "      <td>81149246</td>\n",
       "      <td>Child Music Lessons</td>\n",
       "    </tr>\n",
       "    <tr>\n",
       "      <th>3</th>\n",
       "      <td>81149246</td>\n",
       "      <td>social emotional learning</td>\n",
       "    </tr>\n",
       "    <tr>\n",
       "      <th>4</th>\n",
       "      <td>81149246</td>\n",
       "      <td>social emotional development</td>\n",
       "    </tr>\n",
       "  </tbody>\n",
       "</table>\n",
       "</div>"
      ],
      "text/plain": [
       "   company_id                    speciality\n",
       "0    81149246     Childrens Music Education\n",
       "1    81149246     Foundational Music Theory\n",
       "2    81149246           Child Music Lessons\n",
       "3    81149246     social emotional learning\n",
       "4    81149246  social emotional development"
      ]
     },
     "execution_count": 29,
     "metadata": {},
     "output_type": "execute_result"
    }
   ],
   "source": [
    "df_company_specialties.head()"
   ]
  },
  {
   "cell_type": "code",
   "execution_count": 30,
   "id": "9885c7bb-0b9a-42de-812d-18c664e6ef5c",
   "metadata": {},
   "outputs": [
    {
     "data": {
      "text/html": [
       "<div>\n",
       "<style scoped>\n",
       "    .dataframe tbody tr th:only-of-type {\n",
       "        vertical-align: middle;\n",
       "    }\n",
       "\n",
       "    .dataframe tbody tr th {\n",
       "        vertical-align: top;\n",
       "    }\n",
       "\n",
       "    .dataframe thead th {\n",
       "        text-align: right;\n",
       "    }\n",
       "</style>\n",
       "<table border=\"1\" class=\"dataframe\">\n",
       "  <thead>\n",
       "    <tr style=\"text-align: right;\">\n",
       "      <th></th>\n",
       "      <th>company_id</th>\n",
       "      <th>employee_count</th>\n",
       "      <th>follower_count</th>\n",
       "      <th>time_recorded</th>\n",
       "    </tr>\n",
       "  </thead>\n",
       "  <tbody>\n",
       "    <tr>\n",
       "      <th>0</th>\n",
       "      <td>81149246</td>\n",
       "      <td>6</td>\n",
       "      <td>91</td>\n",
       "      <td>1.692645e+09</td>\n",
       "    </tr>\n",
       "    <tr>\n",
       "      <th>1</th>\n",
       "      <td>10033339</td>\n",
       "      <td>3</td>\n",
       "      <td>187</td>\n",
       "      <td>1.692645e+09</td>\n",
       "    </tr>\n",
       "    <tr>\n",
       "      <th>2</th>\n",
       "      <td>6049228</td>\n",
       "      <td>20</td>\n",
       "      <td>82</td>\n",
       "      <td>1.692645e+09</td>\n",
       "    </tr>\n",
       "    <tr>\n",
       "      <th>3</th>\n",
       "      <td>2641066</td>\n",
       "      <td>45</td>\n",
       "      <td>2336</td>\n",
       "      <td>1.692645e+09</td>\n",
       "    </tr>\n",
       "    <tr>\n",
       "      <th>4</th>\n",
       "      <td>96649998</td>\n",
       "      <td>0</td>\n",
       "      <td>2</td>\n",
       "      <td>1.692645e+09</td>\n",
       "    </tr>\n",
       "  </tbody>\n",
       "</table>\n",
       "</div>"
      ],
      "text/plain": [
       "   company_id  employee_count  follower_count  time_recorded\n",
       "0    81149246               6              91   1.692645e+09\n",
       "1    10033339               3             187   1.692645e+09\n",
       "2     6049228              20              82   1.692645e+09\n",
       "3     2641066              45            2336   1.692645e+09\n",
       "4    96649998               0               2   1.692645e+09"
      ]
     },
     "execution_count": 30,
     "metadata": {},
     "output_type": "execute_result"
    }
   ],
   "source": [
    "df_company_employee_counts.head()"
   ]
  },
  {
   "cell_type": "code",
   "execution_count": 9,
   "id": "0bf8fc6f-126d-42e2-afb8-9a729ded553a",
   "metadata": {},
   "outputs": [
    {
     "data": {
      "text/plain": [
       "company_id        15907\n",
       "employee_count    15907\n",
       "follower_count    15907\n",
       "time_recorded     15907\n",
       "dtype: int64"
      ]
     },
     "execution_count": 9,
     "metadata": {},
     "output_type": "execute_result"
    }
   ],
   "source": [
    "df_company_employee_counts.count()"
   ]
  },
  {
   "cell_type": "code",
   "execution_count": null,
   "id": "e9cecdfc-17de-4ac9-acad-57950d21c100",
   "metadata": {
    "scrolled": true
   },
   "outputs": [],
   "source": [
    "# Results in memory crash\n",
    "df_company_metadata = pd.merge(df_company_industries, df_company_specialties, on='company_id', how='inner')\n",
    "df_company_metadata = pd.merge(df_company_metadata, df_company_employee_counts, on='company_id', how='inner')\n",
    "df_company_metadata.head()"
   ]
  },
  {
   "cell_type": "code",
   "execution_count": null,
   "id": "06b1e3d9-5013-468c-a744-47b60c9d291a",
   "metadata": {},
   "outputs": [],
   "source": []
  }
 ],
 "metadata": {
  "kernelspec": {
   "display_name": "Python 3 (ipykernel)",
   "language": "python",
   "name": "python3"
  },
  "language_info": {
   "codemirror_mode": {
    "name": "ipython",
    "version": 3
   },
   "file_extension": ".py",
   "mimetype": "text/x-python",
   "name": "python",
   "nbconvert_exporter": "python",
   "pygments_lexer": "ipython3",
   "version": "3.11.5"
  }
 },
 "nbformat": 4,
 "nbformat_minor": 5
}
