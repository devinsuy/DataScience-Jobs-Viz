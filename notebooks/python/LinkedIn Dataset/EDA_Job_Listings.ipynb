{
 "cells": [
  {
   "cell_type": "code",
   "execution_count": 1,
   "id": "34995f99-e40b-438a-83be-30d91249c05d",
   "metadata": {},
   "outputs": [
    {
     "name": "stdout",
     "output_type": "stream",
     "text": [
      "Requirement already satisfied: pandas in c:\\users\\devin\\anaconda3\\lib\\site-packages (2.0.3)\n",
      "Requirement already satisfied: python-dateutil>=2.8.2 in c:\\users\\devin\\anaconda3\\lib\\site-packages (from pandas) (2.8.2)\n",
      "Requirement already satisfied: pytz>=2020.1 in c:\\users\\devin\\anaconda3\\lib\\site-packages (from pandas) (2023.3.post1)\n",
      "Requirement already satisfied: tzdata>=2022.1 in c:\\users\\devin\\anaconda3\\lib\\site-packages (from pandas) (2023.3)\n",
      "Requirement already satisfied: numpy>=1.21.0 in c:\\users\\devin\\anaconda3\\lib\\site-packages (from pandas) (1.24.3)\n",
      "Requirement already satisfied: six>=1.5 in c:\\users\\devin\\anaconda3\\lib\\site-packages (from python-dateutil>=2.8.2->pandas) (1.16.0)\n",
      "Requirement already satisfied: matplotlib in c:\\users\\devin\\anaconda3\\lib\\site-packages (3.7.2)\n",
      "Requirement already satisfied: contourpy>=1.0.1 in c:\\users\\devin\\anaconda3\\lib\\site-packages (from matplotlib) (1.0.5)\n",
      "Requirement already satisfied: cycler>=0.10 in c:\\users\\devin\\anaconda3\\lib\\site-packages (from matplotlib) (0.11.0)\n",
      "Requirement already satisfied: fonttools>=4.22.0 in c:\\users\\devin\\anaconda3\\lib\\site-packages (from matplotlib) (4.25.0)\n",
      "Requirement already satisfied: kiwisolver>=1.0.1 in c:\\users\\devin\\anaconda3\\lib\\site-packages (from matplotlib) (1.4.4)\n",
      "Requirement already satisfied: numpy>=1.20 in c:\\users\\devin\\anaconda3\\lib\\site-packages (from matplotlib) (1.24.3)\n",
      "Requirement already satisfied: packaging>=20.0 in c:\\users\\devin\\anaconda3\\lib\\site-packages (from matplotlib) (23.1)\n",
      "Requirement already satisfied: pillow>=6.2.0 in c:\\users\\devin\\anaconda3\\lib\\site-packages (from matplotlib) (9.4.0)\n",
      "Requirement already satisfied: pyparsing<3.1,>=2.3.1 in c:\\users\\devin\\anaconda3\\lib\\site-packages (from matplotlib) (3.0.9)\n",
      "Requirement already satisfied: python-dateutil>=2.7 in c:\\users\\devin\\anaconda3\\lib\\site-packages (from matplotlib) (2.8.2)\n",
      "Requirement already satisfied: six>=1.5 in c:\\users\\devin\\anaconda3\\lib\\site-packages (from python-dateutil>=2.7->matplotlib) (1.16.0)\n"
     ]
    }
   ],
   "source": [
    "!pip install pandas\n",
    "!pip install matplotlib"
   ]
  },
  {
   "cell_type": "code",
   "execution_count": 2,
   "id": "1fd5b3bd-c53b-45cd-949c-a3feeb11fff6",
   "metadata": {},
   "outputs": [],
   "source": [
    "import pandas as pd\n",
    "import matplotlib.pyplot as plt"
   ]
  },
  {
   "cell_type": "code",
   "execution_count": 6,
   "id": "c95b2611-16a0-465f-837f-1b66974ee261",
   "metadata": {},
   "outputs": [],
   "source": [
    "DATA_DIR = '../../../data/LinkedIn'\n",
    "JOB_DIR = f'{DATA_DIR}/raw/job_details'\n",
    "COMPANY_DIR = f'{DATA_DIR}/raw/company_details'"
   ]
  },
  {
   "cell_type": "markdown",
   "id": "3368aa6a-70b7-4aa3-9e36-4cf405d7e516",
   "metadata": {},
   "source": [
    "## Data description"
   ]
  },
  {
   "cell_type": "markdown",
   "id": "4f2fa6fb-c3ed-455f-b329-9ac0f82f8130",
   "metadata": {},
   "source": [
    "```\n",
    "job_postings.csv\n",
    "job_id: The job ID as defined by LinkedIn (https://www.linkedin.com/jobs/view/ job_id )\n",
    "company_id: Identifier for the company associated with the job posting (maps to companies.csv)\n",
    "title: Job title.\n",
    "description: Job description.\n",
    "max_salary: Maximum salary\n",
    "med_salary: Median salary\n",
    "min_salary: Minimum salary\n",
    "pay_period: Pay period for salary (Hourly, Monthly, Yearly)\n",
    "formatted_work_type: Type of work (Fulltime, Parttime, Contract)\n",
    "location: Job location\n",
    "applies: Number of applications that have been submitted\n",
    "original_listed_time: Original time the job was listed\n",
    "remote_allowed: Whether job permits remote work\n",
    "views: Number of times the job posting has been viewed\n",
    "job_posting_url: URL to the job posting on a platform\n",
    "application_url: URL where applications can be submitted\n",
    "application_type: Type of application process (offsite, complex/simple onsite)\n",
    "expiry: Expiration date or time for the job listing\n",
    "closed_time: Time to close job listing\n",
    "formatted_experience_level: Job experience level (entry, associate, executive, etc)\n",
    "skills_desc: Description detailing required skills for job\n",
    "listed_time: Time when the job was listed\n",
    "posting_domain: Domain of the website with application\n",
    "sponsored: Whether the job listing is sponsored or promoted.\n",
    "work_type: Type of work associated with the job\n",
    "currency: Currency in which the salary is provided.\n",
    "compensation_type: Type of compensation for the job.\n",
    "```"
   ]
  },
  {
   "cell_type": "code",
   "execution_count": 7,
   "id": "173ba073-86ad-441f-9e17-7dcb5d03037b",
   "metadata": {
    "scrolled": true
   },
   "outputs": [
    {
     "data": {
      "text/html": [
       "<div>\n",
       "<style scoped>\n",
       "    .dataframe tbody tr th:only-of-type {\n",
       "        vertical-align: middle;\n",
       "    }\n",
       "\n",
       "    .dataframe tbody tr th {\n",
       "        vertical-align: top;\n",
       "    }\n",
       "\n",
       "    .dataframe thead th {\n",
       "        text-align: right;\n",
       "    }\n",
       "</style>\n",
       "<table border=\"1\" class=\"dataframe\">\n",
       "  <thead>\n",
       "    <tr style=\"text-align: right;\">\n",
       "      <th></th>\n",
       "      <th>job_id</th>\n",
       "      <th>company_id</th>\n",
       "      <th>title</th>\n",
       "      <th>description</th>\n",
       "      <th>max_salary</th>\n",
       "      <th>med_salary</th>\n",
       "      <th>min_salary</th>\n",
       "      <th>pay_period</th>\n",
       "      <th>formatted_work_type</th>\n",
       "      <th>location</th>\n",
       "      <th>...</th>\n",
       "      <th>expiry</th>\n",
       "      <th>closed_time</th>\n",
       "      <th>formatted_experience_level</th>\n",
       "      <th>skills_desc</th>\n",
       "      <th>listed_time</th>\n",
       "      <th>posting_domain</th>\n",
       "      <th>sponsored</th>\n",
       "      <th>work_type</th>\n",
       "      <th>currency</th>\n",
       "      <th>compensation_type</th>\n",
       "    </tr>\n",
       "  </thead>\n",
       "  <tbody>\n",
       "    <tr>\n",
       "      <th>0</th>\n",
       "      <td>85008768</td>\n",
       "      <td>NaN</td>\n",
       "      <td>Licensed Insurance Agent</td>\n",
       "      <td>While many industries were hurt by the last fe...</td>\n",
       "      <td>52000.0</td>\n",
       "      <td>NaN</td>\n",
       "      <td>45760.0</td>\n",
       "      <td>YEARLY</td>\n",
       "      <td>Full-time</td>\n",
       "      <td>Chico, CA</td>\n",
       "      <td>...</td>\n",
       "      <td>1.710000e+12</td>\n",
       "      <td>NaN</td>\n",
       "      <td>NaN</td>\n",
       "      <td>NaN</td>\n",
       "      <td>1.690000e+12</td>\n",
       "      <td>NaN</td>\n",
       "      <td>1</td>\n",
       "      <td>FULL_TIME</td>\n",
       "      <td>USD</td>\n",
       "      <td>BASE_SALARY</td>\n",
       "    </tr>\n",
       "    <tr>\n",
       "      <th>1</th>\n",
       "      <td>133114754</td>\n",
       "      <td>77766802.0</td>\n",
       "      <td>Sales Manager</td>\n",
       "      <td>Are you a dynamic and creative marketing profe...</td>\n",
       "      <td>NaN</td>\n",
       "      <td>NaN</td>\n",
       "      <td>NaN</td>\n",
       "      <td>NaN</td>\n",
       "      <td>Full-time</td>\n",
       "      <td>Santa Clarita, CA</td>\n",
       "      <td>...</td>\n",
       "      <td>1.700000e+12</td>\n",
       "      <td>NaN</td>\n",
       "      <td>NaN</td>\n",
       "      <td>NaN</td>\n",
       "      <td>1.690000e+12</td>\n",
       "      <td>NaN</td>\n",
       "      <td>0</td>\n",
       "      <td>FULL_TIME</td>\n",
       "      <td>NaN</td>\n",
       "      <td>NaN</td>\n",
       "    </tr>\n",
       "    <tr>\n",
       "      <th>2</th>\n",
       "      <td>133196985</td>\n",
       "      <td>1089558.0</td>\n",
       "      <td>Model Risk Auditor</td>\n",
       "      <td>Join Us as a Model Risk Auditor – Showcase You...</td>\n",
       "      <td>NaN</td>\n",
       "      <td>NaN</td>\n",
       "      <td>NaN</td>\n",
       "      <td>NaN</td>\n",
       "      <td>Contract</td>\n",
       "      <td>New York, NY</td>\n",
       "      <td>...</td>\n",
       "      <td>1.700000e+12</td>\n",
       "      <td>NaN</td>\n",
       "      <td>NaN</td>\n",
       "      <td>NaN</td>\n",
       "      <td>1.690000e+12</td>\n",
       "      <td>NaN</td>\n",
       "      <td>0</td>\n",
       "      <td>CONTRACT</td>\n",
       "      <td>NaN</td>\n",
       "      <td>NaN</td>\n",
       "    </tr>\n",
       "    <tr>\n",
       "      <th>3</th>\n",
       "      <td>381055942</td>\n",
       "      <td>96654609.0</td>\n",
       "      <td>Business Manager</td>\n",
       "      <td>Business ManagerFirst Baptist Church ForneyFor...</td>\n",
       "      <td>NaN</td>\n",
       "      <td>NaN</td>\n",
       "      <td>NaN</td>\n",
       "      <td>NaN</td>\n",
       "      <td>Full-time</td>\n",
       "      <td>Forney, TX</td>\n",
       "      <td>...</td>\n",
       "      <td>1.700000e+12</td>\n",
       "      <td>NaN</td>\n",
       "      <td>NaN</td>\n",
       "      <td>NaN</td>\n",
       "      <td>1.690000e+12</td>\n",
       "      <td>NaN</td>\n",
       "      <td>0</td>\n",
       "      <td>FULL_TIME</td>\n",
       "      <td>NaN</td>\n",
       "      <td>NaN</td>\n",
       "    </tr>\n",
       "    <tr>\n",
       "      <th>4</th>\n",
       "      <td>529257371</td>\n",
       "      <td>1244539.0</td>\n",
       "      <td>NY Studio Assistant</td>\n",
       "      <td>YOU COULD BE ONE OF THE MAGIC MAKERS\\nKen Fulk...</td>\n",
       "      <td>NaN</td>\n",
       "      <td>NaN</td>\n",
       "      <td>NaN</td>\n",
       "      <td>NaN</td>\n",
       "      <td>Full-time</td>\n",
       "      <td>New York, NY</td>\n",
       "      <td>...</td>\n",
       "      <td>1.710000e+12</td>\n",
       "      <td>NaN</td>\n",
       "      <td>NaN</td>\n",
       "      <td>NaN</td>\n",
       "      <td>1.690000e+12</td>\n",
       "      <td>NaN</td>\n",
       "      <td>1</td>\n",
       "      <td>FULL_TIME</td>\n",
       "      <td>NaN</td>\n",
       "      <td>NaN</td>\n",
       "    </tr>\n",
       "  </tbody>\n",
       "</table>\n",
       "<p>5 rows × 27 columns</p>\n",
       "</div>"
      ],
      "text/plain": [
       "      job_id  company_id                     title  \\\n",
       "0   85008768         NaN  Licensed Insurance Agent   \n",
       "1  133114754  77766802.0             Sales Manager   \n",
       "2  133196985   1089558.0        Model Risk Auditor   \n",
       "3  381055942  96654609.0          Business Manager   \n",
       "4  529257371   1244539.0       NY Studio Assistant   \n",
       "\n",
       "                                         description  max_salary  med_salary  \\\n",
       "0  While many industries were hurt by the last fe...     52000.0         NaN   \n",
       "1  Are you a dynamic and creative marketing profe...         NaN         NaN   \n",
       "2  Join Us as a Model Risk Auditor – Showcase You...         NaN         NaN   \n",
       "3  Business ManagerFirst Baptist Church ForneyFor...         NaN         NaN   \n",
       "4  YOU COULD BE ONE OF THE MAGIC MAKERS\\nKen Fulk...         NaN         NaN   \n",
       "\n",
       "   min_salary pay_period formatted_work_type           location  ...  \\\n",
       "0     45760.0     YEARLY           Full-time          Chico, CA  ...   \n",
       "1         NaN        NaN           Full-time  Santa Clarita, CA  ...   \n",
       "2         NaN        NaN            Contract       New York, NY  ...   \n",
       "3         NaN        NaN           Full-time         Forney, TX  ...   \n",
       "4         NaN        NaN           Full-time       New York, NY  ...   \n",
       "\n",
       "         expiry  closed_time  formatted_experience_level  skills_desc  \\\n",
       "0  1.710000e+12          NaN                         NaN          NaN   \n",
       "1  1.700000e+12          NaN                         NaN          NaN   \n",
       "2  1.700000e+12          NaN                         NaN          NaN   \n",
       "3  1.700000e+12          NaN                         NaN          NaN   \n",
       "4  1.710000e+12          NaN                         NaN          NaN   \n",
       "\n",
       "    listed_time posting_domain sponsored  work_type  currency  \\\n",
       "0  1.690000e+12            NaN         1  FULL_TIME       USD   \n",
       "1  1.690000e+12            NaN         0  FULL_TIME       NaN   \n",
       "2  1.690000e+12            NaN         0   CONTRACT       NaN   \n",
       "3  1.690000e+12            NaN         0  FULL_TIME       NaN   \n",
       "4  1.690000e+12            NaN         1  FULL_TIME       NaN   \n",
       "\n",
       "  compensation_type  \n",
       "0       BASE_SALARY  \n",
       "1               NaN  \n",
       "2               NaN  \n",
       "3               NaN  \n",
       "4               NaN  \n",
       "\n",
       "[5 rows x 27 columns]"
      ]
     },
     "execution_count": 7,
     "metadata": {},
     "output_type": "execute_result"
    }
   ],
   "source": [
    "df_jobs = pd.read_csv(f'{DATA_DIR}/raw/job_postings.csv')\n",
    "df_jobs.head()"
   ]
  },
  {
   "cell_type": "code",
   "execution_count": 6,
   "id": "dfa83353-a4c6-4388-8687-0313e62005e5",
   "metadata": {},
   "outputs": [
    {
     "data": {
      "text/plain": [
       "Index(['job_id', 'company_id', 'title', 'description', 'max_salary',\n",
       "       'med_salary', 'min_salary', 'pay_period', 'formatted_work_type',\n",
       "       'location', 'applies', 'original_listed_time', 'remote_allowed',\n",
       "       'views', 'job_posting_url', 'application_url', 'application_type',\n",
       "       'expiry', 'closed_time', 'formatted_experience_level', 'skills_desc',\n",
       "       'listed_time', 'posting_domain', 'sponsored', 'work_type', 'currency',\n",
       "       'compensation_type'],\n",
       "      dtype='object')"
      ]
     },
     "execution_count": 6,
     "metadata": {},
     "output_type": "execute_result"
    }
   ],
   "source": [
    "df_jobs.columns"
   ]
  },
  {
   "cell_type": "code",
   "execution_count": 7,
   "id": "64d539a8-bd27-45d4-9a38-b59f1bf959c6",
   "metadata": {
    "scrolled": true
   },
   "outputs": [
    {
     "data": {
      "text/plain": [
       "(15886, 27)"
      ]
     },
     "execution_count": 7,
     "metadata": {},
     "output_type": "execute_result"
    }
   ],
   "source": [
    "df_jobs.shape"
   ]
  },
  {
   "cell_type": "markdown",
   "id": "09426bef",
   "metadata": {},
   "source": [
    "## Availability of data on skills desc"
   ]
  },
  {
   "cell_type": "code",
   "execution_count": 10,
   "id": "804f0b33",
   "metadata": {},
   "outputs": [
    {
     "data": {
      "text/plain": [
       "(144, 27)"
      ]
     },
     "execution_count": 10,
     "metadata": {},
     "output_type": "execute_result"
    }
   ],
   "source": [
    "df_skills_desc = df_jobs.dropna(subset=['skills_desc'])\n",
    "df_skills_desc.shape"
   ]
  },
  {
   "cell_type": "markdown",
   "id": "5de5b171-96e7-4a9d-a540-8e8b3cd0149b",
   "metadata": {},
   "source": [
    "## Availability of data for remote"
   ]
  },
  {
   "cell_type": "code",
   "execution_count": 13,
   "id": "a4af95e8-0275-4b43-9440-88b9e8428df7",
   "metadata": {},
   "outputs": [],
   "source": [
    "df_jobs_remote = df_jobs.dropna(subset=['remote_allowed'])"
   ]
  },
  {
   "cell_type": "code",
   "execution_count": 14,
   "id": "cfabaa0f-40e0-40aa-8450-2b5c904d3fed",
   "metadata": {},
   "outputs": [
    {
     "data": {
      "text/plain": [
       "(2340, 27)"
      ]
     },
     "execution_count": 14,
     "metadata": {},
     "output_type": "execute_result"
    }
   ],
   "source": [
    "df_jobs_remote.shape"
   ]
  },
  {
   "cell_type": "code",
   "execution_count": 58,
   "id": "a2d0e0db-49a6-4e59-9824-3fa80525089d",
   "metadata": {},
   "outputs": [
    {
     "data": {
      "text/plain": [
       "6        1.0\n",
       "9        1.0\n",
       "13       1.0\n",
       "15       1.0\n",
       "16       1.0\n",
       "        ... \n",
       "15858    1.0\n",
       "15867    1.0\n",
       "15869    1.0\n",
       "15871    1.0\n",
       "15872    1.0\n",
       "Name: remote_allowed, Length: 2340, dtype: float64"
      ]
     },
     "execution_count": 58,
     "metadata": {},
     "output_type": "execute_result"
    }
   ],
   "source": [
    "df_jobs_remote['remote_allowed']"
   ]
  },
  {
   "cell_type": "code",
   "execution_count": 21,
   "id": "5d458dc4-2987-4afd-9494-c508be98d16a",
   "metadata": {},
   "outputs": [
    {
     "data": {
      "text/plain": [
       "{1.0}"
      ]
     },
     "execution_count": 21,
     "metadata": {},
     "output_type": "execute_result"
    }
   ],
   "source": [
    "set(df_jobs_remote['remote_allowed'])"
   ]
  },
  {
   "cell_type": "code",
   "execution_count": 22,
   "id": "aa881cd2-8bcb-4e22-ac38-af07222ffa1a",
   "metadata": {},
   "outputs": [
    {
     "data": {
      "text/plain": [
       "(array([   0., 2340.]),\n",
       " array([0.5, 1. , 1.5]),\n",
       " <BarContainer object of 2 artists>)"
      ]
     },
     "execution_count": 22,
     "metadata": {},
     "output_type": "execute_result"
    },
    {
     "data": {
      "image/png": "[encoded data removed]",
      "text/plain": [
       "<Figure size 640x480 with 1 Axes>"
      ]
     },
     "metadata": {},
     "output_type": "display_data"
    }
   ],
   "source": [
    "plt.hist(df_jobs_remote['remote_allowed'], bins=2)"
   ]
  },
  {
   "cell_type": "markdown",
   "id": "dcabfe05-e986-4bd3-93b3-6546ea88aea6",
   "metadata": {},
   "source": [
    "## Availability of data for salary"
   ]
  },
  {
   "cell_type": "code",
   "execution_count": 38,
   "id": "37f0b372-bd52-4e98-9dc8-6f42f23b1cad",
   "metadata": {},
   "outputs": [
    {
     "data": {
      "text/plain": [
       "(5521, 27)"
      ]
     },
     "execution_count": 38,
     "metadata": {},
     "output_type": "execute_result"
    }
   ],
   "source": [
    "df_jobs_salary = df_jobs.dropna(subset=['max_salary', 'min_salary'])\n",
    "df_jobs_salary_max.shape"
   ]
  },
  {
   "cell_type": "code",
   "execution_count": 52,
   "id": "8251b817-b05e-43f0-8d50-b8ff40144ebe",
   "metadata": {},
   "outputs": [
    {
     "data": {
      "text/plain": [
       "0         52000.00\n",
       "5         42000.00\n",
       "8            50.00\n",
       "12           20.00\n",
       "13        12000.00\n",
       "           ...    \n",
       "15870     85000.00\n",
       "15871     70000.00\n",
       "15875        23.89\n",
       "15878    105200.00\n",
       "15884    135000.00\n",
       "Name: max_salary, Length: 5521, dtype: float64"
      ]
     },
     "execution_count": 52,
     "metadata": {},
     "output_type": "execute_result"
    }
   ],
   "source": [
    "df_jobs_salary['max_salary']"
   ]
  },
  {
   "cell_type": "code",
   "execution_count": 50,
   "id": "7d8207d1-4b5e-49ef-af77-d6b1248f7039",
   "metadata": {},
   "outputs": [
    {
     "data": {
      "text/plain": [
       "0         45760.00\n",
       "5         37000.00\n",
       "8            50.00\n",
       "12           18.00\n",
       "13        12000.00\n",
       "           ...    \n",
       "15870     75000.00\n",
       "15871     60000.00\n",
       "15875        19.08\n",
       "15878     91900.00\n",
       "15884    110000.00\n",
       "Name: min_salary, Length: 5521, dtype: float64"
      ]
     },
     "execution_count": 50,
     "metadata": {},
     "output_type": "execute_result"
    }
   ],
   "source": [
    "df_jobs_salary['min_salary']"
   ]
  },
  {
   "cell_type": "code",
   "execution_count": 44,
   "id": "4a1a4e7c-8725-4ac9-89f7-7e64d3f632de",
   "metadata": {},
   "outputs": [
    {
     "data": {
      "text/plain": [
       "(array([4.003e+03, 1.351e+03, 1.310e+02, 1.800e+01, 2.000e+00, 1.100e+01,\n",
       "        2.000e+00, 1.000e+00, 1.000e+00, 1.000e+00]),\n",
       " array([1.000000e+01, 1.300090e+05, 2.600080e+05, 3.900070e+05,\n",
       "        5.200060e+05, 6.500050e+05, 7.800040e+05, 9.100030e+05,\n",
       "        1.040002e+06, 1.170001e+06, 1.300000e+06]),\n",
       " <BarContainer object of 10 artists>)"
      ]
     },
     "execution_count": 44,
     "metadata": {},
     "output_type": "execute_result"
    },
    {
     "data": {
      "image/png": "[encoded data removed]",
      "text/plain": [
       "<Figure size 640x480 with 1 Axes>"
      ]
     },
     "metadata": {},
     "output_type": "display_data"
    }
   ],
   "source": [
    "plt.hist(df_jobs_salary['max_salary'])"
   ]
  },
  {
   "cell_type": "code",
   "execution_count": 45,
   "id": "26583951-dfb9-4d85-a34a-1b4ea03d8634",
   "metadata": {},
   "outputs": [
    {
     "data": {
      "text/plain": [
       "(array([3.606e+03, 1.628e+03, 2.540e+02, 2.600e+01, 2.000e+00, 0.000e+00,\n",
       "        2.000e+00, 1.000e+00, 0.000e+00, 2.000e+00]),\n",
       " array([1.00000e+01, 8.00090e+04, 1.60008e+05, 2.40007e+05, 3.20006e+05,\n",
       "        4.00005e+05, 4.80004e+05, 5.60003e+05, 6.40002e+05, 7.20001e+05,\n",
       "        8.00000e+05]),\n",
       " <BarContainer object of 10 artists>)"
      ]
     },
     "execution_count": 45,
     "metadata": {},
     "output_type": "execute_result"
    },
    {
     "data": {
      "image/png": "[encoded data removed]",
      "text/plain": [
       "<Figure size 640x480 with 1 Axes>"
      ]
     },
     "metadata": {},
     "output_type": "display_data"
    }
   ],
   "source": [
    "plt.hist(df_jobs_salary['min_salary'])"
   ]
  },
  {
   "cell_type": "markdown",
   "id": "d8cd8c8d-6a07-41f1-9c10-3db9dd14a0e5",
   "metadata": {},
   "source": [
    "## Availability of data for experience level"
   ]
  },
  {
   "cell_type": "code",
   "execution_count": 5,
   "id": "c65fd199-a707-4547-8477-7a6999906dbe",
   "metadata": {},
   "outputs": [
    {
     "data": {
      "text/plain": [
       "(10984, 27)"
      ]
     },
     "execution_count": 5,
     "metadata": {},
     "output_type": "execute_result"
    }
   ],
   "source": [
    "df_jobs_exp = df_jobs.dropna(subset=['formatted_experience_level'])\n",
    "df_jobs_exp.shape"
   ]
  },
  {
   "cell_type": "code",
   "execution_count": 6,
   "id": "5b09d58c-dcc9-4f53-9dfc-11ec88c827ad",
   "metadata": {},
   "outputs": [
    {
     "data": {
      "text/plain": [
       "15            Entry level\n",
       "16            Entry level\n",
       "17            Entry level\n",
       "18              Associate\n",
       "19            Entry level\n",
       "               ...       \n",
       "15880         Entry level\n",
       "15881         Entry level\n",
       "15882         Entry level\n",
       "15883         Entry level\n",
       "15884    Mid-Senior level\n",
       "Name: formatted_experience_level, Length: 10984, dtype: object"
      ]
     },
     "execution_count": 6,
     "metadata": {},
     "output_type": "execute_result"
    }
   ],
   "source": [
    "df_jobs_exp['formatted_experience_level']"
   ]
  },
  {
   "cell_type": "code",
   "execution_count": 9,
   "id": "de58ff41",
   "metadata": {
    "scrolled": true
   },
   "outputs": [
    {
     "data": {
      "text/plain": [
       "defaultdict(int,\n",
       "            {'Entry level': 3694,\n",
       "             'Associate': 1220,\n",
       "             'Mid-Senior level': 5083,\n",
       "             'Director': 687,\n",
       "             'Executive': 134,\n",
       "             'Internship': 166})"
      ]
     },
     "execution_count": 9,
     "metadata": {},
     "output_type": "execute_result"
    }
   ],
   "source": [
    "from collections import defaultdict\n",
    "\n",
    "expCount = defaultdict(int)\n",
    "\n",
    "for expLevel in df_jobs_exp['formatted_experience_level']:\n",
    "    expCount[expLevel] += 1\n",
    "\n",
    "expCount"
   ]
  },
  {
   "cell_type": "code",
   "execution_count": 12,
   "id": "35aebddc",
   "metadata": {},
   "outputs": [
    {
     "data": {
      "text/plain": [
       "(3694, 27)"
      ]
     },
     "execution_count": 12,
     "metadata": {},
     "output_type": "execute_result"
    }
   ],
   "source": [
    "df_entry_level = df_jobs_exp[df_jobs_exp['formatted_experience_level'] == 'Entry level']\n",
    "df_entry_level.shape"
   ]
  },
  {
   "cell_type": "code",
   "execution_count": 22,
   "id": "ec64249f",
   "metadata": {},
   "outputs": [
    {
     "data": {
      "text/plain": [
       "15.277256317689531"
      ]
     },
     "execution_count": 22,
     "metadata": {},
     "output_type": "execute_result"
    }
   ],
   "source": [
    "df_entry_level['applies'].mean()"
   ]
  },
  {
   "cell_type": "code",
   "execution_count": 26,
   "id": "30cb6f48",
   "metadata": {},
   "outputs": [
    {
     "data": {
      "text/plain": [
       "64.34079422382672"
      ]
     },
     "execution_count": 26,
     "metadata": {},
     "output_type": "execute_result"
    }
   ],
   "source": [
    "df_entry_level['views'].mean()"
   ]
  },
  {
   "cell_type": "code",
   "execution_count": 33,
   "id": "2a02f69e",
   "metadata": {},
   "outputs": [
    {
     "data": {
      "text/plain": [
       "26.39567387687188"
      ]
     },
     "execution_count": 33,
     "metadata": {},
     "output_type": "execute_result"
    }
   ],
   "source": [
    "df_mid_senior_level = df_jobs_exp[df_jobs_exp['formatted_experience_level'] == 'Mid-Senior level']\n",
    "df_mid_senior_level['applies'].mean()"
   ]
  },
  {
   "cell_type": "code",
   "execution_count": 24,
   "id": "46eca136",
   "metadata": {},
   "outputs": [
    {
     "data": {
      "text/plain": [
       "26.39567387687188"
      ]
     },
     "execution_count": 24,
     "metadata": {},
     "output_type": "execute_result"
    }
   ],
   "source": []
  },
  {
   "cell_type": "code",
   "execution_count": 25,
   "id": "c23cb566",
   "metadata": {},
   "outputs": [
    {
     "data": {
      "text/plain": [
       "87.96201351666278"
      ]
     },
     "execution_count": 25,
     "metadata": {},
     "output_type": "execute_result"
    }
   ],
   "source": [
    "df_mid_senior_level['views'].mean()"
   ]
  },
  {
   "cell_type": "code",
   "execution_count": 32,
   "id": "d35cff8d",
   "metadata": {},
   "outputs": [
    {
     "data": {
      "text/plain": [
       "29.704271631982476"
      ]
     },
     "execution_count": 32,
     "metadata": {},
     "output_type": "execute_result"
    }
   ],
   "source": [
    "df_associate = df_jobs_exp[df_jobs_exp['formatted_experience_level'] == 'Associate']\n",
    "df_associate['applies'].mean()"
   ]
  },
  {
   "cell_type": "code",
   "execution_count": 29,
   "id": "840d38aa",
   "metadata": {},
   "outputs": [
    {
     "data": {
      "text/plain": [
       "108.31842105263158"
      ]
     },
     "execution_count": 29,
     "metadata": {},
     "output_type": "execute_result"
    }
   ],
   "source": [
    "df_associate['views'].mean()"
   ]
  },
  {
   "cell_type": "code",
   "execution_count": 30,
   "id": "22a4529e",
   "metadata": {},
   "outputs": [
    {
     "data": {
      "text/plain": [
       "104.2377300613497"
      ]
     },
     "execution_count": 30,
     "metadata": {},
     "output_type": "execute_result"
    }
   ],
   "source": [
    "df_director = df_jobs_exp[df_jobs_exp['formatted_experience_level'] == 'Director']\n",
    "df_director['views'].mean()"
   ]
  },
  {
   "cell_type": "code",
   "execution_count": 31,
   "id": "76d2166b",
   "metadata": {},
   "outputs": [
    {
     "data": {
      "text/plain": [
       "23.52914798206278"
      ]
     },
     "execution_count": 31,
     "metadata": {},
     "output_type": "execute_result"
    }
   ],
   "source": [
    "df_director['applies'].mean()"
   ]
  },
  {
   "cell_type": "code",
   "execution_count": 59,
   "id": "13c0a461-7654-407a-ab07-aa6180ca2302",
   "metadata": {
    "scrolled": true
   },
   "outputs": [
    {
     "data": {
      "text/plain": [
       "(array([3694.,    0., 1220.,    0., 5083.,    0.,  687.,    0.,  134.,\n",
       "         166.]),\n",
       " array([0. , 0.5, 1. , 1.5, 2. , 2.5, 3. , 3.5, 4. , 4.5, 5. ]),\n",
       " <BarContainer object of 10 artists>)"
      ]
     },
     "execution_count": 59,
     "metadata": {},
     "output_type": "execute_result"
    },
    {
     "data": {
      "image/png": "[encoded data removed]",
      "text/plain": [
       "<Figure size 640x480 with 1 Axes>"
      ]
     },
     "metadata": {},
     "output_type": "display_data"
    }
   ],
   "source": [
    "plt.hist(df_jobs_exp['formatted_experience_level'])"
   ]
  },
  {
   "cell_type": "code",
   "execution_count": 34,
   "id": "abecc074",
   "metadata": {},
   "outputs": [
    {
     "data": {
      "text/plain": [
       "(array([859.,  29.,  13.,   5.,   2.,   2.,   1.,   1.,   0.,   1.]),\n",
       " array([  1. ,  98.9, 196.8, 294.7, 392.6, 490.5, 588.4, 686.3, 784.2,\n",
       "        882.1, 980. ]),\n",
       " <BarContainer object of 10 artists>)"
      ]
     },
     "execution_count": 34,
     "metadata": {},
     "output_type": "execute_result"
    },
    {
     "data": {
      "image/png": "[encoded data removed]",
      "text/plain": [
       "<Figure size 640x480 with 1 Axes>"
      ]
     },
     "metadata": {},
     "output_type": "display_data"
    }
   ],
   "source": [
    "plt.hist(df_associate['applies'])"
   ]
  },
  {
   "cell_type": "markdown",
   "id": "d65f3979-9cb7-469c-9e76-2cf15c7e2255",
   "metadata": {},
   "source": [
    "## Availability of data for applications submitted"
   ]
  },
  {
   "cell_type": "code",
   "execution_count": 61,
   "id": "95c6b8f7-3bb7-4704-a8f6-094a0283923f",
   "metadata": {},
   "outputs": [
    {
     "data": {
      "text/plain": [
       "(8700, 27)"
      ]
     },
     "execution_count": 61,
     "metadata": {},
     "output_type": "execute_result"
    }
   ],
   "source": [
    "df_jobs_apply = df_jobs.dropna(subset=['applies'])\n",
    "df_jobs_apply.shape"
   ]
  },
  {
   "cell_type": "code",
   "execution_count": 62,
   "id": "d86d3293-45a2-4202-8f8c-b8bf8cb0128b",
   "metadata": {},
   "outputs": [
    {
     "data": {
      "text/plain": [
       "2         1.0\n",
       "5         5.0\n",
       "6        45.0\n",
       "7        28.0\n",
       "10       10.0\n",
       "         ... \n",
       "15876    11.0\n",
       "15877    15.0\n",
       "15878     4.0\n",
       "15882     2.0\n",
       "15885     2.0\n",
       "Name: applies, Length: 8700, dtype: float64"
      ]
     },
     "execution_count": 62,
     "metadata": {},
     "output_type": "execute_result"
    }
   ],
   "source": [
    "df_jobs_apply['applies']"
   ]
  },
  {
   "cell_type": "code",
   "execution_count": 65,
   "id": "1a24517f-0d36-4ac7-b167-566357eff3d0",
   "metadata": {},
   "outputs": [
    {
     "data": {
      "text/plain": [
       "(array([8.518e+03, 1.410e+02, 2.400e+01, 1.000e+01, 2.000e+00, 2.000e+00,\n",
       "        1.000e+00, 0.000e+00, 1.000e+00, 1.000e+00]),\n",
       " array([1.0000e+00, 1.6240e+02, 3.2380e+02, 4.8520e+02, 6.4660e+02,\n",
       "        8.0800e+02, 9.6940e+02, 1.1308e+03, 1.2922e+03, 1.4536e+03,\n",
       "        1.6150e+03]),\n",
       " <BarContainer object of 10 artists>)"
      ]
     },
     "execution_count": 65,
     "metadata": {},
     "output_type": "execute_result"
    },
    {
     "data": {
      "image/png": "[encoded data removed]",
      "text/plain": [
       "<Figure size 640x480 with 1 Axes>"
      ]
     },
     "metadata": {},
     "output_type": "display_data"
    }
   ],
   "source": [
    "plt.hist(df_jobs_apply['applies'])"
   ]
  },
  {
   "cell_type": "code",
   "execution_count": null,
   "id": "9222fa8f-7f97-481f-86bd-b021e2e828f5",
   "metadata": {},
   "outputs": [],
   "source": []
  }
 ],
 "metadata": {
  "kernelspec": {
   "display_name": "Python 3 (ipykernel)",
   "language": "python",
   "name": "python3"
  },
  "language_info": {
   "codemirror_mode": {
    "name": "ipython",
    "version": 3
   },
   "file_extension": ".py",
   "mimetype": "text/x-python",
   "name": "python",
   "nbconvert_exporter": "python",
   "pygments_lexer": "ipython3",
   "version": "3.11.5"
  }
 },
 "nbformat": 4,
 "nbformat_minor": 5
}
